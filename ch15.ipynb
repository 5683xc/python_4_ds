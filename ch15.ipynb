{
 "cells": [
  {
   "cell_type": "markdown",
   "metadata": {
    "slideshow": {
     "slide_type": "slide"
    }
   },
   "source": [
    "# Python 與機器學習（5）\n",
    "\n",
    "## 郭耀仁"
   ]
  },
  {
   "cell_type": "markdown",
   "metadata": {
    "slideshow": {
     "slide_type": "slide"
    }
   },
   "source": [
    "## 線性不可分\n",
    "\n",
    "- 目前介紹的 `Perceptron`、`Adaline` 與 `Logistic Regression` 都是處理線性可分的資料\n",
    "- 什麼樣的資料這些分類器會分得很差？"
   ]
  },
  {
   "cell_type": "code",
   "execution_count": 1,
   "metadata": {
    "collapsed": false,
    "slideshow": {
     "slide_type": "subslide"
    }
   },
   "outputs": [
    {
     "data": {
      "image/png": "[encoded data removed]",
      "text/plain": [
       "<matplotlib.figure.Figure at 0x106f4c710>"
      ]
     },
     "metadata": {},
     "output_type": "display_data"
    }
   ],
   "source": [
    "# 線性不可分（2）\n",
    "# 像是這樣子的資料：\n",
    "from sklearn.datasets import make_moons\n",
    "import matplotlib.pyplot as plt\n",
    "\n",
    "X, y = make_moons(n_samples = 100, random_state = 0)\n",
    "plt.scatter(X[y == 0, 0], X[y == 0, 1], c = 'r', marker = 'o', label = '0')\n",
    "plt.scatter(X[y == 1, 0], X[y == 1, 1], c = 'g', marker = 'x', label = '1')\n",
    "plt.legend()\n",
    "plt.show()"
   ]
  },
  {
   "cell_type": "code",
   "execution_count": 2,
   "metadata": {
    "collapsed": false,
    "slideshow": {
     "slide_type": "subslide"
    }
   },
   "outputs": [
    {
     "data": {
      "image/png": "[encoded data removed]",
      "text/plain": [
       "<matplotlib.figure.Figure at 0x112325940>"
      ]
     },
     "metadata": {},
     "output_type": "display_data"
    }
   ],
   "source": [
    "# 線性不可分（3）\n",
    "# 或是像這樣子的資料：\n",
    "from sklearn.datasets import make_circles\n",
    "import matplotlib.pyplot as plt\n",
    "\n",
    "X, y = make_circles(n_samples = 100, random_state = 0, factor = 0.5)\n",
    "plt.scatter(X[y == 0, 0], X[y == 0, 1], c = 'r', marker = 'o', label = '0')\n",
    "plt.scatter(X[y == 1, 0], X[y == 1, 1], c = 'g', marker = 'x', label = '1')\n",
    "plt.legend()\n",
    "plt.show()"
   ]
  },
  {
   "cell_type": "markdown",
   "metadata": {
    "slideshow": {
     "slide_type": "subslide"
    }
   },
   "source": [
    "## 線性不可分（4）\n",
    "\n",
    "- 面對線性不可分的資料，我們可以採取：\n",
    "    - 支持向量機（Support Vector Machine，SVM）\n",
    "    - 決策樹（Decision Tree）\n",
    "    - K 最近鄰（K-nearest neighbor，KNN）"
   ]
  },
  {
   "cell_type": "markdown",
   "metadata": {
    "slideshow": {
     "slide_type": "slide"
    }
   },
   "source": [
    "## 支持向量機\n",
    "\n",
    "- 將資料投射到可以用一個超平面（Hyper-plane）分離的空間中：\n",
    "\n",
    "$$\\phi(x_1, x_2) = z$$\n",
    "\n",
    "$$z = x_1^{2} + x_2^{2}$$\n",
    "\n",
    "![SVM](https://storage.googleapis.com/py_ml_images/svm.png)"
   ]
  },
  {
   "cell_type": "markdown",
   "metadata": {
    "slideshow": {
     "slide_type": "subslide"
    }
   },
   "source": [
    "## 支持向量機（2）\n",
    "\n",
    "- 最常見的 $\\phi()$ 函數（RBF kernel）：\n",
    "\n",
    "$$k(x^{i}, x^{j}) = \\exp(-\\gamma \\parallel x^{i}-x^{j} \\parallel ^2 )$$\n",
    "\n",
    "$$\\text{where}\\;\\gamma = \\frac{1}{2\\sigma^2}$$"
   ]
  },
  {
   "cell_type": "markdown",
   "metadata": {
    "slideshow": {
     "slide_type": "subslide"
    }
   },
   "source": [
    "## 支持向量機（3）\n",
    "\n",
    "- 不用自己寫\n",
    "- 透過 `from sklearn.svm import SVC` 獲得"
   ]
  },
  {
   "cell_type": "code",
   "execution_count": 3,
   "metadata": {
    "collapsed": false,
    "slideshow": {
     "slide_type": "subslide"
    }
   },
   "outputs": [
    {
     "data": {
      "text/plain": [
       "SVC(C=1.0, cache_size=200, class_weight=None, coef0=0.0,\n",
       "  decision_function_shape=None, degree=3, gamma=0.2, kernel='rbf',\n",
       "  max_iter=-1, probability=False, random_state=0, shrinking=True,\n",
       "  tol=0.001, verbose=False)"
      ]
     },
     "execution_count": 3,
     "metadata": {},
     "output_type": "execute_result"
    }
   ],
   "source": [
    "# 支持向量機（4）\n",
    "from sklearn import datasets\n",
    "from sklearn.preprocessing import StandardScaler\n",
    "from sklearn.model_selection import train_test_split\n",
    "from sklearn.svm import SVC\n",
    "\n",
    "iris = datasets.load_iris()\n",
    "X = iris.data[:, [2, 3]] # 花瓣長度與花瓣寬度\n",
    "y = iris.target\n",
    "ss = StandardScaler()\n",
    "ss.fit(X)\n",
    "X_std = ss.transform(X)\n",
    "X_train, X_test, y_train, y_test = train_test_split(X_std, y, test_size = 0.3, random_state = 0)\n",
    "svm = SVC(kernel = 'rbf', random_state = 0, gamma = 0.2) # gamma = 0.2\n",
    "svm.fit(X_train, y_train)"
   ]
  },
  {
   "cell_type": "code",
   "execution_count": 4,
   "metadata": {
    "collapsed": false,
    "slideshow": {
     "slide_type": "subslide"
    }
   },
   "outputs": [
    {
     "data": {
      "image/png": "[encoded data removed]",
      "text/plain": [
       "<matplotlib.figure.Figure at 0x106fea4e0>"
      ]
     },
     "metadata": {},
     "output_type": "display_data"
    }
   ],
   "source": [
    "# 支持向量機（5）\n",
    "from matplotlib.colors import ListedColormap\n",
    "import numpy as np\n",
    "\n",
    "def plot_decision_boundary(X, y, classifier, resolution=0.02):\n",
    "    markers = ('o', 'x', 's') # 有三個類別\n",
    "    colors = ('red', 'green', 'blue') # 有三個類別\n",
    "    cmap = ListedColormap(colors[:len(np.unique(y))])\n",
    "\n",
    "    x1_min, x1_max = X[:, 0].min() - 1, X[:, 0].max() + 1\n",
    "    x2_min, x2_max = X[:, 1].min() - 1, X[:, 1].max() + 1\n",
    "    xx1, xx2 = np.meshgrid(np.arange(x1_min, x1_max, resolution),\n",
    "                     np.arange(x2_min, x2_max, resolution))\n",
    "    Z = classifier.predict(np.array([xx1.ravel(), xx2.ravel()]).T)\n",
    "    Z = Z.reshape(xx1.shape)\n",
    "    plt.contourf(xx1, xx2, Z, alpha = 0.3, cmap = cmap)\n",
    "    plt.xlim(xx1.min(), xx1.max())\n",
    "    plt.ylim(xx2.min(), xx2.max())\n",
    "    for idx, cl in enumerate(np.unique(y)):\n",
    "        plt.scatter(x = X[y == cl, 0], y = X[y == cl, 1], c = cmap(idx), marker = markers[idx], label = cl)\n",
    "\n",
    "plot_decision_boundary(X = X_std, y = y, classifier = svm) # 換分類器\n",
    "plt.xlabel('petal length [std]')\n",
    "plt.ylabel('petal width [std]')\n",
    "plt.legend(loc = 'upper left')\n",
    "plt.show()"
   ]
  },
  {
   "cell_type": "code",
   "execution_count": 5,
   "metadata": {
    "collapsed": false
   },
   "outputs": [
    {
     "name": "stdout",
     "output_type": "stream",
     "text": [
      "Accuracy: 0.98\n"
     ]
    }
   ],
   "source": [
    "# 支持向量機（6）\n",
    "from sklearn.metrics import accuracy_score\n",
    "\n",
    "y_pred = svm.predict(X_test)\n",
    "print('Accuracy: %.2f' % accuracy_score(y_test, y_pred))"
   ]
  },
  {
   "cell_type": "code",
   "execution_count": 6,
   "metadata": {
    "collapsed": false,
    "slideshow": {
     "slide_type": "subslide"
    }
   },
   "outputs": [
    {
     "data": {
      "image/png": "[encoded data removed]",
      "text/plain": [
       "<matplotlib.figure.Figure at 0x112d88d30>"
      ]
     },
     "metadata": {},
     "output_type": "display_data"
    }
   ],
   "source": [
    "# 支持向量機（7）\n",
    "svm = SVC(kernel = 'rbf', random_state = 0, gamma = 2) # gamma = 2\n",
    "svm.fit(X_train, y_train)\n",
    "\n",
    "plot_decision_boundary(X = X_std, y = y, classifier = svm) # 換分類器\n",
    "plt.xlabel('petal length [std]')\n",
    "plt.ylabel('petal width [std]')\n",
    "plt.legend(loc = 'upper left')\n",
    "plt.show()"
   ]
  },
  {
   "cell_type": "code",
   "execution_count": 7,
   "metadata": {
    "collapsed": false
   },
   "outputs": [
    {
     "name": "stdout",
     "output_type": "stream",
     "text": [
      "Accuracy: 0.98\n"
     ]
    }
   ],
   "source": [
    "# 支持向量機（8）\n",
    "from sklearn.metrics import accuracy_score\n",
    "\n",
    "y_pred = svm.predict(X_test)\n",
    "print('Accuracy: %.2f' % accuracy_score(y_test, y_pred))"
   ]
  },
  {
   "cell_type": "code",
   "execution_count": 8,
   "metadata": {
    "collapsed": false,
    "slideshow": {
     "slide_type": "subslide"
    }
   },
   "outputs": [
    {
     "data": {
      "image/png": "[encoded data removed]",
      "text/plain": [
       "<matplotlib.figure.Figure at 0x106d567f0>"
      ]
     },
     "metadata": {},
     "output_type": "display_data"
    }
   ],
   "source": [
    "# 支持向量機（9）\n",
    "svm = SVC(kernel = 'rbf', random_state = 0, gamma = 20) # gamma = 20\n",
    "svm.fit(X_train, y_train)\n",
    "\n",
    "plot_decision_boundary(X = X_std, y = y, classifier = svm) # 換分類器\n",
    "plt.xlabel('petal length [std]')\n",
    "plt.ylabel('petal width [std]')\n",
    "plt.legend(loc = 'upper left')\n",
    "plt.show()"
   ]
  },
  {
   "cell_type": "code",
   "execution_count": 9,
   "metadata": {
    "collapsed": false
   },
   "outputs": [
    {
     "name": "stdout",
     "output_type": "stream",
     "text": [
      "Accuracy: 0.98\n"
     ]
    }
   ],
   "source": [
    "# 支持向量機（10）\n",
    "from sklearn.metrics import accuracy_score\n",
    "\n",
    "y_pred = svm.predict(X_test)\n",
    "print('Accuracy: %.2f' % accuracy_score(y_test, y_pred))"
   ]
  },
  {
   "cell_type": "code",
   "execution_count": 10,
   "metadata": {
    "collapsed": false,
    "slideshow": {
     "slide_type": "subslide"
    }
   },
   "outputs": [
    {
     "data": {
      "image/png": "[encoded data removed]",
      "text/plain": [
       "<matplotlib.figure.Figure at 0x112787e80>"
      ]
     },
     "metadata": {},
     "output_type": "display_data"
    }
   ],
   "source": [
    "# 支持向量機（11）\n",
    "svm = SVC(kernel = 'rbf', random_state = 0, gamma = 100) # gamma = 100\n",
    "svm.fit(X_train, y_train)\n",
    "\n",
    "plot_decision_boundary(X = X_std, y = y, classifier = svm) # 換分類器\n",
    "plt.xlabel('petal length [std]')\n",
    "plt.ylabel('petal width [std]')\n",
    "plt.legend(loc = 'upper left')\n",
    "plt.show()"
   ]
  },
  {
   "cell_type": "code",
   "execution_count": 11,
   "metadata": {
    "collapsed": false,
    "slideshow": {
     "slide_type": "subslide"
    }
   },
   "outputs": [
    {
     "name": "stdout",
     "output_type": "stream",
     "text": [
      "Accuracy: 0.80\n"
     ]
    }
   ],
   "source": [
    "# 支持向量機（12）\n",
    "from sklearn.metrics import accuracy_score\n",
    "\n",
    "y_pred = svm.predict(X_test)\n",
    "print('Accuracy: %.2f' % accuracy_score(y_test, y_pred))"
   ]
  },
  {
   "cell_type": "markdown",
   "metadata": {
    "slideshow": {
     "slide_type": "slide"
    }
   },
   "source": [
    "## 決策樹\n",
    "\n",
    "- 好解釋的分類器\n",
    "- 用不同的門檻值切分變數\n",
    "- 以**最大化**資訊增益值為目標\n",
    "\n",
    "$$IG(D_p) = I(D_p) - \\frac{N_{left}}{N_p}I(D_{left}) - \\frac{N_{right}}{N_p}I(D_{right})$$\n",
    "\n",
    "- 資訊值有三種計算方式：\n",
    "    - 錯誤率（Error）\n",
    "    - 吉尼指標（Gini Index）\n",
    "    - 熵（Entropy）（\\*）"
   ]
  },
  {
   "cell_type": "markdown",
   "metadata": {
    "slideshow": {
     "slide_type": "subslide"
    }
   },
   "source": [
    "## 決策樹（2）\n",
    "\n",
    "- 這三個計算方式都跟**錯誤率（Error）**計算有關\n",
    "- [混淆矩陣（Confusion Matrix）](https://en.wikipedia.org/wiki/Confusion_matrix)\n",
    "\n",
    "|   |陽性|陰性|\n",
    "|---|---|----|\n",
    "|陽性|5|5|\n",
    "|陰性|6|6|\n",
    "\n",
    "- $\\text{準確率（Accuracy）}= \\frac{5 + 6}{5 + 5 + 6 + 6} = 0.5$\n",
    "- $\\text{錯誤率（Error）} = 1 - \\text{Accuracy} = 1 - 0.5 = 0.5$"
   ]
  },
  {
   "cell_type": "markdown",
   "metadata": {
    "slideshow": {
     "slide_type": "subslide"
    }
   },
   "source": [
    "## 決策樹（3）\n",
    "\n",
    "|計算方式|資訊值公式|\n",
    "|-------|--------|\n",
    "|錯誤率|$1 - accuracy$|\n",
    "|吉尼指標|$1 - accuracy^2 - error^2$|\n",
    "|熵|$-(accuracy\\log_2(accuracy) + error\\log_2(error))$|"
   ]
  },
  {
   "cell_type": "markdown",
   "metadata": {
    "slideshow": {
     "slide_type": "subslide"
    }
   },
   "source": [
    "## 決策樹（4）\n",
    "\n",
    "![Decision Tree Metrics](https://storage.googleapis.com/py_ml_images/tree_metrics.png)\n",
    "\n",
    "- 先計算各個節點的資訊值\n",
    "- A 情況：\n",
    "\n",
    "|計算方式|$I(D_p)$|$I(D_{left})$|$I(D_{right})$|\n",
    "|-------|-----------|---------------|----------------|\n",
    "|錯誤率|$40/80 = 0.5$|$10/40 = 0.25$|$10/40 = 0.25$|\n",
    "|吉尼指標|$1-0.5^2-0.5^2 = 0.5$|$1-0.75^2-0.25^2 = 0.375$|$1-0.75^2-0.25^2 = 0.375$|\n",
    "|熵|$-(0.5log_2(0.5)+0.5+0.5log_2(0.5)+0.5) = 1$|$-(0.75log_2(0.75)+0.25log_2(0.25)) = 0.81$|$-(0.75log_2(0.75)+0.25log_2(0.25)) = 0.81$|"
   ]
  },
  {
   "cell_type": "markdown",
   "metadata": {
    "slideshow": {
     "slide_type": "subslide"
    }
   },
   "source": [
    "## 決策樹（5）\n",
    "\n",
    "![Decision Tree Metrics](https://storage.googleapis.com/py_ml_images/tree_metrics.png)\n",
    "\n",
    "- 先計算各個節點的資訊值\n",
    "- B 情況：\n",
    "\n",
    "|計算方式|$I(D_p)$|$I(D_{left})$|$I(D_{right})$|\n",
    "|-------|-----------|---------------|----------------|\n",
    "|錯誤率|$40/80 = 0.5$|$20/60 = 1/3$|$0/20 = 0$|\n",
    "|吉尼指標|$1-0.5^2-0.5^2 = 0.5$|$1-(2/3)^2-(1/3)^2 = 1/3$|$1-1^2-0^2 = 0$|\n",
    "|熵|$-(0.5log_2(0.5)+0.5+0.5log_2(0.5)+0.5) = 1$|$-(2/3log_2(2/3)+(1/3)log_2(1/3)) = 0.92$|$-(1log_2(1)+0log_2(0)) = 0$|"
   ]
  },
  {
   "cell_type": "markdown",
   "metadata": {
    "slideshow": {
     "slide_type": "subslide"
    }
   },
   "source": [
    "## 決策樹（6）\n",
    "\n",
    "![Decision Tree Metrics](https://storage.googleapis.com/py_ml_images/tree_metrics.png)\n",
    "\n",
    "- 最後計算**資訊增益值**：\n",
    "\n",
    "|計算方式|情況 A 資訊增益值|情況 B 增益值|\n",
    "|-------|-----|------|\n",
    "|錯誤率|$0.5-\\frac{40}{80}\\times0.25-\\frac{40}{80}\\times0.25 = 0.25$|$0.5-\\frac{6}{8}\\times\\frac{1}{3}-0=0.25$|\n",
    "|吉尼指標|$0.5-\\frac{4}{8}\\times0.375-\\frac{4}{8}\\times0.375=0.125$|$1-\\frac{6}{8}\\times0.\\bar{4}-0=0.1\\bar{6}$|\n",
    "|熵|$0.5-\\frac{4}{8}\\times0.81-\\frac{4}{8}\\times0.81=0.125$|$1-\\frac{6}{8}\\times0.92-0=0.31$|\n",
    "\n",
    "- 因此實務使用熵（Entropy）居多"
   ]
  },
  {
   "cell_type": "markdown",
   "metadata": {
    "slideshow": {
     "slide_type": "subslide"
    }
   },
   "source": [
    "## 決策樹（7）\n",
    "\n",
    "- 不用自己寫\n",
    "- 透過 `from sklearn.tree import DecisionTreeClassifier` 獲得"
   ]
  },
  {
   "cell_type": "code",
   "execution_count": 12,
   "metadata": {
    "collapsed": false,
    "slideshow": {
     "slide_type": "subslide"
    }
   },
   "outputs": [
    {
     "data": {
      "image/png": "[encoded data removed]",
      "text/plain": [
       "<matplotlib.figure.Figure at 0x1135abfd0>"
      ]
     },
     "metadata": {},
     "output_type": "display_data"
    }
   ],
   "source": [
    "# 決策樹（8）\n",
    "from sklearn.tree import DecisionTreeClassifier\n",
    "\n",
    "tree = DecisionTreeClassifier(criterion = \"entropy\", max_depth = 3, random_state = 0)\n",
    "tree.fit(X_train, y_train)\n",
    "plot_decision_boundary(X = X_std, y = y, classifier = tree) # 換分類器\n",
    "plt.xlabel('petal length [std]')\n",
    "plt.ylabel('petal width [std]')\n",
    "plt.legend(loc = 'upper left')\n",
    "plt.show()"
   ]
  },
  {
   "cell_type": "markdown",
   "metadata": {
    "slideshow": {
     "slide_type": "subslide"
    }
   },
   "source": [
    "## 決策樹（9）\n",
    "\n",
    "![GraphViz Decision Tree](https://storage.googleapis.com/py_ml_images/tree_graphviz.png)"
   ]
  },
  {
   "cell_type": "code",
   "execution_count": 13,
   "metadata": {
    "collapsed": false,
    "slideshow": {
     "slide_type": "subslide"
    }
   },
   "outputs": [
    {
     "name": "stdout",
     "output_type": "stream",
     "text": [
      "Accuracy: 0.98\n"
     ]
    }
   ],
   "source": [
    "# 決策樹（10）\n",
    "from sklearn.metrics import accuracy_score\n",
    "\n",
    "y_pred = tree.predict(X_test)\n",
    "print('Accuracy: %.2f' % accuracy_score(y_test, y_pred))"
   ]
  },
  {
   "cell_type": "markdown",
   "metadata": {
    "slideshow": {
     "slide_type": "slide"
    }
   },
   "source": [
    "## K 最近鄰\n",
    "\n",
    "![knn](https://storage.googleapis.com/py_ml_images/knn.png)"
   ]
  },
  {
   "cell_type": "markdown",
   "metadata": {
    "slideshow": {
     "slide_type": "subslide"
    }
   },
   "source": [
    "## K 最近鄰（2）\n",
    "\n",
    "- 不用自己寫\n",
    "- 透過 `from sklearn.neighbors import KNeighborsClassifier` 獲得"
   ]
  },
  {
   "cell_type": "code",
   "execution_count": 14,
   "metadata": {
    "collapsed": false,
    "slideshow": {
     "slide_type": "subslide"
    }
   },
   "outputs": [
    {
     "data": {
      "image/png": "[encoded data removed]",
      "text/plain": [
       "<matplotlib.figure.Figure at 0x113264080>"
      ]
     },
     "metadata": {},
     "output_type": "display_data"
    }
   ],
   "source": [
    "# K 最近鄰（3）\n",
    "from sklearn.neighbors import KNeighborsClassifier\n",
    "\n",
    "knn = KNeighborsClassifier()\n",
    "knn.fit(X_train, y_train)\n",
    "plot_decision_boundary(X = X_std, y = y, classifier = knn) # 換分類器\n",
    "plt.xlabel('petal length [std]')\n",
    "plt.ylabel('petal width [std]')\n",
    "plt.legend(loc = 'upper left')\n",
    "plt.show()"
   ]
  },
  {
   "cell_type": "code",
   "execution_count": 15,
   "metadata": {
    "collapsed": false,
    "slideshow": {
     "slide_type": "subslide"
    }
   },
   "outputs": [
    {
     "name": "stdout",
     "output_type": "stream",
     "text": [
      "Accuracy: 1.00\n"
     ]
    }
   ],
   "source": [
    "# 決策樹（10）\n",
    "from sklearn.metrics import accuracy_score\n",
    "\n",
    "y_pred = knn.predict(X_test)\n",
    "print('Accuracy: %.2f' % accuracy_score(y_test, y_pred))"
   ]
  }
 ],
 "metadata": {
  "celltoolbar": "Slideshow",
  "kernelspec": {
   "display_name": "Python 3",
   "language": "python",
   "name": "python3"
  },
  "language_info": {
   "codemirror_mode": {
    "name": "ipython",
    "version": 3
   },
   "file_extension": ".py",
   "mimetype": "text/x-python",
   "name": "python",
   "nbconvert_exporter": "python",
   "pygments_lexer": "ipython3",
   "version": "3.6.0"
  }
 },
 "nbformat": 4,
 "nbformat_minor": 2
}
