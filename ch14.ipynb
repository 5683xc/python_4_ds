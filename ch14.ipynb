{
 "cells": [
  {
   "cell_type": "markdown",
   "metadata": {
    "slideshow": {
     "slide_type": "slide"
    }
   },
   "source": [
    "# Python 與機器學習（4）\n",
    "\n",
    "## 郭耀仁"
   ]
  },
  {
   "cell_type": "markdown",
   "metadata": {
    "slideshow": {
     "slide_type": "slide"
    }
   },
   "source": [
    "## 羅吉斯回歸\n",
    "\n",
    "- 感知器（Perceptron）學習的效率不夠高\n",
    "- 實務更常用的分類器（Classifier）是羅吉斯回歸（Logistic Regression）\n",
    "- 雖然有**回歸**兩個字，但其實是個分類器"
   ]
  },
  {
   "cell_type": "markdown",
   "metadata": {
    "slideshow": {
     "slide_type": "subslide"
    }
   },
   "source": [
    "## 羅吉斯回歸（2）\n",
    "\n",
    "![Logistic Regression](https://storage.googleapis.com/py_ml_images/logistic_regression.png)"
   ]
  },
  {
   "cell_type": "markdown",
   "metadata": {
    "slideshow": {
     "slide_type": "subslide"
    }
   },
   "source": [
    "## 羅吉斯回歸（3）\n",
    "\n",
    "- **Sigmoid** 函數或者稱為 **Logistic** 函數\n",
    "\n",
    "$$\\phi(z) = \\frac{1}{1+e^{-z}}$$"
   ]
  },
  {
   "cell_type": "code",
   "execution_count": 1,
   "metadata": {
    "collapsed": false,
    "slideshow": {
     "slide_type": "subslide"
    }
   },
   "outputs": [
    {
     "data": {
      "image/png": "[encoded data removed]",
      "text/plain": [
       "<matplotlib.figure.Figure at 0x10fd06c18>"
      ]
     },
     "metadata": {},
     "output_type": "display_data"
    }
   ],
   "source": [
    "# 羅吉斯回歸（4）\n",
    "import matplotlib.pyplot as plt\n",
    "import numpy as np\n",
    "\n",
    "def sigmoid_fun(x):\n",
    "    return 1 / (1 + np.exp(-x))\n",
    "\n",
    "x = np.arange(-10, 10, 0.1)\n",
    "y = sigmoid_fun(x)\n",
    "plt.plot(x, y)\n",
    "plt.axvline(0, color = 'black')\n",
    "plt.axhline(y = 0, ls='dotted', color = 'black', alpha = 0.5)\n",
    "plt.axhline(y = 0.5, ls = 'dotted', color = 'black', alpha = 0.5)\n",
    "plt.axhline(y = 1, ls='dotted', color = 'black', alpha = 0.5)\n",
    "plt.yticks([0.0, 0.5, 1.0])\n",
    "plt.ylim(-0.1, 1.1)\n",
    "plt.title(\"Sigmoid Function\")\n",
    "plt.show()"
   ]
  },
  {
   "cell_type": "markdown",
   "metadata": {
    "slideshow": {
     "slide_type": "subslide"
    }
   },
   "source": [
    "## 羅吉斯回歸（5）\n",
    "\n",
    "- Quantizer：\n",
    "\n",
    "$$ \\hat{y} =\n",
    "  \\begin{cases}\n",
    "    1       & \\quad \\text{if } \\phi(z)\\geq 0.5\\\\\n",
    "    0  & \\quad \\text{otherwise}\\\\\n",
    "  \\end{cases}\n",
    "$$"
   ]
  },
  {
   "cell_type": "markdown",
   "metadata": {
    "slideshow": {
     "slide_type": "subslide"
    }
   },
   "source": [
    "## 羅吉斯回歸（6）\n",
    "\n",
    "- 成本函數：\n",
    "\n",
    "$$J(\\phi(z), y) =\n",
    "  \\begin{cases}\n",
    "    -\\log(\\phi(z))  & \\quad \\text{if } y = 1\\\\\n",
    "    -\\log(1 - \\phi(z))  & \\quad \\text{if } y = 0\\\\\n",
    "  \\end{cases}\n",
    "$$"
   ]
  },
  {
   "cell_type": "code",
   "execution_count": 2,
   "metadata": {
    "collapsed": false
   },
   "outputs": [
    {
     "data": {
      "image/png": "[encoded data removed]",
      "text/plain": [
       "<matplotlib.figure.Figure at 0x10fd065f8>"
      ]
     },
     "metadata": {},
     "output_type": "display_data"
    }
   ],
   "source": [
    "# 羅吉斯回歸（7）\n",
    "# 繪製成本函數\n",
    "import matplotlib.pyplot as plt\n",
    "import numpy as np\n",
    "\n",
    "x = np.arange(0.01, 1, 0.01)\n",
    "y1 = -np.log(x)\n",
    "y2 = -np.log(1 - x)\n",
    "plt.subplot(1, 2, 1)\n",
    "plt.plot(x, y1, \"g\")\n",
    "plt.title(\"$-\\log{\\phi(z)}$\")\n",
    "plt.subplot(1, 2, 2)\n",
    "plt.plot(x, y2, \"b--\")\n",
    "plt.title(\"$-\\log{(1-\\phi(z))}$\")\n",
    "plt.tight_layout()\n",
    "plt.show()"
   ]
  },
  {
   "cell_type": "markdown",
   "metadata": {
    "slideshow": {
     "slide_type": "subslide"
    }
   },
   "source": [
    "## 羅吉斯回歸（8）\n",
    "\n",
    "- 不用自己寫\n",
    "- 透過 `from sklearn.linear_model import LogisticRegression` 獲得"
   ]
  },
  {
   "cell_type": "code",
   "execution_count": 3,
   "metadata": {
    "collapsed": false,
    "slideshow": {
     "slide_type": "subslide"
    }
   },
   "outputs": [
    {
     "data": {
      "text/plain": [
       "LogisticRegression(C=1000, class_weight=None, dual=False, fit_intercept=True,\n",
       "          intercept_scaling=1, max_iter=100, multi_class='ovr', n_jobs=1,\n",
       "          penalty='l2', random_state=0, solver='liblinear', tol=0.0001,\n",
       "          verbose=0, warm_start=False)"
      ]
     },
     "execution_count": 3,
     "metadata": {},
     "output_type": "execute_result"
    }
   ],
   "source": [
    "# 羅吉斯回歸（9）\n",
    "from sklearn import datasets\n",
    "from sklearn.preprocessing import StandardScaler\n",
    "from sklearn.model_selection import train_test_split\n",
    "from sklearn.linear_model import LogisticRegression\n",
    "\n",
    "iris = datasets.load_iris()\n",
    "X = iris.data[:, [2, 3]] # 花瓣長度與花瓣寬度\n",
    "y = iris.target\n",
    "ss = StandardScaler()\n",
    "ss.fit(X)\n",
    "X_std = ss.transform(X)\n",
    "X_train, X_test, y_train, y_test = train_test_split(X_std, y, test_size = 0.3, random_state = 0)\n",
    "lr = LogisticRegression(C = 1000, random_state = 0)\n",
    "lr.fit(X_train, y_train)"
   ]
  },
  {
   "cell_type": "code",
   "execution_count": 4,
   "metadata": {
    "collapsed": false,
    "slideshow": {
     "slide_type": "subslide"
    }
   },
   "outputs": [
    {
     "data": {
      "image/png": "[encoded data removed]",
      "text/plain": [
       "<matplotlib.figure.Figure at 0x115ff9c18>"
      ]
     },
     "metadata": {},
     "output_type": "display_data"
    }
   ],
   "source": [
    "# 羅吉斯回歸（10）\n",
    "from matplotlib.colors import ListedColormap\n",
    "\n",
    "def plot_decision_boundary(X, y, classifier, resolution=0.02):\n",
    "    markers = ('o', 'x', 's') # 有三個類別\n",
    "    colors = ('red', 'green', 'blue') # 有三個類別\n",
    "    cmap = ListedColormap(colors[:len(np.unique(y))])\n",
    "\n",
    "    x1_min, x1_max = X[:, 0].min() - 1, X[:, 0].max() + 1\n",
    "    x2_min, x2_max = X[:, 1].min() - 1, X[:, 1].max() + 1\n",
    "    xx1, xx2 = np.meshgrid(np.arange(x1_min, x1_max, resolution),\n",
    "                     np.arange(x2_min, x2_max, resolution))\n",
    "    Z = classifier.predict(np.array([xx1.ravel(), xx2.ravel()]).T)\n",
    "    Z = Z.reshape(xx1.shape)\n",
    "    plt.contourf(xx1, xx2, Z, alpha = 0.3, cmap = cmap)\n",
    "    plt.xlim(xx1.min(), xx1.max())\n",
    "    plt.ylim(xx2.min(), xx2.max())\n",
    "    for idx, cl in enumerate(np.unique(y)):\n",
    "        plt.scatter(x = X[y == cl, 0], y = X[y == cl, 1], c = cmap(idx), marker = markers[idx], label = cl)\n",
    "\n",
    "plot_decision_boundary(X = X_std, y = y, classifier = lr) # 換分類器\n",
    "plt.xlabel('petal length [std]')\n",
    "plt.ylabel('petal width [std]')\n",
    "plt.legend(loc = 'upper left')\n",
    "plt.show()"
   ]
  },
  {
   "cell_type": "code",
   "execution_count": 5,
   "metadata": {
    "collapsed": false,
    "slideshow": {
     "slide_type": "subslide"
    }
   },
   "outputs": [
    {
     "name": "stdout",
     "output_type": "stream",
     "text": [
      "[[ 0.      0.0632  0.9368]]\n",
      "[2]\n",
      "===\n",
      "[[ 0.0006  0.9993  0.0001]]\n",
      "[1]\n",
      "===\n",
      "[[ 0.817  0.183  0.   ]]\n",
      "[0]\n",
      "===\n",
      "[[ 0.      0.4141  0.5859]]\n",
      "[2]\n",
      "===\n",
      "[[ 0.8002  0.1998  0.    ]]\n",
      "[0]\n",
      "===\n"
     ]
    }
   ],
   "source": [
    "# 羅吉斯回歸（11）\n",
    "\n",
    "np.set_printoptions(precision = 4, suppress = True) # 調整一下印出格式\n",
    "# 印出前五個測試資料觀測值的預測機率與分類結果\n",
    "for i in range(5):\n",
    "    print(lr.predict_proba(X_test[i, :].reshape(1, 2)))\n",
    "    print(lr.predict(X_test[i, :].reshape(1, 2)))\n",
    "    print(\"===\")\n",
    "\n",
    "np.set_printoptions() # 恢復印出格式預設值"
   ]
  },
  {
   "cell_type": "code",
   "execution_count": 6,
   "metadata": {
    "collapsed": false,
    "slideshow": {
     "slide_type": "subslide"
    }
   },
   "outputs": [
    {
     "name": "stdout",
     "output_type": "stream",
     "text": [
      "Accuracy: 0.98\n"
     ]
    }
   ],
   "source": [
    "# 羅吉斯回歸（12）\n",
    "from sklearn.metrics import accuracy_score\n",
    "\n",
    "y_pred = lr.predict(X_test)\n",
    "print('Accuracy: %.2f' % accuracy_score(y_test, y_pred))"
   ]
  }
 ],
 "metadata": {
  "celltoolbar": "Slideshow",
  "kernelspec": {
   "display_name": "Python 3",
   "language": "python",
   "name": "python3"
  },
  "language_info": {
   "codemirror_mode": {
    "name": "ipython",
    "version": 3
   },
   "file_extension": ".py",
   "mimetype": "text/x-python",
   "name": "python",
   "nbconvert_exporter": "python",
   "pygments_lexer": "ipython3",
   "version": "3.6.0"
  }
 },
 "nbformat": 4,
 "nbformat_minor": 2
}
