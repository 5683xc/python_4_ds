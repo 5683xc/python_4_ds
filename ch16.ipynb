{
 "cells": [
  {
   "cell_type": "markdown",
   "metadata": {
    "slideshow": {
     "slide_type": "slide"
    }
   },
   "source": [
    "# Python 與機器學習（6）\n",
    "\n",
    "## 郭耀仁"
   ]
  },
  {
   "cell_type": "markdown",
   "metadata": {
    "slideshow": {
     "slide_type": "slide"
    }
   },
   "source": [
    "## 機器學習的技巧\n",
    "\n",
    "- 機器學習的工作流（Workflow of Machine Learning）\n",
    "- K-fold 交叉驗證（K-fold Cross Validation）\n",
    "- 整體學習（Ensemble Learning）\n",
    "    - 多數決（Majority Voting）\n",
    "    - 隨機森林（Random Forest）"
   ]
  },
  {
   "cell_type": "markdown",
   "metadata": {
    "slideshow": {
     "slide_type": "slide"
    }
   },
   "source": [
    "## 機器學習的工作流\n",
    "\n",
    "- 以我們一直練習的 **iris** 資料為例：\n",
    "    - 標準化\n",
    "    - 應用分類器\n",
    "- 這些動作會一直在重複應用在訓練與測試資料上\n",
    "- **Scikit-learn** 提供了一個叫做 **Pipeline** 的工具整理機器學習的工作流"
   ]
  },
  {
   "cell_type": "code",
   "execution_count": 1,
   "metadata": {
    "collapsed": false,
    "slideshow": {
     "slide_type": "subslide"
    }
   },
   "outputs": [
    {
     "name": "stdout",
     "output_type": "stream",
     "text": [
      "Accuracy: 0.82\n"
     ]
    }
   ],
   "source": [
    "# 機器學習的工作流（2）\n",
    "from sklearn import datasets\n",
    "from sklearn.preprocessing import StandardScaler\n",
    "from sklearn.model_selection import train_test_split\n",
    "from sklearn.pipeline import Pipeline\n",
    "from sklearn.linear_model import LogisticRegression\n",
    "\n",
    "iris = datasets.load_iris()\n",
    "X = iris.data # 全部的特徵\n",
    "y = iris.target\n",
    "X_train, X_test, y_train, y_test = train_test_split(X, y, test_size = 0.3, random_state = 0)\n",
    "\n",
    "pipe_lr = Pipeline([('scl', StandardScaler()),\n",
    "                    ('clf', LogisticRegression(random_state = 0))])\n",
    "\n",
    "pipe_lr.fit(X_train, y_train)\n",
    "print('Accuracy: %.2f' % pipe_lr.score(X_test, y_test))"
   ]
  },
  {
   "cell_type": "markdown",
   "metadata": {
    "slideshow": {
     "slide_type": "slide"
    }
   },
   "source": [
    "## K-fold 交叉驗證\n",
    "\n",
    "- `K = 10` 的圖示：\n",
    "\n",
    "![k-fold-cross-validation](https://storage.googleapis.com/py_ml_images/k-fold-cv.png)"
   ]
  },
  {
   "cell_type": "markdown",
   "metadata": {
    "slideshow": {
     "slide_type": "subslide"
    }
   },
   "source": [
    "## K-fold 交叉驗證（2）\n",
    "\n",
    "- 不用自己寫\n",
    "- 透過 `from sklearn.model_selection import cross_val_score` 獲得"
   ]
  },
  {
   "cell_type": "code",
   "execution_count": 2,
   "metadata": {
    "collapsed": false,
    "slideshow": {
     "slide_type": "subslide"
    }
   },
   "outputs": [
    {
     "name": "stdout",
     "output_type": "stream",
     "text": [
      "[ 0.83333333  0.75        0.81818182  0.90909091  1.          0.9         1.\n",
      "  0.9         1.          0.88888889]\n",
      "Cross validation accuracy: 0.900\n"
     ]
    }
   ],
   "source": [
    "# K-fold 交叉驗證（3）\n",
    "import numpy as np\n",
    "from sklearn.model_selection import cross_val_score\n",
    "\n",
    "scores = cross_val_score(estimator = pipe_lr,\n",
    "                         X = X_train,\n",
    "                         y = y_train,\n",
    "                         cv = 10,\n",
    "                         scoring = 'accuracy')\n",
    "print(scores)\n",
    "print(\"Cross validation accuracy: %.3f\" % np.mean(scores))"
   ]
  },
  {
   "cell_type": "markdown",
   "metadata": {
    "slideshow": {
     "slide_type": "slide"
    }
   },
   "source": [
    "## 整體學習\n",
    "\n",
    "- 將數個分類器的預測結果綜合考慮\n",
    "- 以一題是非題來說，假如我們使用一個銅板來決定答案要填是還是非，答對的機率是 50%\n",
    "- 使用兩個銅板來決定答案，答對的機率是 $1-(50\\%)^2=75\\%$，如果銅板的數目來到 5 枚，答對的機率是 $1-(50\\%)^5=96.875\\%$"
   ]
  },
  {
   "cell_type": "markdown",
   "metadata": {
    "slideshow": {
     "slide_type": "subslide"
    }
   },
   "source": [
    "## 整體學習（2）\n",
    "\n",
    "- 多數決（Majority Voting）\n",
    "\n",
    "例如：\n",
    "\n",
    "分類器 1 -> class 1\n",
    "\n",
    "分類器 2 -> class 1\n",
    "\n",
    "分類器 3 -> class 2\n",
    "\n",
    "分類標籤：**class 1**"
   ]
  },
  {
   "cell_type": "code",
   "execution_count": 3,
   "metadata": {
    "collapsed": false
   },
   "outputs": [
    {
     "name": "stdout",
     "output_type": "stream",
     "text": [
      "Accuracy: 0.90 (+/- 0.08) [Logistic Regression]\n",
      "Accuracy: 0.84 (+/- 0.12) [Perceptron]\n",
      "Accuracy: 0.93 (+/- 0.07) [Support Vector Machine]\n",
      "Accuracy: 0.92 (+/- 0.07) [Ensemble]\n"
     ]
    }
   ],
   "source": [
    "# 整體學習（3）\n",
    "from sklearn.linear_model import Perceptron\n",
    "from sklearn.svm import SVC\n",
    "from sklearn.ensemble import VotingClassifier\n",
    "\n",
    "pipe_lr = Pipeline([('scl', StandardScaler()),\n",
    "                    ('clf', LogisticRegression(random_state = 0))])\n",
    "pipe_ppn = Pipeline([('scl', StandardScaler()),\n",
    "                    ('clf', Perceptron(eta0 = 0.01, n_iter = 40, random_state = 0))])\n",
    "pipe_svm = Pipeline([('scl', StandardScaler()),\n",
    "                    ('clf', SVC(kernel = 'rbf', random_state = 0, gamma = 2))])\n",
    "\n",
    "eclf = VotingClassifier(estimators = [('lr', pipe_lr), ('ppn', pipe_ppn), ('svm', pipe_svm)], voting = 'hard')\n",
    "for clf, label in zip([pipe_lr, pipe_ppn, pipe_svm, eclf], ['Logistic Regression', 'Perceptron', 'Support Vector Machine', 'Ensemble']):\n",
    "    scores = cross_val_score(clf, X_train, y_train, cv = 10, scoring = 'accuracy')\n",
    "    print(\"Accuracy: %0.2f (+/- %0.2f) [%s]\" % (scores.mean(), scores.std(), label))"
   ]
  },
  {
   "cell_type": "markdown",
   "metadata": {
    "slideshow": {
     "slide_type": "subslide"
    }
   },
   "source": [
    "## 整體學習（4）\n",
    "\n",
    "- 隨機森林（Random Forest）\n",
    "    - 用 **Bootstrapping** 的方式選出 n 個觀測值（Sampling with replacement）\n",
    "    - 隨機選 m 個變數\n",
    "    - 建出多個決策樹\n",
    "    - 讓多個決策樹進行多數決"
   ]
  },
  {
   "cell_type": "code",
   "execution_count": 4,
   "metadata": {
    "collapsed": false,
    "slideshow": {
     "slide_type": "subslide"
    }
   },
   "outputs": [
    {
     "name": "stdout",
     "output_type": "stream",
     "text": [
      "Accuracy: 0.98\n"
     ]
    }
   ],
   "source": [
    "# 整體學習（5）\n",
    "from sklearn.ensemble import RandomForestClassifier\n",
    "\n",
    "forest = RandomForestClassifier(criterion = \"entropy\",\n",
    "                                n_estimators = 100,\n",
    "                                random_state = 0)\n",
    "pipe_rf = Pipeline([('scl', StandardScaler()),\n",
    "                    ('clf', forest)])\n",
    "\n",
    "pipe_rf.fit(X_train, y_train)\n",
    "print('Accuracy: %.2f' % pipe_rf.score(X_test, y_test))"
   ]
  },
  {
   "cell_type": "markdown",
   "metadata": {
    "slideshow": {
     "slide_type": "slide"
    }
   },
   "source": [
    "## 期末作業\n",
    "\n",
    "- 參加一個 [Kaggle](https://www.kaggle.com) 競賽：[Titanic: Machine Learning from Disaster](https://www.kaggle.com/c/titanic)\n",
    "- 將 .ipynb 與上傳結果寄至 <tony@kyosei.ai> 這個信箱（準確率大於 50%）\n",
    "- 主旨請註明：[280_py\\_4\\_ds\\_您的姓名]期末作業\n",
    "- 繳交期限：2017.04.17 12:00\n",
    "\n",
    "![](https://storage.googleapis.com/py_ml_images/second_submission.png)"
   ]
  }
 ],
 "metadata": {
  "celltoolbar": "Slideshow",
  "kernelspec": {
   "display_name": "Python 3",
   "language": "python",
   "name": "python3"
  },
  "language_info": {
   "codemirror_mode": {
    "name": "ipython",
    "version": 3
   },
   "file_extension": ".py",
   "mimetype": "text/x-python",
   "name": "python",
   "nbconvert_exporter": "python",
   "pygments_lexer": "ipython3",
   "version": "3.6.0"
  }
 },
 "nbformat": 4,
 "nbformat_minor": 2
}
