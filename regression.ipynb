{
 "cells": [
  {
   "cell_type": "markdown",
   "metadata": {
    "slideshow": {
     "slide_type": "slide"
    }
   },
   "source": [
    "# 迴歸問題\n",
    "\n",
    "## 郭耀仁"
   ]
  },
  {
   "cell_type": "markdown",
   "metadata": {
    "slideshow": {
     "slide_type": "slide"
    }
   },
   "source": [
    "## 迴歸問題有哪些？\n",
    "\n",
    "- 利用月收入來核定信用卡額度\n",
    "- 利用坪數、房間數來預測房價\n",
    "- 利用每日最高氣溫來預測飲料店的冰紅茶銷量\n",
    "- ...etc."
   ]
  },
  {
   "cell_type": "markdown",
   "metadata": {
    "slideshow": {
     "slide_type": "subslide"
    }
   },
   "source": [
    "## 大家都在尋找 $f$\n",
    "\n",
    "$$y = f(x)$$\n",
    "\n",
    "- 但沒有人知道 $f$ 到底為何、是否存在？我們只能假設：\n",
    "\n",
    "$$\\hat{y} = h(x)$$"
   ]
  },
  {
   "cell_type": "markdown",
   "metadata": {
    "slideshow": {
     "slide_type": "subslide"
    }
   },
   "source": [
    "## 當 $\\hat{y}$ 與 $y$ 之間的差異愈小，我們更有自信地說 $h$ 跟 $f$ 愈相似\n",
    "\n",
    "- 成本函數\n",
    "\n",
    "$$ \\text{minimize:} \\frac{1}{2m}\\sum_{i=1}^{m}(\\hat{y_i}-y_i)^2$$"
   ]
  },
  {
   "cell_type": "markdown",
   "metadata": {
    "slideshow": {
     "slide_type": "subslide"
    }
   },
   "source": [
    "## 將 $h$ 表示得更完整：只有一個觀測值的時候\n",
    "\n",
    "$$h(x) = \\theta_0 + \\theta_1 x_1 + \\theta_2 x_2 + ... + \\theta_n x_n$$\n",
    "\n",
    "- 假如我們令 $x_0 = 1$，就可以將式子廣義地表示為：\n",
    "\n",
    "$$y = h(x) = \\begin{bmatrix} \\theta_0 & \\theta_1 & ... & \\theta_n \\end{bmatrix} \\begin{bmatrix} x_0 \\\\ x_1 \\\\.\\\\.\\\\.\\\\ x_n \\end{bmatrix} = \\theta^{T}x$$"
   ]
  },
  {
   "cell_type": "markdown",
   "metadata": {
    "slideshow": {
     "slide_type": "subslide"
    }
   },
   "source": [
    "## 將 $h$ 表示得更完整：有 n 個觀測值的時候\n",
    "\n",
    "\\begin{eqnarray}\n",
    "h(X) = \\theta_0 + \\theta_1 X_1 + \\theta_2 X_2 + ... + \\theta_n X_n \\\\\n",
    "\\end{eqnarray}\n",
    "\n",
    "$$Y = h(X) = \n",
    "\\begin{bmatrix} x_{01}, x_{02}, ..., x_{0n} \\\\ x_{11}, x_{12}, ..., x_{1n} \\\\.\\\\.\\\\.\\\\ x_{n1}, x_{n2}, ..., x_{nn}\n",
    "\\end{bmatrix}\n",
    "\\begin{bmatrix} \\theta_0 \\\\ \\theta_1 \\\\.\\\\.\\\\.\\\\ \\theta_n \\end{bmatrix} = X\\theta$$"
   ]
  },
  {
   "cell_type": "markdown",
   "metadata": {
    "slideshow": {
     "slide_type": "subslide"
    }
   },
   "source": [
    "## 玩具資料\n",
    "\n",
    "\n",
    "$$\n",
    "(x , y) = \\{(1, 2), (2, 2), (3, 4)\\}\n",
    "$$"
   ]
  },
  {
   "cell_type": "code",
   "execution_count": 1,
   "metadata": {
    "slideshow": {
     "slide_type": "skip"
    }
   },
   "outputs": [
    {
     "data": {
      "text/plain": [
       "(0.5, 5)"
      ]
     },
     "execution_count": 1,
     "metadata": {},
     "output_type": "execute_result"
    }
   ],
   "source": [
    "import numpy as np\n",
    "import matplotlib.pyplot as plt\n",
    "\n",
    "x = np.array([1, 2, 3])\n",
    "y = np.array([2, 2, 4])\n",
    "plt.scatter(x, y, color='k')\n",
    "plt.xlim(0, 4)\n",
    "plt.ylim(0.5, 5)"
   ]
  },
  {
   "cell_type": "code",
   "execution_count": 2,
   "metadata": {
    "slideshow": {
     "slide_type": "subslide"
    }
   },
   "outputs": [
    {
     "data": {
      "image/png": "[encoded data removed]",
      "text/plain": [
       "<matplotlib.figure.Figure at 0x10b337668>"
      ]
     },
     "metadata": {},
     "output_type": "display_data"
    }
   ],
   "source": [
    "plt.show()"
   ]
  },
  {
   "cell_type": "markdown",
   "metadata": {
    "slideshow": {
     "slide_type": "subslide"
    }
   },
   "source": [
    "## 任務\n",
    "\n",
    "- 找到一組 $\\theta$ 讓成本函數最小化"
   ]
  },
  {
   "cell_type": "code",
   "execution_count": 3,
   "metadata": {
    "slideshow": {
     "slide_type": "skip"
    }
   },
   "outputs": [
    {
     "data": {
      "text/plain": [
       "<matplotlib.text.Text at 0x10cc86a20>"
      ]
     },
     "execution_count": 3,
     "metadata": {},
     "output_type": "execute_result"
    }
   ],
   "source": [
    "x_train = np.array([1, 2, 3])\n",
    "X_train = x_train.reshape(len(x_train), 1)\n",
    "y_train = np.array([2, 2, 4])\n",
    "Y_train = y_train.reshape(len(y_train), 1)\n",
    "m = X_train.shape[0]\n",
    "ones_col = np.ones((m, 1))\n",
    "X_train = np.concatenate((ones_col, X_train), axis=1)\n",
    "LHS = np.dot(np.transpose(X_train), X_train)\n",
    "RHS = np.dot(np.transpose(X_train), Y_train)\n",
    "thetas = np.dot(np.linalg.inv(LHS), RHS)\n",
    "theta_0 = thetas[0, 0]\n",
    "theta_1 = thetas[1, 0]\n",
    "\n",
    "f = lambda x : theta_0 + theta_1*x\n",
    "xfit = np.arange(0,4,0.01)\n",
    "yfit = f(xfit)\n",
    "\n",
    "plt.plot(x_train, y_train, 'ko', xfit, yfit)\n",
    "plt.xlabel('x')\n",
    "plt.ylabel('y')"
   ]
  },
  {
   "cell_type": "code",
   "execution_count": 4,
   "metadata": {
    "slideshow": {
     "slide_type": "subslide"
    }
   },
   "outputs": [
    {
     "data": {
      "image/png": "[encoded data removed]",
      "text/plain": [
       "<matplotlib.figure.Figure at 0x10cc574a8>"
      ]
     },
     "metadata": {},
     "output_type": "display_data"
    }
   ],
   "source": [
    "plt.show()"
   ]
  },
  {
   "cell_type": "markdown",
   "metadata": {
    "slideshow": {
     "slide_type": "subslide"
    }
   },
   "source": [
    "## 完成任務的方法\n",
    "\n",
    "- Normal Equation\n",
    "- Gradient Descent"
   ]
  },
  {
   "cell_type": "markdown",
   "metadata": {
    "slideshow": {
     "slide_type": "slide"
    }
   },
   "source": [
    "## Normal Equation"
   ]
  },
  {
   "cell_type": "markdown",
   "metadata": {
    "slideshow": {
     "slide_type": "subslide"
    }
   },
   "source": [
    "## 線性聯立方程組\n",
    "\n",
    "\\begin{eqnarray}\n",
    "\\theta_0 + \\theta_1 &=& 2 \\nonumber \\\\\n",
    "\\theta_0 + 2 \\theta_1 &=& 2 \\nonumber \\\\\n",
    "\\theta_0 + 3 \\theta_1 &=& 4 \\nonumber \\\\\n",
    "\\end{eqnarray}"
   ]
  },
  {
   "cell_type": "markdown",
   "metadata": {
    "slideshow": {
     "slide_type": "subslide"
    }
   },
   "source": [
    "## 以向量與矩陣表示\n",
    "\n",
    "\\begin{equation}\n",
    "X = \\begin{bmatrix}\n",
    "1 & 1\\\\\n",
    "1 & 2\\\\\n",
    "1 & 3\n",
    "\\end{bmatrix}, \\quad\n",
    "\\theta = \\begin{bmatrix}\n",
    "\\theta_0 \\\\\n",
    "\\theta_1 \n",
    "\\end{bmatrix}, \\quad \\mathrm{and} \n",
    "\\quad Y = \\begin{bmatrix}\n",
    "2 \\\\\n",
    "2 \\\\\n",
    "4 \n",
    "\\end{bmatrix}\n",
    "\\end{equation}"
   ]
  },
  {
   "cell_type": "markdown",
   "metadata": {
    "slideshow": {
     "slide_type": "subslide"
    }
   },
   "source": [
    "## 如果 $X^TX$ 可逆\n",
    "\n",
    "\\begin{eqnarray}\n",
    "X\\theta = Y \\\\\n",
    "\\theta = (X^T X)^{-1} X^T Y\n",
    "\\end{eqnarray}"
   ]
  },
  {
   "cell_type": "markdown",
   "metadata": {
    "slideshow": {
     "slide_type": "subslide"
    }
   },
   "source": [
    "## 獲得 $\\theta$ 的推導過程源自於成本函數的最小化\n",
    "\n",
    "\\begin{eqnarray}\n",
    "\\text{minimize:} \\frac{1}{2m}\\sum_{i=1}^{m}(\\hat{y_i}-y_i)^2 \\\\\n",
    "J(\\theta) = \\frac{1}{2m}(X\\theta - Y)^T(X\\theta - Y) \\\\\n",
    "J(\\theta) = \\frac{1}{2m}[(X\\theta)^T - Y^T)(X\\theta - Y)] \\\\\n",
    "J(\\theta) = \\frac{1}{2m}[(X\\theta)^TX\\theta - (X\\theta)^TY - Y^T(X\\theta) + Y^TY] \\\\\n",
    "J(\\theta) = \\frac{1}{2m}[\\theta^TX^TX\\theta - 2(X\\theta)^TY + Y^TY] \\\\\n",
    "\\frac{\\partial J}{\\partial \\theta} = \\frac{1}{2m}[2X^TX\\theta - 2X^TY] = 0 \\\\\n",
    "X^TX\\theta = X^TY \\\\\n",
    "\\theta = (X^T X)^{-1} X^T Y\n",
    "\\end{eqnarray}"
   ]
  },
  {
   "cell_type": "code",
   "execution_count": 5,
   "metadata": {
    "slideshow": {
     "slide_type": "subslide"
    }
   },
   "outputs": [
    {
     "data": {
      "text/plain": [
       "array([[1],\n",
       "       [2],\n",
       "       [3]])"
      ]
     },
     "execution_count": 5,
     "metadata": {},
     "output_type": "execute_result"
    }
   ],
   "source": [
    "import numpy as np\n",
    "\n",
    "x_train = np.array([1, 2, 3])\n",
    "X_train = x_train.reshape(len(x_train), 1)\n",
    "X_train"
   ]
  },
  {
   "cell_type": "code",
   "execution_count": 6,
   "metadata": {
    "slideshow": {
     "slide_type": "subslide"
    }
   },
   "outputs": [
    {
     "data": {
      "text/plain": [
       "array([[2],\n",
       "       [2],\n",
       "       [4]])"
      ]
     },
     "execution_count": 6,
     "metadata": {},
     "output_type": "execute_result"
    }
   ],
   "source": [
    "y_train = np.array([2, 2, 4])\n",
    "Y_train = y_train.reshape(len(y_train), 1)\n",
    "Y_train"
   ]
  },
  {
   "cell_type": "code",
   "execution_count": 7,
   "metadata": {
    "slideshow": {
     "slide_type": "subslide"
    }
   },
   "outputs": [
    {
     "data": {
      "text/plain": [
       "array([[1., 1.],\n",
       "       [1., 2.],\n",
       "       [1., 3.]])"
      ]
     },
     "execution_count": 7,
     "metadata": {},
     "output_type": "execute_result"
    }
   ],
   "source": [
    "m = X_train.shape[0]\n",
    "ones_col = np.ones((m, 1))\n",
    "X_train = np.concatenate((ones_col, X_train), axis=1)\n",
    "X_train"
   ]
  },
  {
   "cell_type": "code",
   "execution_count": 8,
   "metadata": {
    "collapsed": true,
    "slideshow": {
     "slide_type": "subslide"
    }
   },
   "outputs": [],
   "source": [
    "LHS = np.dot(np.transpose(X_train), X_train)\n",
    "RHS = np.dot(np.transpose(X_train), Y_train)"
   ]
  },
  {
   "cell_type": "code",
   "execution_count": 9,
   "metadata": {
    "slideshow": {
     "slide_type": "subslide"
    }
   },
   "outputs": [
    {
     "name": "stdout",
     "output_type": "stream",
     "text": [
      "讓成本函數最小的 Theta\n",
      "Theta_0:0.6667, Theta_1:1.0000\n"
     ]
    }
   ],
   "source": [
    "thetas = np.dot(np.linalg.inv(LHS), RHS)\n",
    "theta_0 = thetas[0, 0]\n",
    "theta_1 = thetas[1, 0]\n",
    "print(\"讓成本函數最小的 Theta\")\n",
    "print(\"Theta_0:{:.4f}, Theta_1:{:.4f}\".format(theta_0, theta_1))"
   ]
  },
  {
   "cell_type": "markdown",
   "metadata": {
    "slideshow": {
     "slide_type": "subslide"
    }
   },
   "source": [
    "## 隨堂練習：將利用 Normal Equation 求解的過程寫成函數\n",
    "\n",
    "```python\n",
    "def simple_linear_regression_fit(x, y):\n",
    "    # ...\n",
    "```"
   ]
  },
  {
   "cell_type": "markdown",
   "metadata": {
    "slideshow": {
     "slide_type": "subslide"
    }
   },
   "source": [
    "## 隨堂練習：利用 simple_linear_regression_fit() 求解後將 $y = \\theta_0 + \\theta_1x$ 畫出"
   ]
  },
  {
   "cell_type": "code",
   "execution_count": 10,
   "metadata": {
    "slideshow": {
     "slide_type": "skip"
    }
   },
   "outputs": [
    {
     "data": {
      "text/plain": [
       "<matplotlib.text.Text at 0x10cde5550>"
      ]
     },
     "execution_count": 10,
     "metadata": {},
     "output_type": "execute_result"
    }
   ],
   "source": [
    "x_train = np.array([1, 2, 3])\n",
    "X_train = x_train.reshape(len(x_train), 1)\n",
    "y_train = np.array([2, 2, 4])\n",
    "Y_train = y_train.reshape(len(y_train), 1)\n",
    "m = X_train.shape[0]\n",
    "ones_col = np.ones((m, 1))\n",
    "X_train = np.concatenate((ones_col, X_train), axis=1)\n",
    "LHS = np.dot(np.transpose(X_train), X_train)\n",
    "RHS = np.dot(np.transpose(X_train), Y_train)\n",
    "thetas = np.dot(np.linalg.inv(LHS), RHS)\n",
    "theta_0 = thetas[0, 0]\n",
    "theta_1 = thetas[1, 0]\n",
    "\n",
    "f = lambda x : theta_0 + theta_1*x\n",
    "xfit = np.arange(0,4,0.01)\n",
    "yfit = f(xfit)\n",
    "\n",
    "plt.plot(x_train, y_train, 'ko', xfit, yfit)\n",
    "plt.xlabel('x')\n",
    "plt.ylabel('y')"
   ]
  },
  {
   "cell_type": "code",
   "execution_count": 11,
   "metadata": {},
   "outputs": [
    {
     "data": {
      "image/png": "[encoded data removed]",
      "text/plain": [
       "<matplotlib.figure.Figure at 0x10cdb8048>"
      ]
     },
     "metadata": {},
     "output_type": "display_data"
    }
   ],
   "source": [
    "plt.show()"
   ]
  },
  {
   "cell_type": "markdown",
   "metadata": {
    "slideshow": {
     "slide_type": "slide"
    }
   },
   "source": [
    "## Gradient Descent"
   ]
  },
  {
   "cell_type": "markdown",
   "metadata": {
    "slideshow": {
     "slide_type": "subslide"
    }
   },
   "source": [
    "## $h(x)$：\n",
    "\n",
    "$$h(x) = \\theta_0 + \\theta_1x_1$$"
   ]
  },
  {
   "cell_type": "markdown",
   "metadata": {
    "slideshow": {
     "slide_type": "subslide"
    }
   },
   "source": [
    "## 先簡化成只有 $\\theta_1$：\n",
    "\n",
    "$$h(x) = \\theta_1x_1$$"
   ]
  },
  {
   "cell_type": "markdown",
   "metadata": {
    "slideshow": {
     "slide_type": "subslide"
    }
   },
   "source": [
    "## 在 $0 < \\theta_1 < 2$ 之間打點來計算成本函數 $J(\\theta_1)$"
   ]
  },
  {
   "cell_type": "code",
   "execution_count": 12,
   "metadata": {
    "slideshow": {
     "slide_type": "skip"
    }
   },
   "outputs": [
    {
     "data": {
      "text/plain": [
       "<matplotlib.text.Text at 0x10ceaf6d8>"
      ]
     },
     "execution_count": 12,
     "metadata": {},
     "output_type": "execute_result"
    }
   ],
   "source": [
    "import numpy as np\n",
    "import matplotlib.pyplot as plt\n",
    "\n",
    "def cost_function(theta_1, x, y):\n",
    "    return np.sum((theta_1 * x - y)**2)/(2*len(x))\n",
    "\n",
    "x = np.arange(1, 4)\n",
    "y = x\n",
    "theta_1_arr = np.linspace(0, 2, 50)\n",
    "cost_arr = []\n",
    "for i in theta_1_arr:\n",
    "    cost_arr.append(cost_function(i, x, y))\n",
    "plt.scatter(theta_1_arr, cost_arr, marker = 'x')\n",
    "plt.xlabel(\"$\\\\theta_1$\")\n",
    "plt.ylabel(\"$J(\\\\theta_1)$\")\n",
    "plt.title(\"Cost Function Visualized\")"
   ]
  },
  {
   "cell_type": "code",
   "execution_count": 13,
   "metadata": {
    "slideshow": {
     "slide_type": "subslide"
    }
   },
   "outputs": [
    {
     "data": {
      "image/png": "[encoded data removed]",
      "text/plain": [
       "<matplotlib.figure.Figure at 0x10cf33668>"
      ]
     },
     "metadata": {},
     "output_type": "display_data"
    }
   ],
   "source": [
    "plt.show()"
   ]
  },
  {
   "cell_type": "markdown",
   "metadata": {
    "slideshow": {
     "slide_type": "subslide"
    }
   },
   "source": [
    "## 假如我們的運氣不好，在一個沒有包含 $\\theta_1$ 的區間尋找怎麼辦？"
   ]
  },
  {
   "cell_type": "markdown",
   "metadata": {
    "slideshow": {
     "slide_type": "subslide"
    }
   },
   "source": [
    "## 透過很聰明的方式：Gradient Descent\n",
    "\n",
    "> 每組 $\\theta_1$ 所得的成本函數偏微分取得斜率，利用這個斜率逐步取得局部最佳解。\n",
    "\n",
    "$$\\theta_1 := \\theta_1 - \\alpha \\frac{\\mathrm \\partial}{\\mathrm \\partial \\theta_1} J(\\theta_1)$$"
   ]
  },
  {
   "cell_type": "code",
   "execution_count": 14,
   "metadata": {
    "slideshow": {
     "slide_type": "skip"
    }
   },
   "outputs": [
    {
     "data": {
      "text/plain": [
       "<matplotlib.text.Text at 0x10dfad7f0>"
      ]
     },
     "execution_count": 14,
     "metadata": {},
     "output_type": "execute_result"
    }
   ],
   "source": [
    "import numpy as np\n",
    "import matplotlib.pyplot as plt\n",
    "\n",
    "def cost_function(theta_1, x, y):\n",
    "    return np.sum((theta_1 * x - y)**2)/(2*len(x))\n",
    "\n",
    "x = np.arange(1, 4)\n",
    "y = x\n",
    "theta_1_arr = np.linspace(0, 2, 50)\n",
    "cost_arr = []\n",
    "for i in theta_1_arr:\n",
    "    cost_arr.append(cost_function(i, x, y))\n",
    "plt.scatter(theta_1_arr, cost_arr, marker = 'x')\n",
    "plt.plot(1.75, cost_function(1.75, x, y), marker = 'D', markersize = 12, color = 'y')\n",
    "plt.plot(0.5, cost_function(0.5, x, y), marker = 'o', markersize = 12, color = 'g')\n",
    "plt.plot(1, cost_function(1, x, y), marker = '^', markersize = 12, color = 'r')\n",
    "plt.xlabel(\"$\\\\theta_1$\")\n",
    "plt.ylabel(\"$J(\\\\theta_1)$\")\n",
    "plt.xticks([]), plt.yticks([])\n",
    "plt.title(\"Gradient Descent with $\\\\theta_1$\")"
   ]
  },
  {
   "cell_type": "code",
   "execution_count": 15,
   "metadata": {
    "slideshow": {
     "slide_type": "subslide"
    }
   },
   "outputs": [
    {
     "data": {
      "image/png": "[encoded data removed]",
      "text/plain": [
       "<matplotlib.figure.Figure at 0x10da92198>"
      ]
     },
     "metadata": {},
     "output_type": "display_data"
    }
   ],
   "source": [
    "plt.show()"
   ]
  },
  {
   "cell_type": "markdown",
   "metadata": {
    "slideshow": {
     "slide_type": "subslide"
    }
   },
   "source": [
    "## 如何做修正\n",
    "\n",
    "- $\\theta_1 = 0.5$ 的時候（綠圓點），$\\frac{\\mathrm \\partial}{\\mathrm \\partial \\theta_1} J(\\theta_1)$ 為負值，所以 $\\theta_1$ 會向右邊修正\n",
    "- $\\theta_1 = 1.75$ 的時候（黃方塊），$\\frac{\\mathrm \\partial}{\\mathrm \\partial \\theta_1} J(\\theta_1)$ 為正值，所以 $\\theta_1$ 會向左邊修正\n",
    "- $\\theta_1 = 1.0$ 的時候（紅三角），$\\frac{\\mathrm \\partial}{\\mathrm \\partial \\theta_1} J(\\theta_1)$ 為零，$\\theta_1$ 收斂"
   ]
  },
  {
   "cell_type": "markdown",
   "metadata": {
    "slideshow": {
     "slide_type": "subslide"
    }
   },
   "source": [
    "## $\\theta_1$ 修正的速度與 $\\alpha$ 相關，$\\alpha$ 稱為學習速率"
   ]
  },
  {
   "cell_type": "code",
   "execution_count": 16,
   "metadata": {
    "slideshow": {
     "slide_type": "skip"
    }
   },
   "outputs": [
    {
     "data": {
      "text/plain": [
       "<matplotlib.text.Text at 0x10e12dac8>"
      ]
     },
     "execution_count": 16,
     "metadata": {},
     "output_type": "execute_result"
    }
   ],
   "source": [
    "import numpy as np\n",
    "import matplotlib.pyplot as plt\n",
    "\n",
    "def cost_function(theta_1, x, y):\n",
    "    return np.sum((theta_1 * x - y)**2)/(2*len(x))\n",
    "\n",
    "x = np.arange(1, 4)\n",
    "y = x\n",
    "theta_1_arr = np.linspace(0, 2, 100)\n",
    "cost_arr = []\n",
    "for i in theta_1_arr:\n",
    "    cost_arr.append(cost_function(i, x, y))\n",
    "plt.plot(theta_1_arr, cost_arr, lw = 1)\n",
    "theta_1_arr = np.linspace(0.1, 1, 15)\n",
    "cost_arr = []\n",
    "for i in theta_1_arr:\n",
    "    cost_arr.append(cost_function(i, x, y))\n",
    "plt.plot(theta_1_arr, cost_arr, marker = '>', markersize = 10, color = 'r', lw = 0)\n",
    "plt.xlabel(\"$\\\\theta_1$\")\n",
    "plt.ylabel(\"$J(\\\\theta_1)$\")\n",
    "plt.xticks([]), plt.yticks([])\n",
    "plt.title(\"Optimal Gradient Descent\")"
   ]
  },
  {
   "cell_type": "code",
   "execution_count": 17,
   "metadata": {
    "slideshow": {
     "slide_type": "subslide"
    }
   },
   "outputs": [
    {
     "data": {
      "image/png": "[encoded data removed]",
      "text/plain": [
       "<matplotlib.figure.Figure at 0x10e11c080>"
      ]
     },
     "metadata": {},
     "output_type": "display_data"
    }
   ],
   "source": [
    "plt.show()"
   ]
  },
  {
   "cell_type": "code",
   "execution_count": 18,
   "metadata": {
    "slideshow": {
     "slide_type": "skip"
    }
   },
   "outputs": [
    {
     "data": {
      "text/plain": [
       "<matplotlib.text.Text at 0x10e247908>"
      ]
     },
     "execution_count": 18,
     "metadata": {},
     "output_type": "execute_result"
    }
   ],
   "source": [
    "import numpy as np\n",
    "import matplotlib.pyplot as plt\n",
    "\n",
    "def cost_function(theta_1, x, y):\n",
    "    return np.sum((theta_1 * x - y)**2)/(2*len(x))\n",
    "\n",
    "x = np.arange(1, 4)\n",
    "y = x\n",
    "theta_1_arr = np.linspace(0, 2, 100)\n",
    "cost_arr = []\n",
    "for i in theta_1_arr:\n",
    "    cost_arr.append(cost_function(i, x, y))\n",
    "plt.plot(theta_1_arr, cost_arr, lw = 1)\n",
    "theta_1_arr = np.linspace(0.05, 1, 50)\n",
    "cost_arr = []\n",
    "for i in theta_1_arr:\n",
    "    cost_arr.append(cost_function(i, x, y))\n",
    "plt.plot(theta_1_arr, cost_arr, marker = '>', markersize = 6, color = 'r')\n",
    "plt.xticks([]), plt.yticks([])\n",
    "plt.xlabel(\"Number of iterations\")\n",
    "plt.ylabel(\"$J(\\\\theta_1)$\")\n",
    "plt.title(\"$\\\\alpha$ is too small\")"
   ]
  },
  {
   "cell_type": "code",
   "execution_count": 19,
   "metadata": {
    "slideshow": {
     "slide_type": "subslide"
    }
   },
   "outputs": [
    {
     "data": {
      "image/png": "[encoded data removed]",
      "text/plain": [
       "<matplotlib.figure.Figure at 0x10cdb8f98>"
      ]
     },
     "metadata": {},
     "output_type": "display_data"
    }
   ],
   "source": [
    "plt.show()"
   ]
  },
  {
   "cell_type": "code",
   "execution_count": 20,
   "metadata": {
    "slideshow": {
     "slide_type": "skip"
    }
   },
   "outputs": [
    {
     "data": {
      "text/plain": [
       "<matplotlib.text.Text at 0x10e2da198>"
      ]
     },
     "execution_count": 20,
     "metadata": {},
     "output_type": "execute_result"
    }
   ],
   "source": [
    "import numpy as np\n",
    "import matplotlib.pyplot as plt\n",
    "\n",
    "def cost_function(theta_1, x, y):\n",
    "    return np.sum((theta_1 * x - y)**2)/(2*len(x))\n",
    "\n",
    "x = np.arange(1, 4)\n",
    "y = x\n",
    "theta_1_arr = np.linspace(0, 2, 100)\n",
    "cost_arr = []\n",
    "for i in theta_1_arr:\n",
    "    cost_arr.append(cost_function(i, x, y))\n",
    "plt.plot(theta_1_arr, cost_arr, lw = 1)\n",
    "theta_1_arr = np.array((0.75, 1.5, 0.25, 1.8, 0.1))\n",
    "cost_arr = []\n",
    "for i in theta_1_arr:\n",
    "    cost_arr.append(cost_function(i, x, y))\n",
    "plt.plot(theta_1_arr, cost_arr, marker = '>', markersize = 10, color = 'r')\n",
    "plt.xlabel(\"$\\\\theta_1$\")\n",
    "plt.ylabel(\"$J(\\\\theta_1)$\")\n",
    "plt.xticks([]), plt.yticks([])\n",
    "plt.title(\"$\\\\alpha$ is too large\")"
   ]
  },
  {
   "cell_type": "code",
   "execution_count": 21,
   "metadata": {
    "slideshow": {
     "slide_type": "subslide"
    }
   },
   "outputs": [
    {
     "data": {
      "image/png": "[encoded data removed]",
      "text/plain": [
       "<matplotlib.figure.Figure at 0x10e029cc0>"
      ]
     },
     "metadata": {},
     "output_type": "display_data"
    }
   ],
   "source": [
    "plt.show()"
   ]
  },
  {
   "cell_type": "markdown",
   "metadata": {
    "slideshow": {
     "slide_type": "subslide"
    }
   },
   "source": [
    "## 怎麼挑選學習速率\n",
    "\n",
    "- 如果學習速率夠小，成本函數每一次都會下降\n",
    "- 學習速率太小，收斂的速度太慢\n",
    "- 學習速率太大，可能會無法收斂"
   ]
  },
  {
   "cell_type": "code",
   "execution_count": 22,
   "metadata": {
    "collapsed": true,
    "slideshow": {
     "slide_type": "subslide"
    }
   },
   "outputs": [],
   "source": [
    "import numpy as np\n",
    "\n",
    "def compute_cost(X, Y, thetas = np.array([0, 0]).reshape(2, 1)):\n",
    "    m = Y.shape[0]\n",
    "    J = 0\n",
    "    h = X.dot(thetas)\n",
    "    J = 1/(2*m)*np.sum(np.square(h-Y))\n",
    "    \n",
    "    return(J)"
   ]
  },
  {
   "cell_type": "code",
   "execution_count": 23,
   "metadata": {
    "slideshow": {
     "slide_type": "subslide"
    }
   },
   "outputs": [
    {
     "data": {
      "text/plain": [
       "4.0"
      ]
     },
     "execution_count": 23,
     "metadata": {},
     "output_type": "execute_result"
    }
   ],
   "source": [
    "x_train = np.array([1, 2, 3])\n",
    "X_train = x_train.reshape(len(x_train), 1)\n",
    "y_train = np.array([2, 2, 4])\n",
    "Y_train = y_train.reshape(len(y_train), 1)\n",
    "m = X_train.shape[0]\n",
    "ones_col = np.ones((m, 1))\n",
    "X_train = np.concatenate((ones_col, X_train), axis=1)\n",
    "\n",
    "compute_cost(X_train, Y_train)"
   ]
  },
  {
   "cell_type": "code",
   "execution_count": 24,
   "metadata": {
    "collapsed": true,
    "slideshow": {
     "slide_type": "subslide"
    }
   },
   "outputs": [],
   "source": [
    "def gradient_descent(X, Y, alpha=0.01, num_iters=1500):\n",
    "    thetas = np.array([0, 0]).reshape(2, 1)\n",
    "    m = Y.shape[0]\n",
    "    J_history = np.zeros(num_iters)\n",
    "    \n",
    "    for num_iter in range(num_iters):\n",
    "        h = X.dot(thetas)\n",
    "        loss = h - Y\n",
    "        gradient = X.T.dot(loss) / m\n",
    "        thetas = thetas - alpha * gradient\n",
    "        J_history[num_iter] = compute_cost(X, Y, thetas=thetas)\n",
    "    return thetas, J_history"
   ]
  },
  {
   "cell_type": "code",
   "execution_count": 25,
   "metadata": {
    "slideshow": {
     "slide_type": "subslide"
    }
   },
   "outputs": [
    {
     "name": "stdout",
     "output_type": "stream",
     "text": [
      "讓成本函數最小的 Thetas\n",
      "Theta_0:0.6354, Theta_1:1.0138\n"
     ]
    },
    {
     "data": {
      "text/plain": [
       "<matplotlib.text.Text at 0x10e001160>"
      ]
     },
     "execution_count": 25,
     "metadata": {},
     "output_type": "execute_result"
    }
   ],
   "source": [
    "import numpy as np\n",
    "\n",
    "X_train = np.array([1, 2, 3])\n",
    "X_train = X_train.reshape(len(X_train), 1)\n",
    "m = X_train.shape[0]\n",
    "ones_col = np.ones((m, 1))\n",
    "X_train = np.concatenate((ones_col, X_train), axis=1)\n",
    "\n",
    "thetas , cost_J = gradient_descent(X_train, Y_train)\n",
    "theta_0 = thetas[0, 0]\n",
    "theta_1 = thetas[1, 0]\n",
    "print(\"讓成本函數最小的 Thetas\")\n",
    "print(\"Theta_0:{:.4f}, Theta_1:{:.4f}\".format(theta_0, theta_1))\n",
    "plt.plot(cost_J)\n",
    "plt.ylabel(r\"$J(\\theta)$\")\n",
    "plt.xlabel('Iterations')"
   ]
  },
  {
   "cell_type": "code",
   "execution_count": 26,
   "metadata": {
    "slideshow": {
     "slide_type": "subslide"
    }
   },
   "outputs": [
    {
     "data": {
      "image/png": "[encoded data removed]",
      "text/plain": [
       "<matplotlib.figure.Figure at 0x10e3a1160>"
      ]
     },
     "metadata": {},
     "output_type": "display_data"
    }
   ],
   "source": [
    "plt.show()"
   ]
  },
  {
   "cell_type": "markdown",
   "metadata": {
    "slideshow": {
     "slide_type": "subslide"
    }
   },
   "source": [
    "## Phew...\n",
    "\n",
    "- 總算完成了兩種找到 $\\theta$ 的方式！\n",
    "- 這是不能忽略的學習步驟，但並不是實作上要採用的"
   ]
  },
  {
   "cell_type": "markdown",
   "metadata": {
    "slideshow": {
     "slide_type": "slide"
    }
   },
   "source": [
    "## 有哪些模組可以幫我們找到 $\\theta$\n",
    "\n",
    "- [statsmodel](https://www.statsmodels.org/stable/index.html)\n",
    "- [scikit-learn](http://scikit-learn.org/stable/)\n",
    "- [TensorFlow](https://www.tensorflow.org/)"
   ]
  },
  {
   "cell_type": "markdown",
   "metadata": {
    "slideshow": {
     "slide_type": "subslide"
    }
   },
   "source": [
    "## statsmodel"
   ]
  },
  {
   "cell_type": "code",
   "execution_count": 27,
   "metadata": {
    "slideshow": {
     "slide_type": "subslide"
    }
   },
   "outputs": [
    {
     "name": "stdout",
     "output_type": "stream",
     "text": [
      "[[1. 1.]\n",
      " [1. 2.]\n",
      " [1. 3.]]\n",
      "[[2]\n",
      " [2]\n",
      " [4]]\n"
     ]
    }
   ],
   "source": [
    "print(X_train)\n",
    "print(Y_train)"
   ]
  },
  {
   "cell_type": "code",
   "execution_count": 28,
   "metadata": {
    "slideshow": {
     "slide_type": "subslide"
    }
   },
   "outputs": [
    {
     "name": "stdout",
     "output_type": "stream",
     "text": [
      "Thetas from statsmodel:\n",
      "theta_0:0.6667, theta_1:1.0000\n"
     ]
    },
    {
     "name": "stderr",
     "output_type": "stream",
     "text": [
      "/Users/kuoyaojen/anaconda3/lib/python3.6/site-packages/statsmodels/compat/pandas.py:56: FutureWarning: The pandas.core.datetools module is deprecated and will be removed in a future version. Please use the pandas.tseries module instead.\n",
      "  from pandas.core import datetools\n"
     ]
    }
   ],
   "source": [
    "import statsmodels.api as sm\n",
    "\n",
    "regressor_sm = sm.OLS(Y_train, X_train)\n",
    "thetas_sm = regressor_sm.fit()\n",
    "theta_0_sm = thetas_sm.params[0]\n",
    "theta_1_sm = thetas_sm.params[1]\n",
    "\n",
    "print(\"Thetas from statsmodel:\")\n",
    "print(\"theta_0:{:.4f}, theta_1:{:.4f}\".format(theta_0_sm, theta_1_sm))"
   ]
  },
  {
   "cell_type": "markdown",
   "metadata": {
    "slideshow": {
     "slide_type": "subslide"
    }
   },
   "source": [
    "## scikit-learn"
   ]
  },
  {
   "cell_type": "code",
   "execution_count": 29,
   "metadata": {
    "slideshow": {
     "slide_type": "subslide"
    }
   },
   "outputs": [
    {
     "name": "stdout",
     "output_type": "stream",
     "text": [
      "[[1. 1.]\n",
      " [1. 2.]\n",
      " [1. 3.]]\n",
      "[[2]\n",
      " [2]\n",
      " [4]]\n"
     ]
    }
   ],
   "source": [
    "print(X_train)\n",
    "print(Y_train)"
   ]
  },
  {
   "cell_type": "code",
   "execution_count": 30,
   "metadata": {
    "slideshow": {
     "slide_type": "subslide"
    }
   },
   "outputs": [
    {
     "name": "stdout",
     "output_type": "stream",
     "text": [
      "Thetas from scikit-learn:\n",
      "theta_0:0.6667, theta_1:1.0000\n"
     ]
    }
   ],
   "source": [
    "from sklearn import linear_model\n",
    "\n",
    "regressor_skl = linear_model.LinearRegression()\n",
    "thetas_skl = regressor_skl.fit(X_train, Y_train)\n",
    "theta_0_skl = thetas_skl.intercept_\n",
    "theta_1_skl = thetas_skl.coef_[0]\n",
    "\n",
    "print(\"Thetas from scikit-learn:\")\n",
    "print(\"theta_0:{:.4f}, theta_1:{:.4f}\".format(theta_0_skl[0], theta_1_skl[1]))"
   ]
  },
  {
   "cell_type": "markdown",
   "metadata": {
    "slideshow": {
     "slide_type": "subslide"
    }
   },
   "source": [
    "## TensorFlow"
   ]
  },
  {
   "cell_type": "code",
   "execution_count": 31,
   "metadata": {
    "collapsed": true,
    "slideshow": {
     "slide_type": "subslide"
    }
   },
   "outputs": [],
   "source": [
    "import tensorflow as tf\n",
    "import numpy as np\n",
    "\n",
    "data = np.array([\n",
    "    [1, 2],\n",
    "    [2, 2],\n",
    "    [3, 4]\n",
    "])\n",
    "X = tf.placeholder(tf.float32, name=\"X\")\n",
    "Y = tf.placeholder(tf.float32, name=\"Y\")\n",
    "theta_1 = tf.Variable(0.0, name=\"weights\")\n",
    "theta_0 = tf.Variable(0.0, name=\"bias\")\n",
    "Y_predicted = X * theta_1 + theta_0\n",
    "loss = tf.square(Y - Y_predicted, name=\"loss\")\n",
    "optimizer = tf.train.GradientDescentOptimizer(learning_rate=0.01).minimize(loss)\n",
    "with tf.Session() as sess:\n",
    "    sess.run(tf.global_variables_initializer())\n",
    "    for i in range(1500):\n",
    "        for x, y in data:\n",
    "            sess.run(optimizer, feed_dict={X: x, Y:y})\n",
    "    theta_1_tf, theta_0_tf = sess.run([theta_1, theta_0])"
   ]
  },
  {
   "cell_type": "code",
   "execution_count": 32,
   "metadata": {
    "slideshow": {
     "slide_type": "subslide"
    }
   },
   "outputs": [
    {
     "name": "stdout",
     "output_type": "stream",
     "text": [
      "Thetas from TensorFlow:\n",
      "theta_0:0.6127, theta_1:1.0352\n"
     ]
    }
   ],
   "source": [
    "print(\"Thetas from TensorFlow:\")\n",
    "print(\"theta_0:{:.4f}, theta_1:{:.4f}\".format(theta_0_tf, theta_1_tf))"
   ]
  },
  {
   "cell_type": "markdown",
   "metadata": {
    "slideshow": {
     "slide_type": "subslide"
    }
   },
   "source": [
    "## 我們建議使用 Scikit-Learn\n",
    "\n",
    "- 比 StatsModel 完整\n",
    "- TensorFlow 是自成一格的框架"
   ]
  },
  {
   "cell_type": "markdown",
   "metadata": {
    "slideshow": {
     "slide_type": "slide"
    }
   },
   "source": [
    "## 迴歸問題與房屋價格資料"
   ]
  },
  {
   "cell_type": "markdown",
   "metadata": {
    "slideshow": {
     "slide_type": "subslide"
    }
   },
   "source": [
    "## House Prices: Advanced Regression Techniques\n",
    "\n",
    "<https://www.kaggle.com/c/house-prices-advanced-regression-techniques>"
   ]
  },
  {
   "cell_type": "code",
   "execution_count": 33,
   "metadata": {
    "slideshow": {
     "slide_type": "subslide"
    }
   },
   "outputs": [
    {
     "name": "stdout",
     "output_type": "stream",
     "text": [
      "(1460, 81)\n",
      "(1459, 80)\n"
     ]
    }
   ],
   "source": [
    "import pandas as pd\n",
    "\n",
    "train_url = \"https://storage.googleapis.com/kaggle_datasets/House-Prices-Advanced-Regression-Techniques/train.csv\"\n",
    "test_url = \"https://storage.googleapis.com/kaggle_datasets/House-Prices-Advanced-Regression-Techniques/test.csv\"\n",
    "train = pd.read_csv(train_url)\n",
    "test = pd.read_csv(test_url)\n",
    "print(train.shape)\n",
    "print(test.shape)"
   ]
  },
  {
   "cell_type": "code",
   "execution_count": 34,
   "metadata": {
    "slideshow": {
     "slide_type": "subslide"
    }
   },
   "outputs": [
    {
     "data": {
      "text/html": [
       "<div>\n",
       "<style scoped>\n",
       "    .dataframe tbody tr th:only-of-type {\n",
       "        vertical-align: middle;\n",
       "    }\n",
       "\n",
       "    .dataframe tbody tr th {\n",
       "        vertical-align: top;\n",
       "    }\n",
       "\n",
       "    .dataframe thead th {\n",
       "        text-align: right;\n",
       "    }\n",
       "</style>\n",
       "<table border=\"1\" class=\"dataframe\">\n",
       "  <thead>\n",
       "    <tr style=\"text-align: right;\">\n",
       "      <th></th>\n",
       "      <th>Id</th>\n",
       "      <th>MSSubClass</th>\n",
       "      <th>MSZoning</th>\n",
       "      <th>LotFrontage</th>\n",
       "      <th>LotArea</th>\n",
       "      <th>Street</th>\n",
       "      <th>Alley</th>\n",
       "      <th>LotShape</th>\n",
       "      <th>LandContour</th>\n",
       "      <th>Utilities</th>\n",
       "      <th>...</th>\n",
       "      <th>PoolArea</th>\n",
       "      <th>PoolQC</th>\n",
       "      <th>Fence</th>\n",
       "      <th>MiscFeature</th>\n",
       "      <th>MiscVal</th>\n",
       "      <th>MoSold</th>\n",
       "      <th>YrSold</th>\n",
       "      <th>SaleType</th>\n",
       "      <th>SaleCondition</th>\n",
       "      <th>SalePrice</th>\n",
       "    </tr>\n",
       "  </thead>\n",
       "  <tbody>\n",
       "    <tr>\n",
       "      <th>0</th>\n",
       "      <td>1</td>\n",
       "      <td>60</td>\n",
       "      <td>RL</td>\n",
       "      <td>65.0</td>\n",
       "      <td>8450</td>\n",
       "      <td>Pave</td>\n",
       "      <td>NaN</td>\n",
       "      <td>Reg</td>\n",
       "      <td>Lvl</td>\n",
       "      <td>AllPub</td>\n",
       "      <td>...</td>\n",
       "      <td>0</td>\n",
       "      <td>NaN</td>\n",
       "      <td>NaN</td>\n",
       "      <td>NaN</td>\n",
       "      <td>0</td>\n",
       "      <td>2</td>\n",
       "      <td>2008</td>\n",
       "      <td>WD</td>\n",
       "      <td>Normal</td>\n",
       "      <td>208500</td>\n",
       "    </tr>\n",
       "    <tr>\n",
       "      <th>1</th>\n",
       "      <td>2</td>\n",
       "      <td>20</td>\n",
       "      <td>RL</td>\n",
       "      <td>80.0</td>\n",
       "      <td>9600</td>\n",
       "      <td>Pave</td>\n",
       "      <td>NaN</td>\n",
       "      <td>Reg</td>\n",
       "      <td>Lvl</td>\n",
       "      <td>AllPub</td>\n",
       "      <td>...</td>\n",
       "      <td>0</td>\n",
       "      <td>NaN</td>\n",
       "      <td>NaN</td>\n",
       "      <td>NaN</td>\n",
       "      <td>0</td>\n",
       "      <td>5</td>\n",
       "      <td>2007</td>\n",
       "      <td>WD</td>\n",
       "      <td>Normal</td>\n",
       "      <td>181500</td>\n",
       "    </tr>\n",
       "    <tr>\n",
       "      <th>2</th>\n",
       "      <td>3</td>\n",
       "      <td>60</td>\n",
       "      <td>RL</td>\n",
       "      <td>68.0</td>\n",
       "      <td>11250</td>\n",
       "      <td>Pave</td>\n",
       "      <td>NaN</td>\n",
       "      <td>IR1</td>\n",
       "      <td>Lvl</td>\n",
       "      <td>AllPub</td>\n",
       "      <td>...</td>\n",
       "      <td>0</td>\n",
       "      <td>NaN</td>\n",
       "      <td>NaN</td>\n",
       "      <td>NaN</td>\n",
       "      <td>0</td>\n",
       "      <td>9</td>\n",
       "      <td>2008</td>\n",
       "      <td>WD</td>\n",
       "      <td>Normal</td>\n",
       "      <td>223500</td>\n",
       "    </tr>\n",
       "    <tr>\n",
       "      <th>3</th>\n",
       "      <td>4</td>\n",
       "      <td>70</td>\n",
       "      <td>RL</td>\n",
       "      <td>60.0</td>\n",
       "      <td>9550</td>\n",
       "      <td>Pave</td>\n",
       "      <td>NaN</td>\n",
       "      <td>IR1</td>\n",
       "      <td>Lvl</td>\n",
       "      <td>AllPub</td>\n",
       "      <td>...</td>\n",
       "      <td>0</td>\n",
       "      <td>NaN</td>\n",
       "      <td>NaN</td>\n",
       "      <td>NaN</td>\n",
       "      <td>0</td>\n",
       "      <td>2</td>\n",
       "      <td>2006</td>\n",
       "      <td>WD</td>\n",
       "      <td>Abnorml</td>\n",
       "      <td>140000</td>\n",
       "    </tr>\n",
       "    <tr>\n",
       "      <th>4</th>\n",
       "      <td>5</td>\n",
       "      <td>60</td>\n",
       "      <td>RL</td>\n",
       "      <td>84.0</td>\n",
       "      <td>14260</td>\n",
       "      <td>Pave</td>\n",
       "      <td>NaN</td>\n",
       "      <td>IR1</td>\n",
       "      <td>Lvl</td>\n",
       "      <td>AllPub</td>\n",
       "      <td>...</td>\n",
       "      <td>0</td>\n",
       "      <td>NaN</td>\n",
       "      <td>NaN</td>\n",
       "      <td>NaN</td>\n",
       "      <td>0</td>\n",
       "      <td>12</td>\n",
       "      <td>2008</td>\n",
       "      <td>WD</td>\n",
       "      <td>Normal</td>\n",
       "      <td>250000</td>\n",
       "    </tr>\n",
       "  </tbody>\n",
       "</table>\n",
       "<p>5 rows × 81 columns</p>\n",
       "</div>"
      ],
      "text/plain": [
       "   Id  MSSubClass MSZoning  LotFrontage  LotArea Street Alley LotShape  \\\n",
       "0   1          60       RL         65.0     8450   Pave   NaN      Reg   \n",
       "1   2          20       RL         80.0     9600   Pave   NaN      Reg   \n",
       "2   3          60       RL         68.0    11250   Pave   NaN      IR1   \n",
       "3   4          70       RL         60.0     9550   Pave   NaN      IR1   \n",
       "4   5          60       RL         84.0    14260   Pave   NaN      IR1   \n",
       "\n",
       "  LandContour Utilities    ...     PoolArea PoolQC Fence MiscFeature MiscVal  \\\n",
       "0         Lvl    AllPub    ...            0    NaN   NaN         NaN       0   \n",
       "1         Lvl    AllPub    ...            0    NaN   NaN         NaN       0   \n",
       "2         Lvl    AllPub    ...            0    NaN   NaN         NaN       0   \n",
       "3         Lvl    AllPub    ...            0    NaN   NaN         NaN       0   \n",
       "4         Lvl    AllPub    ...            0    NaN   NaN         NaN       0   \n",
       "\n",
       "  MoSold YrSold  SaleType  SaleCondition  SalePrice  \n",
       "0      2   2008        WD         Normal     208500  \n",
       "1      5   2007        WD         Normal     181500  \n",
       "2      9   2008        WD         Normal     223500  \n",
       "3      2   2006        WD        Abnorml     140000  \n",
       "4     12   2008        WD         Normal     250000  \n",
       "\n",
       "[5 rows x 81 columns]"
      ]
     },
     "execution_count": 34,
     "metadata": {},
     "output_type": "execute_result"
    }
   ],
   "source": [
    "train.head()"
   ]
  },
  {
   "cell_type": "code",
   "execution_count": 35,
   "metadata": {
    "slideshow": {
     "slide_type": "subslide"
    }
   },
   "outputs": [
    {
     "data": {
      "text/html": [
       "<div>\n",
       "<style scoped>\n",
       "    .dataframe tbody tr th:only-of-type {\n",
       "        vertical-align: middle;\n",
       "    }\n",
       "\n",
       "    .dataframe tbody tr th {\n",
       "        vertical-align: top;\n",
       "    }\n",
       "\n",
       "    .dataframe thead th {\n",
       "        text-align: right;\n",
       "    }\n",
       "</style>\n",
       "<table border=\"1\" class=\"dataframe\">\n",
       "  <thead>\n",
       "    <tr style=\"text-align: right;\">\n",
       "      <th></th>\n",
       "      <th>Id</th>\n",
       "      <th>MSSubClass</th>\n",
       "      <th>MSZoning</th>\n",
       "      <th>LotFrontage</th>\n",
       "      <th>LotArea</th>\n",
       "      <th>Street</th>\n",
       "      <th>Alley</th>\n",
       "      <th>LotShape</th>\n",
       "      <th>LandContour</th>\n",
       "      <th>Utilities</th>\n",
       "      <th>...</th>\n",
       "      <th>ScreenPorch</th>\n",
       "      <th>PoolArea</th>\n",
       "      <th>PoolQC</th>\n",
       "      <th>Fence</th>\n",
       "      <th>MiscFeature</th>\n",
       "      <th>MiscVal</th>\n",
       "      <th>MoSold</th>\n",
       "      <th>YrSold</th>\n",
       "      <th>SaleType</th>\n",
       "      <th>SaleCondition</th>\n",
       "    </tr>\n",
       "  </thead>\n",
       "  <tbody>\n",
       "    <tr>\n",
       "      <th>0</th>\n",
       "      <td>1461</td>\n",
       "      <td>20</td>\n",
       "      <td>RH</td>\n",
       "      <td>80.0</td>\n",
       "      <td>11622</td>\n",
       "      <td>Pave</td>\n",
       "      <td>NaN</td>\n",
       "      <td>Reg</td>\n",
       "      <td>Lvl</td>\n",
       "      <td>AllPub</td>\n",
       "      <td>...</td>\n",
       "      <td>120</td>\n",
       "      <td>0</td>\n",
       "      <td>NaN</td>\n",
       "      <td>MnPrv</td>\n",
       "      <td>NaN</td>\n",
       "      <td>0</td>\n",
       "      <td>6</td>\n",
       "      <td>2010</td>\n",
       "      <td>WD</td>\n",
       "      <td>Normal</td>\n",
       "    </tr>\n",
       "    <tr>\n",
       "      <th>1</th>\n",
       "      <td>1462</td>\n",
       "      <td>20</td>\n",
       "      <td>RL</td>\n",
       "      <td>81.0</td>\n",
       "      <td>14267</td>\n",
       "      <td>Pave</td>\n",
       "      <td>NaN</td>\n",
       "      <td>IR1</td>\n",
       "      <td>Lvl</td>\n",
       "      <td>AllPub</td>\n",
       "      <td>...</td>\n",
       "      <td>0</td>\n",
       "      <td>0</td>\n",
       "      <td>NaN</td>\n",
       "      <td>NaN</td>\n",
       "      <td>Gar2</td>\n",
       "      <td>12500</td>\n",
       "      <td>6</td>\n",
       "      <td>2010</td>\n",
       "      <td>WD</td>\n",
       "      <td>Normal</td>\n",
       "    </tr>\n",
       "    <tr>\n",
       "      <th>2</th>\n",
       "      <td>1463</td>\n",
       "      <td>60</td>\n",
       "      <td>RL</td>\n",
       "      <td>74.0</td>\n",
       "      <td>13830</td>\n",
       "      <td>Pave</td>\n",
       "      <td>NaN</td>\n",
       "      <td>IR1</td>\n",
       "      <td>Lvl</td>\n",
       "      <td>AllPub</td>\n",
       "      <td>...</td>\n",
       "      <td>0</td>\n",
       "      <td>0</td>\n",
       "      <td>NaN</td>\n",
       "      <td>MnPrv</td>\n",
       "      <td>NaN</td>\n",
       "      <td>0</td>\n",
       "      <td>3</td>\n",
       "      <td>2010</td>\n",
       "      <td>WD</td>\n",
       "      <td>Normal</td>\n",
       "    </tr>\n",
       "    <tr>\n",
       "      <th>3</th>\n",
       "      <td>1464</td>\n",
       "      <td>60</td>\n",
       "      <td>RL</td>\n",
       "      <td>78.0</td>\n",
       "      <td>9978</td>\n",
       "      <td>Pave</td>\n",
       "      <td>NaN</td>\n",
       "      <td>IR1</td>\n",
       "      <td>Lvl</td>\n",
       "      <td>AllPub</td>\n",
       "      <td>...</td>\n",
       "      <td>0</td>\n",
       "      <td>0</td>\n",
       "      <td>NaN</td>\n",
       "      <td>NaN</td>\n",
       "      <td>NaN</td>\n",
       "      <td>0</td>\n",
       "      <td>6</td>\n",
       "      <td>2010</td>\n",
       "      <td>WD</td>\n",
       "      <td>Normal</td>\n",
       "    </tr>\n",
       "    <tr>\n",
       "      <th>4</th>\n",
       "      <td>1465</td>\n",
       "      <td>120</td>\n",
       "      <td>RL</td>\n",
       "      <td>43.0</td>\n",
       "      <td>5005</td>\n",
       "      <td>Pave</td>\n",
       "      <td>NaN</td>\n",
       "      <td>IR1</td>\n",
       "      <td>HLS</td>\n",
       "      <td>AllPub</td>\n",
       "      <td>...</td>\n",
       "      <td>144</td>\n",
       "      <td>0</td>\n",
       "      <td>NaN</td>\n",
       "      <td>NaN</td>\n",
       "      <td>NaN</td>\n",
       "      <td>0</td>\n",
       "      <td>1</td>\n",
       "      <td>2010</td>\n",
       "      <td>WD</td>\n",
       "      <td>Normal</td>\n",
       "    </tr>\n",
       "  </tbody>\n",
       "</table>\n",
       "<p>5 rows × 80 columns</p>\n",
       "</div>"
      ],
      "text/plain": [
       "     Id  MSSubClass MSZoning  LotFrontage  LotArea Street Alley LotShape  \\\n",
       "0  1461          20       RH         80.0    11622   Pave   NaN      Reg   \n",
       "1  1462          20       RL         81.0    14267   Pave   NaN      IR1   \n",
       "2  1463          60       RL         74.0    13830   Pave   NaN      IR1   \n",
       "3  1464          60       RL         78.0     9978   Pave   NaN      IR1   \n",
       "4  1465         120       RL         43.0     5005   Pave   NaN      IR1   \n",
       "\n",
       "  LandContour Utilities      ...       ScreenPorch PoolArea PoolQC  Fence  \\\n",
       "0         Lvl    AllPub      ...               120        0    NaN  MnPrv   \n",
       "1         Lvl    AllPub      ...                 0        0    NaN    NaN   \n",
       "2         Lvl    AllPub      ...                 0        0    NaN  MnPrv   \n",
       "3         Lvl    AllPub      ...                 0        0    NaN    NaN   \n",
       "4         HLS    AllPub      ...               144        0    NaN    NaN   \n",
       "\n",
       "  MiscFeature MiscVal MoSold  YrSold  SaleType  SaleCondition  \n",
       "0         NaN       0      6    2010        WD         Normal  \n",
       "1        Gar2   12500      6    2010        WD         Normal  \n",
       "2         NaN       0      3    2010        WD         Normal  \n",
       "3         NaN       0      6    2010        WD         Normal  \n",
       "4         NaN       0      1    2010        WD         Normal  \n",
       "\n",
       "[5 rows x 80 columns]"
      ]
     },
     "execution_count": 35,
     "metadata": {},
     "output_type": "execute_result"
    }
   ],
   "source": [
    "test.head()"
   ]
  },
  {
   "cell_type": "markdown",
   "metadata": {
    "slideshow": {
     "slide_type": "subslide"
    }
   },
   "source": [
    "## 什麼是訓練（train）樣本？\n",
    "\n",
    "- 訓練樣本用來建立 $h(x)$\n",
    "- 訓練樣本是 labeled data"
   ]
  },
  {
   "cell_type": "markdown",
   "metadata": {
    "slideshow": {
     "slide_type": "subslide"
    }
   },
   "source": [
    "## 什麼是驗證（validation）樣本？\n",
    "\n",
    "- 由訓練樣本中切割出來\n",
    "    - 通常分出 30% 作為驗證樣本\n",
    "- 驗證樣本投入 $h(x)$ 產出預測值 $\\hat{y}$\n",
    "- 比對驗證樣本的 $y$ 與 $\\hat{y}$ 來評估 $h(x)$ 的績效（performance）"
   ]
  },
  {
   "cell_type": "markdown",
   "metadata": {
    "slideshow": {
     "slide_type": "subslide"
    }
   },
   "source": [
    "## 什麼是測試（test）樣本？\n",
    "\n",
    "- 測試樣本是 unlabeled data\n",
    "- 將測試樣本投入 $h(x)$ 建立預測 $\\hat{y}$\n",
    "- 事後量測績效"
   ]
  },
  {
   "cell_type": "markdown",
   "metadata": {
    "slideshow": {
     "slide_type": "subslide"
    }
   },
   "source": [
    "## 挑一個變數來預測 SalePrice\n",
    "\n",
    "`LotArea` 感覺是個合理的 Predictor。"
   ]
  },
  {
   "cell_type": "code",
   "execution_count": 36,
   "metadata": {
    "slideshow": {
     "slide_type": "subslide"
    }
   },
   "outputs": [
    {
     "data": {
      "text/plain": [
       "<matplotlib.axes._subplots.AxesSubplot at 0x122641400>"
      ]
     },
     "execution_count": 36,
     "metadata": {},
     "output_type": "execute_result"
    }
   ],
   "source": [
    "import matplotlib.pyplot as plt\n",
    "\n",
    "train.plot.scatter(\"LotArea\", \"SalePrice\", s=5)"
   ]
  },
  {
   "cell_type": "code",
   "execution_count": 37,
   "metadata": {
    "slideshow": {
     "slide_type": "subslide"
    }
   },
   "outputs": [
    {
     "data": {
      "image/png": "[encoded data removed]",
      "text/plain": [
       "<matplotlib.figure.Figure at 0x10d020550>"
      ]
     },
     "metadata": {},
     "output_type": "display_data"
    }
   ],
   "source": [
    "plt.show()"
   ]
  },
  {
   "cell_type": "code",
   "execution_count": 38,
   "metadata": {
    "slideshow": {
     "slide_type": "subslide"
    }
   },
   "outputs": [
    {
     "data": {
      "text/plain": [
       "[[]]"
      ]
     },
     "execution_count": 38,
     "metadata": {},
     "output_type": "execute_result"
    }
   ],
   "source": [
    "import seaborn as sns\n",
    "\n",
    "strip = sns.stripplot(x='LotArea', y='SalePrice', data=train, jitter=True)\n",
    "strip.set(xticklabels=[])"
   ]
  },
  {
   "cell_type": "code",
   "execution_count": 39,
   "metadata": {
    "slideshow": {
     "slide_type": "subslide"
    }
   },
   "outputs": [
    {
     "data": {
      "image/png": "[encoded data removed]",
      "text/plain": [
       "<matplotlib.figure.Figure at 0x116c79b70>"
      ]
     },
     "metadata": {},
     "output_type": "display_data"
    }
   ],
   "source": [
    "plt.show()"
   ]
  },
  {
   "cell_type": "code",
   "execution_count": 40,
   "metadata": {
    "slideshow": {
     "slide_type": "subslide"
    }
   },
   "outputs": [
    {
     "name": "stdout",
     "output_type": "stream",
     "text": [
      "(1460, 81)\n",
      "(1022, 81)\n",
      "(438, 81)\n"
     ]
    }
   ],
   "source": [
    "# 切割訓練與驗證樣本\n",
    "from sklearn.model_selection import train_test_split\n",
    "\n",
    "train_df, validation_df = train_test_split(train, test_size=0.3, random_state=123)\n",
    "print(train.shape)\n",
    "print(train_df.shape)\n",
    "print(validation_df.shape)"
   ]
  },
  {
   "cell_type": "code",
   "execution_count": 41,
   "metadata": {
    "slideshow": {
     "slide_type": "subslide"
    }
   },
   "outputs": [
    {
     "name": "stdout",
     "output_type": "stream",
     "text": [
      "(1022, 1)\n",
      "(1022, 2)\n"
     ]
    }
   ],
   "source": [
    "# 訓練樣本\n",
    "Y_train = train_df[\"SalePrice\"].values.reshape(train_df.shape[0], 1)\n",
    "X_train = train_df[\"LotArea\"].values.reshape(train_df.shape[0], 1)\n",
    "m = X_train.shape[0]\n",
    "ones_col = np.ones((m, 1))\n",
    "X_train = np.concatenate((ones_col, X_train), axis=1)\n",
    "print(Y_train.shape)\n",
    "print(X_train.shape)"
   ]
  },
  {
   "cell_type": "code",
   "execution_count": 42,
   "metadata": {
    "slideshow": {
     "slide_type": "subslide"
    }
   },
   "outputs": [
    {
     "name": "stdout",
     "output_type": "stream",
     "text": [
      "(438, 1)\n",
      "(438, 2)\n"
     ]
    }
   ],
   "source": [
    "# 驗證樣本\n",
    "Y_validation = validation_df[\"SalePrice\"].values.reshape(validation_df.shape[0], 1)\n",
    "X_validation = validation_df[\"LotArea\"].values.reshape(validation_df.shape[0], 1)\n",
    "m = X_validation.shape[0]\n",
    "ones_col = np.ones((m, 1))\n",
    "X_validation = np.concatenate((ones_col, X_validation), axis=1)\n",
    "print(Y_validation.shape)\n",
    "print(X_validation.shape)"
   ]
  },
  {
   "cell_type": "code",
   "execution_count": 43,
   "metadata": {
    "slideshow": {
     "slide_type": "subslide"
    }
   },
   "outputs": [
    {
     "name": "stdout",
     "output_type": "stream",
     "text": [
      "Thetas from sklearn:\n",
      "theta_0: 157869.1178\n",
      "theta_1: 2.1443\n"
     ]
    }
   ],
   "source": [
    "# sklearn\n",
    "from sklearn import linear_model\n",
    "\n",
    "regressor_skl = linear_model.LinearRegression()\n",
    "regressor_skl.fit(X_train, Y_train)\n",
    "theta_0_skl = regressor_skl.intercept_[0]\n",
    "theta_1_skl = regressor_skl.coef_[0][1]\n",
    "print('Thetas from sklearn:\\ntheta_0: {:.4f}\\ntheta_1: {:.4f}'.format(theta_0_skl, theta_1_skl))"
   ]
  },
  {
   "cell_type": "code",
   "execution_count": 44,
   "metadata": {
    "slideshow": {
     "slide_type": "subslide"
    }
   },
   "outputs": [
    {
     "data": {
      "text/plain": [
       "<matplotlib.text.Text at 0x1250fcb70>"
      ]
     },
     "execution_count": 44,
     "metadata": {},
     "output_type": "execute_result"
    }
   ],
   "source": [
    "import matplotlib.pyplot as plt\n",
    "\n",
    "Y_pred = regressor_skl.predict(X_validation)\n",
    "plt.scatter(X_validation[:, 1], Y_validation, color=\"black\", s=5)\n",
    "plt.plot(X_validation[:, 1], Y_pred, color=\"blue\")\n",
    "plt.xlabel('LotArea')\n",
    "plt.ylabel('SalePrice')"
   ]
  },
  {
   "cell_type": "code",
   "execution_count": 45,
   "metadata": {
    "slideshow": {
     "slide_type": "subslide"
    }
   },
   "outputs": [
    {
     "data": {
      "image/png": "[encoded data removed]",
      "text/plain": [
       "<matplotlib.figure.Figure at 0x1250d5e10>"
      ]
     },
     "metadata": {},
     "output_type": "display_data"
    }
   ],
   "source": [
    "plt.show()"
   ]
  },
  {
   "cell_type": "markdown",
   "metadata": {
    "slideshow": {
     "slide_type": "subslide"
    }
   },
   "source": [
    "## 評估迴歸模型的指標\n",
    "\n",
    "- MSE（愈低愈好）\n",
    "\n",
    "$$MSE = \\frac{1}{N}\\sum_{i=1}^N(\\hat{y_i} - y_i) ^ 2$$"
   ]
  },
  {
   "cell_type": "code",
   "execution_count": 46,
   "metadata": {
    "slideshow": {
     "slide_type": "subslide"
    }
   },
   "outputs": [
    {
     "name": "stdout",
     "output_type": "stream",
     "text": [
      "Computation:\n",
      "Training MSE: 6101508370.9978\n",
      "Validation MSE: 5323809016.1212\n",
      "\n",
      "From sklearn.metrics:\n",
      "Training MSE: 6101508370.9978\n",
      "Validation MSE: 5323809016.1212\n"
     ]
    }
   ],
   "source": [
    "from sklearn.metrics import mean_squared_error\n",
    "\n",
    "train_MSE= np.mean((Y_train - regressor_skl.predict(X_train))**2)\n",
    "validation_MSE= np.mean((Y_validation - regressor_skl.predict(X_validation))**2)\n",
    "print(\"Computation:\")\n",
    "print(\"Training MSE: {:.4f}\".format(train_MSE))\n",
    "print(\"Validation MSE: {:.4f}\".format(validation_MSE))\n",
    "\n",
    "# sklearn.metrics\n",
    "print(\"\\nFrom sklearn.metrics:\")\n",
    "print(\"Training MSE: {:.4f}\".format(mean_squared_error(Y_train, regressor_skl.predict(X_train))))\n",
    "print(\"Validation MSE: {:.4f}\".format(mean_squared_error(Y_validation, regressor_skl.predict(X_validation))))"
   ]
  },
  {
   "cell_type": "markdown",
   "metadata": {
    "slideshow": {
     "slide_type": "subslide"
    }
   },
   "source": [
    "## 隨堂練習：挑兩個變數來預測 SalePrice\n",
    "\n",
    "- 試試看 `LotArea` 與 `YearBuilt`"
   ]
  },
  {
   "cell_type": "code",
   "execution_count": 47,
   "metadata": {
    "slideshow": {
     "slide_type": "skip"
    }
   },
   "outputs": [
    {
     "data": {
      "text/plain": [
       "<matplotlib.axes._subplots.AxesSubplot at 0x125307780>"
      ]
     },
     "execution_count": 47,
     "metadata": {},
     "output_type": "execute_result"
    }
   ],
   "source": [
    "import matplotlib.pyplot as plt\n",
    "\n",
    "train.plot.scatter(\"YearBuilt\", \"SalePrice\", s=5)"
   ]
  },
  {
   "cell_type": "code",
   "execution_count": 48,
   "metadata": {},
   "outputs": [
    {
     "data": {
      "image/png": "[encoded data removed]",
      "text/plain": [
       "<matplotlib.figure.Figure at 0x1253289b0>"
      ]
     },
     "metadata": {},
     "output_type": "display_data"
    }
   ],
   "source": [
    "plt.show()"
   ]
  },
  {
   "cell_type": "code",
   "execution_count": 49,
   "metadata": {
    "slideshow": {
     "slide_type": "skip"
    }
   },
   "outputs": [
    {
     "name": "stdout",
     "output_type": "stream",
     "text": [
      "(1022, 1)\n",
      "(1022, 3)\n"
     ]
    }
   ],
   "source": [
    "# 訓練樣本\n",
    "Y_train = train_df[\"SalePrice\"].values.reshape(train_df.shape[0], 1)\n",
    "X_train = train_df[[\"LotArea\", \"YearBuilt\"]].values.reshape(train_df.shape[0], 2)\n",
    "m = X_train.shape[0]\n",
    "ones_col = np.ones((m, 1))\n",
    "X_train = np.concatenate((ones_col, X_train), axis=1)\n",
    "print(Y_train.shape)\n",
    "print(X_train.shape)"
   ]
  },
  {
   "cell_type": "code",
   "execution_count": 50,
   "metadata": {
    "slideshow": {
     "slide_type": "skip"
    }
   },
   "outputs": [
    {
     "name": "stdout",
     "output_type": "stream",
     "text": [
      "(438, 1)\n",
      "(438, 3)\n"
     ]
    }
   ],
   "source": [
    "# 驗證樣本\n",
    "Y_validation = validation_df[\"SalePrice\"].values.reshape(validation_df.shape[0], 1)\n",
    "X_validation = validation_df[[\"LotArea\", \"YearBuilt\"]].values.reshape(validation_df.shape[0], 2)\n",
    "m = X_validation.shape[0]\n",
    "ones_col = np.ones((m, 1))\n",
    "X_validation = np.concatenate((ones_col, X_validation), axis=1)\n",
    "print(Y_validation.shape)\n",
    "print(X_validation.shape)"
   ]
  },
  {
   "cell_type": "code",
   "execution_count": 51,
   "metadata": {
    "collapsed": true,
    "slideshow": {
     "slide_type": "skip"
    }
   },
   "outputs": [],
   "source": [
    "# sklearn\n",
    "from sklearn import linear_model\n",
    "\n",
    "regressor_skl = linear_model.LinearRegression()\n",
    "regressor_skl.fit(X_train, Y_train)\n",
    "theta_0_skl = regressor_skl.intercept_[0]\n",
    "theta_1_skl = regressor_skl.coef_[0][1]\n",
    "theta_2_skl = regressor_skl.coef_[0][2]"
   ]
  },
  {
   "cell_type": "code",
   "execution_count": 52,
   "metadata": {
    "slideshow": {
     "slide_type": "subslide"
    }
   },
   "outputs": [
    {
     "name": "stdout",
     "output_type": "stream",
     "text": [
      "Thetas from sklearn:\n",
      "theta_0: -2545020.3324\n",
      "theta_1: 2.0331\n",
      "theta_2: 1372.4599\n"
     ]
    }
   ],
   "source": [
    "print('Thetas from sklearn:\\ntheta_0: {:.4f}\\ntheta_1: {:.4f}\\ntheta_2: {:.4f}'.format(theta_0_skl, theta_1_skl, theta_2_skl))"
   ]
  },
  {
   "cell_type": "code",
   "execution_count": 53,
   "metadata": {
    "collapsed": true,
    "slideshow": {
     "slide_type": "skip"
    }
   },
   "outputs": [],
   "source": [
    "from sklearn.metrics import mean_squared_error\n",
    "\n",
    "train_MSE= np.mean((Y_train - regressor_skl.predict(X_train))**2)\n",
    "validation_MSE= np.mean((Y_validation - regressor_skl.predict(X_validation))**2)"
   ]
  },
  {
   "cell_type": "code",
   "execution_count": 54,
   "metadata": {
    "slideshow": {
     "slide_type": "subslide"
    }
   },
   "outputs": [
    {
     "name": "stdout",
     "output_type": "stream",
     "text": [
      "Computation:\n",
      "Training MSE: 4336328849.1632\n",
      "Validation MSE: 3777135935.3723\n",
      "\n",
      "From sklearn.metrics:\n",
      "Training MSE: 4336328849.1632\n",
      "Validation MSE: 3777135935.3723\n"
     ]
    }
   ],
   "source": [
    "print(\"Computation:\")\n",
    "print(\"Training MSE: {:.4f}\".format(train_MSE))\n",
    "print(\"Validation MSE: {:.4f}\".format(validation_MSE))\n",
    "\n",
    "# sklearn.metrics\n",
    "print(\"\\nFrom sklearn.metrics:\")\n",
    "print(\"Training MSE: {:.4f}\".format(mean_squared_error(Y_train, regressor_skl.predict(X_train))))\n",
    "print(\"Validation MSE: {:.4f}\".format(mean_squared_error(Y_validation, regressor_skl.predict(X_validation))))"
   ]
  }
 ],
 "metadata": {
  "celltoolbar": "Slideshow",
  "kernelspec": {
   "display_name": "Python 3",
   "language": "python",
   "name": "python3"
  },
  "language_info": {
   "codemirror_mode": {
    "name": "ipython",
    "version": 3
   },
   "file_extension": ".py",
   "mimetype": "text/x-python",
   "name": "python",
   "nbconvert_exporter": "python",
   "pygments_lexer": "ipython3",
   "version": "3.6.0"
  }
 },
 "nbformat": 4,
 "nbformat_minor": 2
}
