{
 "cells": [
  {
   "cell_type": "markdown",
   "metadata": {
    "slideshow": {
     "slide_type": "slide"
    }
   },
   "source": [
    "# 迴歸問題\n",
    "\n",
    "## 郭耀仁"
   ]
  },
  {
   "cell_type": "markdown",
   "metadata": {
    "slideshow": {
     "slide_type": "slide"
    }
   },
   "source": [
    "## 迴歸問題有哪些？\n",
    "\n",
    "- 利用月收入來核定信用卡額度\n",
    "- 利用坪數、房間數來預測房價\n",
    "- 利用每日最高氣溫來預測飲料店的冰紅茶銷量\n",
    "- ...etc."
   ]
  },
  {
   "cell_type": "markdown",
   "metadata": {
    "slideshow": {
     "slide_type": "subslide"
    }
   },
   "source": [
    "## 大家都在尋找 $f$\n",
    "\n",
    "$$y = f(x)$$\n",
    "\n",
    "- 但沒有人知道 $f$ 到底為何、是否存在？我們只能假設：\n",
    "\n",
    "$$\\hat{y} = h(x)$$"
   ]
  },
  {
   "cell_type": "markdown",
   "metadata": {
    "slideshow": {
     "slide_type": "subslide"
    }
   },
   "source": [
    "## 當 $\\hat{y}$ 與 $y$ 之間的差異愈小，我們更有自信地說 $h$ 跟 $f$ 愈相似\n",
    "\n",
    "- 成本函數\n",
    "\n",
    "$$ \\text{minimize:} \\frac{1}{2m}\\sum_{i=1}^{m}(\\hat{y_i}-y_i)^2$$"
   ]
  },
  {
   "cell_type": "markdown",
   "metadata": {
    "slideshow": {
     "slide_type": "subslide"
    }
   },
   "source": [
    "## 將 $h$ 表示得更完整：只有一個觀測值的時候\n",
    "\n",
    "$$h(x) = \\theta_0 + \\theta_1 x_1 + \\theta_2 x_2 + ... + \\theta_n x_n$$\n",
    "\n",
    "- 假如我們令 $x_0 = 1$，就可以將式子廣義地表示為：\n",
    "\n",
    "$$\\hat{y} = h(x) = \\begin{bmatrix} \\theta_0 & \\theta_1 & ... & \\theta_n \\end{bmatrix} \\begin{bmatrix} x_0 \\\\ x_1 \\\\.\\\\.\\\\.\\\\ x_n \\end{bmatrix} = \\theta^{T}x$$"
   ]
  },
  {
   "cell_type": "markdown",
   "metadata": {
    "slideshow": {
     "slide_type": "subslide"
    }
   },
   "source": [
    "## 將 $h$ 表示得更完整：有 m 個觀測值的時候\n",
    "\n",
    "$$\\hat{y} = h(X) = \n",
    "\\begin{bmatrix} x_{01}, x_{02}, ..., x_{0n} \\\\ x_{11}, x_{12}, ..., x_{1n} \\\\.\\\\.\\\\.\\\\ x_{m1}, x_{m2}, ..., x_{mn}\n",
    "\\end{bmatrix}\n",
    "\\begin{bmatrix} \\theta_0 \\\\ \\theta_1 \\\\.\\\\.\\\\.\\\\ \\theta_n \\end{bmatrix} = X\\theta$$"
   ]
  },
  {
   "cell_type": "markdown",
   "metadata": {
    "slideshow": {
     "slide_type": "subslide"
    }
   },
   "source": [
    "## 玩具資料\n",
    "\n",
    "\n",
    "$$\n",
    "(x , y) = \\{(1, 2), (2, 2), (3, 4)\\}\n",
    "$$"
   ]
  },
  {
   "cell_type": "code",
   "execution_count": 1,
   "metadata": {
    "slideshow": {
     "slide_type": "skip"
    }
   },
   "outputs": [
    {
     "data": {
      "text/plain": [
       "(0.5, 5)"
      ]
     },
     "execution_count": 1,
     "metadata": {},
     "output_type": "execute_result"
    }
   ],
   "source": [
    "import numpy as np\n",
    "import matplotlib.pyplot as plt\n",
    "\n",
    "x = np.array([1, 2, 3])\n",
    "y = np.array([2, 2, 4])\n",
    "plt.scatter(x, y, color='k')\n",
    "plt.xlim(0, 4)\n",
    "plt.ylim(0.5, 5)"
   ]
  },
  {
   "cell_type": "code",
   "execution_count": 2,
   "metadata": {
    "slideshow": {
     "slide_type": "subslide"
    }
   },
   "outputs": [
    {
     "data": {
      "image/png": "[encoded data removed]",
      "text/plain": [
       "<matplotlib.figure.Figure at 0x11145f4a8>"
      ]
     },
     "metadata": {},
     "output_type": "display_data"
    }
   ],
   "source": [
    "plt.show()"
   ]
  },
  {
   "cell_type": "markdown",
   "metadata": {
    "slideshow": {
     "slide_type": "subslide"
    }
   },
   "source": [
    "## 任務\n",
    "\n",
    "- 找到一組 $\\theta$ 讓成本函數最小化"
   ]
  },
  {
   "cell_type": "code",
   "execution_count": 3,
   "metadata": {
    "slideshow": {
     "slide_type": "skip"
    }
   },
   "outputs": [
    {
     "data": {
      "text/plain": [
       "<matplotlib.text.Text at 0x112d9d630>"
      ]
     },
     "execution_count": 3,
     "metadata": {},
     "output_type": "execute_result"
    }
   ],
   "source": [
    "x_train = np.array([1, 2, 3])\n",
    "X_train = x_train.reshape(len(x_train), 1)\n",
    "y_train = np.array([2, 2, 4])\n",
    "Y_train = y_train.reshape(len(y_train), 1)\n",
    "m = X_train.shape[0]\n",
    "ones_col = np.ones((m, 1))\n",
    "X_train = np.concatenate((ones_col, X_train), axis=1)\n",
    "LHS = np.dot(np.transpose(X_train), X_train)\n",
    "RHS = np.dot(np.transpose(X_train), Y_train)\n",
    "thetas = np.dot(np.linalg.inv(LHS), RHS)\n",
    "theta_0 = thetas[0, 0]\n",
    "theta_1 = thetas[1, 0]\n",
    "\n",
    "f = lambda x : theta_0 + theta_1*x\n",
    "xfit = np.arange(0,4,0.01)\n",
    "yfit = f(xfit)\n",
    "\n",
    "plt.plot(x_train, y_train, 'ko', xfit, yfit)\n",
    "plt.xlabel('x')\n",
    "plt.ylabel('y')"
   ]
  },
  {
   "cell_type": "code",
   "execution_count": 4,
   "metadata": {
    "slideshow": {
     "slide_type": "subslide"
    }
   },
   "outputs": [
    {
     "data": {
      "image/png": "[encoded data removed]",
      "text/plain": [
       "<matplotlib.figure.Figure at 0x112eb6320>"
      ]
     },
     "metadata": {},
     "output_type": "display_data"
    }
   ],
   "source": [
    "plt.show()"
   ]
  },
  {
   "cell_type": "markdown",
   "metadata": {
    "slideshow": {
     "slide_type": "subslide"
    }
   },
   "source": [
    "## 完成任務的方法\n",
    "\n",
    "- Normal Equation\n",
    "- Gradient Descent"
   ]
  },
  {
   "cell_type": "markdown",
   "metadata": {
    "slideshow": {
     "slide_type": "slide"
    }
   },
   "source": [
    "## Normal Equation"
   ]
  },
  {
   "cell_type": "markdown",
   "metadata": {
    "slideshow": {
     "slide_type": "subslide"
    }
   },
   "source": [
    "## 線性聯立方程組\n",
    "\n",
    "\\begin{eqnarray}\n",
    "\\theta_0 + \\theta_1 &=& 2 \\nonumber \\\\\n",
    "\\theta_0 + 2 \\theta_1 &=& 2 \\nonumber \\\\\n",
    "\\theta_0 + 3 \\theta_1 &=& 4 \\nonumber \\\\\n",
    "\\end{eqnarray}"
   ]
  },
  {
   "cell_type": "markdown",
   "metadata": {
    "slideshow": {
     "slide_type": "subslide"
    }
   },
   "source": [
    "## 以向量與矩陣表示\n",
    "\n",
    "\\begin{equation}\n",
    "X = \\begin{bmatrix}\n",
    "1 & 1\\\\\n",
    "1 & 2\\\\\n",
    "1 & 3\n",
    "\\end{bmatrix}, \\quad\n",
    "\\theta = \\begin{bmatrix}\n",
    "\\theta_0 \\\\\n",
    "\\theta_1 \n",
    "\\end{bmatrix}, \\quad \\mathrm{and} \n",
    "\\quad y = \\begin{bmatrix}\n",
    "2 \\\\\n",
    "2 \\\\\n",
    "4 \n",
    "\\end{bmatrix}\n",
    "\\end{equation}"
   ]
  },
  {
   "cell_type": "markdown",
   "metadata": {
    "slideshow": {
     "slide_type": "subslide"
    }
   },
   "source": [
    "## 如果 $X^TX$ 可逆\n",
    "\n",
    "\\begin{eqnarray}\n",
    "X\\theta = y \\\\\n",
    "\\theta = (X^T X)^{-1} X^T y\n",
    "\\end{eqnarray}"
   ]
  },
  {
   "cell_type": "markdown",
   "metadata": {
    "slideshow": {
     "slide_type": "subslide"
    }
   },
   "source": [
    "## 獲得 $\\theta$ 的推導過程源自於成本函數的最小化\n",
    "\n",
    "\\begin{eqnarray}\n",
    "\\text{minimize:} \\frac{1}{2m}\\sum_{i=1}^{m}(\\hat{y_i}-y_i)^2 \\\\\n",
    "\\text{minimize:} J(\\theta) = \\frac{1}{2m}(X\\theta - y)^T(X\\theta - y) \\\\\n",
    "\\text{minimize:} J(\\theta) = \\frac{1}{2m}[(X\\theta)^T - y^T)(X\\theta - y)] \\\\\n",
    "\\text{minimize:} J(\\theta) = \\frac{1}{2m}[(X\\theta)^TX\\theta - (X\\theta)^Ty - y^T(X\\theta) + y^Ty] \\\\\n",
    "\\text{minimize:} J(\\theta) = \\frac{1}{2m}[\\theta^TX^TX\\theta - 2(X\\theta)^Ty + y^Ty] \\\\\n",
    "\\frac{\\partial J}{\\partial \\theta} = \\frac{1}{2m}[2X^TX\\theta - 2X^Ty] = 0 \\\\\n",
    "X^TX\\theta = X^Ty \\\\\n",
    "\\theta = (X^T X)^{-1} X^T y\n",
    "\\end{eqnarray}"
   ]
  },
  {
   "cell_type": "code",
   "execution_count": 5,
   "metadata": {
    "slideshow": {
     "slide_type": "subslide"
    }
   },
   "outputs": [
    {
     "data": {
      "text/plain": [
       "array([[1],\n",
       "       [2],\n",
       "       [3]])"
      ]
     },
     "execution_count": 5,
     "metadata": {},
     "output_type": "execute_result"
    }
   ],
   "source": [
    "import numpy as np\n",
    "\n",
    "x_train = np.array([1, 2, 3])\n",
    "X_train = x_train.reshape(len(x_train), 1)\n",
    "X_train"
   ]
  },
  {
   "cell_type": "code",
   "execution_count": 6,
   "metadata": {
    "slideshow": {
     "slide_type": "subslide"
    }
   },
   "outputs": [
    {
     "data": {
      "text/plain": [
       "array([[2],\n",
       "       [2],\n",
       "       [4]])"
      ]
     },
     "execution_count": 6,
     "metadata": {},
     "output_type": "execute_result"
    }
   ],
   "source": [
    "y_train = np.array([2, 2, 4])\n",
    "y_train = y_train.reshape(len(y_train), 1)\n",
    "y_train"
   ]
  },
  {
   "cell_type": "code",
   "execution_count": 7,
   "metadata": {
    "slideshow": {
     "slide_type": "subslide"
    }
   },
   "outputs": [
    {
     "data": {
      "text/plain": [
       "array([[1., 1.],\n",
       "       [1., 2.],\n",
       "       [1., 3.]])"
      ]
     },
     "execution_count": 7,
     "metadata": {},
     "output_type": "execute_result"
    }
   ],
   "source": [
    "m = X_train.shape[0]\n",
    "ones_col = np.ones((m, 1))\n",
    "X_train = np.concatenate((ones_col, X_train), axis=1)\n",
    "X_train"
   ]
  },
  {
   "cell_type": "code",
   "execution_count": 8,
   "metadata": {
    "collapsed": true,
    "slideshow": {
     "slide_type": "subslide"
    }
   },
   "outputs": [],
   "source": [
    "LHS = np.dot(np.transpose(X_train), X_train)\n",
    "RHS = np.dot(np.transpose(X_train), y_train)"
   ]
  },
  {
   "cell_type": "code",
   "execution_count": 9,
   "metadata": {
    "slideshow": {
     "slide_type": "subslide"
    }
   },
   "outputs": [
    {
     "name": "stdout",
     "output_type": "stream",
     "text": [
      "讓成本函數最小的 Theta\n",
      "Theta_0:0.6667, Theta_1:1.0000\n"
     ]
    }
   ],
   "source": [
    "thetas = np.dot(np.linalg.inv(LHS), RHS)\n",
    "theta_0 = thetas[0, 0]\n",
    "theta_1 = thetas[1, 0]\n",
    "print(\"讓成本函數最小的 Theta\")\n",
    "print(\"Theta_0:{:.4f}, Theta_1:{:.4f}\".format(theta_0, theta_1))"
   ]
  },
  {
   "cell_type": "markdown",
   "metadata": {
    "slideshow": {
     "slide_type": "subslide"
    }
   },
   "source": [
    "## 隨堂練習：將利用 Normal Equation 求解的過程寫成函數\n",
    "\n",
    "```python\n",
    "def simple_linear_regression_fit(x, y):\n",
    "    # ...\n",
    "```"
   ]
  },
  {
   "cell_type": "markdown",
   "metadata": {
    "slideshow": {
     "slide_type": "subslide"
    }
   },
   "source": [
    "## 隨堂練習：利用 simple_linear_regression_fit() 求解後將 $y = \\theta_0 + \\theta_1x$ 畫出"
   ]
  },
  {
   "cell_type": "code",
   "execution_count": 10,
   "metadata": {
    "slideshow": {
     "slide_type": "skip"
    }
   },
   "outputs": [
    {
     "data": {
      "text/plain": [
       "<matplotlib.text.Text at 0x112f1d390>"
      ]
     },
     "execution_count": 10,
     "metadata": {},
     "output_type": "execute_result"
    }
   ],
   "source": [
    "x_train = np.array([1, 2, 3])\n",
    "X_train = x_train.reshape(len(x_train), 1)\n",
    "y_train = np.array([2, 2, 4])\n",
    "Y_train = y_train.reshape(len(y_train), 1)\n",
    "m = X_train.shape[0]\n",
    "ones_col = np.ones((m, 1))\n",
    "X_train = np.concatenate((ones_col, X_train), axis=1)\n",
    "LHS = np.dot(np.transpose(X_train), X_train)\n",
    "RHS = np.dot(np.transpose(X_train), Y_train)\n",
    "thetas = np.dot(np.linalg.inv(LHS), RHS)\n",
    "theta_0 = thetas[0, 0]\n",
    "theta_1 = thetas[1, 0]\n",
    "\n",
    "f = lambda x : theta_0 + theta_1*x\n",
    "xfit = np.arange(0,4,0.01)\n",
    "yfit = f(xfit)\n",
    "\n",
    "plt.plot(x_train, y_train, 'ko', xfit, yfit)\n",
    "plt.xlabel('x')\n",
    "plt.ylabel('y')"
   ]
  },
  {
   "cell_type": "code",
   "execution_count": 11,
   "metadata": {},
   "outputs": [
    {
     "data": {
      "image/png": "[encoded data removed]",
      "text/plain": [
       "<matplotlib.figure.Figure at 0x112ebbef0>"
      ]
     },
     "metadata": {},
     "output_type": "display_data"
    }
   ],
   "source": [
    "plt.show()"
   ]
  },
  {
   "cell_type": "markdown",
   "metadata": {
    "slideshow": {
     "slide_type": "slide"
    }
   },
   "source": [
    "## Gradient Descent"
   ]
  },
  {
   "cell_type": "markdown",
   "metadata": {
    "slideshow": {
     "slide_type": "subslide"
    }
   },
   "source": [
    "## $h(x)$：\n",
    "\n",
    "$$h(x) = \\theta_0 + \\theta_1x_1$$"
   ]
  },
  {
   "cell_type": "markdown",
   "metadata": {
    "slideshow": {
     "slide_type": "subslide"
    }
   },
   "source": [
    "## 先簡化成只有 $\\theta_1$：\n",
    "\n",
    "$$h(x) = \\theta_1x_1$$"
   ]
  },
  {
   "cell_type": "markdown",
   "metadata": {
    "slideshow": {
     "slide_type": "subslide"
    }
   },
   "source": [
    "## 在 $0 < \\theta_1 < 2$ 之間打點來計算成本函數 $J(\\theta_1)$"
   ]
  },
  {
   "cell_type": "code",
   "execution_count": 12,
   "metadata": {
    "slideshow": {
     "slide_type": "skip"
    }
   },
   "outputs": [
    {
     "data": {
      "text/plain": [
       "<matplotlib.text.Text at 0x112fdc588>"
      ]
     },
     "execution_count": 12,
     "metadata": {},
     "output_type": "execute_result"
    }
   ],
   "source": [
    "import numpy as np\n",
    "import matplotlib.pyplot as plt\n",
    "\n",
    "def cost_function(theta_1, x, y):\n",
    "    return np.sum((theta_1 * x - y)**2)/(2*len(x))\n",
    "\n",
    "x = np.arange(1, 4)\n",
    "y = x\n",
    "theta_1_arr = np.linspace(0, 2, 50)\n",
    "cost_arr = []\n",
    "for i in theta_1_arr:\n",
    "    cost_arr.append(cost_function(i, x, y))\n",
    "plt.scatter(theta_1_arr, cost_arr, marker = 'x')\n",
    "plt.xlabel(\"$\\\\theta_1$\")\n",
    "plt.ylabel(\"$J(\\\\theta_1)$\")\n",
    "plt.title(\"Cost Function Visualized\")"
   ]
  },
  {
   "cell_type": "code",
   "execution_count": 13,
   "metadata": {
    "slideshow": {
     "slide_type": "subslide"
    }
   },
   "outputs": [
    {
     "data": {
      "image/png": "[encoded data removed]",
      "text/plain": [
       "<matplotlib.figure.Figure at 0x11305f518>"
      ]
     },
     "metadata": {},
     "output_type": "display_data"
    }
   ],
   "source": [
    "plt.show()"
   ]
  },
  {
   "cell_type": "markdown",
   "metadata": {
    "slideshow": {
     "slide_type": "subslide"
    }
   },
   "source": [
    "## 假如我們的運氣不好，在一個沒有包含 $\\theta_1$ 的區間尋找怎麼辦？"
   ]
  },
  {
   "cell_type": "markdown",
   "metadata": {
    "slideshow": {
     "slide_type": "subslide"
    }
   },
   "source": [
    "## 透過很聰明的方式：Gradient Descent\n",
    "\n",
    "> 每組 $\\theta$ 所得的成本函數偏微分取得斜率，利用這個斜率逐步取得局部最佳解。\n",
    "\n",
    "$$\n",
    "\\text{minimize:} J(\\theta) = \\frac{1}{2m}[\\theta^TX^TX\\theta - 2(X\\theta)^Ty + y^Ty] \\\\\n",
    "\\frac{\\partial J}{\\partial \\theta} = \\frac{1}{2m}[2X^TX\\theta - 2X^Ty] = 0 \\\\\n",
    "\\theta := \\theta - \\alpha \\frac{\\mathrm \\partial}{\\mathrm \\partial \\theta} J(\\theta) \\\\\n",
    "\\theta := \\theta - \\alpha \\frac{1}{m}(X^TX\\theta - X^Ty) \\\\\n",
    "\\theta := \\theta - \\alpha \\frac{1}{m}[X^T(X\\theta - y)]\n",
    "$$"
   ]
  },
  {
   "cell_type": "code",
   "execution_count": 14,
   "metadata": {
    "slideshow": {
     "slide_type": "skip"
    }
   },
   "outputs": [
    {
     "data": {
      "text/plain": [
       "<matplotlib.text.Text at 0x1140d7710>"
      ]
     },
     "execution_count": 14,
     "metadata": {},
     "output_type": "execute_result"
    }
   ],
   "source": [
    "import numpy as np\n",
    "import matplotlib.pyplot as plt\n",
    "\n",
    "def cost_function(theta_1, x, y):\n",
    "    return np.sum((theta_1 * x - y)**2)/(2*len(x))\n",
    "\n",
    "x = np.arange(1, 4)\n",
    "y = x\n",
    "theta_1_arr = np.linspace(0, 2, 50)\n",
    "cost_arr = []\n",
    "for i in theta_1_arr:\n",
    "    cost_arr.append(cost_function(i, x, y))\n",
    "plt.scatter(theta_1_arr, cost_arr, marker = 'x')\n",
    "plt.plot(1.75, cost_function(1.75, x, y), marker = 'D', markersize = 12, color = 'y')\n",
    "plt.plot(0.5, cost_function(0.5, x, y), marker = 'o', markersize = 12, color = 'g')\n",
    "plt.plot(1, cost_function(1, x, y), marker = '^', markersize = 12, color = 'r')\n",
    "plt.xlabel(\"$\\\\theta_1$\")\n",
    "plt.ylabel(\"$J(\\\\theta_1)$\")\n",
    "plt.xticks([]), plt.yticks([])\n",
    "plt.title(\"Gradient Descent with $\\\\theta_1$\")"
   ]
  },
  {
   "cell_type": "code",
   "execution_count": 15,
   "metadata": {
    "slideshow": {
     "slide_type": "subslide"
    }
   },
   "outputs": [
    {
     "data": {
      "image/png": "[encoded data removed]",
      "text/plain": [
       "<matplotlib.figure.Figure at 0x112f1df28>"
      ]
     },
     "metadata": {},
     "output_type": "display_data"
    }
   ],
   "source": [
    "plt.show()"
   ]
  },
  {
   "cell_type": "markdown",
   "metadata": {
    "slideshow": {
     "slide_type": "subslide"
    }
   },
   "source": [
    "## 如何做修正\n",
    "\n",
    "- $\\theta_1 = 0.5$ 的時候（綠圓點），$\\frac{\\mathrm \\partial}{\\mathrm \\partial \\theta_1} J(\\theta_1)$ 為負值，所以 $\\theta_1$ 會向右邊修正\n",
    "- $\\theta_1 = 1.75$ 的時候（黃方塊），$\\frac{\\mathrm \\partial}{\\mathrm \\partial \\theta_1} J(\\theta_1)$ 為正值，所以 $\\theta_1$ 會向左邊修正\n",
    "- $\\theta_1 = 1.0$ 的時候（紅三角），$\\frac{\\mathrm \\partial}{\\mathrm \\partial \\theta_1} J(\\theta_1)$ 為零，$\\theta_1$ 收斂"
   ]
  },
  {
   "cell_type": "markdown",
   "metadata": {
    "slideshow": {
     "slide_type": "subslide"
    }
   },
   "source": [
    "## $\\theta_1$ 修正的速度與 $\\alpha$ 相關，$\\alpha$ 稱為學習速率"
   ]
  },
  {
   "cell_type": "code",
   "execution_count": 16,
   "metadata": {
    "slideshow": {
     "slide_type": "skip"
    }
   },
   "outputs": [
    {
     "data": {
      "text/plain": [
       "<matplotlib.text.Text at 0x114274908>"
      ]
     },
     "execution_count": 16,
     "metadata": {},
     "output_type": "execute_result"
    }
   ],
   "source": [
    "import numpy as np\n",
    "import matplotlib.pyplot as plt\n",
    "\n",
    "def cost_function(theta_1, x, y):\n",
    "    return np.sum((theta_1 * x - y)**2)/(2*len(x))\n",
    "\n",
    "x = np.arange(1, 4)\n",
    "y = x\n",
    "theta_1_arr = np.linspace(0, 2, 100)\n",
    "cost_arr = []\n",
    "for i in theta_1_arr:\n",
    "    cost_arr.append(cost_function(i, x, y))\n",
    "plt.plot(theta_1_arr, cost_arr, lw = 1)\n",
    "theta_1_arr = np.linspace(0.1, 1, 15)\n",
    "cost_arr = []\n",
    "for i in theta_1_arr:\n",
    "    cost_arr.append(cost_function(i, x, y))\n",
    "plt.plot(theta_1_arr, cost_arr, marker = '>', markersize = 10, color = 'r', lw = 0)\n",
    "plt.xlabel(\"$\\\\theta_1$\")\n",
    "plt.ylabel(\"$J(\\\\theta_1)$\")\n",
    "plt.xticks([]), plt.yticks([])\n",
    "plt.title(\"Optimal Gradient Descent\")"
   ]
  },
  {
   "cell_type": "code",
   "execution_count": 17,
   "metadata": {
    "slideshow": {
     "slide_type": "subslide"
    }
   },
   "outputs": [
    {
     "data": {
      "image/png": "[encoded data removed]",
      "text/plain": [
       "<matplotlib.figure.Figure at 0x113be5f98>"
      ]
     },
     "metadata": {},
     "output_type": "display_data"
    }
   ],
   "source": [
    "plt.show()"
   ]
  },
  {
   "cell_type": "code",
   "execution_count": 18,
   "metadata": {
    "slideshow": {
     "slide_type": "skip"
    }
   },
   "outputs": [
    {
     "data": {
      "text/plain": [
       "<matplotlib.text.Text at 0x11436f7f0>"
      ]
     },
     "execution_count": 18,
     "metadata": {},
     "output_type": "execute_result"
    }
   ],
   "source": [
    "import numpy as np\n",
    "import matplotlib.pyplot as plt\n",
    "\n",
    "def cost_function(theta_1, x, y):\n",
    "    return np.sum((theta_1 * x - y)**2)/(2*len(x))\n",
    "\n",
    "x = np.arange(1, 4)\n",
    "y = x\n",
    "theta_1_arr = np.linspace(0, 2, 100)\n",
    "cost_arr = []\n",
    "for i in theta_1_arr:\n",
    "    cost_arr.append(cost_function(i, x, y))\n",
    "plt.plot(theta_1_arr, cost_arr, lw = 1)\n",
    "theta_1_arr = np.linspace(0.05, 1, 50)\n",
    "cost_arr = []\n",
    "for i in theta_1_arr:\n",
    "    cost_arr.append(cost_function(i, x, y))\n",
    "plt.plot(theta_1_arr, cost_arr, marker = '>', markersize = 6, color = 'r')\n",
    "plt.xticks([]), plt.yticks([])\n",
    "plt.xlabel(\"Number of iterations\")\n",
    "plt.ylabel(\"$J(\\\\theta_1)$\")\n",
    "plt.title(\"$\\\\alpha$ is too small\")"
   ]
  },
  {
   "cell_type": "code",
   "execution_count": 19,
   "metadata": {
    "slideshow": {
     "slide_type": "subslide"
    }
   },
   "outputs": [
    {
     "data": {
      "image/png": "[encoded data removed]",
      "text/plain": [
       "<matplotlib.figure.Figure at 0x11306bcf8>"
      ]
     },
     "metadata": {},
     "output_type": "display_data"
    }
   ],
   "source": [
    "plt.show()"
   ]
  },
  {
   "cell_type": "code",
   "execution_count": 20,
   "metadata": {
    "slideshow": {
     "slide_type": "skip"
    }
   },
   "outputs": [
    {
     "data": {
      "text/plain": [
       "<matplotlib.text.Text at 0x1144080f0>"
      ]
     },
     "execution_count": 20,
     "metadata": {},
     "output_type": "execute_result"
    }
   ],
   "source": [
    "import numpy as np\n",
    "import matplotlib.pyplot as plt\n",
    "\n",
    "def cost_function(theta_1, x, y):\n",
    "    return np.sum((theta_1 * x - y)**2)/(2*len(x))\n",
    "\n",
    "x = np.arange(1, 4)\n",
    "y = x\n",
    "theta_1_arr = np.linspace(0, 2, 100)\n",
    "cost_arr = []\n",
    "for i in theta_1_arr:\n",
    "    cost_arr.append(cost_function(i, x, y))\n",
    "plt.plot(theta_1_arr, cost_arr, lw = 1)\n",
    "theta_1_arr = np.array((0.75, 1.5, 0.25, 1.8, 0.1))\n",
    "cost_arr = []\n",
    "for i in theta_1_arr:\n",
    "    cost_arr.append(cost_function(i, x, y))\n",
    "plt.plot(theta_1_arr, cost_arr, marker = '>', markersize = 10, color = 'r')\n",
    "plt.xlabel(\"$\\\\theta_1$\")\n",
    "plt.ylabel(\"$J(\\\\theta_1)$\")\n",
    "plt.xticks([]), plt.yticks([])\n",
    "plt.title(\"$\\\\alpha$ is too large\")"
   ]
  },
  {
   "cell_type": "code",
   "execution_count": 21,
   "metadata": {
    "slideshow": {
     "slide_type": "subslide"
    }
   },
   "outputs": [
    {
     "data": {
      "image/png": "[encoded data removed]",
      "text/plain": [
       "<matplotlib.figure.Figure at 0x112ecec50>"
      ]
     },
     "metadata": {},
     "output_type": "display_data"
    }
   ],
   "source": [
    "plt.show()"
   ]
  },
  {
   "cell_type": "markdown",
   "metadata": {
    "slideshow": {
     "slide_type": "subslide"
    }
   },
   "source": [
    "## 怎麼挑選學習速率\n",
    "\n",
    "- 如果學習速率夠小，成本函數每一次都會下降\n",
    "- 學習速率太小，收斂的速度太慢\n",
    "- 學習速率太大，可能會無法收斂"
   ]
  },
  {
   "cell_type": "code",
   "execution_count": 22,
   "metadata": {
    "collapsed": true,
    "slideshow": {
     "slide_type": "subslide"
    }
   },
   "outputs": [],
   "source": [
    "import numpy as np\n",
    "\n",
    "def compute_cost(X, y, thetas = np.array([0, 0]).reshape(2, 1)):\n",
    "    m = y.shape[0]\n",
    "    h = X.dot(thetas)\n",
    "    J = 1/(2*m)*np.sum(np.square(h-y))\n",
    "    \n",
    "    return(J)"
   ]
  },
  {
   "cell_type": "code",
   "execution_count": 23,
   "metadata": {
    "slideshow": {
     "slide_type": "subslide"
    }
   },
   "outputs": [
    {
     "data": {
      "text/plain": [
       "4.0"
      ]
     },
     "execution_count": 23,
     "metadata": {},
     "output_type": "execute_result"
    }
   ],
   "source": [
    "x_train = np.array([1, 2, 3])\n",
    "X_train = x_train.reshape(len(x_train), 1)\n",
    "y_train = np.array([2, 2, 4])\n",
    "y_train = y_train.reshape(len(y_train), 1)\n",
    "m = X_train.shape[0]\n",
    "ones_col = np.ones((m, 1))\n",
    "X_train = np.concatenate((ones_col, X_train), axis=1)\n",
    "\n",
    "compute_cost(X_train, y_train)"
   ]
  },
  {
   "cell_type": "code",
   "execution_count": 24,
   "metadata": {
    "collapsed": true,
    "slideshow": {
     "slide_type": "subslide"
    }
   },
   "outputs": [],
   "source": [
    "def gradient_descent(X, y, alpha=0.01, num_iters=1500):\n",
    "    thetas = np.array([0, 0]).reshape(2, 1)\n",
    "    m = y.shape[0]\n",
    "    J_history = np.zeros(num_iters)\n",
    "    \n",
    "    for num_iter in range(num_iters):\n",
    "        h = X.dot(thetas)\n",
    "        loss = h - y\n",
    "        gradient = X.T.dot(loss) / m\n",
    "        thetas = thetas - alpha * gradient\n",
    "        J_history[num_iter] = compute_cost(X, y, thetas=thetas)\n",
    "    return thetas, J_history"
   ]
  },
  {
   "cell_type": "code",
   "execution_count": 25,
   "metadata": {
    "slideshow": {
     "slide_type": "subslide"
    }
   },
   "outputs": [
    {
     "name": "stdout",
     "output_type": "stream",
     "text": [
      "讓成本函數最小的 Thetas\n",
      "Theta_0:0.6354, Theta_1:1.0138\n"
     ]
    },
    {
     "data": {
      "text/plain": [
       "<matplotlib.text.Text at 0x114360be0>"
      ]
     },
     "execution_count": 25,
     "metadata": {},
     "output_type": "execute_result"
    }
   ],
   "source": [
    "import numpy as np\n",
    "\n",
    "X_train = np.array([1, 2, 3])\n",
    "X_train = X_train.reshape(len(X_train), 1)\n",
    "m = X_train.shape[0]\n",
    "ones_col = np.ones((m, 1))\n",
    "X_train = np.concatenate((ones_col, X_train), axis=1)\n",
    "\n",
    "thetas , cost_J = gradient_descent(X_train, y_train)\n",
    "theta_0 = thetas[0, 0]\n",
    "theta_1 = thetas[1, 0]\n",
    "print(\"讓成本函數最小的 Thetas\")\n",
    "print(\"Theta_0:{:.4f}, Theta_1:{:.4f}\".format(theta_0, theta_1))\n",
    "plt.plot(cost_J)\n",
    "plt.ylabel(r\"$J(\\theta)$\")\n",
    "plt.xlabel('Iterations')"
   ]
  },
  {
   "cell_type": "code",
   "execution_count": 26,
   "metadata": {
    "slideshow": {
     "slide_type": "subslide"
    }
   },
   "outputs": [
    {
     "data": {
      "image/png": "[encoded data removed]",
      "text/plain": [
       "<matplotlib.figure.Figure at 0x1141342b0>"
      ]
     },
     "metadata": {},
     "output_type": "display_data"
    }
   ],
   "source": [
    "plt.show()"
   ]
  },
  {
   "cell_type": "markdown",
   "metadata": {
    "slideshow": {
     "slide_type": "subslide"
    }
   },
   "source": [
    "## Phew...\n",
    "\n",
    "- 總算完成了兩種找到 $\\theta$ 的方式！\n",
    "- 這是不能忽略的學習步驟，但並不是實作上要採用的"
   ]
  },
  {
   "cell_type": "markdown",
   "metadata": {
    "slideshow": {
     "slide_type": "slide"
    }
   },
   "source": [
    "## 有哪些模組可以幫我們找到 $\\theta$\n",
    "\n",
    "- [statsmodel](https://www.statsmodels.org/stable/index.html)\n",
    "- [scikit-learn](http://scikit-learn.org/stable/)\n",
    "- [TensorFlow](https://www.tensorflow.org/)"
   ]
  },
  {
   "cell_type": "markdown",
   "metadata": {
    "slideshow": {
     "slide_type": "subslide"
    }
   },
   "source": [
    "## statsmodel"
   ]
  },
  {
   "cell_type": "code",
   "execution_count": 27,
   "metadata": {
    "slideshow": {
     "slide_type": "subslide"
    }
   },
   "outputs": [
    {
     "name": "stdout",
     "output_type": "stream",
     "text": [
      "[[1. 1.]\n",
      " [1. 2.]\n",
      " [1. 3.]]\n",
      "[[2]\n",
      " [2]\n",
      " [4]]\n"
     ]
    }
   ],
   "source": [
    "print(X_train)\n",
    "print(y_train)"
   ]
  },
  {
   "cell_type": "code",
   "execution_count": 28,
   "metadata": {
    "slideshow": {
     "slide_type": "subslide"
    }
   },
   "outputs": [
    {
     "name": "stdout",
     "output_type": "stream",
     "text": [
      "Thetas from statsmodel:\n",
      "theta_0:0.6667, theta_1:1.0000\n"
     ]
    },
    {
     "name": "stderr",
     "output_type": "stream",
     "text": [
      "/Users/kuoyaojen/anaconda3/lib/python3.6/site-packages/statsmodels/compat/pandas.py:56: FutureWarning: The pandas.core.datetools module is deprecated and will be removed in a future version. Please use the pandas.tseries module instead.\n",
      "  from pandas.core import datetools\n"
     ]
    }
   ],
   "source": [
    "import statsmodels.api as sm\n",
    "\n",
    "regressor_sm = sm.OLS(y_train, X_train)\n",
    "thetas_sm = regressor_sm.fit()\n",
    "theta_0_sm = thetas_sm.params[0]\n",
    "theta_1_sm = thetas_sm.params[1]\n",
    "\n",
    "print(\"Thetas from statsmodel:\")\n",
    "print(\"theta_0:{:.4f}, theta_1:{:.4f}\".format(theta_0_sm, theta_1_sm))"
   ]
  },
  {
   "cell_type": "markdown",
   "metadata": {
    "slideshow": {
     "slide_type": "subslide"
    }
   },
   "source": [
    "## scikit-learn"
   ]
  },
  {
   "cell_type": "code",
   "execution_count": 29,
   "metadata": {
    "slideshow": {
     "slide_type": "subslide"
    }
   },
   "outputs": [
    {
     "name": "stdout",
     "output_type": "stream",
     "text": [
      "[[1. 1.]\n",
      " [1. 2.]\n",
      " [1. 3.]]\n",
      "[[2]\n",
      " [2]\n",
      " [4]]\n"
     ]
    }
   ],
   "source": [
    "print(X_train)\n",
    "print(y_train)"
   ]
  },
  {
   "cell_type": "code",
   "execution_count": 30,
   "metadata": {
    "slideshow": {
     "slide_type": "subslide"
    }
   },
   "outputs": [
    {
     "name": "stdout",
     "output_type": "stream",
     "text": [
      "Thetas from scikit-learn:\n",
      "theta_0:0.6667, theta_1:1.0000\n"
     ]
    }
   ],
   "source": [
    "from sklearn import linear_model\n",
    "\n",
    "regressor_skl = linear_model.LinearRegression()\n",
    "thetas_skl = regressor_skl.fit(X_train, y_train)\n",
    "theta_0_skl = thetas_skl.intercept_\n",
    "theta_1_skl = thetas_skl.coef_[0]\n",
    "\n",
    "print(\"Thetas from scikit-learn:\")\n",
    "print(\"theta_0:{:.4f}, theta_1:{:.4f}\".format(theta_0_skl[0], theta_1_skl[1]))"
   ]
  },
  {
   "cell_type": "markdown",
   "metadata": {
    "slideshow": {
     "slide_type": "subslide"
    }
   },
   "source": [
    "## TensorFlow"
   ]
  },
  {
   "cell_type": "code",
   "execution_count": 31,
   "metadata": {
    "collapsed": true,
    "slideshow": {
     "slide_type": "subslide"
    }
   },
   "outputs": [],
   "source": [
    "import tensorflow as tf\n",
    "import numpy as np\n",
    "\n",
    "data = np.array([\n",
    "    [1, 2],\n",
    "    [2, 2],\n",
    "    [3, 4]\n",
    "])\n",
    "X_train = tf.placeholder(tf.float32, name=\"X_train\")\n",
    "y_train = tf.placeholder(tf.float32, name=\"y_train\")\n",
    "theta_1 = tf.Variable(0.0, name=\"weights\")\n",
    "theta_0 = tf.Variable(0.0, name=\"bias\")\n",
    "y_hat = X_train * theta_1 + theta_0\n",
    "loss = tf.square(y_train - y_hat, name=\"loss\")\n",
    "optimizer = tf.train.GradientDescentOptimizer(learning_rate=0.01).minimize(loss)\n",
    "with tf.Session() as sess:\n",
    "    sess.run(tf.global_variables_initializer())\n",
    "    for i in range(1500):\n",
    "        for X, y in data:\n",
    "            sess.run(optimizer, feed_dict={X_train: X, y_train: y})\n",
    "    theta_1_tf, theta_0_tf = sess.run([theta_1, theta_0])"
   ]
  },
  {
   "cell_type": "code",
   "execution_count": 32,
   "metadata": {
    "slideshow": {
     "slide_type": "subslide"
    }
   },
   "outputs": [
    {
     "name": "stdout",
     "output_type": "stream",
     "text": [
      "Thetas from TensorFlow:\n",
      "theta_0:0.6127, theta_1:1.0352\n"
     ]
    }
   ],
   "source": [
    "print(\"Thetas from TensorFlow:\")\n",
    "print(\"theta_0:{:.4f}, theta_1:{:.4f}\".format(theta_0_tf, theta_1_tf))"
   ]
  },
  {
   "cell_type": "markdown",
   "metadata": {
    "slideshow": {
     "slide_type": "subslide"
    }
   },
   "source": [
    "## 我們建議使用 Scikit-Learn\n",
    "\n",
    "- 比 StatsModel 完整\n",
    "- TensorFlow 是自成一格的框架"
   ]
  },
  {
   "cell_type": "markdown",
   "metadata": {
    "slideshow": {
     "slide_type": "slide"
    }
   },
   "source": [
    "## 迴歸問題與房屋價格資料"
   ]
  },
  {
   "cell_type": "markdown",
   "metadata": {
    "slideshow": {
     "slide_type": "subslide"
    }
   },
   "source": [
    "## House Prices: Advanced Regression Techniques\n",
    "\n",
    "<https://www.kaggle.com/c/house-prices-advanced-regression-techniques>"
   ]
  },
  {
   "cell_type": "code",
   "execution_count": 33,
   "metadata": {
    "slideshow": {
     "slide_type": "subslide"
    }
   },
   "outputs": [
    {
     "name": "stdout",
     "output_type": "stream",
     "text": [
      "(1460, 81)\n",
      "(1459, 80)\n"
     ]
    }
   ],
   "source": [
    "import pandas as pd\n",
    "\n",
    "train_url = \"https://storage.googleapis.com/kaggle_datasets/House-Prices-Advanced-Regression-Techniques/train.csv\"\n",
    "test_url = \"https://storage.googleapis.com/kaggle_datasets/House-Prices-Advanced-Regression-Techniques/test.csv\"\n",
    "train = pd.read_csv(train_url)\n",
    "test = pd.read_csv(test_url)\n",
    "print(train.shape)\n",
    "print(test.shape)"
   ]
  },
  {
   "cell_type": "code",
   "execution_count": 34,
   "metadata": {
    "slideshow": {
     "slide_type": "subslide"
    }
   },
   "outputs": [
    {
     "data": {
      "text/html": [
       "<div>\n",
       "<style scoped>\n",
       "    .dataframe tbody tr th:only-of-type {\n",
       "        vertical-align: middle;\n",
       "    }\n",
       "\n",
       "    .dataframe tbody tr th {\n",
       "        vertical-align: top;\n",
       "    }\n",
       "\n",
       "    .dataframe thead th {\n",
       "        text-align: right;\n",
       "    }\n",
       "</style>\n",
       "<table border=\"1\" class=\"dataframe\">\n",
       "  <thead>\n",
       "    <tr style=\"text-align: right;\">\n",
       "      <th></th>\n",
       "      <th>Id</th>\n",
       "      <th>MSSubClass</th>\n",
       "      <th>MSZoning</th>\n",
       "      <th>LotFrontage</th>\n",
       "      <th>LotArea</th>\n",
       "      <th>Street</th>\n",
       "      <th>Alley</th>\n",
       "      <th>LotShape</th>\n",
       "      <th>LandContour</th>\n",
       "      <th>Utilities</th>\n",
       "      <th>...</th>\n",
       "      <th>PoolArea</th>\n",
       "      <th>PoolQC</th>\n",
       "      <th>Fence</th>\n",
       "      <th>MiscFeature</th>\n",
       "      <th>MiscVal</th>\n",
       "      <th>MoSold</th>\n",
       "      <th>YrSold</th>\n",
       "      <th>SaleType</th>\n",
       "      <th>SaleCondition</th>\n",
       "      <th>SalePrice</th>\n",
       "    </tr>\n",
       "  </thead>\n",
       "  <tbody>\n",
       "    <tr>\n",
       "      <th>0</th>\n",
       "      <td>1</td>\n",
       "      <td>60</td>\n",
       "      <td>RL</td>\n",
       "      <td>65.0</td>\n",
       "      <td>8450</td>\n",
       "      <td>Pave</td>\n",
       "      <td>NaN</td>\n",
       "      <td>Reg</td>\n",
       "      <td>Lvl</td>\n",
       "      <td>AllPub</td>\n",
       "      <td>...</td>\n",
       "      <td>0</td>\n",
       "      <td>NaN</td>\n",
       "      <td>NaN</td>\n",
       "      <td>NaN</td>\n",
       "      <td>0</td>\n",
       "      <td>2</td>\n",
       "      <td>2008</td>\n",
       "      <td>WD</td>\n",
       "      <td>Normal</td>\n",
       "      <td>208500</td>\n",
       "    </tr>\n",
       "    <tr>\n",
       "      <th>1</th>\n",
       "      <td>2</td>\n",
       "      <td>20</td>\n",
       "      <td>RL</td>\n",
       "      <td>80.0</td>\n",
       "      <td>9600</td>\n",
       "      <td>Pave</td>\n",
       "      <td>NaN</td>\n",
       "      <td>Reg</td>\n",
       "      <td>Lvl</td>\n",
       "      <td>AllPub</td>\n",
       "      <td>...</td>\n",
       "      <td>0</td>\n",
       "      <td>NaN</td>\n",
       "      <td>NaN</td>\n",
       "      <td>NaN</td>\n",
       "      <td>0</td>\n",
       "      <td>5</td>\n",
       "      <td>2007</td>\n",
       "      <td>WD</td>\n",
       "      <td>Normal</td>\n",
       "      <td>181500</td>\n",
       "    </tr>\n",
       "    <tr>\n",
       "      <th>2</th>\n",
       "      <td>3</td>\n",
       "      <td>60</td>\n",
       "      <td>RL</td>\n",
       "      <td>68.0</td>\n",
       "      <td>11250</td>\n",
       "      <td>Pave</td>\n",
       "      <td>NaN</td>\n",
       "      <td>IR1</td>\n",
       "      <td>Lvl</td>\n",
       "      <td>AllPub</td>\n",
       "      <td>...</td>\n",
       "      <td>0</td>\n",
       "      <td>NaN</td>\n",
       "      <td>NaN</td>\n",
       "      <td>NaN</td>\n",
       "      <td>0</td>\n",
       "      <td>9</td>\n",
       "      <td>2008</td>\n",
       "      <td>WD</td>\n",
       "      <td>Normal</td>\n",
       "      <td>223500</td>\n",
       "    </tr>\n",
       "    <tr>\n",
       "      <th>3</th>\n",
       "      <td>4</td>\n",
       "      <td>70</td>\n",
       "      <td>RL</td>\n",
       "      <td>60.0</td>\n",
       "      <td>9550</td>\n",
       "      <td>Pave</td>\n",
       "      <td>NaN</td>\n",
       "      <td>IR1</td>\n",
       "      <td>Lvl</td>\n",
       "      <td>AllPub</td>\n",
       "      <td>...</td>\n",
       "      <td>0</td>\n",
       "      <td>NaN</td>\n",
       "      <td>NaN</td>\n",
       "      <td>NaN</td>\n",
       "      <td>0</td>\n",
       "      <td>2</td>\n",
       "      <td>2006</td>\n",
       "      <td>WD</td>\n",
       "      <td>Abnorml</td>\n",
       "      <td>140000</td>\n",
       "    </tr>\n",
       "    <tr>\n",
       "      <th>4</th>\n",
       "      <td>5</td>\n",
       "      <td>60</td>\n",
       "      <td>RL</td>\n",
       "      <td>84.0</td>\n",
       "      <td>14260</td>\n",
       "      <td>Pave</td>\n",
       "      <td>NaN</td>\n",
       "      <td>IR1</td>\n",
       "      <td>Lvl</td>\n",
       "      <td>AllPub</td>\n",
       "      <td>...</td>\n",
       "      <td>0</td>\n",
       "      <td>NaN</td>\n",
       "      <td>NaN</td>\n",
       "      <td>NaN</td>\n",
       "      <td>0</td>\n",
       "      <td>12</td>\n",
       "      <td>2008</td>\n",
       "      <td>WD</td>\n",
       "      <td>Normal</td>\n",
       "      <td>250000</td>\n",
       "    </tr>\n",
       "  </tbody>\n",
       "</table>\n",
       "<p>5 rows × 81 columns</p>\n",
       "</div>"
      ],
      "text/plain": [
       "   Id  MSSubClass MSZoning  LotFrontage  LotArea Street Alley LotShape  \\\n",
       "0   1          60       RL         65.0     8450   Pave   NaN      Reg   \n",
       "1   2          20       RL         80.0     9600   Pave   NaN      Reg   \n",
       "2   3          60       RL         68.0    11250   Pave   NaN      IR1   \n",
       "3   4          70       RL         60.0     9550   Pave   NaN      IR1   \n",
       "4   5          60       RL         84.0    14260   Pave   NaN      IR1   \n",
       "\n",
       "  LandContour Utilities    ...     PoolArea PoolQC Fence MiscFeature MiscVal  \\\n",
       "0         Lvl    AllPub    ...            0    NaN   NaN         NaN       0   \n",
       "1         Lvl    AllPub    ...            0    NaN   NaN         NaN       0   \n",
       "2         Lvl    AllPub    ...            0    NaN   NaN         NaN       0   \n",
       "3         Lvl    AllPub    ...            0    NaN   NaN         NaN       0   \n",
       "4         Lvl    AllPub    ...            0    NaN   NaN         NaN       0   \n",
       "\n",
       "  MoSold YrSold  SaleType  SaleCondition  SalePrice  \n",
       "0      2   2008        WD         Normal     208500  \n",
       "1      5   2007        WD         Normal     181500  \n",
       "2      9   2008        WD         Normal     223500  \n",
       "3      2   2006        WD        Abnorml     140000  \n",
       "4     12   2008        WD         Normal     250000  \n",
       "\n",
       "[5 rows x 81 columns]"
      ]
     },
     "execution_count": 34,
     "metadata": {},
     "output_type": "execute_result"
    }
   ],
   "source": [
    "train.head()"
   ]
  },
  {
   "cell_type": "code",
   "execution_count": 35,
   "metadata": {
    "slideshow": {
     "slide_type": "subslide"
    }
   },
   "outputs": [
    {
     "data": {
      "text/html": [
       "<div>\n",
       "<style scoped>\n",
       "    .dataframe tbody tr th:only-of-type {\n",
       "        vertical-align: middle;\n",
       "    }\n",
       "\n",
       "    .dataframe tbody tr th {\n",
       "        vertical-align: top;\n",
       "    }\n",
       "\n",
       "    .dataframe thead th {\n",
       "        text-align: right;\n",
       "    }\n",
       "</style>\n",
       "<table border=\"1\" class=\"dataframe\">\n",
       "  <thead>\n",
       "    <tr style=\"text-align: right;\">\n",
       "      <th></th>\n",
       "      <th>Id</th>\n",
       "      <th>MSSubClass</th>\n",
       "      <th>MSZoning</th>\n",
       "      <th>LotFrontage</th>\n",
       "      <th>LotArea</th>\n",
       "      <th>Street</th>\n",
       "      <th>Alley</th>\n",
       "      <th>LotShape</th>\n",
       "      <th>LandContour</th>\n",
       "      <th>Utilities</th>\n",
       "      <th>...</th>\n",
       "      <th>ScreenPorch</th>\n",
       "      <th>PoolArea</th>\n",
       "      <th>PoolQC</th>\n",
       "      <th>Fence</th>\n",
       "      <th>MiscFeature</th>\n",
       "      <th>MiscVal</th>\n",
       "      <th>MoSold</th>\n",
       "      <th>YrSold</th>\n",
       "      <th>SaleType</th>\n",
       "      <th>SaleCondition</th>\n",
       "    </tr>\n",
       "  </thead>\n",
       "  <tbody>\n",
       "    <tr>\n",
       "      <th>0</th>\n",
       "      <td>1461</td>\n",
       "      <td>20</td>\n",
       "      <td>RH</td>\n",
       "      <td>80.0</td>\n",
       "      <td>11622</td>\n",
       "      <td>Pave</td>\n",
       "      <td>NaN</td>\n",
       "      <td>Reg</td>\n",
       "      <td>Lvl</td>\n",
       "      <td>AllPub</td>\n",
       "      <td>...</td>\n",
       "      <td>120</td>\n",
       "      <td>0</td>\n",
       "      <td>NaN</td>\n",
       "      <td>MnPrv</td>\n",
       "      <td>NaN</td>\n",
       "      <td>0</td>\n",
       "      <td>6</td>\n",
       "      <td>2010</td>\n",
       "      <td>WD</td>\n",
       "      <td>Normal</td>\n",
       "    </tr>\n",
       "    <tr>\n",
       "      <th>1</th>\n",
       "      <td>1462</td>\n",
       "      <td>20</td>\n",
       "      <td>RL</td>\n",
       "      <td>81.0</td>\n",
       "      <td>14267</td>\n",
       "      <td>Pave</td>\n",
       "      <td>NaN</td>\n",
       "      <td>IR1</td>\n",
       "      <td>Lvl</td>\n",
       "      <td>AllPub</td>\n",
       "      <td>...</td>\n",
       "      <td>0</td>\n",
       "      <td>0</td>\n",
       "      <td>NaN</td>\n",
       "      <td>NaN</td>\n",
       "      <td>Gar2</td>\n",
       "      <td>12500</td>\n",
       "      <td>6</td>\n",
       "      <td>2010</td>\n",
       "      <td>WD</td>\n",
       "      <td>Normal</td>\n",
       "    </tr>\n",
       "    <tr>\n",
       "      <th>2</th>\n",
       "      <td>1463</td>\n",
       "      <td>60</td>\n",
       "      <td>RL</td>\n",
       "      <td>74.0</td>\n",
       "      <td>13830</td>\n",
       "      <td>Pave</td>\n",
       "      <td>NaN</td>\n",
       "      <td>IR1</td>\n",
       "      <td>Lvl</td>\n",
       "      <td>AllPub</td>\n",
       "      <td>...</td>\n",
       "      <td>0</td>\n",
       "      <td>0</td>\n",
       "      <td>NaN</td>\n",
       "      <td>MnPrv</td>\n",
       "      <td>NaN</td>\n",
       "      <td>0</td>\n",
       "      <td>3</td>\n",
       "      <td>2010</td>\n",
       "      <td>WD</td>\n",
       "      <td>Normal</td>\n",
       "    </tr>\n",
       "    <tr>\n",
       "      <th>3</th>\n",
       "      <td>1464</td>\n",
       "      <td>60</td>\n",
       "      <td>RL</td>\n",
       "      <td>78.0</td>\n",
       "      <td>9978</td>\n",
       "      <td>Pave</td>\n",
       "      <td>NaN</td>\n",
       "      <td>IR1</td>\n",
       "      <td>Lvl</td>\n",
       "      <td>AllPub</td>\n",
       "      <td>...</td>\n",
       "      <td>0</td>\n",
       "      <td>0</td>\n",
       "      <td>NaN</td>\n",
       "      <td>NaN</td>\n",
       "      <td>NaN</td>\n",
       "      <td>0</td>\n",
       "      <td>6</td>\n",
       "      <td>2010</td>\n",
       "      <td>WD</td>\n",
       "      <td>Normal</td>\n",
       "    </tr>\n",
       "    <tr>\n",
       "      <th>4</th>\n",
       "      <td>1465</td>\n",
       "      <td>120</td>\n",
       "      <td>RL</td>\n",
       "      <td>43.0</td>\n",
       "      <td>5005</td>\n",
       "      <td>Pave</td>\n",
       "      <td>NaN</td>\n",
       "      <td>IR1</td>\n",
       "      <td>HLS</td>\n",
       "      <td>AllPub</td>\n",
       "      <td>...</td>\n",
       "      <td>144</td>\n",
       "      <td>0</td>\n",
       "      <td>NaN</td>\n",
       "      <td>NaN</td>\n",
       "      <td>NaN</td>\n",
       "      <td>0</td>\n",
       "      <td>1</td>\n",
       "      <td>2010</td>\n",
       "      <td>WD</td>\n",
       "      <td>Normal</td>\n",
       "    </tr>\n",
       "  </tbody>\n",
       "</table>\n",
       "<p>5 rows × 80 columns</p>\n",
       "</div>"
      ],
      "text/plain": [
       "     Id  MSSubClass MSZoning  LotFrontage  LotArea Street Alley LotShape  \\\n",
       "0  1461          20       RH         80.0    11622   Pave   NaN      Reg   \n",
       "1  1462          20       RL         81.0    14267   Pave   NaN      IR1   \n",
       "2  1463          60       RL         74.0    13830   Pave   NaN      IR1   \n",
       "3  1464          60       RL         78.0     9978   Pave   NaN      IR1   \n",
       "4  1465         120       RL         43.0     5005   Pave   NaN      IR1   \n",
       "\n",
       "  LandContour Utilities      ...       ScreenPorch PoolArea PoolQC  Fence  \\\n",
       "0         Lvl    AllPub      ...               120        0    NaN  MnPrv   \n",
       "1         Lvl    AllPub      ...                 0        0    NaN    NaN   \n",
       "2         Lvl    AllPub      ...                 0        0    NaN  MnPrv   \n",
       "3         Lvl    AllPub      ...                 0        0    NaN    NaN   \n",
       "4         HLS    AllPub      ...               144        0    NaN    NaN   \n",
       "\n",
       "  MiscFeature MiscVal MoSold  YrSold  SaleType  SaleCondition  \n",
       "0         NaN       0      6    2010        WD         Normal  \n",
       "1        Gar2   12500      6    2010        WD         Normal  \n",
       "2         NaN       0      3    2010        WD         Normal  \n",
       "3         NaN       0      6    2010        WD         Normal  \n",
       "4         NaN       0      1    2010        WD         Normal  \n",
       "\n",
       "[5 rows x 80 columns]"
      ]
     },
     "execution_count": 35,
     "metadata": {},
     "output_type": "execute_result"
    }
   ],
   "source": [
    "test.head()"
   ]
  },
  {
   "cell_type": "markdown",
   "metadata": {
    "slideshow": {
     "slide_type": "subslide"
    }
   },
   "source": [
    "## 什麼是訓練（train）樣本？\n",
    "\n",
    "- 訓練樣本用來建立 $h(x)$\n",
    "- 訓練樣本是 labeled data"
   ]
  },
  {
   "cell_type": "markdown",
   "metadata": {
    "slideshow": {
     "slide_type": "subslide"
    }
   },
   "source": [
    "## 什麼是驗證（validation）樣本？\n",
    "\n",
    "- 由訓練樣本中切割出來\n",
    "    - 通常分出 30% 作為驗證樣本\n",
    "- 驗證樣本投入 $h(x)$ 產出預測值 $\\hat{y}$\n",
    "- 比對驗證樣本的 $y$ 與 $\\hat{y}$ 來評估 $h(x)$ 的績效（performance）"
   ]
  },
  {
   "cell_type": "markdown",
   "metadata": {
    "slideshow": {
     "slide_type": "subslide"
    }
   },
   "source": [
    "## 什麼是測試（test）樣本？\n",
    "\n",
    "- 測試樣本是 unlabeled data\n",
    "- 將測試樣本投入 $h(x)$ 建立預測 $\\hat{y}$\n",
    "- 事後量測績效"
   ]
  },
  {
   "cell_type": "markdown",
   "metadata": {
    "slideshow": {
     "slide_type": "subslide"
    }
   },
   "source": [
    "## 挑一個變數來預測 SalePrice\n",
    "\n",
    "- 從 Correlation Matrix 中來找一個變數"
   ]
  },
  {
   "cell_type": "code",
   "execution_count": 36,
   "metadata": {},
   "outputs": [
    {
     "data": {
      "text/plain": [
       "SalePrice       1.000000\n",
       "OverallQual     0.790982\n",
       "GrLivArea       0.708624\n",
       "GarageCars      0.640409\n",
       "GarageArea      0.623431\n",
       "TotalBsmtSF     0.613581\n",
       "1stFlrSF        0.605852\n",
       "FullBath        0.560664\n",
       "TotRmsAbvGrd    0.533723\n",
       "YearBuilt       0.522897\n",
       "Name: SalePrice, dtype: float64"
      ]
     },
     "execution_count": 36,
     "metadata": {},
     "output_type": "execute_result"
    }
   ],
   "source": [
    "train.corr()[\"SalePrice\"].abs().sort_values(ascending=False)[:10]"
   ]
  },
  {
   "cell_type": "code",
   "execution_count": 37,
   "metadata": {
    "slideshow": {
     "slide_type": "subslide"
    }
   },
   "outputs": [
    {
     "data": {
      "text/plain": [
       "<matplotlib.axes._subplots.AxesSubplot at 0x128844470>"
      ]
     },
     "execution_count": 37,
     "metadata": {},
     "output_type": "execute_result"
    }
   ],
   "source": [
    "import matplotlib.pyplot as plt\n",
    "\n",
    "train.plot.scatter(\"GrLivArea\", \"SalePrice\", s=5)"
   ]
  },
  {
   "cell_type": "code",
   "execution_count": 38,
   "metadata": {
    "slideshow": {
     "slide_type": "subslide"
    }
   },
   "outputs": [
    {
     "data": {
      "image/png": "[encoded data removed]",
      "text/plain": [
       "<matplotlib.figure.Figure at 0x1131320f0>"
      ]
     },
     "metadata": {},
     "output_type": "display_data"
    }
   ],
   "source": [
    "plt.show()"
   ]
  },
  {
   "cell_type": "code",
   "execution_count": 39,
   "metadata": {
    "slideshow": {
     "slide_type": "subslide"
    }
   },
   "outputs": [
    {
     "name": "stdout",
     "output_type": "stream",
     "text": [
      "(1460, 81)\n",
      "(1022, 81)\n",
      "(438, 81)\n"
     ]
    }
   ],
   "source": [
    "# 切割訓練與驗證樣本\n",
    "from sklearn.model_selection import train_test_split\n",
    "\n",
    "train_df, validation_df = train_test_split(train, test_size=0.3, random_state=123)\n",
    "print(train.shape)\n",
    "print(train_df.shape)\n",
    "print(validation_df.shape)"
   ]
  },
  {
   "cell_type": "code",
   "execution_count": 40,
   "metadata": {
    "slideshow": {
     "slide_type": "subslide"
    }
   },
   "outputs": [
    {
     "name": "stdout",
     "output_type": "stream",
     "text": [
      "(1022, 1)\n",
      "(1022, 2)\n"
     ]
    }
   ],
   "source": [
    "import numpy as np\n",
    "\n",
    "# 訓練樣本\n",
    "y_train = train_df[\"SalePrice\"].values.reshape(train_df.shape[0], 1)\n",
    "X_train = train_df[\"GrLivArea\"].values.reshape(train_df.shape[0], 1)\n",
    "m = X_train.shape[0]\n",
    "ones_col = np.ones((m, 1))\n",
    "X_train = np.concatenate((ones_col, X_train), axis=1)\n",
    "print(y_train.shape)\n",
    "print(X_train.shape)"
   ]
  },
  {
   "cell_type": "code",
   "execution_count": 41,
   "metadata": {
    "slideshow": {
     "slide_type": "subslide"
    }
   },
   "outputs": [
    {
     "name": "stdout",
     "output_type": "stream",
     "text": [
      "(438, 1)\n",
      "(438, 2)\n"
     ]
    }
   ],
   "source": [
    "# 驗證樣本\n",
    "y_validation = validation_df[\"SalePrice\"].values.reshape(validation_df.shape[0], 1)\n",
    "X_validation = validation_df[\"GrLivArea\"].values.reshape(validation_df.shape[0], 1)\n",
    "m = X_validation.shape[0]\n",
    "ones_col = np.ones((m, 1))\n",
    "X_validation = np.concatenate((ones_col, X_validation), axis=1)\n",
    "print(y_validation.shape)\n",
    "print(X_validation.shape)"
   ]
  },
  {
   "cell_type": "markdown",
   "metadata": {
    "slideshow": {
     "slide_type": "subslide"
    }
   },
   "source": [
    "## 隨堂練習：自己來切割訓練、驗證樣本\n",
    "\n",
    "- Random seed\n",
    "- Shuffle\n",
    "- Subset\n",
    "\n",
    "```python\n",
    "def my_train_test_split(train, test_size=0.3, random_state=123)\n",
    "    # ...\n",
    "```"
   ]
  },
  {
   "cell_type": "code",
   "execution_count": 42,
   "metadata": {
    "slideshow": {
     "slide_type": "subslide"
    }
   },
   "outputs": [
    {
     "name": "stdout",
     "output_type": "stream",
     "text": [
      "Thetas from sklearn:\n",
      "theta_0: 21905.1315\n",
      "theta_1: 104.0985\n"
     ]
    }
   ],
   "source": [
    "# sklearn\n",
    "from sklearn import linear_model\n",
    "\n",
    "regressor_skl = linear_model.LinearRegression()\n",
    "regressor_skl.fit(X_train, y_train)\n",
    "theta_0_skl = regressor_skl.intercept_[0]\n",
    "theta_1_skl = regressor_skl.coef_[0][1]\n",
    "print('Thetas from sklearn:\\ntheta_0: {:.4f}\\ntheta_1: {:.4f}'.format(theta_0_skl, theta_1_skl))"
   ]
  },
  {
   "cell_type": "code",
   "execution_count": 43,
   "metadata": {
    "slideshow": {
     "slide_type": "subslide"
    }
   },
   "outputs": [
    {
     "data": {
      "text/plain": [
       "<matplotlib.text.Text at 0x11cd81400>"
      ]
     },
     "execution_count": 43,
     "metadata": {},
     "output_type": "execute_result"
    }
   ],
   "source": [
    "import matplotlib.pyplot as plt\n",
    "\n",
    "y_hat = regressor_skl.predict(X_validation)\n",
    "plt.scatter(X_validation[:, 1], y_validation, color=\"black\", s=5)\n",
    "plt.plot(X_validation[:, 1], y_hat, color=\"blue\")\n",
    "plt.xlabel('GrLivArea')\n",
    "plt.ylabel('SalePrice')"
   ]
  },
  {
   "cell_type": "code",
   "execution_count": 44,
   "metadata": {
    "slideshow": {
     "slide_type": "subslide"
    }
   },
   "outputs": [
    {
     "data": {
      "image/png": "[encoded data removed]",
      "text/plain": [
       "<matplotlib.figure.Figure at 0x12881fb70>"
      ]
     },
     "metadata": {},
     "output_type": "display_data"
    }
   ],
   "source": [
    "plt.show()"
   ]
  },
  {
   "cell_type": "markdown",
   "metadata": {
    "slideshow": {
     "slide_type": "subslide"
    }
   },
   "source": [
    "## 評估迴歸模型的指標\n",
    "\n",
    "- MSE（愈低愈好）\n",
    "\n",
    "$$MSE = \\frac{1}{N}\\sum_{i=1}^N(\\hat{y_i} - y_i) ^ 2$$"
   ]
  },
  {
   "cell_type": "code",
   "execution_count": 45,
   "metadata": {
    "slideshow": {
     "slide_type": "subslide"
    }
   },
   "outputs": [
    {
     "name": "stdout",
     "output_type": "stream",
     "text": [
      "Computation:\n",
      "Training MSE: 3402166887.1990\n",
      "Validation MSE: 2541490406.3163\n",
      "\n",
      "From sklearn.metrics:\n",
      "Training MSE: 3402166887.1990\n",
      "Validation MSE: 2541490406.3163\n"
     ]
    }
   ],
   "source": [
    "from sklearn.metrics import mean_squared_error\n",
    "\n",
    "train_MSE= np.mean((y_train - regressor_skl.predict(X_train))**2)\n",
    "validation_MSE= np.mean((y_validation - regressor_skl.predict(X_validation))**2)\n",
    "print(\"Computation:\")\n",
    "print(\"Training MSE: {:.4f}\".format(train_MSE))\n",
    "print(\"Validation MSE: {:.4f}\".format(validation_MSE))\n",
    "\n",
    "# sklearn.metrics\n",
    "print(\"\\nFrom sklearn.metrics:\")\n",
    "print(\"Training MSE: {:.4f}\".format(mean_squared_error(y_train, regressor_skl.predict(X_train))))\n",
    "print(\"Validation MSE: {:.4f}\".format(mean_squared_error(y_validation, regressor_skl.predict(X_validation))))"
   ]
  },
  {
   "cell_type": "markdown",
   "metadata": {
    "slideshow": {
     "slide_type": "subslide"
    }
   },
   "source": [
    "## 隨堂練習：挑兩個變數來預測 SalePrice\n",
    "\n",
    "- 試試看 `GrLivArea` 與 `GarageArea`"
   ]
  },
  {
   "cell_type": "code",
   "execution_count": 46,
   "metadata": {
    "slideshow": {
     "slide_type": "skip"
    }
   },
   "outputs": [
    {
     "data": {
      "text/plain": [
       "<matplotlib.axes._subplots.AxesSubplot at 0x11cd85320>"
      ]
     },
     "execution_count": 46,
     "metadata": {},
     "output_type": "execute_result"
    }
   ],
   "source": [
    "import matplotlib.pyplot as plt\n",
    "\n",
    "train.plot.scatter(\"GarageArea\", \"SalePrice\", s=5)"
   ]
  },
  {
   "cell_type": "code",
   "execution_count": 47,
   "metadata": {},
   "outputs": [
    {
     "data": {
      "image/png": "[encoded data removed]",
      "text/plain": [
       "<matplotlib.figure.Figure at 0x11cd8c1d0>"
      ]
     },
     "metadata": {},
     "output_type": "display_data"
    }
   ],
   "source": [
    "plt.show()"
   ]
  },
  {
   "cell_type": "code",
   "execution_count": 48,
   "metadata": {
    "slideshow": {
     "slide_type": "skip"
    }
   },
   "outputs": [
    {
     "name": "stdout",
     "output_type": "stream",
     "text": [
      "(1022, 1)\n",
      "(1022, 3)\n"
     ]
    }
   ],
   "source": [
    "# 訓練樣本\n",
    "y_train = train_df[\"SalePrice\"].values.reshape(train_df.shape[0], 1)\n",
    "X_train = train_df[[\"GrLivArea\", \"GarageArea\"]].values.reshape(train_df.shape[0], 2)\n",
    "m = X_train.shape[0]\n",
    "ones_col = np.ones((m, 1))\n",
    "X_train = np.concatenate((ones_col, X_train), axis=1)\n",
    "print(y_train.shape)\n",
    "print(X_train.shape)"
   ]
  },
  {
   "cell_type": "code",
   "execution_count": 49,
   "metadata": {
    "slideshow": {
     "slide_type": "skip"
    }
   },
   "outputs": [
    {
     "name": "stdout",
     "output_type": "stream",
     "text": [
      "(438, 1)\n",
      "(438, 3)\n"
     ]
    }
   ],
   "source": [
    "# 驗證樣本\n",
    "y_validation = validation_df[\"SalePrice\"].values.reshape(validation_df.shape[0], 1)\n",
    "X_validation = validation_df[[\"GrLivArea\", \"GarageArea\"]].values.reshape(validation_df.shape[0], 2)\n",
    "m = X_validation.shape[0]\n",
    "ones_col = np.ones((m, 1))\n",
    "X_validation = np.concatenate((ones_col, X_validation), axis=1)\n",
    "print(y_validation.shape)\n",
    "print(X_validation.shape)"
   ]
  },
  {
   "cell_type": "code",
   "execution_count": 50,
   "metadata": {
    "collapsed": true,
    "slideshow": {
     "slide_type": "skip"
    }
   },
   "outputs": [],
   "source": [
    "# sklearn\n",
    "from sklearn import linear_model\n",
    "\n",
    "regressor_skl = linear_model.LinearRegression()\n",
    "regressor_skl.fit(X_train, y_train)\n",
    "theta_0_skl = regressor_skl.intercept_[0]\n",
    "theta_1_skl = regressor_skl.coef_[0][1]\n",
    "theta_2_skl = regressor_skl.coef_[0][2]"
   ]
  },
  {
   "cell_type": "code",
   "execution_count": 51,
   "metadata": {
    "slideshow": {
     "slide_type": "subslide"
    }
   },
   "outputs": [
    {
     "name": "stdout",
     "output_type": "stream",
     "text": [
      "Thetas from sklearn:\n",
      "theta_0: -4600.3771\n",
      "theta_1: 77.7825\n",
      "theta_2: 142.7484\n"
     ]
    }
   ],
   "source": [
    "print('Thetas from sklearn:\\ntheta_0: {:.4f}\\ntheta_1: {:.4f}\\ntheta_2: {:.4f}'.format(theta_0_skl, theta_1_skl, theta_2_skl))"
   ]
  },
  {
   "cell_type": "code",
   "execution_count": 52,
   "metadata": {
    "collapsed": true,
    "slideshow": {
     "slide_type": "skip"
    }
   },
   "outputs": [],
   "source": [
    "from sklearn.metrics import mean_squared_error\n",
    "\n",
    "train_MSE= np.mean((y_train - regressor_skl.predict(X_train))**2)\n",
    "validation_MSE= np.mean((y_validation - regressor_skl.predict(X_validation))**2)"
   ]
  },
  {
   "cell_type": "code",
   "execution_count": 53,
   "metadata": {
    "slideshow": {
     "slide_type": "subslide"
    }
   },
   "outputs": [
    {
     "name": "stdout",
     "output_type": "stream",
     "text": [
      "Computation:\n",
      "Training MSE: 2682062423.1890\n",
      "Validation MSE: 1930533819.9319\n",
      "\n",
      "From sklearn.metrics:\n",
      "Training MSE: 2682062423.1890\n",
      "Validation MSE: 1930533819.9319\n"
     ]
    }
   ],
   "source": [
    "print(\"Computation:\")\n",
    "print(\"Training MSE: {:.4f}\".format(train_MSE))\n",
    "print(\"Validation MSE: {:.4f}\".format(validation_MSE))\n",
    "\n",
    "# sklearn.metrics\n",
    "print(\"\\nFrom sklearn.metrics:\")\n",
    "print(\"Training MSE: {:.4f}\".format(mean_squared_error(y_train, regressor_skl.predict(X_train))))\n",
    "print(\"Validation MSE: {:.4f}\".format(mean_squared_error(y_validation, regressor_skl.predict(X_validation))))"
   ]
  },
  {
   "cell_type": "markdown",
   "metadata": {
    "slideshow": {
     "slide_type": "slide"
    }
   },
   "source": [
    "## 使用有 d 次項的 X 來建立 h"
   ]
  },
  {
   "cell_type": "code",
   "execution_count": 54,
   "metadata": {
    "slideshow": {
     "slide_type": "subslide"
    }
   },
   "outputs": [
    {
     "data": {
      "text/plain": [
       "<matplotlib.axes._subplots.AxesSubplot at 0x11cd22b00>"
      ]
     },
     "execution_count": 54,
     "metadata": {},
     "output_type": "execute_result"
    }
   ],
   "source": [
    "import matplotlib.pyplot as plt\n",
    "\n",
    "train.plot.scatter(\"YearBuilt\", \"SalePrice\", s=5)"
   ]
  },
  {
   "cell_type": "code",
   "execution_count": 55,
   "metadata": {},
   "outputs": [
    {
     "data": {
      "image/png": "[encoded data removed]",
      "text/plain": [
       "<matplotlib.figure.Figure at 0x11cf8bd68>"
      ]
     },
     "metadata": {},
     "output_type": "display_data"
    }
   ],
   "source": [
    "plt.show()"
   ]
  },
  {
   "cell_type": "markdown",
   "metadata": {
    "slideshow": {
     "slide_type": "subslide"
    }
   },
   "source": [
    "$$ y_i = \\theta_0 + \\theta_1 x_i + \\theta_2 x_i^2 + ... + \\theta_d x_i^d $$"
   ]
  },
  {
   "cell_type": "code",
   "execution_count": 56,
   "metadata": {
    "slideshow": {
     "slide_type": "subslide"
    }
   },
   "outputs": [
    {
     "name": "stdout",
     "output_type": "stream",
     "text": [
      "(1022, 1)\n",
      "(1022, 1)\n"
     ]
    }
   ],
   "source": [
    "# 訓練樣本\n",
    "y_train = train_df[\"SalePrice\"].values.reshape(-1, 1)\n",
    "X_train = train_df[\"YearBuilt\"].values.reshape(-1, 1)\n",
    "print(y_train.shape)\n",
    "print(X_train.shape)"
   ]
  },
  {
   "cell_type": "code",
   "execution_count": 57,
   "metadata": {
    "slideshow": {
     "slide_type": "subslide"
    }
   },
   "outputs": [
    {
     "name": "stdout",
     "output_type": "stream",
     "text": [
      "(438, 1)\n",
      "(438, 1)\n"
     ]
    }
   ],
   "source": [
    "# 驗證樣本\n",
    "y_validation = validation_df[\"SalePrice\"].values.reshape(-1, 1)\n",
    "X_validation = validation_df[\"YearBuilt\"].values.reshape(-1, 1)\n",
    "print(y_validation.shape)\n",
    "print(X_validation.shape)"
   ]
  },
  {
   "cell_type": "markdown",
   "metadata": {
    "slideshow": {
     "slide_type": "subslide"
    }
   },
   "source": [
    "## 使用 `PolynomialFeatures(d)` 與 `fit_transform()` 建立 X"
   ]
  },
  {
   "cell_type": "code",
   "execution_count": 58,
   "metadata": {},
   "outputs": [
    {
     "data": {
      "text/plain": [
       "array([1.00000000e+00, 1.99600000e+03, 3.98401600e+06, 7.95209594e+09])"
      ]
     },
     "execution_count": 58,
     "metadata": {},
     "output_type": "execute_result"
    }
   ],
   "source": [
    "from sklearn.preprocessing import PolynomialFeatures\n",
    "\n",
    "PolynomialFeatures(3).fit_transform(X_train)[0, :]"
   ]
  },
  {
   "cell_type": "code",
   "execution_count": 59,
   "metadata": {},
   "outputs": [
    {
     "data": {
      "text/plain": [
       "array([1996])"
      ]
     },
     "execution_count": 59,
     "metadata": {},
     "output_type": "execute_result"
    }
   ],
   "source": [
    "X_train[0, :]"
   ]
  },
  {
   "cell_type": "code",
   "execution_count": 60,
   "metadata": {
    "collapsed": true,
    "slideshow": {
     "slide_type": "subslide"
    }
   },
   "outputs": [],
   "source": [
    "def make_features(train_set, validation_set, degrees):\n",
    "    train_dict = {}\n",
    "    validation_dict = {}\n",
    "    for d in degrees:\n",
    "        train_dict[d] = PolynomialFeatures(d).fit_transform(train_set.reshape(-1, 1))\n",
    "        validation_dict[d] = PolynomialFeatures(d).fit_transform(validation_set.reshape(-1, 1))\n",
    "    return train_dict, validation_dict"
   ]
  },
  {
   "cell_type": "code",
   "execution_count": 61,
   "metadata": {
    "collapsed": true,
    "slideshow": {
     "slide_type": "subslide"
    }
   },
   "outputs": [],
   "source": [
    "degrees = range(11)\n",
    "train_dict, validation_dict = make_features(X_train, X_validation, degrees)"
   ]
  },
  {
   "cell_type": "markdown",
   "metadata": {
    "slideshow": {
     "slide_type": "subslide"
    }
   },
   "source": [
    "## 隨堂練習：將不同次方項的 validation error(MSE) 算出來，並找出 error 最小的次方\n",
    "\n",
    "```python\n",
    "def get_best_degree():\n",
    "    error_train = np.empty(len(degrees))\n",
    "    error_validation = np.empty(len(degrees))\n",
    "    # ...\n",
    "```"
   ]
  },
  {
   "cell_type": "code",
   "execution_count": 62,
   "metadata": {
    "collapsed": true,
    "slideshow": {
     "slide_type": "skip"
    }
   },
   "outputs": [],
   "source": [
    "def get_best_degree():\n",
    "    error_train = np.empty(len(degrees))\n",
    "    error_validation = np.empty(len(degrees))\n",
    "    for d in degrees:\n",
    "        X_train = train_dict[d]\n",
    "        X_validation = validation_dict[d]\n",
    "        #set up model\n",
    "        regressor = linear_model.LinearRegression()\n",
    "        #fit\n",
    "        regressor.fit(X_train, y_train)\n",
    "        #predict\n",
    "        #your code here\n",
    "        prediction_on_training = regressor.predict(X_train)\n",
    "        prediction_on_validation = regressor.predict(X_validation)\n",
    "        #calculate mean squared error\n",
    "        error_train[d] = mean_squared_error(y_train, prediction_on_training)\n",
    "        error_validation[d] = mean_squared_error(y_validation, prediction_on_validation)\n",
    "    return np.argmin(error_validation), error_validation, error_train"
   ]
  },
  {
   "cell_type": "code",
   "execution_count": 63,
   "metadata": {
    "slideshow": {
     "slide_type": "subslide"
    }
   },
   "outputs": [
    {
     "name": "stdout",
     "output_type": "stream",
     "text": [
      "Validation Error:\n",
      "\n",
      "[5.74773085e+09 4.22306392e+09 3.76996972e+09 3.81499577e+09\n",
      " 3.81482104e+09 3.81463312e+09 3.81443382e+09 3.81422447e+09\n",
      " 3.81400642e+09 3.81378108e+09 3.81354988e+09]\n",
      "\n",
      "Error 最低的次方是 2\n"
     ]
    }
   ],
   "source": [
    "best_degree, error_validation, error_train = get_best_degree()\n",
    "\n",
    "print(\"Validation Error:\\n\")\n",
    "print(error_validation)\n",
    "print(\"\\nError 最低的次方是 {}\".format(best_degree))"
   ]
  },
  {
   "cell_type": "code",
   "execution_count": 64,
   "metadata": {
    "collapsed": true,
    "slideshow": {
     "slide_type": "subslide"
    }
   },
   "outputs": [],
   "source": [
    "plt.plot(degrees, error_train, marker='o', label='train')\n",
    "plt.plot(degrees, error_validation, marker='o', label='validation')\n",
    "plt.axvline(best_degree, 0, 0.5, color='r', label=\"Minimum validation error at d={}\".format(best_degree), alpha=0.3)\n",
    "plt.ylabel('MSE')\n",
    "plt.xlabel('degree')\n",
    "plt.legend(loc='upper right')\n",
    "plt.yscale(\"log\")"
   ]
  },
  {
   "cell_type": "code",
   "execution_count": 65,
   "metadata": {
    "slideshow": {
     "slide_type": "subslide"
    }
   },
   "outputs": [
    {
     "data": {
      "image/png": "[encoded data removed]",
      "text/plain": [
       "<matplotlib.figure.Figure at 0x1297f10f0>"
      ]
     },
     "metadata": {},
     "output_type": "display_data"
    }
   ],
   "source": [
    "plt.show()"
   ]
  },
  {
   "cell_type": "code",
   "execution_count": 66,
   "metadata": {
    "collapsed": true,
    "slideshow": {
     "slide_type": "subslide"
    }
   },
   "outputs": [],
   "source": [
    "def get_plot():\n",
    "    d = 2\n",
    "    X_train = train_dict[d]\n",
    "    X_validation = validation_dict[d]\n",
    "    regressor = linear_model.LinearRegression()\n",
    "    # fitting\n",
    "    regressor.fit(X_train, y_train)\n",
    "    prediction_on_training = regressor.predict(X_train)\n",
    "    prediction_on_validation = regressor.predict(X_validation)\n",
    "    x_arr = np.linspace(train[\"YearBuilt\"].min(), train[\"YearBuilt\"].max(), num=1000)\n",
    "    x_arr_poly = PolynomialFeatures(d).fit_transform(x_arr.reshape(-1, 1))\n",
    "    y_arr = regressor.predict(x_arr_poly)\n",
    "    # plotting\n",
    "    plt.scatter(train[\"YearBuilt\"], train[\"SalePrice\"], s=5)\n",
    "    plt.plot(x_arr, y_arr, 'r-', alpha=0.5, label = \"Fit\", linewidth=4)\n",
    "    plt.xlabel('$YearBuilt$');\n",
    "    plt.ylabel('$SalePrice$')\n",
    "    plt.legend(loc=\"upper left\")\n",
    "    plt.show()"
   ]
  },
  {
   "cell_type": "code",
   "execution_count": 67,
   "metadata": {
    "slideshow": {
     "slide_type": "subslide"
    }
   },
   "outputs": [
    {
     "data": {
      "image/png": "[encoded data removed]",
      "text/plain": [
       "<matplotlib.figure.Figure at 0x129966a20>"
      ]
     },
     "metadata": {},
     "output_type": "display_data"
    }
   ],
   "source": [
    "get_plot()"
   ]
  },
  {
   "cell_type": "markdown",
   "metadata": {
    "slideshow": {
     "slide_type": "subslide"
    }
   },
   "source": [
    "## 隨堂練習：在上圖加入 d=1 與 d=3 的線"
   ]
  },
  {
   "cell_type": "code",
   "execution_count": 68,
   "metadata": {
    "collapsed": true,
    "slideshow": {
     "slide_type": "skip"
    }
   },
   "outputs": [],
   "source": [
    "def get_plot():\n",
    "    y_arrays = []\n",
    "    for d in [1, 2, 3]:\n",
    "        X_train = train_dict[d]\n",
    "        X_validation = validation_dict[d]\n",
    "        regressor = linear_model.LinearRegression()\n",
    "        #fit\n",
    "        regressor.fit(X_train, y_train)\n",
    "        prediction_on_training = regressor.predict(X_train)\n",
    "        prediction_on_validation = regressor.predict(X_validation)\n",
    "        x_arr = np.linspace(train[\"YearBuilt\"].min(), train[\"YearBuilt\"].max(), num=1000)\n",
    "        x_arr_poly = PolynomialFeatures(d).fit_transform(x_arr.reshape(-1, 1))\n",
    "        y_arr = regressor.predict(x_arr_poly)\n",
    "        y_arrays.append(y_arr)\n",
    "    plt.scatter(train[\"YearBuilt\"], train[\"SalePrice\"], s=5)\n",
    "    plt.plot(x_arr, y_arrays[0], 'r-', alpha=0.5, label = \"Degree={}\".format(1), linewidth=3)\n",
    "    plt.plot(x_arr, y_arrays[1], 'g-', alpha=0.5, label = \"Degree={}\".format(2), linewidth=3)\n",
    "    plt.plot(x_arr, y_arrays[2], 'm-', alpha=0.5, label = \"Degree={}\".format(3), linewidth=3)\n",
    "    plt.xlabel('$YearBuilt$');\n",
    "    plt.ylabel('$SalePrice$')\n",
    "    plt.legend(loc=\"upper left\")\n",
    "    plt.show()"
   ]
  },
  {
   "cell_type": "code",
   "execution_count": 69,
   "metadata": {},
   "outputs": [
    {
     "data": {
      "image/png": "[encoded data removed]",
      "text/plain": [
       "<matplotlib.figure.Figure at 0x129b9f048>"
      ]
     },
     "metadata": {},
     "output_type": "display_data"
    }
   ],
   "source": [
    "get_plot()"
   ]
  },
  {
   "cell_type": "markdown",
   "metadata": {
    "slideshow": {
     "slide_type": "subslide"
    }
   },
   "source": [
    "## 在不設定 `random_state` 參數的情況下切割訓練與驗證樣本"
   ]
  },
  {
   "cell_type": "code",
   "execution_count": 70,
   "metadata": {
    "slideshow": {
     "slide_type": "subslide"
    }
   },
   "outputs": [
    {
     "name": "stdout",
     "output_type": "stream",
     "text": [
      "Validation Error:\n",
      "\n",
      "[6.46959073e+09 5.18261201e+09 4.38988209e+09 4.37972391e+09\n",
      " 4.37956786e+09 4.37942674e+09 4.37930020e+09 4.37918802e+09\n",
      " 4.37909006e+09 4.37900622e+09 4.37893642e+09]\n",
      "\n",
      "Error 最低的次方是 10\n"
     ]
    }
   ],
   "source": [
    "# 切割訓練與驗證樣本\n",
    "train_df, validation_df = train_test_split(train, test_size=0.3)\n",
    "y_train = train_df[\"SalePrice\"].values.reshape(-1, 1)\n",
    "X_train = train_df[\"YearBuilt\"].values.reshape(-1, 1)\n",
    "y_validation = validation_df[\"SalePrice\"].values.reshape(-1, 1)\n",
    "X_validation = validation_df[\"YearBuilt\"].values.reshape(-1, 1)\n",
    "\n",
    "PolynomialFeatures(3).fit_transform(X_train)\n",
    "degrees = range(11)\n",
    "train_dict, validation_dict = make_features(X_train, X_validation, degrees)\n",
    "\n",
    "best_degree, error_validation, error_train = get_best_degree()\n",
    "\n",
    "print(\"Validation Error:\\n\")\n",
    "print(error_validation)\n",
    "print(\"\\nError 最低的次方是 {}\".format(best_degree))"
   ]
  },
  {
   "cell_type": "code",
   "execution_count": 71,
   "metadata": {
    "collapsed": true,
    "slideshow": {
     "slide_type": "subslide"
    }
   },
   "outputs": [],
   "source": [
    "plt.plot(degrees, error_train, marker='o', label='train')\n",
    "plt.plot(degrees, error_validation, marker='o', label='validation')\n",
    "plt.axvline(best_degree, 0, 0.5, color='r', label=\"Minimum validation error at d={}\".format(best_degree), alpha=0.3)\n",
    "plt.ylabel('MSE')\n",
    "plt.xlabel('degree')\n",
    "plt.legend(loc='upper right')\n",
    "plt.yscale(\"log\")"
   ]
  },
  {
   "cell_type": "code",
   "execution_count": 72,
   "metadata": {
    "slideshow": {
     "slide_type": "subslide"
    }
   },
   "outputs": [
    {
     "data": {
      "image/png": "[encoded data removed]",
      "text/plain": [
       "<matplotlib.figure.Figure at 0x129e63588>"
      ]
     },
     "metadata": {},
     "output_type": "display_data"
    }
   ],
   "source": [
    "plt.show()"
   ]
  },
  {
   "cell_type": "markdown",
   "metadata": {
    "slideshow": {
     "slide_type": "subslide"
    }
   },
   "source": [
    "## 重複執行前面的程式碼\n",
    "\n",
    "- 發現驗證資料的 error_validation 與 best_degree 每次都不一樣，這是什麼緣故？"
   ]
  },
  {
   "cell_type": "markdown",
   "metadata": {
    "slideshow": {
     "slide_type": "slide"
    }
   },
   "source": [
    "## 交叉驗證 Cross-Validation"
   ]
  },
  {
   "cell_type": "markdown",
   "metadata": {
    "slideshow": {
     "slide_type": "subslide"
    }
   },
   "source": [
    "## 隨機的 `train_test_split()`\n",
    "\n",
    "- 憑藉單次隨機給予模型的訓練、驗證樣本就決定 best_degree 與 MSE 有些大意\n",
    "- 我們需要一個機制來因應這樣的隨機性"
   ]
  },
  {
   "cell_type": "markdown",
   "metadata": {
    "slideshow": {
     "slide_type": "subslide"
    }
   },
   "source": [
    "## 交叉驗證示意圖\n",
    "\n",
    "![](images/train-cv2.png)\n",
    "\n",
    "Source: [CS109 Data Science](http://cs109.github.io/2015/index.html)"
   ]
  },
  {
   "cell_type": "markdown",
   "metadata": {
    "slideshow": {
     "slide_type": "subslide"
    }
   },
   "source": [
    "## 交叉驗證的步驟\n",
    "\n",
    "1. 將 labeled data 切分為 `n_folds`\n",
    "2. 將 `n_folds - 1` 作為訓練樣本，剩餘的一個 fold 作為驗證樣本\n",
    "3. 將所有 folds 組合下的 MSE 平均\n",
    "4. 移動至下一個 degree 然後進行第 3 項\n",
    "5. 尋找 MSE 平均起來最低的 $d$ 作為 best_degree"
   ]
  },
  {
   "cell_type": "code",
   "execution_count": 73,
   "metadata": {
    "collapsed": true,
    "slideshow": {
     "slide_type": "subslide"
    }
   },
   "outputs": [],
   "source": [
    "from sklearn.model_selection import KFold\n",
    "\n",
    "n_folds = 4\n",
    "labeled_data_m = train.shape[0]\n",
    "kfold = KFold(n_folds)"
   ]
  },
  {
   "cell_type": "code",
   "execution_count": 74,
   "metadata": {
    "slideshow": {
     "slide_type": "subslide"
    }
   },
   "outputs": [
    {
     "data": {
      "text/plain": [
       "(array([ 365,  366,  367, ..., 1457, 1458, 1459]),\n",
       " array([  0,   1,   2,   3,   4,   5,   6,   7,   8,   9,  10,  11,  12,\n",
       "         13,  14,  15,  16,  17,  18,  19,  20,  21,  22,  23,  24,  25,\n",
       "         26,  27,  28,  29,  30,  31,  32,  33,  34,  35,  36,  37,  38,\n",
       "         39,  40,  41,  42,  43,  44,  45,  46,  47,  48,  49,  50,  51,\n",
       "         52,  53,  54,  55,  56,  57,  58,  59,  60,  61,  62,  63,  64,\n",
       "         65,  66,  67,  68,  69,  70,  71,  72,  73,  74,  75,  76,  77,\n",
       "         78,  79,  80,  81,  82,  83,  84,  85,  86,  87,  88,  89,  90,\n",
       "         91,  92,  93,  94,  95,  96,  97,  98,  99, 100, 101, 102, 103,\n",
       "        104, 105, 106, 107, 108, 109, 110, 111, 112, 113, 114, 115, 116,\n",
       "        117, 118, 119, 120, 121, 122, 123, 124, 125, 126, 127, 128, 129,\n",
       "        130, 131, 132, 133, 134, 135, 136, 137, 138, 139, 140, 141, 142,\n",
       "        143, 144, 145, 146, 147, 148, 149, 150, 151, 152, 153, 154, 155,\n",
       "        156, 157, 158, 159, 160, 161, 162, 163, 164, 165, 166, 167, 168,\n",
       "        169, 170, 171, 172, 173, 174, 175, 176, 177, 178, 179, 180, 181,\n",
       "        182, 183, 184, 185, 186, 187, 188, 189, 190, 191, 192, 193, 194,\n",
       "        195, 196, 197, 198, 199, 200, 201, 202, 203, 204, 205, 206, 207,\n",
       "        208, 209, 210, 211, 212, 213, 214, 215, 216, 217, 218, 219, 220,\n",
       "        221, 222, 223, 224, 225, 226, 227, 228, 229, 230, 231, 232, 233,\n",
       "        234, 235, 236, 237, 238, 239, 240, 241, 242, 243, 244, 245, 246,\n",
       "        247, 248, 249, 250, 251, 252, 253, 254, 255, 256, 257, 258, 259,\n",
       "        260, 261, 262, 263, 264, 265, 266, 267, 268, 269, 270, 271, 272,\n",
       "        273, 274, 275, 276, 277, 278, 279, 280, 281, 282, 283, 284, 285,\n",
       "        286, 287, 288, 289, 290, 291, 292, 293, 294, 295, 296, 297, 298,\n",
       "        299, 300, 301, 302, 303, 304, 305, 306, 307, 308, 309, 310, 311,\n",
       "        312, 313, 314, 315, 316, 317, 318, 319, 320, 321, 322, 323, 324,\n",
       "        325, 326, 327, 328, 329, 330, 331, 332, 333, 334, 335, 336, 337,\n",
       "        338, 339, 340, 341, 342, 343, 344, 345, 346, 347, 348, 349, 350,\n",
       "        351, 352, 353, 354, 355, 356, 357, 358, 359, 360, 361, 362, 363,\n",
       "        364]))"
      ]
     },
     "execution_count": 74,
     "metadata": {},
     "output_type": "execute_result"
    }
   ],
   "source": [
    "list(kfold.split(range(labeled_data_m)))[0]"
   ]
  },
  {
   "cell_type": "markdown",
   "metadata": {
    "slideshow": {
     "slide_type": "subslide"
    }
   },
   "source": [
    "## 這樣有什麼問題？"
   ]
  },
  {
   "cell_type": "code",
   "execution_count": 75,
   "metadata": {
    "slideshow": {
     "slide_type": "subslide"
    }
   },
   "outputs": [
    {
     "data": {
      "text/plain": [
       "(array([   0,    2,    3, ..., 1454, 1457, 1458]),\n",
       " array([   1,    4,    5,    6,   14,   16,   25,   27,   37,   39,   40,\n",
       "          44,   45,   50,   51,   53,   54,   57,   58,   62,   65,   71,\n",
       "          72,   79,   82,   90,   91,   93,   98,  101,  102,  105,  111,\n",
       "         115,  119,  120,  123,  125,  129,  132,  135,  146,  147,  148,\n",
       "         152,  155,  163,  164,  167,  170,  171,  175,  180,  181,  186,\n",
       "         188,  195,  198,  203,  205,  208,  209,  216,  218,  219,  230,\n",
       "         232,  240,  245,  246,  247,  255,  257,  261,  264,  267,  271,\n",
       "         274,  284,  287,  290,  291,  294,  295,  299,  301,  302,  304,\n",
       "         305,  306,  311,  313,  314,  316,  319,  322,  325,  328,  330,\n",
       "         336,  339,  344,  347,  351,  352,  355,  356,  357,  360,  363,\n",
       "         368,  378,  384,  386,  394,  401,  409,  411,  412,  416,  422,\n",
       "         424,  425,  428,  431,  434,  440,  441,  447,  450,  451,  456,\n",
       "         471,  472,  475,  491,  494,  496,  502,  504,  514,  517,  518,\n",
       "         520,  527,  530,  534,  543,  546,  553,  558,  559,  564,  570,\n",
       "         583,  589,  592,  600,  606,  618,  629,  633,  640,  641,  649,\n",
       "         659,  665,  668,  671,  673,  674,  677,  679,  681,  685,  688,\n",
       "         692,  703,  708,  716,  719,  723,  727,  732,  733,  737,  741,\n",
       "         747,  756,  760,  764,  772,  773,  776,  779,  782,  791,  793,\n",
       "         794,  795,  796,  801,  802,  805,  810,  813,  819,  828,  829,\n",
       "         836,  841,  847,  851,  855,  857,  862,  864,  865,  872,  884,\n",
       "         885,  887,  888,  911,  916,  917,  924,  941,  943,  944,  947,\n",
       "         949,  951,  954,  957,  963,  965,  977,  991,  998, 1001, 1005,\n",
       "        1008, 1012, 1018, 1019, 1020, 1024, 1025, 1027, 1028, 1029, 1033,\n",
       "        1036, 1037, 1038, 1040, 1041, 1045, 1052, 1053, 1058, 1063, 1077,\n",
       "        1082, 1086, 1087, 1089, 1091, 1092, 1099, 1121, 1124, 1127, 1128,\n",
       "        1134, 1137, 1139, 1140, 1141, 1144, 1146, 1150, 1158, 1167, 1174,\n",
       "        1181, 1188, 1201, 1202, 1203, 1212, 1214, 1219, 1220, 1221, 1222,\n",
       "        1224, 1229, 1233, 1235, 1243, 1244, 1247, 1255, 1258, 1263, 1266,\n",
       "        1268, 1270, 1271, 1274, 1275, 1277, 1281, 1289, 1294, 1297, 1299,\n",
       "        1301, 1304, 1306, 1308, 1309, 1313, 1314, 1316, 1320, 1321, 1322,\n",
       "        1324, 1325, 1326, 1330, 1333, 1335, 1340, 1342, 1345, 1347, 1351,\n",
       "        1353, 1355, 1371, 1372, 1376, 1379, 1385, 1386, 1389, 1391, 1392,\n",
       "        1398, 1411, 1416, 1419, 1423, 1427, 1434, 1447, 1452, 1453, 1455,\n",
       "        1456, 1459]))"
      ]
     },
     "execution_count": 75,
     "metadata": {},
     "output_type": "execute_result"
    }
   ],
   "source": [
    "kfold = KFold(n_folds, shuffle=True)\n",
    "list(kfold.split(range(labeled_data_m)))[0]"
   ]
  },
  {
   "cell_type": "code",
   "execution_count": 76,
   "metadata": {
    "collapsed": true,
    "slideshow": {
     "slide_type": "subslide"
    }
   },
   "outputs": [],
   "source": [
    "cv_df = train[[\"YearBuilt\", \"SalePrice\"]]\n",
    "cv_x = cv_df[\"YearBuilt\"].values\n",
    "cv_y = cv_df[\"SalePrice\"].values"
   ]
  },
  {
   "cell_type": "code",
   "execution_count": 77,
   "metadata": {
    "collapsed": true,
    "slideshow": {
     "slide_type": "subslide"
    }
   },
   "outputs": [],
   "source": [
    "def get_cv_errors(n_folds=4, degree=11):\n",
    "    degrees=range(degree)\n",
    "    train_errors = np.zeros((degree, n_folds))\n",
    "    validation_errors = np.zeros((degree, n_folds))\n",
    "    fold = 0\n",
    "    labeled_data_m = len(cv_x)\n",
    "    for train, valid in KFold(n_folds, shuffle=True).split(range(labeled_data_m)):\n",
    "        train_dict, validation_dict = make_features(cv_x[train], cv_x[valid], degrees)\n",
    "        for d in degrees:\n",
    "            regressor = linear_model.LinearRegression()\n",
    "            regressor.fit(train_dict[d], cv_y[train])\n",
    "            train_errors[d, fold] = mean_squared_error(cv_y[train], regressor.predict(train_dict[d]))\n",
    "            validation_errors[d, fold] = mean_squared_error(cv_y[valid], regressor.predict(validation_dict[d]))\n",
    "        fold += 1\n",
    "    mean_train_errors = train_errors.mean(axis=1)\n",
    "    mean_validation_errors = validation_errors.mean(axis=1)\n",
    "    std_train_errors = train_errors.std(axis=1)\n",
    "    std_validation_errors = validation_errors.std(axis=1)\n",
    "    best_degree = np.argmin(mean_validation_errors)\n",
    "    return mean_train_errors, mean_validation_errors, std_train_errors, std_validation_errors, best_degree"
   ]
  },
  {
   "cell_type": "code",
   "execution_count": 78,
   "metadata": {
    "collapsed": true,
    "slideshow": {
     "slide_type": "subslide"
    }
   },
   "outputs": [],
   "source": [
    "mean_train_errors, mean_validation_errors, std_train_errors, std_validation_errors, best_degree = get_cv_errors()"
   ]
  },
  {
   "cell_type": "code",
   "execution_count": 79,
   "metadata": {},
   "outputs": [
    {
     "data": {
      "image/png": "[encoded data removed]",
      "text/plain": [
       "<matplotlib.figure.Figure at 0x12a1b2e80>"
      ]
     },
     "metadata": {},
     "output_type": "display_data"
    }
   ],
   "source": [
    "import seaborn as sns\n",
    "\n",
    "degrees = range(11)\n",
    "c2 = sns.color_palette()[2]\n",
    "plt.plot(degrees, mean_train_errors, marker='o', label='CV Train error', alpha=0.9)\n",
    "plt.plot(degrees, mean_validation_errors, marker='o', label='CV Validation error', alpha=0.9)\n",
    "plt.fill_between(degrees, mean_validation_errors - std_validation_errors, mean_validation_errors + std_validation_errors, color=c2, alpha=0.2)\n",
    "plt.ylabel('mean squared error')\n",
    "plt.xlabel('degree')\n",
    "plt.legend(loc='upper right')\n",
    "plt.yscale(\"log\")\n",
    "plt.show()"
   ]
  },
  {
   "cell_type": "markdown",
   "metadata": {
    "slideshow": {
     "slide_type": "slide"
    }
   },
   "source": [
    "## 正規化 regularization"
   ]
  },
  {
   "cell_type": "markdown",
   "metadata": {
    "slideshow": {
     "slide_type": "subslide"
    }
   },
   "source": [
    "## 透過 Cross-Validation 挑選出 Best Degree 已經很酷了\n",
    "\n",
    "- 但有可能碰上什麼麻煩？"
   ]
  },
  {
   "cell_type": "code",
   "execution_count": 80,
   "metadata": {
    "collapsed": true,
    "slideshow": {
     "slide_type": "skip"
    }
   },
   "outputs": [],
   "source": [
    "import numpy as np\n",
    "from sklearn.preprocessing import PolynomialFeatures\n",
    "from sklearn import linear_model\n",
    "\n",
    "X = np.array([258.0, 270.0, 294.0, 320.0, 342.0, 368.0, 396.0, 446.0, 480.0, 586.0]).reshape(-1, 1)\n",
    "y = np.array([236.4, 234.4, 252.8, 298.6, 314.2, 342.2, 360.8, 368.0, 391.2, 390.8]).reshape(-1, 1)\n",
    "\n",
    "# Fitting\n",
    "lr = linear_model.LinearRegression()\n",
    "pr_q = linear_model.LinearRegression()\n",
    "pr_6 = linear_model.LinearRegression()\n",
    "quadratic = PolynomialFeatures(degree = 2)\n",
    "power_of_6 = PolynomialFeatures(degree = 6)\n",
    "X_quad = quadratic.fit_transform(X)\n",
    "X_p6 = power_of_6.fit_transform(X)\n",
    "lr.fit(X, y)\n",
    "X_fit = np.linspace(250, 600, 100).reshape(-1, 1)\n",
    "y_lin_fit = lr.predict(X_fit)\n",
    "pr_q.fit(X_quad, y)\n",
    "y_quad_fit = pr_q.predict(quadratic.fit_transform(X_fit))\n",
    "pr_6.fit(X_p6, y)\n",
    "y_p6_fit = pr_6.predict(power_of_6.fit_transform(X_fit))"
   ]
  },
  {
   "cell_type": "code",
   "execution_count": 81,
   "metadata": {
    "collapsed": true,
    "slideshow": {
     "slide_type": "skip"
    }
   },
   "outputs": [],
   "source": [
    "import matplotlib.pyplot as plt\n",
    "\n",
    "# Plotting\n",
    "plt.figure(figsize = (14, 4))\n",
    "plt.subplot(1, 3, 1)\n",
    "plt.scatter(X, y)\n",
    "plt.plot(X_fit, y_lin_fit, linestyle = \"--\", c = \"r\")\n",
    "plt.title(\"Under-fitting($\\\\theta_0 + \\\\theta_1x_1$)\")\n",
    "plt.subplot(1, 3, 2)\n",
    "plt.scatter(X, y)\n",
    "plt.plot(X_fit, y_quad_fit, linestyle = \"--\", c = \"r\")\n",
    "plt.title(\"Appropriate fitting($\\\\theta_0 + \\\\theta_1x_1 + \\\\theta_2x_1^2$)\")\n",
    "plt.subplot(1, 3, 3)\n",
    "plt.scatter(X, y)\n",
    "plt.plot(X_fit, y_p6_fit, linestyle = \"--\", c = \"r\")\n",
    "plt.title(\"Over-fitting($\\\\theta_0 + \\\\theta_1x_1 + \\\\theta_2x_1^2 + ... \\\\theta_6x_1^6$)\")\n",
    "plt.tight_layout()"
   ]
  },
  {
   "cell_type": "code",
   "execution_count": 82,
   "metadata": {
    "slideshow": {
     "slide_type": "subslide"
    }
   },
   "outputs": [
    {
     "data": {
      "image/png": "[encoded data removed]",
      "text/plain": [
       "<matplotlib.figure.Figure at 0x12a7038d0>"
      ]
     },
     "metadata": {},
     "output_type": "display_data"
    }
   ],
   "source": [
    "plt.show()"
   ]
  },
  {
   "cell_type": "markdown",
   "metadata": {
    "slideshow": {
     "slide_type": "subslide"
    }
   },
   "source": [
    "## 過度配適 Overfitting 的麻煩\n",
    "\n",
    "|Bias|Variance|Fitting|\n",
    "|----|--------|-------|\n",
    "|High|Low|Under-fitting|\n",
    "|Medium|Medium|Appropriate fitting|\n",
    "|Low|High|Over-fitting|"
   ]
  },
  {
   "cell_type": "markdown",
   "metadata": {
    "slideshow": {
     "slide_type": "subslide"
    }
   },
   "source": [
    "## 如果我們採用了高的 degrees\n",
    "\n",
    "- 想個辦法去平滑它：Ridge 方法（$C$ 為一個常數）\n",
    "\n",
    "$$\\sum_{i=0}^d \\theta_i^2 < C$$\n",
    "\n",
    "- 在成本函數後面加入 $\\alpha\\sum_{i=0}^d \\theta_i^2$ 來消弭 $\\theta_i$\n",
    "\n",
    "$$J(\\theta)_{Ridge} = \\sum_{i=1}^{m}(\\hat{y_i}-y_i)^2 + \\alpha \\sum_{i=0}^d \\theta_i^2$$"
   ]
  },
  {
   "cell_type": "markdown",
   "metadata": {
    "slideshow": {
     "slide_type": "subslide"
    }
   },
   "source": [
    "## 當 $\\alpha$ 上升，$\\theta_i$ 就有顯著地降低"
   ]
  },
  {
   "cell_type": "code",
   "execution_count": 83,
   "metadata": {
    "slideshow": {
     "slide_type": "skip"
    }
   },
   "outputs": [
    {
     "name": "stderr",
     "output_type": "stream",
     "text": [
      "/Users/kuoyaojen/anaconda3/lib/python3.6/site-packages/scipy/linalg/basic.py:223: RuntimeWarning: scipy.linalg.solve\n",
      "Ill-conditioned matrix detected. Result is not guaranteed to be accurate.\n",
      "Reciprocal condition number: 1.409490231809535e-17\n",
      "  ' condition number: {}'.format(rcond), RuntimeWarning)\n",
      "/Users/kuoyaojen/anaconda3/lib/python3.6/site-packages/scipy/linalg/basic.py:223: RuntimeWarning: scipy.linalg.solve\n",
      "Ill-conditioned matrix detected. Result is not guaranteed to be accurate.\n",
      "Reciprocal condition number: 1.4333206634799024e-17\n",
      "  ' condition number: {}'.format(rcond), RuntimeWarning)\n",
      "/Users/kuoyaojen/anaconda3/lib/python3.6/site-packages/scipy/linalg/basic.py:223: RuntimeWarning: scipy.linalg.solve\n",
      "Ill-conditioned matrix detected. Result is not guaranteed to be accurate.\n",
      "Reciprocal condition number: 1.4828581283208688e-17\n",
      "  ' condition number: {}'.format(rcond), RuntimeWarning)\n",
      "/Users/kuoyaojen/anaconda3/lib/python3.6/site-packages/scipy/linalg/basic.py:223: RuntimeWarning: scipy.linalg.solve\n",
      "Ill-conditioned matrix detected. Result is not guaranteed to be accurate.\n",
      "Reciprocal condition number: 1.4702019561129654e-17\n",
      "  ' condition number: {}'.format(rcond), RuntimeWarning)\n"
     ]
    }
   ],
   "source": [
    "from sklearn.linear_model import Ridge\n",
    "\n",
    "fig, axes = plt.subplots(4, 2, figsize=(16, 16))\n",
    "d = 10\n",
    "degrees = range(11)\n",
    "alphas = [10**2, 10**4, 10**6, 10**8]\n",
    "train_df, validation_df = train_test_split(train, test_size=0.3, random_state=123)\n",
    "x_train = train_df[\"YearBuilt\"].values\n",
    "x_validation = validation_df[\"YearBuilt\"].values\n",
    "y_train = train_df[\"SalePrice\"].values\n",
    "y_validation = validation_df[\"SalePrice\"].values\n",
    "train_dict, validation_dict = make_features(x_train, x_validation, degrees)\n",
    "X_train = train_dict[d]\n",
    "X_validation = validation_dict[d]\n",
    "for i, alpha in enumerate(alphas):\n",
    "    regressor = Ridge(alpha=alpha)\n",
    "    regressor.fit(X_train, y_train.reshape(-1, 1))\n",
    "    axes[i, 0].plot(x_train, y_train, 's', alpha=0.4, label=\"train\")\n",
    "    axes[i, 0].plot(x_validation, y_validation, 's', alpha=0.6, label=\"validation\")\n",
    "    x_arr = np.linspace(train[\"YearBuilt\"].min(), train[\"YearBuilt\"].max(), 100)\n",
    "    X_arr_poly = PolynomialFeatures(d).fit_transform(x_arr.reshape(-1,1))\n",
    "    axes[i, 0].plot(x_arr, regressor.predict(X_arr_poly), linewidth=5, alpha=0.5, label=\"alpha = {}\".format((alpha)))\n",
    "    axes[i, 0].set_ylabel('y')\n",
    "    axes[i, 0].set_xlabel('x')\n",
    "    axes[i, 0].legend(loc='upper right')\n",
    "    coef = regressor.coef_.ravel()\n",
    "    axes[i, 1].semilogy(np.abs(coef), marker='o', label=\"alpha = {}\".format((alpha)))\n",
    "    axes[i, 1].axhline(y=1, linestyle=\"dashed\", linewidth=2, color=\"r\")\n",
    "    axes[i, 1].set_ylim((1e-5, 1e5))\n",
    "    axes[i, 1].set_ylabel('abs(coefficient)')\n",
    "    axes[i, 1].set_xlabel('coefficients')\n",
    "    axes[i, 1].legend(loc='upper right')"
   ]
  },
  {
   "cell_type": "code",
   "execution_count": 84,
   "metadata": {
    "slideshow": {
     "slide_type": "subslide"
    }
   },
   "outputs": [
    {
     "data": {
      "image/png": "[encoded data removed]",
      "text/plain": [
       "<matplotlib.figure.Figure at 0x129fd3a20>"
      ]
     },
     "metadata": {},
     "output_type": "display_data"
    }
   ],
   "source": [
    "plt.show()"
   ]
  },
  {
   "cell_type": "markdown",
   "metadata": {
    "slideshow": {
     "slide_type": "subslide"
    }
   },
   "source": [
    "## 那我們又該如何找到合適的 $\\alpha$ 呢？"
   ]
  },
  {
   "cell_type": "markdown",
   "metadata": {
    "slideshow": {
     "slide_type": "slide"
    }
   },
   "source": [
    "## 網格搜尋 GridSearch"
   ]
  },
  {
   "cell_type": "markdown",
   "metadata": {
    "slideshow": {
     "slide_type": "subslide"
    }
   },
   "source": [
    "## `GridSearchCV()` 函數\n",
    "\n",
    "- 能夠幫助我們挑選 **Hyper Parameters**\n",
    "- 整合了交叉驗證\n",
    "\n",
    "```python\n",
    "from sklearn.model_selection import GridSearchCV\n",
    "\n",
    "regressor = Ridge()\n",
    "parameters = {\"alpha\": [1, 10, 10**2, 10**3, 10**4, 10**5]}\n",
    "gridclassifier=GridSearchCV(regressor, param_grid=parameters, cv=4, scoring=\"mean_squared_error\")\n",
    "```"
   ]
  },
  {
   "cell_type": "code",
   "execution_count": 85,
   "metadata": {
    "collapsed": true,
    "slideshow": {
     "slide_type": "subslide"
    }
   },
   "outputs": [],
   "source": [
    "from sklearn.model_selection import GridSearchCV\n",
    "\n",
    "def cv_optimize_ridge(X, y, n_folds=4):\n",
    "    regressor = Ridge()\n",
    "    parameters = {\"alpha\": [1, 10, 10**2, 10**3, 10**4, 10**5]}\n",
    "    gs = GridSearchCV(regressor, param_grid=parameters, cv=n_folds, scoring=\"neg_mean_squared_error\")\n",
    "    gs.fit(X, y)\n",
    "    return gs"
   ]
  },
  {
   "cell_type": "code",
   "execution_count": 86,
   "metadata": {
    "slideshow": {
     "slide_type": "subslide"
    }
   },
   "outputs": [
    {
     "name": "stderr",
     "output_type": "stream",
     "text": [
      "/Users/kuoyaojen/anaconda3/lib/python3.6/site-packages/scipy/linalg/basic.py:223: RuntimeWarning: scipy.linalg.solve\n",
      "Ill-conditioned matrix detected. Result is not guaranteed to be accurate.\n",
      "Reciprocal condition number: 1.1757601158347515e-18\n",
      "  ' condition number: {}'.format(rcond), RuntimeWarning)\n",
      "/Users/kuoyaojen/anaconda3/lib/python3.6/site-packages/scipy/linalg/basic.py:223: RuntimeWarning: scipy.linalg.solve\n",
      "Ill-conditioned matrix detected. Result is not guaranteed to be accurate.\n",
      "Reciprocal condition number: 6.477015291304581e-18\n",
      "  ' condition number: {}'.format(rcond), RuntimeWarning)\n",
      "/Users/kuoyaojen/anaconda3/lib/python3.6/site-packages/scipy/linalg/basic.py:223: RuntimeWarning: scipy.linalg.solve\n",
      "Ill-conditioned matrix detected. Result is not guaranteed to be accurate.\n",
      "Reciprocal condition number: 4.36780207886664e-18\n",
      "  ' condition number: {}'.format(rcond), RuntimeWarning)\n",
      "/Users/kuoyaojen/anaconda3/lib/python3.6/site-packages/scipy/linalg/basic.py:223: RuntimeWarning: scipy.linalg.solve\n",
      "Ill-conditioned matrix detected. Result is not guaranteed to be accurate.\n",
      "Reciprocal condition number: 2.9550425376442037e-18\n",
      "  ' condition number: {}'.format(rcond), RuntimeWarning)\n",
      "/Users/kuoyaojen/anaconda3/lib/python3.6/site-packages/scipy/linalg/basic.py:223: RuntimeWarning: scipy.linalg.solve\n",
      "Ill-conditioned matrix detected. Result is not guaranteed to be accurate.\n",
      "Reciprocal condition number: 4.001304220246806e-19\n",
      "  ' condition number: {}'.format(rcond), RuntimeWarning)\n",
      "/Users/kuoyaojen/anaconda3/lib/python3.6/site-packages/scipy/linalg/basic.py:223: RuntimeWarning: scipy.linalg.solve\n",
      "Ill-conditioned matrix detected. Result is not guaranteed to be accurate.\n",
      "Reciprocal condition number: 6.486871734405655e-18\n",
      "  ' condition number: {}'.format(rcond), RuntimeWarning)\n",
      "/Users/kuoyaojen/anaconda3/lib/python3.6/site-packages/scipy/linalg/basic.py:223: RuntimeWarning: scipy.linalg.solve\n",
      "Ill-conditioned matrix detected. Result is not guaranteed to be accurate.\n",
      "Reciprocal condition number: 4.369049538466511e-18\n",
      "  ' condition number: {}'.format(rcond), RuntimeWarning)\n",
      "/Users/kuoyaojen/anaconda3/lib/python3.6/site-packages/scipy/linalg/basic.py:223: RuntimeWarning: scipy.linalg.solve\n",
      "Ill-conditioned matrix detected. Result is not guaranteed to be accurate.\n",
      "Reciprocal condition number: 2.927593210677963e-18\n",
      "  ' condition number: {}'.format(rcond), RuntimeWarning)\n",
      "/Users/kuoyaojen/anaconda3/lib/python3.6/site-packages/scipy/linalg/basic.py:223: RuntimeWarning: scipy.linalg.solve\n",
      "Ill-conditioned matrix detected. Result is not guaranteed to be accurate.\n",
      "Reciprocal condition number: 3.133942044328542e-19\n",
      "  ' condition number: {}'.format(rcond), RuntimeWarning)\n",
      "/Users/kuoyaojen/anaconda3/lib/python3.6/site-packages/scipy/linalg/basic.py:223: RuntimeWarning: scipy.linalg.solve\n",
      "Ill-conditioned matrix detected. Result is not guaranteed to be accurate.\n",
      "Reciprocal condition number: 6.4890242988702574e-18\n",
      "  ' condition number: {}'.format(rcond), RuntimeWarning)\n",
      "/Users/kuoyaojen/anaconda3/lib/python3.6/site-packages/scipy/linalg/basic.py:223: RuntimeWarning: scipy.linalg.solve\n",
      "Ill-conditioned matrix detected. Result is not guaranteed to be accurate.\n",
      "Reciprocal condition number: 4.371138141301513e-18\n",
      "  ' condition number: {}'.format(rcond), RuntimeWarning)\n",
      "/Users/kuoyaojen/anaconda3/lib/python3.6/site-packages/scipy/linalg/basic.py:223: RuntimeWarning: scipy.linalg.solve\n",
      "Ill-conditioned matrix detected. Result is not guaranteed to be accurate.\n",
      "Reciprocal condition number: 2.929366145254998e-18\n",
      "  ' condition number: {}'.format(rcond), RuntimeWarning)\n",
      "/Users/kuoyaojen/anaconda3/lib/python3.6/site-packages/scipy/linalg/basic.py:223: RuntimeWarning: scipy.linalg.solve\n",
      "Ill-conditioned matrix detected. Result is not guaranteed to be accurate.\n",
      "Reciprocal condition number: 3.051903467177526e-19\n",
      "  ' condition number: {}'.format(rcond), RuntimeWarning)\n",
      "/Users/kuoyaojen/anaconda3/lib/python3.6/site-packages/scipy/linalg/basic.py:223: RuntimeWarning: scipy.linalg.solve\n",
      "Ill-conditioned matrix detected. Result is not guaranteed to be accurate.\n",
      "Reciprocal condition number: 6.4791390797500595e-18\n",
      "  ' condition number: {}'.format(rcond), RuntimeWarning)\n",
      "/Users/kuoyaojen/anaconda3/lib/python3.6/site-packages/scipy/linalg/basic.py:223: RuntimeWarning: scipy.linalg.solve\n",
      "Ill-conditioned matrix detected. Result is not guaranteed to be accurate.\n",
      "Reciprocal condition number: 4.3608453293909875e-18\n",
      "  ' condition number: {}'.format(rcond), RuntimeWarning)\n",
      "/Users/kuoyaojen/anaconda3/lib/python3.6/site-packages/scipy/linalg/basic.py:223: RuntimeWarning: scipy.linalg.solve\n",
      "Ill-conditioned matrix detected. Result is not guaranteed to be accurate.\n",
      "Reciprocal condition number: 2.919119750911894e-18\n",
      "  ' condition number: {}'.format(rcond), RuntimeWarning)\n",
      "/Users/kuoyaojen/anaconda3/lib/python3.6/site-packages/scipy/linalg/basic.py:223: RuntimeWarning: scipy.linalg.solve\n",
      "Ill-conditioned matrix detected. Result is not guaranteed to be accurate.\n",
      "Reciprocal condition number: 1.657469132171304e-19\n",
      "  ' condition number: {}'.format(rcond), RuntimeWarning)\n",
      "/Users/kuoyaojen/anaconda3/lib/python3.6/site-packages/scipy/linalg/basic.py:223: RuntimeWarning: scipy.linalg.solve\n",
      "Ill-conditioned matrix detected. Result is not guaranteed to be accurate.\n",
      "Reciprocal condition number: 8.67125321962424e-18\n",
      "  ' condition number: {}'.format(rcond), RuntimeWarning)\n",
      "/Users/kuoyaojen/anaconda3/lib/python3.6/site-packages/scipy/linalg/basic.py:223: RuntimeWarning: scipy.linalg.solve\n",
      "Ill-conditioned matrix detected. Result is not guaranteed to be accurate.\n",
      "Reciprocal condition number: 4.400308414337791e-18\n",
      "  ' condition number: {}'.format(rcond), RuntimeWarning)\n",
      "/Users/kuoyaojen/anaconda3/lib/python3.6/site-packages/scipy/linalg/basic.py:223: RuntimeWarning: scipy.linalg.solve\n",
      "Ill-conditioned matrix detected. Result is not guaranteed to be accurate.\n",
      "Reciprocal condition number: 3.0292212297803318e-18\n",
      "  ' condition number: {}'.format(rcond), RuntimeWarning)\n",
      "/Users/kuoyaojen/anaconda3/lib/python3.6/site-packages/scipy/linalg/basic.py:223: RuntimeWarning: scipy.linalg.solve\n",
      "Ill-conditioned matrix detected. Result is not guaranteed to be accurate.\n",
      "Reciprocal condition number: 9.849419268111253e-19\n",
      "  ' condition number: {}'.format(rcond), RuntimeWarning)\n",
      "/Users/kuoyaojen/anaconda3/lib/python3.6/site-packages/scipy/linalg/basic.py:223: RuntimeWarning: scipy.linalg.solve\n",
      "Ill-conditioned matrix detected. Result is not guaranteed to be accurate.\n",
      "Reciprocal condition number: 8.434846616376611e-18\n",
      "  ' condition number: {}'.format(rcond), RuntimeWarning)\n",
      "/Users/kuoyaojen/anaconda3/lib/python3.6/site-packages/scipy/linalg/basic.py:223: RuntimeWarning: scipy.linalg.solve\n",
      "Ill-conditioned matrix detected. Result is not guaranteed to be accurate.\n",
      "Reciprocal condition number: 4.6222751196817814e-18\n",
      "  ' condition number: {}'.format(rcond), RuntimeWarning)\n",
      "/Users/kuoyaojen/anaconda3/lib/python3.6/site-packages/scipy/linalg/basic.py:223: RuntimeWarning: scipy.linalg.solve\n",
      "Ill-conditioned matrix detected. Result is not guaranteed to be accurate.\n",
      "Reciprocal condition number: 3.3453731229664126e-18\n",
      "  ' condition number: {}'.format(rcond), RuntimeWarning)\n",
      "/Users/kuoyaojen/anaconda3/lib/python3.6/site-packages/scipy/linalg/basic.py:223: RuntimeWarning: scipy.linalg.solve\n",
      "Ill-conditioned matrix detected. Result is not guaranteed to be accurate.\n",
      "Reciprocal condition number: 1.3859929760336687e-17\n",
      "  ' condition number: {}'.format(rcond), RuntimeWarning)\n"
     ]
    }
   ],
   "source": [
    "fit_model = cv_optimize_ridge(X_train, y_train, n_folds=4)"
   ]
  },
  {
   "cell_type": "code",
   "execution_count": 87,
   "metadata": {
    "slideshow": {
     "slide_type": "subslide"
    }
   },
   "outputs": [
    {
     "name": "stdout",
     "output_type": "stream",
     "text": [
      "Ridge(alpha=10, copy_X=True, fit_intercept=True, max_iter=None,\n",
      "   normalize=False, random_state=None, solver='auto', tol=0.001)\n",
      "{'alpha': 10}\n",
      "-4327149572.972771\n"
     ]
    }
   ],
   "source": [
    "print(fit_model.best_estimator_)\n",
    "print(fit_model.best_params_)\n",
    "print(fit_model.best_score_)"
   ]
  },
  {
   "cell_type": "code",
   "execution_count": 88,
   "metadata": {
    "slideshow": {
     "slide_type": "subslide"
    }
   },
   "outputs": [
    {
     "name": "stderr",
     "output_type": "stream",
     "text": [
      "/Users/kuoyaojen/anaconda3/lib/python3.6/site-packages/scipy/linalg/basic.py:223: RuntimeWarning: scipy.linalg.solve\n",
      "Ill-conditioned matrix detected. Result is not guaranteed to be accurate.\n",
      "Reciprocal condition number: 1.3859929760336687e-17\n",
      "  ' condition number: {}'.format(rcond), RuntimeWarning)\n"
     ]
    }
   ],
   "source": [
    "best_alpha = fit_model.best_params_['alpha']\n",
    "regressor = Ridge(alpha=best_alpha).fit(X_train,y_train)"
   ]
  },
  {
   "cell_type": "code",
   "execution_count": 89,
   "metadata": {
    "slideshow": {
     "slide_type": "subslide"
    }
   },
   "outputs": [
    {
     "data": {
      "text/plain": [
       "<matplotlib.legend.Legend at 0x129ce46d8>"
      ]
     },
     "execution_count": 89,
     "metadata": {},
     "output_type": "execute_result"
    }
   ],
   "source": [
    "fig, axes = plt.subplots(1, 2, figsize=(12, 6))\n",
    "axes[0].plot(x_train, y_train, 's', alpha=0.4, label=\"train\")\n",
    "axes[0].plot(x_validation, y_validation, 's', alpha=0.6, label=\"validation\")\n",
    "axes[0].plot(x_arr, regressor.predict(X_arr_poly), linewidth=5, alpha=0.5, label=\"alpha = {}\".format((best_alpha)))\n",
    "axes[0].set_ylabel('y')\n",
    "axes[0].set_xlabel('x')\n",
    "axes[0].legend(loc='upper left')\n",
    "coef = regressor.coef_.ravel()\n",
    "axes[1].semilogy(np.abs(coef), marker='o', label=\"alpha = {}\".format((best_alpha)))\n",
    "axes[1].axhline(y=1, linestyle=\"dashed\", linewidth=2, color=\"r\")\n",
    "axes[1].set_ylim((1e-5, 1e5))\n",
    "axes[1].set_ylabel('abs(coefficient)')\n",
    "axes[1].set_xlabel('coefficients')\n",
    "axes[1].legend(loc='upper right')"
   ]
  },
  {
   "cell_type": "code",
   "execution_count": 90,
   "metadata": {
    "slideshow": {
     "slide_type": "subslide"
    }
   },
   "outputs": [
    {
     "data": {
      "image/png": "[encoded data removed]",
      "text/plain": [
       "<matplotlib.figure.Figure at 0x12a274b70>"
      ]
     },
     "metadata": {},
     "output_type": "display_data"
    }
   ],
   "source": [
    "plt.show()"
   ]
  }
 ],
 "metadata": {
  "celltoolbar": "Slideshow",
  "kernelspec": {
   "display_name": "Python 3",
   "language": "python",
   "name": "python3"
  },
  "language_info": {
   "codemirror_mode": {
    "name": "ipython",
    "version": 3
   },
   "file_extension": ".py",
   "mimetype": "text/x-python",
   "name": "python",
   "nbconvert_exporter": "python",
   "pygments_lexer": "ipython3",
   "version": "3.6.0"
  }
 },
 "nbformat": 4,
 "nbformat_minor": 2
}
