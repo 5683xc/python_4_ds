{
 "cells": [
  {
   "cell_type": "markdown",
   "metadata": {
    "slideshow": {
     "slide_type": "slide"
    }
   },
   "source": [
    "#  淺談物件導向\n",
    "\n",
    "## 郭耀仁"
   ]
  },
  {
   "cell_type": "markdown",
   "metadata": {
    "slideshow": {
     "slide_type": "slide"
    }
   },
   "source": [
    "## Data Frame 物件\n",
    "\n",
    "- 一個**物件（Object）**可以包含**屬性（Attribute）**與**方法（Method）**\n",
    "- 一個 data frame 是一個物件，它有 `shape` 屬性、有 `head()` 方法...等\n",
    "- 記得跟函數型編程比較一下！\n",
    "\n",
    "```python\n",
    "import pandas as pd\n",
    "\n",
    "name = [\"蒙其·D·魯夫\", \"羅羅亞·索隆\", \"娜美\", \"騙人布\", \"賓什莫克·香吉士\", \"多尼多尼·喬巴\", \"妮可·羅賓\", \"佛朗基\", \"布魯克\"]\n",
    "age = [19, 21, 20, 19, 21, 17, 30, 36, 90]\n",
    "\n",
    "# 建立 dict\n",
    "straw_hat_dict = {\"name\": name,\n",
    "                  \"age\": age\n",
    "}\n",
    "\n",
    "# 建立 data frame\n",
    "straw_hat_df = pd.DataFrame(straw_hat_dict)\n",
    "\n",
    "# data frame 的屬性與方法\n",
    "print(straw_hat_df.shape) # shape 屬性\n",
    "straw_hat_df.head(3) # head 方法\n",
    "```"
   ]
  },
  {
   "cell_type": "markdown",
   "metadata": {
    "slideshow": {
     "slide_type": "slide"
    }
   },
   "source": [
    "## 建立類別\n",
    "\n",
    "- **物件（Object）**屬於一種**類別（Class）**\n",
    "- 定義一個類別稱為 `StrawHat`\n",
    "\n",
    "```python\n",
    "class StrawHat:\n",
    "    '''\n",
    "    這是一個叫做 StrawHat 的類別\n",
    "    '''\n",
    "    def __init__(self, name, has_devil_fruit):\n",
    "        self.name = name\n",
    "        self.has_devil_fruit = has_devil_fruit\n",
    "```"
   ]
  },
  {
   "cell_type": "markdown",
   "metadata": {
    "slideshow": {
     "slide_type": "subslide"
    }
   },
   "source": [
    "## 建立類別（2）\n",
    "\n",
    "- `__init__()` 方法稱為建構子或者初始化方法\n",
    "- `self` 就像是 `this` 的作用，在使用方法時不需要加入\n",
    "- `__doc__` 屬性可以看類別說明文件\n",
    "\n",
    "```python\n",
    "class StrawHat:\n",
    "    '''\n",
    "    這是一個叫做 StrawHat 的類別\n",
    "    '''\n",
    "    def __init__(self, name, has_devil_fruit):\n",
    "        self.name = name\n",
    "        self.has_devil_fruit = has_devil_fruit\n",
    "\n",
    "print(StrawHat.__doc__)\n",
    "```"
   ]
  },
  {
   "cell_type": "markdown",
   "metadata": {
    "slideshow": {
     "slide_type": "slide"
    }
   },
   "source": [
    "## 建立物件\n",
    "\n",
    "- 根據 `StrawHat` 類別建立兩個物件 `luffy` 與 `zoro`\n",
    "\n",
    "```python\n",
    "class StrawHat:\n",
    "    '''\n",
    "    這是一個叫做 StrawHat 的類別\n",
    "    '''\n",
    "    def __init__(self, name, has_devil_fruit):\n",
    "        self.name = name\n",
    "        self.has_devil_fruit = has_devil_fruit\n",
    "\n",
    "luffy = StrawHat(\"蒙其·D·魯夫\", True)\n",
    "zoro = StrawHat(\"羅羅亞·索隆\", False)\n",
    "\n",
    "# 物件的屬性\n",
    "print(luffy.name)\n",
    "print(luffy.has_devil_fruit)\n",
    "print(zoro.name)\n",
    "print(zoro.has_devil_fruit)\n",
    "```"
   ]
  },
  {
   "cell_type": "markdown",
   "metadata": {
    "slideshow": {
     "slide_type": "slide"
    }
   },
   "source": [
    "## 物件的屬性\n",
    "\n",
    "- 加入屬性\n",
    "\n",
    "```python\n",
    "class StrawHat:\n",
    "    '''\n",
    "    這是一個叫做 StrawHat 的類別\n",
    "    '''\n",
    "    def __init__(self, name, has_devil_fruit):\n",
    "        self.name = name\n",
    "        self.has_devil_fruit = has_devil_fruit\n",
    "\n",
    "luffy = StrawHat(\"蒙其·D·魯夫\", True)\n",
    "\n",
    "luffy.devil_fruit = \"橡膠果實\"\n",
    "print(luffy.devil_fruit)\n",
    "```"
   ]
  },
  {
   "cell_type": "markdown",
   "metadata": {
    "slideshow": {
     "slide_type": "subslide"
    }
   },
   "source": [
    "## 物件的屬性（2）\n",
    "\n",
    "- 修改屬性\n",
    "\n",
    "```python\n",
    "class StrawHat:\n",
    "    '''\n",
    "    這是一個叫做 StrawHat 的類別\n",
    "    '''\n",
    "    def __init__(self, name, has_devil_fruit):\n",
    "        self.name = name\n",
    "        self.has_devil_fruit = has_devil_fruit\n",
    "\n",
    "luffy = StrawHat(\"蒙其·D·魯夫\", True)\n",
    "\n",
    "luffy.devil_fruit = \"橡膠果實\"\n",
    "luffy.devil_fruit = \"Gum-Gum Fruit\"\n",
    "print(luffy.devil_fruit)\n",
    "```"
   ]
  },
  {
   "cell_type": "markdown",
   "metadata": {
    "slideshow": {
     "slide_type": "subslide"
    }
   },
   "source": [
    "## 物件的屬性（3）\n",
    "\n",
    "- 刪除屬性\n",
    "\n",
    "```python\n",
    "class StrawHat:\n",
    "    '''\n",
    "    這是一個叫做 StrawHat 的類別\n",
    "    '''\n",
    "    def __init__(self, name, has_devil_fruit):\n",
    "        self.name = name\n",
    "        self.has_devil_fruit = has_devil_fruit\n",
    "\n",
    "luffy = StrawHat(\"蒙其·D·魯夫\", True)\n",
    "\n",
    "luffy.devil_fruit = \"橡膠果實\"\n",
    "del(luffy.devil_fruit)\n",
    "print(luffy.devil_fruit)\n",
    "```"
   ]
  },
  {
   "cell_type": "markdown",
   "metadata": {
    "slideshow": {
     "slide_type": "subslide"
    }
   },
   "source": [
    "## 物件的屬性（4）\n",
    "\n",
    "- 屬性相關的函數：\n",
    "    - `getattr()`\n",
    "    - `hasattr()`\n",
    "    - `setattr()`\n",
    "    - `delattr()`\n",
    "\n",
    "```python\n",
    "class StrawHat:\n",
    "    '''\n",
    "    這是一個叫做 StrawHat 的類別\n",
    "    '''\n",
    "    def __init__(self, name, has_devil_fruit):\n",
    "        self.name = name\n",
    "        self.has_devil_fruit = has_devil_fruit\n",
    "\n",
    "luffy = StrawHat(\"蒙其·D·魯夫\", True)\n",
    "print(getattr(luffy, \"name\"))\n",
    "print(hasattr(luffy, \"has_devil_fruit\"))\n",
    "setattr(luffy, \"devil_fruit\", \"橡膠果實\")\n",
    "print(hasattr(luffy, \"devil_fruit\"))\n",
    "delattr(luffy, \"devil_fruit\")\n",
    "print(hasattr(luffy, \"devil_fruit\"))\n",
    "```"
   ]
  },
  {
   "cell_type": "markdown",
   "metadata": {
    "slideshow": {
     "slide_type": "slide"
    }
   },
   "source": [
    "## 物件的方法\n",
    "\n",
    "- 加入方法（類別中的自訂函數）\n",
    "\n",
    "```python\n",
    "class StrawHat:\n",
    "    '''\n",
    "    這是一個叫做 StrawHat 的類別\n",
    "    '''\n",
    "    def __init__(self, name, has_devil_fruit):\n",
    "        self.name = name\n",
    "        self.has_devil_fruit = has_devil_fruit\n",
    "        \n",
    "    def display_crew_info(self):\n",
    "        return \"姓名：\" + self.name + \"\\n\" + \"是否為惡魔果實能力者：\" + str(self.has_devil_fruit)\n",
    "\n",
    "luffy = StrawHat(\"蒙其·D·魯夫\", True)\n",
    "zoro = StrawHat(\"羅羅亞·索隆\", False)\n",
    "\n",
    "print(luffy.display_crew_info())\n",
    "print(zoro.display_crew_info())\n",
    "```"
   ]
  },
  {
   "cell_type": "markdown",
   "metadata": {
    "slideshow": {
     "slide_type": "slide"
    }
   },
   "source": [
    "## 類別的變數\n",
    "\n",
    "- 在類別中加入屬於類別的變數\n",
    "\n",
    "```python\n",
    "class StrawHat:\n",
    "    '''\n",
    "    這是一個叫做 StrawHat 的類別\n",
    "    '''\n",
    "    crew_count = 0\n",
    "    def __init__(self, name, has_devil_fruit):\n",
    "        self.name = name\n",
    "        self.has_devil_fruit = has_devil_fruit\n",
    "        StrawHat.crew_count += 1\n",
    "        \n",
    "    def display_crew_info(self):\n",
    "        return \"姓名：\" + self.name + \"\\n\" + \"是否為惡魔果實能力者：\" + str(self.has_devil_fruit)\n",
    "        \n",
    "luffy = StrawHat(\"蒙其·D·魯夫\", True)\n",
    "zoro = StrawHat(\"羅羅亞·索隆\", False)\n",
    "print(\"草帽海賊團的人數為：\", StrawHat.crew_count)\n",
    "```"
   ]
  },
  {
   "cell_type": "markdown",
   "metadata": {
    "slideshow": {
     "slide_type": "slide"
    }
   },
   "source": [
    "## 類別的繼承\n",
    "\n",
    "- 不用從零開始定義類別\n",
    "\n",
    "```python\n",
    "class ParentStrawHat:\n",
    "    '''\n",
    "    這是草帽類別的母類別\n",
    "    '''\n",
    "    def __init__(self, name, has_devil_fruit):\n",
    "        self.name = name\n",
    "        self.has_devil_fruit = has_devil_fruit\n",
    "    \n",
    "    def display_crew_info(self):\n",
    "        return \"姓名：\" + self.name + \"\\n\" + \"是否為惡魔果實能力者：\" + str(self.has_devil_fruit)\n",
    "\n",
    "class ChildStrawHat(ParentStrawHat):\n",
    "    '''\n",
    "    這是草帽類別的子類別\n",
    "    '''\n",
    "    def __init__(self, name, has_devil_fruit, devil_fruit):\n",
    "        super(ChildStrawHat, self).__init__(name, has_devil_fruit)\n",
    "        self.devil_fruit = devil_fruit\n",
    "    \n",
    "luffy = ChildStrawHat(\"蒙其·D·魯夫\", True, \"橡膠果實\")\n",
    "print(luffy.name)\n",
    "print(luffy.has_devil_fruit)\n",
    "print(luffy.devil_fruit)\n",
    "print(luffy.display_crew_info())\n",
    "```"
   ]
  },
  {
   "cell_type": "markdown",
   "metadata": {
    "slideshow": {
     "slide_type": "subslide"
    }
   },
   "source": [
    "## 類別的繼承（2）\n",
    "\n",
    "- 繼承後改寫母類別的方法\n",
    "\n",
    "```python\n",
    "class ParentStrawHat:\n",
    "    '''\n",
    "    這是草帽類別的母類別\n",
    "    '''\n",
    "    def __init__(self, name, has_devil_fruit):\n",
    "        self.name = name\n",
    "        self.has_devil_fruit = has_devil_fruit\n",
    "    \n",
    "    def display_crew_info(self):\n",
    "        return \"姓名：\" + self.name + \"\\n\" + \"是否為惡魔果實能力者：\" + str(self.has_devil_fruit)\n",
    "\n",
    "class ChildStrawHat(ParentStrawHat):\n",
    "    '''\n",
    "    這是草帽類別的子類別\n",
    "    '''\n",
    "    def __init__(self, name, has_devil_fruit, devil_fruit):\n",
    "        super(ChildStrawHat, self).__init__(name, has_devil_fruit)\n",
    "        self.devil_fruit = devil_fruit\n",
    "        \n",
    "    def display_crew_info(self):\n",
    "        return \"姓名：\" + self.name + \"\\n\" + \"是否為惡魔果實能力者：\" + str(self.has_devil_fruit) + \"\\n\" + \"惡魔果實：\" + self.devil_fruit\n",
    "\n",
    "luffy = ChildStrawHat(\"蒙其·D·魯夫\", True, \"橡膠果實\")\n",
    "print(luffy.display_crew_info())\n",
    "```"
   ]
  },
  {
   "cell_type": "markdown",
   "metadata": {
    "slideshow": {
     "slide_type": "slide"
    }
   },
   "source": [
    "## 類別、物件、屬性與方法的階層關係\n",
    "\n",
    "- 類別（Class）\n",
    "    - 物件（Object）\n",
    "        - 屬性（Attribute）\n",
    "        - 方法（Method）"
   ]
  },
  {
   "cell_type": "markdown",
   "metadata": {
    "slideshow": {
     "slide_type": "slide"
    }
   },
   "source": [
    "## 隨堂練習\n",
    "\n",
    "1. 定義一個類別 `Pet`\n",
    "    - 三個屬性：姓名、品種與叫聲\n",
    "    - 一個方法：把叫聲印兩次出來\n",
    "2. 定義一個類別 `Cat` 繼承 `Pet`，增加一個屬性：顏色\n",
    "3. 定義一個類別 `Dog` 繼承 `Pet`，改寫方法為把叫聲印三次\n",
    "4. 分別建立屬於 `Cat` 跟 `Dog` 的物件"
   ]
  }
 ],
 "metadata": {
  "celltoolbar": "Slideshow",
  "kernelspec": {
   "display_name": "Python 3",
   "language": "python",
   "name": "python3"
  },
  "language_info": {
   "codemirror_mode": {
    "name": "ipython",
    "version": 3
   },
   "file_extension": ".py",
   "mimetype": "text/x-python",
   "name": "python",
   "nbconvert_exporter": "python",
   "pygments_lexer": "ipython3",
   "version": "3.6.0"
  }
 },
 "nbformat": 4,
 "nbformat_minor": 1
}
