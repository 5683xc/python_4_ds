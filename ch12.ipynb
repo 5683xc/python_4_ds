{
 "cells": [
  {
   "cell_type": "markdown",
   "metadata": {
    "slideshow": {
     "slide_type": "slide"
    }
   },
   "source": [
    "# Python 與機器學習（2）\n",
    "\n",
    "## 郭耀仁"
   ]
  },
  {
   "cell_type": "markdown",
   "metadata": {
    "slideshow": {
     "slide_type": "slide"
    }
   },
   "source": [
    "## 機器學習基石\n",
    "\n",
    "- Adaptive Linear Neurons（Adaline）\n",
    "- 成本函數（Cost Function）\n",
    "- 梯度遞減（Gradient Descent）"
   ]
  },
  {
   "cell_type": "markdown",
   "metadata": {
    "slideshow": {
     "slide_type": "subslide"
    }
   },
   "source": [
    "## Adaline\n",
    "\n",
    "- 不看 **Quantizer** 的話跟 **Linear Regression** 完全相同\n",
    "\n",
    "![adaline](https://storage.googleapis.com/py_ml_images/adaline.png)"
   ]
  },
  {
   "cell_type": "markdown",
   "metadata": {
    "slideshow": {
     "slide_type": "subslide"
    }
   },
   "source": [
    "## 成本函數\n",
    "\n",
    "- 機器學習的演算法都會定義一個目標（Objective）\n",
    "- 這個目標是最小化**成本函數**：\n",
    "\n",
    "$$J(w) = \\frac{1}{2}\\sum(y_i - \\phi(z_i))^2$$"
   ]
  },
  {
   "cell_type": "markdown",
   "metadata": {
    "slideshow": {
     "slide_type": "subslide"
    }
   },
   "source": [
    "## 梯度遞減\n",
    "\n",
    "- 與感知器學習相仿，我們希望可以讓成本函數慢慢減低，逼近所謂的 *local/global minimum*\n",
    "\n",
    "$$\\Delta w = - \\eta \\Delta J(w)$$\n",
    "\n",
    "$$\\Delta J(w) = \\frac{\\partial J}{\\partial w_i} = - \\sum(y_i - \\phi(z_i))x_i$$\n",
    "\n",
    "![gradient descent](https://storage.googleapis.com/py_ml_images/gd.png)"
   ]
  },
  {
   "cell_type": "code",
   "execution_count": 1,
   "metadata": {
    "collapsed": true,
    "slideshow": {
     "slide_type": "slide"
    }
   },
   "outputs": [],
   "source": [
    "# 建立一個 AdalineGD 類別\n",
    "import numpy as np\n",
    "\n",
    "class AdalineGD:\n",
    "    def __init__(self, eta, n_epoch):\n",
    "        self.eta = eta\n",
    "        self.n_epoch = n_epoch\n",
    "        \n",
    "    def fit(self, X, y):\n",
    "        self.weights = np.zeros(1 + X.shape[1]) # 1 給 w_0, X.shape[1] 給 w_1~w_n\n",
    "        self.costs = []\n",
    "        \n",
    "        for i in range(self.n_epoch):\n",
    "            output = self.net_input(X)\n",
    "            errors = y - output\n",
    "            self.weights[1:] += self.eta * np.dot(X.T, errors)\n",
    "            self.weights[0] += self.eta * errors.sum()\n",
    "            cost = (errors**2).sum() / 2\n",
    "            self.costs.append(cost)\n",
    "        return self\n",
    "    \n",
    "    def net_input(self, X):\n",
    "        return np.dot(self.weights[1:], X.T) + self.weights[0] # (1, 2) dot (2, 100)\n",
    "    \n",
    "    def activation(self, X):\n",
    "        return self.net_input(X)\n",
    "    \n",
    "    def predict(self, X):\n",
    "        return np.where(self.net_input(X) >= 0, 1, -1) # Quantizer here"
   ]
  },
  {
   "cell_type": "code",
   "execution_count": 2,
   "metadata": {
    "collapsed": false,
    "slideshow": {
     "slide_type": "subslide"
    }
   },
   "outputs": [
    {
     "name": "stdout",
     "output_type": "stream",
     "text": [
      "[50.0, 2230.8539602549999, 3475977.0425619674, 5423372722.5878315, 8461791557634.3311, 13202470134517624.0, 2.0599091394023023e+19, 3.2139634624124605e+22, 5.0145712449819432e+25, 7.8239609955381275e+28]\n"
     ]
    }
   ],
   "source": [
    "# 建立一個 AdalineGD 類別（2）\n",
    "import numpy as np\n",
    "from sklearn.datasets import load_iris\n",
    "\n",
    "# AdalineGD here\n",
    "# ...\n",
    "\n",
    "iris = load_iris()\n",
    "X = iris.data[:100, [0, 2]]\n",
    "y = iris.target[:100]\n",
    "y = np.where(y == 0, -1, 1)\n",
    "ada1 = AdalineGD(eta = 0.01, n_epoch = 10) # 較大的 Learning Rate\n",
    "ada1.fit(X, y)\n",
    "print(ada1.costs)"
   ]
  },
  {
   "cell_type": "code",
   "execution_count": 3,
   "metadata": {
    "collapsed": false,
    "slideshow": {
     "slide_type": "subslide"
    }
   },
   "outputs": [
    {
     "name": "stdout",
     "output_type": "stream",
     "text": [
      "[50.0, 48.069162686025493, 46.756247850736642, 45.675881529053832, 44.6913293479668, 43.753888361923508, 42.846027487584522, 41.961257613784404, 41.097004964113069, 40.252087948337085]\n"
     ]
    }
   ],
   "source": [
    "# 建立一個 AdalineGD 類別（3）\n",
    "\n",
    "ada2 = AdalineGD(eta = 0.0001, n_epoch = 10) # 較小的 Learning Rate\n",
    "ada2.fit(X, y)\n",
    "print(ada2.costs)"
   ]
  },
  {
   "cell_type": "code",
   "execution_count": 4,
   "metadata": {
    "collapsed": false,
    "slideshow": {
     "slide_type": "subslide"
    }
   },
   "outputs": [
    {
     "data": {
      "image/png": "[encoded data removed]",
      "text/plain": [
       "<matplotlib.figure.Figure at 0x112907d30>"
      ]
     },
     "metadata": {},
     "output_type": "display_data"
    }
   ],
   "source": [
    "# 建立一個 AdalineGD 類別（4）\n",
    "\n",
    "import matplotlib.pyplot as plt\n",
    "\n",
    "plt.subplot(1, 2, 1)\n",
    "plt.plot(range(1, len(ada1.costs) + 1), np.log10(ada1.costs), marker = \"o\")\n",
    "plt.xlabel(\"Epochs\")\n",
    "plt.ylabel(\"log(SSE)\")\n",
    "plt.title(\"Adaline: Learning Rate at 0.01\")\n",
    "plt.subplot(1, 2, 2)\n",
    "plt.plot(range(1, len(ada2.costs) + 1), ada2.costs, marker = \"o\")\n",
    "plt.xlabel(\"Epochs\")\n",
    "plt.ylabel(\"SSE\")\n",
    "plt.title(\"Adaline: Learning Rate at 0.0001\")\n",
    "plt.tight_layout()\n",
    "plt.show()"
   ]
  },
  {
   "cell_type": "markdown",
   "metadata": {
    "slideshow": {
     "slide_type": "subslide"
    }
   },
   "source": [
    "## 建立一個 AdalineGD 類別（5）\n",
    "\n",
    "![gradient descent](https://storage.googleapis.com/py_ml_images/gd2.png)"
   ]
  }
 ],
 "metadata": {
  "celltoolbar": "Slideshow",
  "kernelspec": {
   "display_name": "Python 3",
   "language": "python",
   "name": "python3"
  },
  "language_info": {
   "codemirror_mode": {
    "name": "ipython",
    "version": 3
   },
   "file_extension": ".py",
   "mimetype": "text/x-python",
   "name": "python",
   "nbconvert_exporter": "python",
   "pygments_lexer": "ipython3",
   "version": "3.6.0"
  }
 },
 "nbformat": 4,
 "nbformat_minor": 2
}
