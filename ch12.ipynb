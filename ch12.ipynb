{
 "cells": [
  {
   "cell_type": "markdown",
   "metadata": {
    "slideshow": {
     "slide_type": "slide"
    }
   },
   "source": [
    "# Python 與機器學習（2）\n",
    "\n",
    "## 郭耀仁"
   ]
  },
  {
   "cell_type": "markdown",
   "metadata": {
    "slideshow": {
     "slide_type": "slide"
    }
   },
   "source": [
    "## 分類問題\n",
    "\n",
    "- 從 Logistic Regression 羅吉斯回歸開始\n",
    "- 雖然有回歸兩個字，但其實是個分類器\n",
    "- 處理二元分類問題\n",
    "    - Hot dog/Not hot dog\n",
    "    - 垃圾/普通郵件\n",
    "    - 詐欺/普通交易"
   ]
  },
  {
   "cell_type": "code",
   "execution_count": 1,
   "metadata": {
    "collapsed": false,
    "slideshow": {
     "slide_type": "subslide"
    }
   },
   "outputs": [
    {
     "data": {
      "image/png": "[encoded data removed]",
      "text/plain": [
       "<matplotlib.figure.Figure at 0x109e8aac8>"
      ]
     },
     "metadata": {},
     "output_type": "display_data"
    }
   ],
   "source": [
    "import numpy as np\n",
    "import matplotlib.pyplot as plt\n",
    "\n",
    "x_arr_1, x_arr_2 = np.arange(1, 6), np.arange(7, 12)\n",
    "y_arr_1, y_arr_2 = np.zeros(5), np.ones(5)\n",
    "plt.scatter(np.concatenate([x_arr_1, x_arr_2]), np.concatenate([y_arr_1, y_arr_2]), marker = 'x', color = 'r')\n",
    "plt.xlabel(\"Unusual pattern counts\")\n",
    "plt.yticks([0, 0.5, 1], [\"No(0)\", \"Fraud?\", \"Yes(1)\"])\n",
    "plt.axhline(y = 0.5, c = 'k', ls = ':')\n",
    "plt.show()"
   ]
  },
  {
   "cell_type": "markdown",
   "metadata": {
    "slideshow": {
     "slide_type": "subslide"
    }
   },
   "source": [
    "## 分類問題（2）\n",
    "\n",
    "- 我們需要將 $h(x) = \\theta^{T}x$ 輸出的值域轉換至 $0 \\leq h(x) \\leq 1$\n",
    "- 利用 $g$ 函數，也就是 sigmoid function\n",
    "\n",
    "$$g(z) = \\frac{1}{1+e^{-z}}$$\n",
    "$$h(x) = g(\\theta^{T}x) = \\frac{1}{1 + e^{-\\theta^{T}x}}$$\n",
    "\n",
    "- 練習繪畫 sigmoid function"
   ]
  },
  {
   "cell_type": "code",
   "execution_count": 2,
   "metadata": {
    "collapsed": false,
    "slideshow": {
     "slide_type": "subslide"
    }
   },
   "outputs": [
    {
     "data": {
      "image/png": "[encoded data removed]",
      "text/plain": [
       "<matplotlib.figure.Figure at 0x110279eb8>"
      ]
     },
     "metadata": {},
     "output_type": "display_data"
    }
   ],
   "source": [
    "import matplotlib.pyplot as plt\n",
    "import numpy as np\n",
    "\n",
    "def sigmoid_fun(x):\n",
    "    return 1 / (1 + np.exp(-x))\n",
    "\n",
    "x = np.linspace(-10, 10, 100)\n",
    "y = sigmoid_fun(x)\n",
    "plt.plot(x, y)\n",
    "plt.axvline(0, color = 'black')\n",
    "plt.axhline(y = 0, ls = ':', color = 'k', alpha = 0.5)\n",
    "plt.axhline(y = 0.5, ls = ':', color = 'k', alpha = 0.5)\n",
    "plt.axhline(y = 1, ls = ':', color = 'k', alpha = 0.5)\n",
    "plt.yticks([0.0, 0.5, 1.0])\n",
    "plt.ylim(-0.1, 1.1)\n",
    "plt.title(\"Sigmoid Function\")\n",
    "plt.show()"
   ]
  },
  {
   "cell_type": "markdown",
   "metadata": {
    "slideshow": {
     "slide_type": "subslide"
    }
   },
   "source": [
    "## 分類問題（3）\n",
    "\n",
    "- 接著我們再做一次轉換，決定 $g(z)$ 輸出的機率該如何轉換至 $\\hat{y} \\in {\\{0, 1\\}}$\n",
    "\n",
    "$$ \\hat{y} =\n",
    "  \\begin{cases}\n",
    "    1       & \\quad \\text{if } h(x)\\geq 0.5\\\\\n",
    "    0  & \\quad \\text{otherwise}\\\\\n",
    "  \\end{cases}\n",
    "$$"
   ]
  },
  {
   "cell_type": "markdown",
   "metadata": {
    "slideshow": {
     "slide_type": "subslide"
    }
   },
   "source": [
    "## 分類問題（4）\n",
    "\n",
    "![Logistic Regression](https://storage.googleapis.com/py_ml_images/logistic_regression.png)"
   ]
  },
  {
   "cell_type": "markdown",
   "metadata": {
    "slideshow": {
     "slide_type": "subslide"
    }
   },
   "source": [
    "## 分類問題（5）\n",
    "\n",
    "$$\\theta = \\begin{bmatrix}\n",
    "    -3 \\\\ 1 \\\\ 1\n",
    "\\end{bmatrix}$$\n",
    "\n",
    "$$h(x) = \\theta^{T}x = -3 + x_1 + x_2$$"
   ]
  },
  {
   "cell_type": "code",
   "execution_count": 3,
   "metadata": {
    "collapsed": false,
    "slideshow": {
     "slide_type": "subslide"
    }
   },
   "outputs": [
    {
     "data": {
      "image/png": "[encoded data removed]",
      "text/plain": [
       "<matplotlib.figure.Figure at 0x10bc42198>"
      ]
     },
     "metadata": {},
     "output_type": "display_data"
    }
   ],
   "source": [
    "import numpy as np\n",
    "import matplotlib.pyplot as plt\n",
    "import random\n",
    "\n",
    "x1_arr = np.linspace(0, 3, 100)\n",
    "x_points = np.linspace(0, 3, 20)\n",
    "x_points_len = int(len(x_points) / 2)\n",
    "y_minus = np.array(random.choices(np.arange(1, 2, 0.01), k = x_points_len)) - x_points[:x_points_len]\n",
    "y_plus = np.array(random.choices(np.arange(4, 6, 0.01), k = x_points_len)) - x_points[x_points_len:]\n",
    "plt.scatter(x_points[:x_points_len], y_minus, marker = '_', s = 200)\n",
    "plt.scatter(x_points[x_points_len:], y_plus, marker = '+', c = 'r', s = 200)\n",
    "plt.plot(x1_arr, 3 - x1_arr, c = 'k')\n",
    "plt.xlabel(\"$x_1$\")\n",
    "plt.ylabel(\"$x_2$\")\n",
    "plt.title(\"Decision Boundary\")\n",
    "plt.show()"
   ]
  },
  {
   "cell_type": "markdown",
   "metadata": {
    "slideshow": {
     "slide_type": "subslide"
    }
   },
   "source": [
    "## 分類問題（6）\n",
    "\n",
    "- 成本函數\n",
    "- 使用跟迴歸問題不同的成本函數\n",
    "\n",
    "$$J(h(x), y) =\n",
    "  \\begin{cases}\n",
    "    -\\log(h(x))  & \\quad \\text{if } y = 1\\\\\n",
    "    -\\log(1 - h(x))  & \\quad \\text{if } y = 0\\\\\n",
    "  \\end{cases}\n",
    "$$"
   ]
  },
  {
   "cell_type": "code",
   "execution_count": 4,
   "metadata": {
    "collapsed": false,
    "slideshow": {
     "slide_type": "subslide"
    }
   },
   "outputs": [
    {
     "data": {
      "image/png": "[encoded data removed]",
      "text/plain": [
       "<matplotlib.figure.Figure at 0x113a6c470>"
      ]
     },
     "metadata": {},
     "output_type": "display_data"
    }
   ],
   "source": [
    "import matplotlib.pyplot as plt\n",
    "import numpy as np\n",
    "\n",
    "x = np.arange(0.01, 1, 0.01)\n",
    "y1 = -np.log(x)\n",
    "y2 = -np.log(1 - x)\n",
    "plt.subplot(1, 2, 1)\n",
    "plt.plot(x, y1)\n",
    "plt.title(\"$-\\log{h(x)}$\")\n",
    "plt.subplot(1, 2, 2)\n",
    "plt.plot(x, y2)\n",
    "plt.title(\"$-\\log{(1-h(x))}$\")\n",
    "plt.tight_layout()\n",
    "plt.show()"
   ]
  },
  {
   "cell_type": "markdown",
   "metadata": {
    "slideshow": {
     "slide_type": "subslide"
    }
   },
   "source": [
    "## 分類問題（7）\n",
    "\n",
    "- 視覺化之後我們可以較清楚暸解 Logistic Regression 的成本函數意涵：\n",
    "    - 當 y = 1 的時候，如果 $h(x)$ 預測是 0，則成本函數趨近無限大；反之成本函數為 0\n",
    "    - 當 y = 0 的時候，如果 $h(x)$ 預測是 1，則成本函數趨近無限大；反之成本函數為 0"
   ]
  },
  {
   "cell_type": "markdown",
   "metadata": {
    "slideshow": {
     "slide_type": "subslide"
    }
   },
   "source": [
    "## 分類問題（8）\n",
    "\n",
    "- 梯度遞減\n",
    "\n",
    "$$J(h(x), y) = -y\\log(h(x)) - (1-y)\\log(1-h(x))$$\n",
    "\n",
    "$$J(\\theta) = -\\frac{1}{m}\\sum_{i = 1}^{m}[y\\log(h(x))+(1-y)\\log(1-h(x))]$$\n",
    "\n",
    "$$\\theta_j := \\theta_j - \\alpha \\frac{\\mathrm \\partial}{\\mathrm \\partial \\theta_j} J(\\theta)$$"
   ]
  },
  {
   "cell_type": "markdown",
   "metadata": {
    "slideshow": {
     "slide_type": "subslide"
    }
   },
   "source": [
    "## 分類問題（9）\n",
    "\n",
    "- 延伸二元分類到多元分類問題：One-vs-all\n",
    "\n",
    "$$y \\in {\\{0, 1, 2\\}}$$\n",
    "$$h^{0}(x) = P(y = 0 \\mid x; \\theta)$$\n",
    "$$h^{1}(x) = P(y = 1 \\mid x; \\theta)$$\n",
    "$$h^{2}(x) = P(y = 2 \\mid x; \\theta)$$\n",
    "$$\\text{prediction:}\\;\\;max(h^{0}(x), h^{1}(x), h^{2}(x))$$"
   ]
  },
  {
   "cell_type": "code",
   "execution_count": 5,
   "metadata": {
    "collapsed": false,
    "slideshow": {
     "slide_type": "subslide"
    }
   },
   "outputs": [
    {
     "data": {
      "image/png": "[encoded data removed]",
      "text/plain": [
       "<matplotlib.figure.Figure at 0x113a733c8>"
      ]
     },
     "metadata": {},
     "output_type": "display_data"
    }
   ],
   "source": [
    "import numpy as np\n",
    "import matplotlib.pyplot as plt\n",
    "\n",
    "x_arr = np.arange(1, 13)\n",
    "y_arr_length = [3, 4, 5]\n",
    "random.seed(123)\n",
    "y_arr_1 = x_arr[:3] + np.array(random.choices(np.arange(10, 15, 0.1), k = y_arr_length[0]))\n",
    "y_arr_2 = x_arr[3:7] + np.array(random.choices(np.arange(0, 5, 0.1), k = y_arr_length[1]))\n",
    "y_arr_3 = x_arr[7:] + np.array(random.choices(np.arange(5, 10, 0.1), k = y_arr_length[2]))\n",
    "plt.scatter(x_arr[:3], y_arr_1, c = 'g', marker = '^', s = 200)\n",
    "plt.scatter(x_arr[3:7], y_arr_2, c = 'b', marker = 's', s = 200)\n",
    "plt.scatter(x_arr[7:], y_arr_3, c = 'r', marker = 'x', s = 200)\n",
    "plt.show()"
   ]
  },
  {
   "cell_type": "code",
   "execution_count": 6,
   "metadata": {
    "collapsed": false,
    "slideshow": {
     "slide_type": "subslide"
    }
   },
   "outputs": [
    {
     "data": {
      "text/plain": [
       "[<matplotlib.lines.Line2D at 0x11402dfd0>]"
      ]
     },
     "execution_count": 6,
     "metadata": {},
     "output_type": "execute_result"
    }
   ],
   "source": [
    "import numpy as np\n",
    "import matplotlib.pyplot as plt\n",
    "\n",
    "x_arr = np.arange(1, 13)\n",
    "y_arr_length = [3, 4, 5]\n",
    "random.seed(123)\n",
    "y_arr_1 = x_arr[:3] + np.array(random.choices(np.arange(10, 15, 0.1), k = y_arr_length[0]))\n",
    "y_arr_2 = x_arr[3:7] + np.array(random.choices(np.arange(0, 5, 0.1), k = y_arr_length[1]))\n",
    "y_arr_3 = x_arr[7:] + np.array(random.choices(np.arange(5, 10, 0.1), k = y_arr_length[2]))\n",
    "plt.subplot(1, 3, 1)\n",
    "plt.scatter(x_arr[:3], y_arr_1, c = 'g', marker = '^', s = 200)\n",
    "plt.scatter(x_arr[3:], np.concatenate([y_arr_2, y_arr_3]), c = 'k', marker = 'o', s = 200)\n",
    "plt.plot([2, 5], [2, 18])\n",
    "plt.subplot(1, 3, 2)\n",
    "plt.scatter(x_arr[3:7], y_arr_2, c = 'b', marker = 's', s = 200)\n",
    "plt.scatter(np.concatenate([x_arr[:3], x_arr[7:]]), np.concatenate([y_arr_1, y_arr_3]), c = 'k', marker = 'o', s = 200)\n",
    "plt.plot([0, 15], [10, 12])\n",
    "plt.subplot(1, 3, 3)\n",
    "plt.scatter(x_arr[7:], y_arr_3, c = 'r', marker = 'x', s = 200)\n",
    "plt.scatter(x_arr[:7], np.concatenate([y_arr_1, y_arr_2]), c = 'k', marker = 'o', s = 200)\n",
    "plt.plot([5, 10], [20, 3])"
   ]
  },
  {
   "cell_type": "code",
   "execution_count": 7,
   "metadata": {
    "collapsed": false,
    "slideshow": {
     "slide_type": "subslide"
    }
   },
   "outputs": [
    {
     "data": {
      "image/png": "[encoded data removed]",
      "text/plain": [
       "<matplotlib.figure.Figure at 0x113d62780>"
      ]
     },
     "metadata": {},
     "output_type": "display_data"
    }
   ],
   "source": [
    "plt.tight_layout()\n",
    "plt.show()"
   ]
  }
 ],
 "metadata": {
  "celltoolbar": "Slideshow",
  "kernelspec": {
   "display_name": "Python 3",
   "language": "python",
   "name": "python3"
  },
  "language_info": {
   "codemirror_mode": {
    "name": "ipython",
    "version": 3
   },
   "file_extension": ".py",
   "mimetype": "text/x-python",
   "name": "python",
   "nbconvert_exporter": "python",
   "pygments_lexer": "ipython3",
   "version": "3.6.0"
  }
 },
 "nbformat": 4,
 "nbformat_minor": 2
}
