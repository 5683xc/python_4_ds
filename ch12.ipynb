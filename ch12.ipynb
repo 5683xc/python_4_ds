{
 "cells": [
  {
   "cell_type": "markdown",
   "metadata": {
    "slideshow": {
     "slide_type": "slide"
    }
   },
   "source": [
    "# Python 與機器學習 - 分類問題\n",
    "\n",
    "## 郭耀仁"
   ]
  },
  {
   "cell_type": "markdown",
   "metadata": {
    "slideshow": {
     "slide_type": "slide"
    }
   },
   "source": [
    "## 分類問題\n",
    "\n",
    "- 我們從 Logistic Regression 羅吉斯回歸開始\n",
    "- 雖然有回歸兩個字，但其實是個分類器\n",
    "- 處理二元分類問題\n",
    "    - Hot dog/Not hot dog\n",
    "    - 垃圾/非垃圾郵件\n",
    "    - 詐欺/非詐欺交易"
   ]
  },
  {
   "cell_type": "code",
   "execution_count": 1,
   "metadata": {
    "collapsed": false,
    "slideshow": {
     "slide_type": "skip"
    }
   },
   "outputs": [
    {
     "data": {
      "text/plain": [
       "[<matplotlib.lines.Line2D at 0x10b9c57b8>]"
      ]
     },
     "execution_count": 1,
     "metadata": {},
     "output_type": "execute_result"
    }
   ],
   "source": [
    "import numpy as np\n",
    "import matplotlib.pyplot as plt\n",
    "\n",
    "x_arr_1, x_arr_2 = np.arange(1, 6), np.arange(7, 12)\n",
    "y_arr_1, y_arr_2 = np.zeros(5), np.ones(5)\n",
    "plt.scatter(np.concatenate([x_arr_1, x_arr_2]), np.concatenate([y_arr_1, y_arr_2]), marker = 'x', color = 'r')\n",
    "plt.xlabel(\"Unusual pattern counts\")\n",
    "plt.yticks([0, 0.5, 1], [\"No(0)\", \"Fraud?\", \"Yes(1)\"])\n",
    "plt.axhline(y = 0.5, c = 'k', ls = ':')\n",
    "plt.plot([1, 12], [0.1, 1], c = \"b\", linestyle = \"-\", alpha = 0.3)"
   ]
  },
  {
   "cell_type": "code",
   "execution_count": 2,
   "metadata": {
    "collapsed": false,
    "slideshow": {
     "slide_type": "subslide"
    }
   },
   "outputs": [
    {
     "data": {
      "image/png": "[encoded data removed]",
      "text/plain": [
       "<matplotlib.figure.Figure at 0x1022f2a58>"
      ]
     },
     "metadata": {},
     "output_type": "display_data"
    }
   ],
   "source": [
    "plt.show()"
   ]
  },
  {
   "cell_type": "markdown",
   "metadata": {
    "slideshow": {
     "slide_type": "subslide"
    }
   },
   "source": [
    "## 分類問題（2）\n",
    "\n",
    "- 我們需要將 $h(x) = \\theta^{T}x$ 輸出的值域轉換至 $0 \\leq h(x) \\leq 1$\n",
    "- 利用 $g$ 函數，也就是 sigmoid function\n",
    "\n",
    "$$g(z) = \\frac{1}{1+e^{-z}}$$\n",
    "$$h(x) = g(\\theta^{T}x) = \\frac{1}{1 + e^{-\\theta^{T}x}}$$"
   ]
  },
  {
   "cell_type": "code",
   "execution_count": 3,
   "metadata": {
    "collapsed": false,
    "slideshow": {
     "slide_type": "subslide"
    }
   },
   "outputs": [
    {
     "data": {
      "text/plain": [
       "<matplotlib.text.Text at 0x10bae9400>"
      ]
     },
     "execution_count": 3,
     "metadata": {},
     "output_type": "execute_result"
    }
   ],
   "source": [
    "import matplotlib.pyplot as plt\n",
    "import numpy as np\n",
    "\n",
    "def sigmoid_fun(x):\n",
    "    return 1 / (1 + np.exp(-x))\n",
    "\n",
    "x = np.linspace(-10, 10, 100)\n",
    "y = sigmoid_fun(x)\n",
    "plt.plot(x, y)\n",
    "plt.axvline(0, color = 'black')\n",
    "plt.axhline(y = 0, ls = ':', color = 'k', alpha = 0.5)\n",
    "plt.axhline(y = 0.5, ls = ':', color = 'k', alpha = 0.5)\n",
    "plt.axhline(y = 1, ls = ':', color = 'k', alpha = 0.5)\n",
    "plt.yticks([0.0, 0.5, 1.0])\n",
    "plt.ylim(-0.1, 1.1)\n",
    "plt.title(\"Sigmoid Function\")"
   ]
  },
  {
   "cell_type": "code",
   "execution_count": 4,
   "metadata": {
    "collapsed": false,
    "slideshow": {
     "slide_type": "subslide"
    }
   },
   "outputs": [
    {
     "data": {
      "image/png": "[encoded data removed]",
      "text/plain": [
       "<matplotlib.figure.Figure at 0x10866d8d0>"
      ]
     },
     "metadata": {},
     "output_type": "display_data"
    }
   ],
   "source": [
    "plt.show()"
   ]
  },
  {
   "cell_type": "markdown",
   "metadata": {
    "slideshow": {
     "slide_type": "subslide"
    }
   },
   "source": [
    "## 分類問題（3）\n",
    "\n",
    "- 接著我們再做一次轉換，決定 $g(z)$ 輸出的機率該如何轉換至 $\\hat{y} \\in {\\{0, 1\\}}$\n",
    "\n",
    "$$ \\hat{y} = H(x) =\n",
    "  \\begin{cases}\n",
    "    1       & \\quad \\text{if } x\\geq 0.5\\\\\n",
    "    0  & \\quad \\text{otherwise}\\\\\n",
    "  \\end{cases}\n",
    "$$"
   ]
  },
  {
   "cell_type": "markdown",
   "metadata": {
    "slideshow": {
     "slide_type": "subslide"
    }
   },
   "source": [
    "## 分類問題（4）\n",
    "\n",
    "- 拆解 Logistic 分類器的建立流程：\n",
    "    - 建立迴歸模型 $h(x) = \\theta^Tx$\n",
    "    - 將 $h$ 的輸出作為 Sigmoid 函數的輸入，得到 $g(\\theta^Tx)$\n",
    "    - 將 $g(\\theta^Tx)$ 作為 $H$ 的輸入，得到 $\\hat{y}$"
   ]
  },
  {
   "cell_type": "markdown",
   "metadata": {
    "slideshow": {
     "slide_type": "subslide"
    }
   },
   "source": [
    "## 分類問題（5）\n",
    "\n",
    "- 假如 $(\\theta_0, \\theta_1, \\theta_2) = (-3, 1, 1)$：\n",
    "\n",
    "$$\\theta = \\begin{bmatrix}\n",
    "    -3 \\\\ 1 \\\\ 1\n",
    "\\end{bmatrix}$$\n",
    "\n",
    "$$h(x) = \\theta^{T}x = -3 + x_1 + x_2$$"
   ]
  },
  {
   "cell_type": "code",
   "execution_count": 5,
   "metadata": {
    "collapsed": false,
    "slideshow": {
     "slide_type": "skip"
    }
   },
   "outputs": [
    {
     "data": {
      "text/plain": [
       "<matplotlib.text.Text at 0x10bc9c9b0>"
      ]
     },
     "execution_count": 5,
     "metadata": {},
     "output_type": "execute_result"
    }
   ],
   "source": [
    "import numpy as np\n",
    "import matplotlib.pyplot as plt\n",
    "import random\n",
    "\n",
    "x1_arr = np.linspace(0, 3, 100)\n",
    "x_points = np.linspace(0, 3, 20)\n",
    "x_points_len = int(len(x_points) / 2)\n",
    "y_minus = np.array(random.choices(np.arange(1, 2, 0.01), k = x_points_len)) - x_points[:x_points_len]\n",
    "y_plus = np.array(random.choices(np.arange(4, 6, 0.01), k = x_points_len)) - x_points[x_points_len:]\n",
    "plt.scatter(x_points[:x_points_len], y_minus, marker = '_', s = 200)\n",
    "plt.scatter(x_points[x_points_len:], y_plus, marker = '+', c = 'r', s = 200)\n",
    "plt.plot(x1_arr, 3 - x1_arr, c = 'k')\n",
    "plt.xlabel(\"$x_1$\")\n",
    "plt.ylabel(\"$x_2$\")\n",
    "plt.title(\"Decision Boundary\")"
   ]
  },
  {
   "cell_type": "code",
   "execution_count": 6,
   "metadata": {
    "collapsed": false,
    "slideshow": {
     "slide_type": "subslide"
    }
   },
   "outputs": [
    {
     "data": {
      "image/png": "[encoded data removed]",
      "text/plain": [
       "<matplotlib.figure.Figure at 0x10bb71240>"
      ]
     },
     "metadata": {},
     "output_type": "display_data"
    }
   ],
   "source": [
    "plt.show()"
   ]
  },
  {
   "cell_type": "markdown",
   "metadata": {
    "slideshow": {
     "slide_type": "subslide"
    }
   },
   "source": [
    "## 分類問題（6）\n",
    "\n",
    "- 成本函數\n",
    "- 使用跟迴歸問題不同的成本函數\n",
    "\n",
    "$$J(h(x), y) =\n",
    "  \\begin{cases}\n",
    "    -\\log(h(x))  & \\quad \\text{if } y = 1\\\\\n",
    "    -\\log(1 - h(x))  & \\quad \\text{if } y = 0\\\\\n",
    "  \\end{cases}\n",
    "$$"
   ]
  },
  {
   "cell_type": "code",
   "execution_count": 7,
   "metadata": {
    "collapsed": true,
    "slideshow": {
     "slide_type": "skip"
    }
   },
   "outputs": [],
   "source": [
    "import matplotlib.pyplot as plt\n",
    "import numpy as np\n",
    "\n",
    "x = np.arange(0.01, 1, 0.01)\n",
    "y1 = -np.log(x)\n",
    "y2 = -np.log(1 - x)\n",
    "plt.figure(figsize = (8, 4))\n",
    "plt.subplot(1, 2, 1)\n",
    "plt.plot(x, y1)\n",
    "plt.title(\"$-\\log{h(x)}$\")\n",
    "plt.subplot(1, 2, 2)\n",
    "plt.plot(x, y2)\n",
    "plt.title(\"$-\\log{(1-h(x))}$\")\n",
    "plt.tight_layout()"
   ]
  },
  {
   "cell_type": "code",
   "execution_count": 8,
   "metadata": {
    "collapsed": false,
    "slideshow": {
     "slide_type": "subslide"
    }
   },
   "outputs": [
    {
     "data": {
      "image/png": "[encoded data removed]",
      "text/plain": [
       "<matplotlib.figure.Figure at 0x10bfc0208>"
      ]
     },
     "metadata": {},
     "output_type": "display_data"
    }
   ],
   "source": [
    "plt.show()"
   ]
  },
  {
   "cell_type": "markdown",
   "metadata": {
    "slideshow": {
     "slide_type": "subslide"
    }
   },
   "source": [
    "## 分類問題（7）\n",
    "\n",
    "- 視覺化之後我們可以較清楚暸解 Logistic Regression 的成本函數意涵：\n",
    "    - 當 y = 1 的時候，如果 $h(x)$ 預測是 0，則成本函數趨近無限大；反之成本函數為 0\n",
    "    - 當 y = 0 的時候，如果 $h(x)$ 預測是 1，則成本函數趨近無限大；反之成本函數為 0"
   ]
  },
  {
   "cell_type": "markdown",
   "metadata": {
    "slideshow": {
     "slide_type": "subslide"
    }
   },
   "source": [
    "## 分類問題（8）\n",
    "\n",
    "- 梯度遞減\n",
    "\n",
    "$$J(h(x), y) = -y\\log(h(x)) - (1-y)\\log(1-h(x))$$\n",
    "\n",
    "$$J(\\theta) = -\\frac{1}{m}\\sum_{i = 1}^{m}[y\\log(h(x))+(1-y)\\log(1-h(x))]$$\n",
    "\n",
    "$$\\theta_j := \\theta_j - \\alpha \\frac{\\mathrm \\partial}{\\mathrm \\partial \\theta_j} J(\\theta)$$"
   ]
  },
  {
   "cell_type": "markdown",
   "metadata": {
    "slideshow": {
     "slide_type": "subslide"
    }
   },
   "source": [
    "## 分類問題（9）\n",
    "\n",
    "- 延伸二元分類到多元分類問題：One-vs-all\n",
    "\n",
    "$$y \\in {\\{0, 1, 2\\}}$$\n",
    "$$h^{0}(x) = P(y = 0 \\mid x; \\theta)$$\n",
    "$$h^{1}(x) = P(y = 1 \\mid x; \\theta)$$\n",
    "$$h^{2}(x) = P(y = 2 \\mid x; \\theta)$$\n",
    "$$\\text{prediction:}\\;\\;max(h^{0}(x), h^{1}(x), h^{2}(x))$$"
   ]
  },
  {
   "cell_type": "code",
   "execution_count": 9,
   "metadata": {
    "collapsed": false,
    "slideshow": {
     "slide_type": "skip"
    }
   },
   "outputs": [
    {
     "data": {
      "text/plain": [
       "<matplotlib.collections.PathCollection at 0x10c37ff28>"
      ]
     },
     "execution_count": 9,
     "metadata": {},
     "output_type": "execute_result"
    }
   ],
   "source": [
    "import numpy as np\n",
    "import matplotlib.pyplot as plt\n",
    "\n",
    "x_arr = np.arange(1, 13)\n",
    "y_arr_length = [3, 4, 5]\n",
    "random.seed(123)\n",
    "y_arr_1 = x_arr[:3] + np.array(random.choices(np.arange(10, 15, 0.1), k = y_arr_length[0]))\n",
    "y_arr_2 = x_arr[3:7] + np.array(random.choices(np.arange(0, 5, 0.1), k = y_arr_length[1]))\n",
    "y_arr_3 = x_arr[7:] + np.array(random.choices(np.arange(5, 10, 0.1), k = y_arr_length[2]))\n",
    "plt.scatter(x_arr[:3], y_arr_1, c = 'g', marker = '^', s = 200)\n",
    "plt.scatter(x_arr[3:7], y_arr_2, c = 'b', marker = 's', s = 200)\n",
    "plt.scatter(x_arr[7:], y_arr_3, c = 'r', marker = 'x', s = 200)"
   ]
  },
  {
   "cell_type": "code",
   "execution_count": 10,
   "metadata": {
    "collapsed": false,
    "slideshow": {
     "slide_type": "subslide"
    }
   },
   "outputs": [
    {
     "data": {
      "image/png": "[encoded data removed]",
      "text/plain": [
       "<matplotlib.figure.Figure at 0x10c24a6a0>"
      ]
     },
     "metadata": {},
     "output_type": "display_data"
    }
   ],
   "source": [
    "plt.show()"
   ]
  },
  {
   "cell_type": "code",
   "execution_count": 11,
   "metadata": {
    "collapsed": false,
    "slideshow": {
     "slide_type": "skip"
    }
   },
   "outputs": [
    {
     "data": {
      "text/plain": [
       "[<matplotlib.lines.Line2D at 0x10c584ac8>]"
      ]
     },
     "execution_count": 11,
     "metadata": {},
     "output_type": "execute_result"
    }
   ],
   "source": [
    "import numpy as np\n",
    "import matplotlib.pyplot as plt\n",
    "\n",
    "x_arr = np.arange(1, 13)\n",
    "y_arr_length = [3, 4, 5]\n",
    "random.seed(123)\n",
    "y_arr_1 = x_arr[:3] + np.array(random.choices(np.arange(10, 15, 0.1), k = y_arr_length[0]))\n",
    "y_arr_2 = x_arr[3:7] + np.array(random.choices(np.arange(0, 5, 0.1), k = y_arr_length[1]))\n",
    "y_arr_3 = x_arr[7:] + np.array(random.choices(np.arange(5, 10, 0.1), k = y_arr_length[2]))\n",
    "plt.figure(1, figsize=(12, 4))\n",
    "plt.subplot(1, 3, 1)\n",
    "plt.scatter(x_arr[:3], y_arr_1, c = 'g', marker = '^', s = 200)\n",
    "plt.scatter(x_arr[3:], np.concatenate([y_arr_2, y_arr_3]), c = 'k', marker = 'o', s = 200)\n",
    "plt.plot([2, 5], [2, 18])\n",
    "plt.subplot(1, 3, 2)\n",
    "plt.scatter(x_arr[3:7], y_arr_2, c = 'b', marker = 's', s = 200)\n",
    "plt.scatter(np.concatenate([x_arr[:3], x_arr[7:]]), np.concatenate([y_arr_1, y_arr_3]), c = 'k', marker = 'o', s = 200)\n",
    "plt.plot([0, 15], [10, 12])\n",
    "plt.subplot(1, 3, 3)\n",
    "plt.scatter(x_arr[7:], y_arr_3, c = 'r', marker = 'x', s = 200)\n",
    "plt.scatter(x_arr[:7], np.concatenate([y_arr_1, y_arr_2]), c = 'k', marker = 'o', s = 200)\n",
    "plt.plot([5, 10], [20, 3])"
   ]
  },
  {
   "cell_type": "code",
   "execution_count": 12,
   "metadata": {
    "collapsed": false,
    "slideshow": {
     "slide_type": "subslide"
    }
   },
   "outputs": [
    {
     "data": {
      "image/png": "[encoded data removed]",
      "text/plain": [
       "<matplotlib.figure.Figure at 0x10c426fd0>"
      ]
     },
     "metadata": {},
     "output_type": "display_data"
    }
   ],
   "source": [
    "plt.tight_layout()\n",
    "plt.show()"
   ]
  },
  {
   "cell_type": "markdown",
   "metadata": {
    "slideshow": {
     "slide_type": "slide"
    }
   },
   "source": [
    "## 羅吉斯迴歸\n",
    "\n",
    "- 請 `sklearn` 幫我們找 $\\theta_i$"
   ]
  },
  {
   "cell_type": "code",
   "execution_count": 13,
   "metadata": {
    "collapsed": false,
    "slideshow": {
     "slide_type": "subslide"
    }
   },
   "outputs": [
    {
     "data": {
      "image/png": "[encoded data removed]",
      "text/plain": [
       "<matplotlib.figure.Figure at 0x10e64ba20>"
      ]
     },
     "metadata": {},
     "output_type": "display_data"
    }
   ],
   "source": [
    "from sklearn.datasets import load_iris\n",
    "import matplotlib.pyplot as plt\n",
    "\n",
    "iris = load_iris()\n",
    "X = iris.data\n",
    "x1_setosa, x2_setosa = X[:50, 0], X[:50, 2]\n",
    "x1_versicolor, x2_versicolor = X[50:100, 0], X[50:100, 2]\n",
    "\n",
    "plt.scatter(x = x1_setosa, y = x2_setosa, marker = \"o\", color = \"red\", label = \"0\")\n",
    "plt.scatter(x = x1_versicolor, y = x2_versicolor, marker = \"x\", color = \"green\", label = \"1\")\n",
    "plt.legend(loc = \"upper left\")\n",
    "plt.show()"
   ]
  },
  {
   "cell_type": "code",
   "execution_count": 14,
   "metadata": {
    "collapsed": true,
    "slideshow": {
     "slide_type": "subslide"
    }
   },
   "outputs": [],
   "source": [
    "from matplotlib.colors import ListedColormap\n",
    "import matplotlib.pyplot as plt\n",
    "\n",
    "# 決策區域圖\n",
    "def plot_decision_region(X, y, classifier, resolution = 0.02):\n",
    "    markers = ('o', 'x', '^')\n",
    "    colors = ('red', 'green', 'blue')\n",
    "    cmap = ListedColormap(colors[:len(np.unique(y))])\n",
    "\n",
    "    x1_min, x1_max = X[:, 0].min() - 1, X[:, 0].max() + 1\n",
    "    x2_min, x2_max = X[:, 1].min() - 1, X[:, 1].max() + 1\n",
    "    xx1, xx2 = np.meshgrid(np.arange(x1_min, x1_max, resolution),\n",
    "                     np.arange(x2_min, x2_max, resolution))\n",
    "    Z = classifier.predict(np.array([xx1.ravel(), xx2.ravel()]).T)\n",
    "    Z = Z.reshape(xx1.shape)\n",
    "    plt.contourf(xx1, xx2, Z, alpha = 0.3, cmap = cmap)\n",
    "    plt.xlim(xx1.min(), xx1.max())\n",
    "    plt.ylim(xx2.min(), xx2.max())\n",
    "    for idx, cl in enumerate(np.unique(y)):\n",
    "        plt.scatter(x = X[y == cl, 0], y = X[y == cl, 1], c = cmap(idx), marker = markers[idx], label = cl)"
   ]
  },
  {
   "cell_type": "code",
   "execution_count": 15,
   "metadata": {
    "collapsed": false,
    "slideshow": {
     "slide_type": "subslide"
    }
   },
   "outputs": [
    {
     "data": {
      "text/plain": [
       "<matplotlib.legend.Legend at 0x102059358>"
      ]
     },
     "execution_count": 15,
     "metadata": {},
     "output_type": "execute_result"
    }
   ],
   "source": [
    "from sklearn.linear_model import LogisticRegression\n",
    "\n",
    "iris = load_iris()\n",
    "X = iris.data[:100, [0, 2]]\n",
    "y = iris.target[:100]\n",
    "\n",
    "lr = LogisticRegression(C=1000.0, random_state=0)\n",
    "lr.fit(X, y)\n",
    "plot_decision_region(X, y, classifier = lr)\n",
    "plt.legend(loc = \"upper left\")"
   ]
  },
  {
   "cell_type": "code",
   "execution_count": 16,
   "metadata": {
    "collapsed": false,
    "slideshow": {
     "slide_type": "subslide"
    }
   },
   "outputs": [
    {
     "data": {
      "image/png": "[encoded data removed]",
      "text/plain": [
       "<matplotlib.figure.Figure at 0x1020595f8>"
      ]
     },
     "metadata": {},
     "output_type": "display_data"
    }
   ],
   "source": [
    "plt.show()"
   ]
  },
  {
   "cell_type": "markdown",
   "metadata": {
    "slideshow": {
     "slide_type": "slide"
    }
   },
   "source": [
    "## 感知器學習\n",
    "\n",
    "- 沒有經過 sigmoid 函數轉換的簡單分類器\n",
    "- 其中 $\\theta_0x_0$ 即為門檻值\n",
    "- $\\phi$ 函數就像是一個簡單版的 sign 函數\n",
    "\n",
    "$$h(x) = \\theta_0x_0 + \\theta_1x_1 + ... + \\theta_mx_m = \\theta^Tx$$\n",
    "\n",
    "\n",
    "$$\n",
    "    \\hat{y} = \\phi(h(x)) =\n",
    "    \\begin{cases}\n",
    "        1       & \\quad \\text{if } h(x)\\geq 0\\\\\n",
    "    0  & \\quad \\text{ohterwise.}\\\\\n",
    "    \\end{cases}\n",
    "$$"
   ]
  },
  {
   "cell_type": "markdown",
   "metadata": {
    "slideshow": {
     "slide_type": "subslide"
    }
   },
   "source": [
    "## 感知器學習（2）\n",
    "\n",
    "- 初始一個很小趨近於零的值給 $\\theta$\n",
    "- 利用真實答案 $y_i$ 與預測結果 $\\hat{y_i}$ 的誤差更新 $\\theta$\n",
    "\n",
    "$$\\theta_i:=\\theta_i + \\Delta \\theta_i$$\n",
    "\n",
    "$$\\Delta \\theta_i = \\alpha(y_i - \\hat{y_i})x_i$$"
   ]
  },
  {
   "cell_type": "markdown",
   "metadata": {
    "slideshow": {
     "slide_type": "subslide"
    }
   },
   "source": [
    "## 感知器學習（3）\n",
    "\n",
    "- 正確的預測感知器不會修正權重 $\\theta$\n",
    "\n",
    "$$\\Delta \\theta_i = \\alpha (1 - 1)x_i = 0$$\n",
    "$$\\Delta \\theta_i = \\alpha (0 - 0)x_i = 0$$\n",
    "\n",
    "- 錯誤的預測會讓感知器修正權重 $\\theta$ 藉此修正下一輪的預測結果\n",
    "\n",
    "$$\\Delta \\theta_i = \\alpha (1 - 0)x_i = \\alpha (1) x_i$$\n",
    "$$\\Delta \\theta_i = \\alpha (0 - 1)x_i = \\alpha (-1) x_i$$"
   ]
  },
  {
   "cell_type": "markdown",
   "metadata": {
    "slideshow": {
     "slide_type": "subslide"
    }
   },
   "source": [
    "## 感知器學習（4）\n",
    "\n",
    "- 修正的方向：\n",
    "    - $\\Delta \\theta_i = \\alpha (1 - 0)x_i = \\alpha (1) x_i$：$\\theta$ 增大，更容易達成 $h(x) \\geq 0$\n",
    "    - $\\Delta \\theta_i = \\alpha (0 - 1)x_i = \\alpha (-1) x_i$：$\\theta$ 增大，更容易達成 $h(x) < 0$\n",
    "\n",
    "$$\n",
    "    \\hat{y} = \\phi(h(x)) =\n",
    "    \\begin{cases}\n",
    "        1       & \\quad \\text{if } h(x)\\geq 0\\\\\n",
    "    0  & \\quad \\text{ohterwise.}\\\\\n",
    "    \\end{cases}\n",
    "$$"
   ]
  },
  {
   "cell_type": "code",
   "execution_count": 17,
   "metadata": {
    "collapsed": true,
    "slideshow": {
     "slide_type": "subslide"
    }
   },
   "outputs": [],
   "source": [
    "# 建立一個 Perceptron 類別\n",
    "import numpy as np\n",
    "\n",
    "class Perceptron:\n",
    "    def __init__(self, alpha, n_epoch):\n",
    "        self.alpha = alpha\n",
    "        self.n_epoch = n_epoch\n",
    "        \n",
    "    def fit(self, X, y):\n",
    "        self.thetas = np.zeros(1 + X.shape[1]) # 1 給 theta_0, X.shape[1] 給 theta_1~theta_n\n",
    "        self.errors = []\n",
    "        \n",
    "        for i in range(self.n_epoch):\n",
    "            error = 0\n",
    "            for x, target in zip(X, y):\n",
    "                delta_theta = self.alpha * (target - self.predict(x))\n",
    "                self.thetas[1:] += delta_theta * x\n",
    "                self.thetas[0] += delta_theta\n",
    "                error += (delta_theta != 0) # delta_theta 太小，改以 boolean 判斷\n",
    "            self.errors.append(error)\n",
    "        return self\n",
    "    \n",
    "    def net_input(self, X):\n",
    "        return np.dot(self.thetas[1:], X.T) + self.thetas[0]\n",
    "    \n",
    "    def predict(self, X):\n",
    "        return np.where(self.net_input(X) >= 0, 1, 0) # \\phi function is applied here"
   ]
  },
  {
   "cell_type": "code",
   "execution_count": 18,
   "metadata": {
    "collapsed": false,
    "slideshow": {
     "slide_type": "subslide"
    }
   },
   "outputs": [
    {
     "data": {
      "image/png": "[encoded data removed]",
      "text/plain": [
       "<matplotlib.figure.Figure at 0x10eed2f60>"
      ]
     },
     "metadata": {},
     "output_type": "display_data"
    }
   ],
   "source": [
    "import numpy as np\n",
    "from sklearn.datasets import load_iris\n",
    "import matplotlib.pyplot as plt\n",
    "\n",
    "iris = load_iris()\n",
    "X = iris.data[:100, [0, 2]]\n",
    "y = iris.target[:100]\n",
    "ppn = Perceptron(alpha = 0.01, n_epoch = 10)\n",
    "ppn.fit(X, y)\n",
    "plt.plot(np.arange(len(ppn.errors)), ppn.errors, marker = 'o', markersize = 10)\n",
    "plt.xlabel(\"Number of epoches\")\n",
    "plt.ylabel(\"Errors\")\n",
    "plt.title('How many misclassifications?')\n",
    "plt.show()"
   ]
  },
  {
   "cell_type": "code",
   "execution_count": 19,
   "metadata": {
    "collapsed": false,
    "slideshow": {
     "slide_type": "subslide"
    }
   },
   "outputs": [
    {
     "data": {
      "image/png": "[encoded data removed]",
      "text/plain": [
       "<matplotlib.figure.Figure at 0x10bf712b0>"
      ]
     },
     "metadata": {},
     "output_type": "display_data"
    }
   ],
   "source": [
    "plot_decision_region(X, y, classifier = ppn)\n",
    "plt.legend(loc = \"upper left\")\n",
    "plt.show()"
   ]
  },
  {
   "cell_type": "markdown",
   "metadata": {
    "slideshow": {
     "slide_type": "slide"
    }
   },
   "source": [
    "## 線性不可分\n",
    "\n",
    "- 我們的羅吉斯迴歸與感知器學習用來處理線性可分的資料表現得很不錯\n",
    "- 但什麼樣的資料這些分類器會分得很差？"
   ]
  },
  {
   "cell_type": "code",
   "execution_count": 20,
   "metadata": {
    "collapsed": false,
    "slideshow": {
     "slide_type": "subslide"
    }
   },
   "outputs": [
    {
     "data": {
      "image/png": "[encoded data removed]",
      "text/plain": [
       "<matplotlib.figure.Figure at 0x10bad69e8>"
      ]
     },
     "metadata": {},
     "output_type": "display_data"
    }
   ],
   "source": [
    "# 像是這樣子的資料：\n",
    "from sklearn.datasets import make_moons\n",
    "import matplotlib.pyplot as plt\n",
    "\n",
    "X, y = make_moons(n_samples = 100, random_state = 0)\n",
    "plt.scatter(X[y == 0, 0], X[y == 0, 1], c = 'r', marker = 'o', label = '0')\n",
    "plt.scatter(X[y == 1, 0], X[y == 1, 1], c = 'g', marker = 'x', label = '1')\n",
    "plt.legend()\n",
    "plt.show()"
   ]
  },
  {
   "cell_type": "code",
   "execution_count": 21,
   "metadata": {
    "collapsed": false,
    "slideshow": {
     "slide_type": "subslide"
    }
   },
   "outputs": [
    {
     "data": {
      "image/png": "[encoded data removed]",
      "text/plain": [
       "<matplotlib.figure.Figure at 0x10ef32ac8>"
      ]
     },
     "metadata": {},
     "output_type": "display_data"
    }
   ],
   "source": [
    "# 或是像這樣子的資料：\n",
    "from sklearn.datasets import make_circles\n",
    "import matplotlib.pyplot as plt\n",
    "\n",
    "X, y = make_circles(n_samples = 100, random_state = 0, factor = 0.5)\n",
    "plt.scatter(X[y == 0, 0], X[y == 0, 1], c = 'r', marker = 'o', label = '0')\n",
    "plt.scatter(X[y == 1, 0], X[y == 1, 1], c = 'g', marker = 'x', label = '1')\n",
    "plt.legend()\n",
    "plt.show()"
   ]
  },
  {
   "cell_type": "markdown",
   "metadata": {
    "slideshow": {
     "slide_type": "subslide"
    }
   },
   "source": [
    "## 線性不可分（2）\n",
    "\n",
    "- 面對線性不可分的資料，我們可以採取：\n",
    "    - 支持向量機（Support Vector Machine，SVM）\n",
    "    - 決策樹（Decision Tree）\n",
    "    - K 最近鄰（K-nearest neighbor，KNN）"
   ]
  },
  {
   "cell_type": "markdown",
   "metadata": {
    "slideshow": {
     "slide_type": "slide"
    }
   },
   "source": [
    "## 支持向量機\n",
    "\n",
    "- 支持向量機，亦稱為最大邊界分類器\n",
    "\n",
    "$$\\text{minimize}C\\sum_{i=1}^{m}[ycost_1(\\theta^Tx) + (1-y)cost_0(\\theta^Tx)] + \\frac{1}{2}\\sum_{i=1}^{n}\\theta_j^2$$\n",
    "\n",
    "$$C = \\frac{1}{\\lambda}$$"
   ]
  },
  {
   "cell_type": "code",
   "execution_count": 22,
   "metadata": {
    "collapsed": false,
    "slideshow": {
     "slide_type": "skip"
    }
   },
   "outputs": [
    {
     "data": {
      "text/plain": [
       "([], <a list of 0 Text yticklabel objects>)"
      ]
     },
     "execution_count": 22,
     "metadata": {},
     "output_type": "execute_result"
    }
   ],
   "source": [
    "import matplotlib.pyplot as plt\n",
    "import numpy as np\n",
    "\n",
    "def cost_fun_1(x):\n",
    "    if x < 1:\n",
    "        return -x + 1\n",
    "    else:\n",
    "        return 0\n",
    "def cost_fun_0(x):\n",
    "    if x < -1:\n",
    "        return 0\n",
    "    else:\n",
    "        return x + 1\n",
    "x_arr_1 = np.linspace(-1, 3)\n",
    "x_arr_2 = np.linspace(-3, 1)\n",
    "y_arr_1 = list(map(cost_fun_1, x_arr_1))\n",
    "y_arr_2 = list(map(cost_fun_0, x_arr_2))\n",
    "plt.subplot(1, 2, 1)\n",
    "plt.plot(x_arr_1, y_arr_1)\n",
    "plt.xticks([-1, 0, 1])\n",
    "plt.title(\"$Cost_1(z)$\")\n",
    "plt.subplot(1, 2, 2)\n",
    "plt.plot(x_arr_2, y_arr_2)\n",
    "plt.xticks([-1, 0, 1])\n",
    "plt.title(\"$Cost_0(z)$\")\n",
    "plt.yticks([])"
   ]
  },
  {
   "cell_type": "code",
   "execution_count": 23,
   "metadata": {
    "collapsed": false,
    "slideshow": {
     "slide_type": "subslide"
    }
   },
   "outputs": [
    {
     "data": {
      "image/png": "[encoded data removed]",
      "text/plain": [
       "<matplotlib.figure.Figure at 0x10c4335f8>"
      ]
     },
     "metadata": {},
     "output_type": "display_data"
    }
   ],
   "source": [
    "plt.show()"
   ]
  },
  {
   "cell_type": "markdown",
   "metadata": {
    "slideshow": {
     "slide_type": "subslide"
    }
   },
   "source": [
    "## 支持向量機（2）\n",
    "\n",
    "- 支持向量機的成本函數：\n",
    "\n",
    "$$\\text{minimize}\\frac{1}{2}\\sum_{j=1}^{n}\\theta_j^2$$\n",
    "$$\\text{s.t. } \\theta^Tx \\ge 1 \\text{ if } y = 1$$\n",
    "$$\\theta^Tx \\le -1 \\text{ if } y = 0$$"
   ]
  },
  {
   "cell_type": "markdown",
   "metadata": {
    "slideshow": {
     "slide_type": "subslide"
    }
   },
   "source": [
    "## 支持向量機（3）\n",
    "\n",
    "- 支持向量機的成本函數：\n",
    "- 我們可以將 $\\theta^Tx$ 寫成 $p\\|\\theta\\|$，其中 $\\|\\theta\\|$ 是長度 $\\sqrt{\\theta_1^2 + \\theta_2^2 + \\dots}$，而 $p$ 是 $x$ 在 $\\theta$ 的投影\n",
    "- 成本函數\n",
    "\n",
    "$$\\text{minimize}\\frac{1}{2}\\sum_{j=1}^{n}\\theta_j^2$$\n",
    "$$\\text{s.t. } p \\| \\theta \\| \\ge 1 \\text{ if } y = 1$$\n",
    "$$p \\| \\theta \\| \\le -1 \\text{ if } y = 0$$"
   ]
  },
  {
   "cell_type": "markdown",
   "metadata": {
    "slideshow": {
     "slide_type": "subslide"
    }
   },
   "source": [
    "## 支持向量機（4）\n",
    "\n",
    "![](https://qph.ec.quoracdn.net/main-qimg-56a04b0f1969a8bee7264a9162e39d0b)\n",
    "\n",
    "Source: [Quora](https://www.quora.com/)"
   ]
  },
  {
   "cell_type": "markdown",
   "metadata": {
    "slideshow": {
     "slide_type": "subslide"
    }
   },
   "source": [
    "## 支持向量機（5）\n",
    "\n",
    "- 為什麼支持向量機會選 A 而不是 B？\n",
    "    - B 的 $p$ 小，所以 $\\|\\theta\\|$ 較大\n",
    "    - A 的 $p$ 大，所以 $\\|\\theta\\|$ 較小"
   ]
  },
  {
   "cell_type": "markdown",
   "metadata": {
    "slideshow": {
     "slide_type": "subslide"
    }
   },
   "source": [
    "## 支持向量機（6）\n",
    "\n",
    "- 支持向量機使用最大邊界來處理線性可分資料\n",
    "- 支持向量機使用核函數（rbf）計算相似度來處理線性不可分資料"
   ]
  },
  {
   "cell_type": "code",
   "execution_count": 24,
   "metadata": {
    "collapsed": false,
    "slideshow": {
     "slide_type": "subslide"
    }
   },
   "outputs": [
    {
     "data": {
      "image/png": "[encoded data removed]",
      "text/plain": [
       "<matplotlib.figure.Figure at 0x10e6d1978>"
      ]
     },
     "metadata": {},
     "output_type": "display_data"
    }
   ],
   "source": [
    "from sklearn import datasets\n",
    "from sklearn.svm import SVC\n",
    "from sklearn.model_selection import train_test_split\n",
    "\n",
    "iris = datasets.load_iris()\n",
    "svm = SVC(kernel = 'rbf', random_state = 0, gamma = 0.2) # gamma = 0.2, 核函數 rbf\n",
    "iris = datasets.load_iris()\n",
    "X = iris.data[:, 2:] # 花瓣長度與花瓣寬度\n",
    "y = iris.target\n",
    "X_train, X_test, y_train, y_test = train_test_split(X, y, test_size = 0.3)\n",
    "svm = SVC(kernel = 'rbf', random_state = 0, gamma = 0.2) # gamma = 0.2, 核函數 rbf\n",
    "svm.fit(X_train, y_train)\n",
    "plot_decision_region(X = X, y = y, classifier = svm)\n",
    "plt.xlabel('petal length')\n",
    "plt.ylabel('petal width')\n",
    "plt.legend(loc = 'upper left')\n",
    "plt.show()"
   ]
  },
  {
   "cell_type": "markdown",
   "metadata": {
    "slideshow": {
     "slide_type": "subslide"
    }
   },
   "source": [
    "## 支持向量機（7）\n",
    "\n",
    "- 分類演算法的評估指標：[混淆矩陣（Confusion Matrix）](https://en.wikipedia.org/wiki/Confusion_matrix)\n",
    "\n",
    "|   |陽性|陰性|\n",
    "|---|---|----|\n",
    "|陽性|5|8|\n",
    "|陰性|6|7|\n",
    "\n",
    "- $\\text{準確率（Accuracy）}= \\frac{5 + 7}{5 + 6 + 7 + 8} = 0.52$\n",
    "- $\\text{錯誤率（Error）} = 1 - \\text{Accuracy} = 1 - 0.5 = 0.48$"
   ]
  },
  {
   "cell_type": "code",
   "execution_count": 25,
   "metadata": {
    "collapsed": false,
    "slideshow": {
     "slide_type": "subslide"
    }
   },
   "outputs": [
    {
     "name": "stdout",
     "output_type": "stream",
     "text": [
      "Accuracy: 0.91\n"
     ]
    }
   ],
   "source": [
    "from sklearn.metrics import accuracy_score\n",
    "\n",
    "y_pred = svm.predict(X_test)\n",
    "print('Accuracy: %.2f' % accuracy_score(y_test, y_pred))"
   ]
  },
  {
   "cell_type": "code",
   "execution_count": 26,
   "metadata": {
    "collapsed": false,
    "slideshow": {
     "slide_type": "subslide"
    }
   },
   "outputs": [
    {
     "data": {
      "image/png": "[encoded data removed]",
      "text/plain": [
       "<matplotlib.figure.Figure at 0x10f2448d0>"
      ]
     },
     "metadata": {},
     "output_type": "display_data"
    }
   ],
   "source": [
    "# 調整 gamma\n",
    "svm = SVC(kernel = 'rbf', gamma = 2) # gamma = 2\n",
    "svm.fit(X_train, y_train)\n",
    "\n",
    "plot_decision_region(X = X, y = y, classifier = svm)\n",
    "plt.xlabel('petal length')\n",
    "plt.ylabel('petal width')\n",
    "plt.legend(loc = 'upper left')\n",
    "plt.show()"
   ]
  },
  {
   "cell_type": "code",
   "execution_count": 27,
   "metadata": {
    "collapsed": false,
    "slideshow": {
     "slide_type": "subslide"
    }
   },
   "outputs": [
    {
     "name": "stdout",
     "output_type": "stream",
     "text": [
      "Accuracy: 0.93\n"
     ]
    }
   ],
   "source": [
    "from sklearn.metrics import accuracy_score\n",
    "\n",
    "y_pred = svm.predict(X_test)\n",
    "print('Accuracy: %.2f' % accuracy_score(y_test, y_pred))"
   ]
  },
  {
   "cell_type": "code",
   "execution_count": 28,
   "metadata": {
    "collapsed": false,
    "slideshow": {
     "slide_type": "subslide"
    }
   },
   "outputs": [
    {
     "data": {
      "image/png": "[encoded data removed]",
      "text/plain": [
       "<matplotlib.figure.Figure at 0x10f8d7a20>"
      ]
     },
     "metadata": {},
     "output_type": "display_data"
    }
   ],
   "source": [
    "# 調整 gamma\n",
    "svm = SVC(kernel = 'rbf', random_state = 0, gamma = 20) # gamma = 20\n",
    "svm.fit(X_train, y_train)\n",
    "\n",
    "plot_decision_region(X = X, y = y, classifier = svm)\n",
    "plt.xlabel('petal length')\n",
    "plt.ylabel('petal width')\n",
    "plt.legend(loc = 'upper left')\n",
    "plt.show()"
   ]
  },
  {
   "cell_type": "code",
   "execution_count": 29,
   "metadata": {
    "collapsed": false,
    "slideshow": {
     "slide_type": "subslide"
    }
   },
   "outputs": [
    {
     "name": "stdout",
     "output_type": "stream",
     "text": [
      "Accuracy: 0.96\n"
     ]
    }
   ],
   "source": [
    "from sklearn.metrics import accuracy_score\n",
    "\n",
    "y_pred = svm.predict(X_test)\n",
    "print('Accuracy: %.2f' % accuracy_score(y_test, y_pred))"
   ]
  },
  {
   "cell_type": "code",
   "execution_count": 30,
   "metadata": {
    "collapsed": false,
    "slideshow": {
     "slide_type": "subslide"
    }
   },
   "outputs": [
    {
     "data": {
      "image/png": "[encoded data removed]",
      "text/plain": [
       "<matplotlib.figure.Figure at 0x10faa15c0>"
      ]
     },
     "metadata": {},
     "output_type": "display_data"
    }
   ],
   "source": [
    "# 調整 gamma\n",
    "svm = SVC(kernel = 'rbf', random_state = 0, gamma = 100) # gamma = 100\n",
    "svm.fit(X_train, y_train)\n",
    "\n",
    "plot_decision_region(X = X, y = y, classifier = svm)\n",
    "plt.xlabel('petal length')\n",
    "plt.ylabel('petal width')\n",
    "plt.legend(loc = 'upper left')\n",
    "plt.show()"
   ]
  },
  {
   "cell_type": "code",
   "execution_count": 31,
   "metadata": {
    "collapsed": false,
    "slideshow": {
     "slide_type": "subslide"
    }
   },
   "outputs": [
    {
     "name": "stdout",
     "output_type": "stream",
     "text": [
      "Accuracy: 0.91\n"
     ]
    }
   ],
   "source": [
    "from sklearn.metrics import accuracy_score\n",
    "\n",
    "y_pred = svm.predict(X_test)\n",
    "print('Accuracy: %.2f' % accuracy_score(y_test, y_pred))"
   ]
  },
  {
   "cell_type": "markdown",
   "metadata": {
    "slideshow": {
     "slide_type": "subslide"
    }
   },
   "source": [
    "## 支持向量機（8）\n",
    "\n",
    "- 調高 `gamma` 參數的過程，其實就是一個對訓練資料配適（fitting）的過程\n",
    "- 過高的 `gamma` 參數可以讓訓練資料完美的分類，但對測試資料的預測反而下滑"
   ]
  },
  {
   "cell_type": "markdown",
   "metadata": {
    "slideshow": {
     "slide_type": "slide"
    }
   },
   "source": [
    "## 決策樹\n",
    "\n",
    "- 好解釋的分類器\n",
    "- 用不同的門檻值切分變數\n",
    "- 以**最大化**資訊增益值為目標\n",
    "\n",
    "$$IG(D_p) = I(D_p) - \\frac{N_{left}}{N_p}I(D_{left}) - \\frac{N_{right}}{N_p}I(D_{right})$$"
   ]
  },
  {
   "cell_type": "markdown",
   "metadata": {
    "slideshow": {
     "slide_type": "subslide"
    }
   },
   "source": [
    "## 決策樹（2）\n",
    "\n",
    "- 資訊值有三種計算方式：\n",
    "    - 錯誤率（Error）\n",
    "    - 吉尼指標（Gini Index）\n",
    "    - 熵（Entropy）（\\*）"
   ]
  },
  {
   "cell_type": "markdown",
   "metadata": {
    "slideshow": {
     "slide_type": "subslide"
    }
   },
   "source": [
    "## 決策樹（3）\n",
    "\n",
    "- 這三個計算方式都跟**錯誤率（Error）**計算有關"
   ]
  },
  {
   "cell_type": "markdown",
   "metadata": {
    "slideshow": {
     "slide_type": "subslide"
    }
   },
   "source": [
    "## 決策樹（4）\n",
    "\n",
    "|計算方式|資訊值公式|\n",
    "|-------|--------|\n",
    "|錯誤率|$1 - \\text{accuracy}$|\n",
    "|吉尼指標|$1 - \\text{accuracy}^2 - \\text{error}^2$|\n",
    "|熵|$-(\\text{accuracy}\\log_2(\\text{accuracy}) + \\text{error}\\log_2(\\text{error}))$|"
   ]
  },
  {
   "cell_type": "markdown",
   "metadata": {
    "slideshow": {
     "slide_type": "subslide"
    }
   },
   "source": [
    "## 決策樹（5）\n",
    "\n",
    "![Decision Tree Metrics](https://storage.googleapis.com/py_ml_images/tree_metrics.png)"
   ]
  },
  {
   "cell_type": "markdown",
   "metadata": {
    "slideshow": {
     "slide_type": "subslide"
    }
   },
   "source": [
    "## 決策樹（6）\n",
    "\n",
    "- 先計算各個節點的資訊值\n",
    "- A 情況：\n",
    "\n",
    "|計算方式|$I(D_p)$|$I(D_{left})$|$I(D_{right})$|\n",
    "|-------|-----------|---------------|----------------|\n",
    "|錯誤率|$40/80 = 0.5$|$10/40 = 0.25$|$10/40 = 0.25$|\n",
    "|吉尼指標|$1-0.5^2-0.5^2 = 0.5$|$1-0.75^2-0.25^2 = 0.375$|$1-0.75^2-0.25^2 = 0.375$|\n",
    "|熵|$-(0.5log_2(0.5)+0.5log_2(0.5)) = 1$|$-(0.75log_2(0.75)+0.25log_2(0.25)) = 0.81$|$-(0.75log_2(0.75)+0.25log_2(0.25)) = 0.81$|"
   ]
  },
  {
   "cell_type": "markdown",
   "metadata": {
    "slideshow": {
     "slide_type": "subslide"
    }
   },
   "source": [
    "## 決策樹（7）\n",
    "\n",
    "- 先計算各個節點的資訊值\n",
    "- B 情況：\n",
    "\n",
    "|計算方式|$I(D_p)$|$I(D_{left})$|$I(D_{right})$|\n",
    "|-------|-----------|---------------|----------------|\n",
    "|錯誤率|$40/80 = 0.5$|$20/60 = 1/3$|$0/20 = 0$|\n",
    "|吉尼指標|$1-0.5^2-0.5^2 = 0.5$|$1-(2/3)^2-(1/3)^2 = 1/3$|$1-1^2-0^2 = 0$|\n",
    "|熵|$-(0.5log_2(0.5)+0.5log_2(0.5)) = 1$|$-(2/3log_2(2/3)+(1/3)log_2(1/3)) = 0.92$|$-(1log_2(1)+0log_2(0)) = 0$|"
   ]
  },
  {
   "cell_type": "markdown",
   "metadata": {
    "slideshow": {
     "slide_type": "subslide"
    }
   },
   "source": [
    "## 決策樹（8）\n",
    "\n",
    "- 最後計算**資訊增益值**：\n",
    "\n",
    "|計算方式|情況 A|情況 B|\n",
    "|-------|-----|------|\n",
    "|錯誤率|$0.5-\\frac{40}{80}\\times0.25-\\frac{40}{80}\\times0.25 = 0.25$|$0.5-\\frac{6}{8}\\times\\frac{1}{3}-0=0.25$|\n",
    "|吉尼指標|$0.5-\\frac{4}{8}\\times0.375-\\frac{4}{8}\\times0.375=0.125$|$1-\\frac{6}{8}\\times0.\\bar{4}-0=0.1\\bar{6}$|\n",
    "|熵|$0.5-\\frac{4}{8}\\times0.81-\\frac{4}{8}\\times0.81=0.125$|$1-\\frac{6}{8}\\times0.92-0=0.31$|\n",
    "\n",
    "- 實務使用熵（Entropy）居多"
   ]
  },
  {
   "cell_type": "code",
   "execution_count": 32,
   "metadata": {
    "collapsed": false,
    "slideshow": {
     "slide_type": "subslide"
    }
   },
   "outputs": [
    {
     "data": {
      "image/png": "[encoded data removed]",
      "text/plain": [
       "<matplotlib.figure.Figure at 0x10fd35198>"
      ]
     },
     "metadata": {},
     "output_type": "display_data"
    }
   ],
   "source": [
    "from sklearn.tree import DecisionTreeClassifier\n",
    "\n",
    "tree = DecisionTreeClassifier(criterion = \"entropy\", max_depth = 3)\n",
    "tree.fit(X_train, y_train)\n",
    "plot_decision_region(X = X, y = y, classifier = tree)\n",
    "plt.xlabel('petal length')\n",
    "plt.ylabel('petal width')\n",
    "plt.legend(loc = 'upper left')\n",
    "plt.show()"
   ]
  },
  {
   "cell_type": "code",
   "execution_count": 33,
   "metadata": {
    "collapsed": false,
    "slideshow": {
     "slide_type": "subslide"
    }
   },
   "outputs": [
    {
     "name": "stdout",
     "output_type": "stream",
     "text": [
      "Accuracy: 0.96\n"
     ]
    }
   ],
   "source": [
    "from sklearn.metrics import accuracy_score\n",
    "\n",
    "y_pred = tree.predict(X_test)\n",
    "print('Accuracy: %.2f' % accuracy_score(y_test, y_pred))"
   ]
  },
  {
   "cell_type": "markdown",
   "metadata": {
    "slideshow": {
     "slide_type": "subslide"
    }
   },
   "source": [
    "## 決策樹（9）\n",
    "\n",
    "- 假如想要畫出分支圖，需要另外安裝[GraphViz](http://www.graphviz.org/)\n",
    "\n",
    "![GraphViz Decision Tree](https://storage.googleapis.com/py_ml_images/tree_graphviz.png)"
   ]
  },
  {
   "cell_type": "markdown",
   "metadata": {
    "slideshow": {
     "slide_type": "subslide"
    }
   },
   "source": [
    "## K 最近鄰\n",
    "\n",
    "![knn](https://storage.googleapis.com/py_ml_images/knn.png)"
   ]
  },
  {
   "cell_type": "code",
   "execution_count": 34,
   "metadata": {
    "collapsed": false,
    "slideshow": {
     "slide_type": "subslide"
    }
   },
   "outputs": [
    {
     "data": {
      "image/png": "[encoded data removed]",
      "text/plain": [
       "<matplotlib.figure.Figure at 0x10f9427b8>"
      ]
     },
     "metadata": {},
     "output_type": "display_data"
    }
   ],
   "source": [
    "from sklearn.neighbors import KNeighborsClassifier\n",
    "\n",
    "knn = KNeighborsClassifier()\n",
    "knn.fit(X_train, y_train)\n",
    "plot_decision_region(X = X, y = y, classifier = knn) # 換分類器\n",
    "plt.xlabel('petal length')\n",
    "plt.ylabel('petal width')\n",
    "plt.legend(loc = 'upper left')\n",
    "plt.show()"
   ]
  },
  {
   "cell_type": "code",
   "execution_count": 35,
   "metadata": {
    "collapsed": false,
    "slideshow": {
     "slide_type": "subslide"
    }
   },
   "outputs": [
    {
     "name": "stdout",
     "output_type": "stream",
     "text": [
      "Accuracy: 0.96\n"
     ]
    }
   ],
   "source": [
    "from sklearn.metrics import accuracy_score\n",
    "\n",
    "y_pred = knn.predict(X_test)\n",
    "print('Accuracy: %.2f' % accuracy_score(y_test, y_pred))"
   ]
  }
 ],
 "metadata": {
  "celltoolbar": "Slideshow",
  "kernelspec": {
   "display_name": "Python 3",
   "language": "python",
   "name": "python3"
  },
  "language_info": {
   "codemirror_mode": {
    "name": "ipython",
    "version": 3
   },
   "file_extension": ".py",
   "mimetype": "text/x-python",
   "name": "python",
   "nbconvert_exporter": "python",
   "pygments_lexer": "ipython3",
   "version": "3.6.0"
  }
 },
 "nbformat": 4,
 "nbformat_minor": 2
}
