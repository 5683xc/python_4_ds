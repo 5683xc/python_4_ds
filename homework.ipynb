{
 "cells": [
  {
   "cell_type": "markdown",
   "metadata": {
    "slideshow": {
     "slide_type": "slide"
    }
   },
   "source": [
    "# 作業\n",
    "\n",
    "## 郭耀仁"
   ]
  },
  {
   "cell_type": "markdown",
   "metadata": {
    "slideshow": {
     "slide_type": "subslide"
    }
   },
   "source": [
    "## 作業 0: 模組與套件（30/230）\n",
    "\n",
    "- 建立一個 statspy 的套件\n",
    "- 在該套件中建立一個模組：\n",
    "    - my_mean.py\n",
    "- 在這個模組中，建立一個函數：\n",
    "    - `mean_fun()`: 計算數列的平均數"
   ]
  },
  {
   "cell_type": "markdown",
   "metadata": {
    "slideshow": {
     "slide_type": "subslide"
    }
   },
   "source": [
    "## 作業 1: NumPy 入門（30/230）\n",
    "\n",
    "- 建立一個模組 my_std.py\n",
    "- 在這個模組中，建立一個函數：\n",
    "    - `std_fun()`: 計算數列的[樣本標準差](https://zh.wikipedia.org/wiki/%E6%A8%99%E6%BA%96%E5%B7%AE)\n",
    "- 利用 numpy 提供的方法實作\n",
    "\n",
    "$$SD = \\sqrt{\\frac{1}{N-1}\\sum_{i=1}^{N}(x_i - \\bar{x})^2}$$"
   ]
  },
  {
   "cell_type": "markdown",
   "metadata": {
    "slideshow": {
     "slide_type": "subslide"
    }
   },
   "source": [
    "## 作業 2: pandas 入門（50/230）\n",
    "\n",
    "- 完成 [pandas 專題：能源指標](https://yaojenkuo.github.io/python_4_ds/pandas_energy_indicator.slides.html) 的問題一與問題二"
   ]
  },
  {
   "cell_type": "markdown",
   "metadata": {
    "slideshow": {
     "slide_type": "subslide"
    }
   },
   "source": [
    "## 作業 3: 網站爬蟲（50/230）\n",
    "\n",
    "- 將大佛普拉斯的 IMDB 資料（評等、主要演員）擷取並以適當資料形態輸出\n",
    "- 將 Yahoo! 奇摩股市當日上市與上櫃公司成交價 100 名的資料（股票代號、公司名稱、成交價、上市或上櫃）擷取並以適當資料形態輸出"
   ]
  },
  {
   "cell_type": "markdown",
   "metadata": {
    "slideshow": {
     "slide_type": "subslide"
    }
   },
   "source": [
    "## 作業 4: 監督式學習與 scikit-learn（70/230）\n",
    "\n",
    "- 請選擇 [Titanic: Machine Learning from Disaste]() 或 [House Prices: Advanced Regression Techniques]() （擇一）完成預測並上傳"
   ]
  }
 ],
 "metadata": {
  "celltoolbar": "Slideshow",
  "kernelspec": {
   "display_name": "Python 3",
   "language": "python",
   "name": "python3"
  },
  "language_info": {
   "codemirror_mode": {
    "name": "ipython",
    "version": 3
   },
   "file_extension": ".py",
   "mimetype": "text/x-python",
   "name": "python",
   "nbconvert_exporter": "python",
   "pygments_lexer": "ipython3",
   "version": "3.6.0"
  }
 },
 "nbformat": 4,
 "nbformat_minor": 2
}
