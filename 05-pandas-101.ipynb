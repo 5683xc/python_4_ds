{
 "cells": [
  {
   "cell_type": "markdown",
   "metadata": {
    "slideshow": {
     "slide_type": "slide"
    }
   },
   "source": [
    "# 成為初級資料分析師 | Python 與資料科學應用\n",
    "\n",
    "> pandas 101：處理表格式資料的 Python 模組\n",
    "\n",
    "## 郭耀仁"
   ]
  },
  {
   "cell_type": "markdown",
   "metadata": {
    "slideshow": {
     "slide_type": "subslide"
    }
   },
   "source": [
    "## 大綱\n",
    "\n",
    "- pandas 解決了什麼問題\n",
    "- pandas 基礎\n",
    "- 奧運獎牌排行\n",
    "- pandas 技巧\n",
    "- 美國普查"
   ]
  },
  {
   "cell_type": "markdown",
   "metadata": {
    "slideshow": {
     "slide_type": "slide"
    }
   },
   "source": [
    "## pandas 解決了什麼問題"
   ]
  },
  {
   "cell_type": "markdown",
   "metadata": {
    "slideshow": {
     "slide_type": "subslide"
    }
   },
   "source": [
    "## 隨堂練習：請計算註冊於開曼群島的上市公司股價中位數\n",
    "\n",
    "<https://tw.stock.yahoo.com/d/i/rank.php?t=pri&e=tse&n=100>"
   ]
  },
  {
   "cell_type": "code",
   "execution_count": null,
   "metadata": {
    "slideshow": {
     "slide_type": "subslide"
    }
   },
   "outputs": [],
   "source": [
    "import requests\n",
    "from bs4 import BeautifulSoup\n",
    "\n",
    "def get_price_rank():\n",
    "    page_url = \"https://tw.stock.yahoo.com/d/i/rank.php?t=pri&e=tse&n=100\"\n",
    "    r = requests.get(page_url)\n",
    "    soup = BeautifulSoup(r.text)\n",
    "    stock_tickers = []\n",
    "    stock_names = []\n",
    "    for i in soup.select(\".name a\"):\n",
    "        stock_ticker = i.text.split()[0]\n",
    "        stock_name = i.text.split()[1]\n",
    "        stock_tickers.append(stock_ticker)\n",
    "        stock_names.append(stock_name)\n",
    "    prices = []\n",
    "    for i in range(5, 5+10*100, 10):\n",
    "        price = soup.find_all(\"table\")[2].find_all(\"td\")[0].find_all(\"td\")[i].text\n",
    "        prices.append(float(price))\n",
    "    return stock_tickers, stock_names, prices"
   ]
  },
  {
   "cell_type": "code",
   "execution_count": null,
   "metadata": {
    "slideshow": {
     "slide_type": "subslide"
    }
   },
   "outputs": [],
   "source": [
    "stock_tickers, stock_names, prices = get_price_rank()\n",
    "print(stock_tickers)\n",
    "print(stock_names)\n",
    "print(prices)"
   ]
  },
  {
   "cell_type": "code",
   "execution_count": null,
   "metadata": {
    "slideshow": {
     "slide_type": "subslide"
    }
   },
   "outputs": [],
   "source": [
    "from statistics import median\n",
    "\n",
    "ky_prices = [price for stock_name, price in zip(stock_names, prices) if \"KY\" in stock_name]\n",
    "print(median(ky_prices))"
   ]
  },
  {
   "cell_type": "markdown",
   "metadata": {
    "slideshow": {
     "slide_type": "subslide"
    }
   },
   "source": [
    "## Python 一直以來都非常適合資料處理，但她的分析能力很薄弱，`pandas` 的開發有助於補足 Python 資料分析的需求，讓使用者能夠在 Python 中執行完整的資料分析流程，而無需切換到 data-centric 的特定語言，如 R。"
   ]
  },
  {
   "cell_type": "code",
   "execution_count": null,
   "metadata": {
    "slideshow": {
     "slide_type": "subslide"
    }
   },
   "outputs": [],
   "source": [
    "import pandas as pd\n",
    "\n",
    "df = pd.DataFrame()\n",
    "df[\"ticker\"] = stock_tickers\n",
    "df[\"stock_name\"] = stock_names\n",
    "df[\"price\"] = prices\n",
    "df.head()"
   ]
  },
  {
   "cell_type": "code",
   "execution_count": null,
   "metadata": {
    "slideshow": {
     "slide_type": "subslide"
    }
   },
   "outputs": [],
   "source": [
    "df[df[\"stock_name\"].str.contains(\"KY\")][\"price\"].median()"
   ]
  },
  {
   "cell_type": "markdown",
   "metadata": {
    "slideshow": {
     "slide_type": "subslide"
    }
   },
   "source": [
    "## pandas 提供了新的資料結構\n",
    "\n",
    "- Series 是具備索引的 ndarray\n",
    "- DataFrame 能完美處理表格式資料（tabular data）\n",
    "- Panel 能為 DataFrame 加入第三個維度（通常為時間）"
   ]
  },
  {
   "cell_type": "markdown",
   "metadata": {
    "slideshow": {
     "slide_type": "subslide"
    }
   },
   "source": [
    "## pandas 主要的應用場景\n",
    "\n",
    "- 表格式資料的讀取\n",
    "- 豐富的資料清理與分析函數\n",
    "- 視覺化：包裝了常用的 matplotlib.pyplot 圖形"
   ]
  },
  {
   "cell_type": "markdown",
   "metadata": {
    "slideshow": {
     "slide_type": "slide"
    }
   },
   "source": [
    "## pandas 基礎"
   ]
  },
  {
   "cell_type": "markdown",
   "metadata": {
    "slideshow": {
     "slide_type": "subslide"
    }
   },
   "source": [
    "## 什麼是 pandas？\n",
    "\n",
    "> Flexible and powerful data analysis / manipulation library for Python, providing labeled data structures similar to R data.frame objects, statistical functions, and much more."
   ]
  },
  {
   "cell_type": "markdown",
   "metadata": {
    "slideshow": {
     "slide_type": "subslide"
    }
   },
   "source": [
    "## pandas 的命名源自她的三個資料結構\n",
    "\n",
    "- **Pan**el\n",
    "- **Da**taFrame\n",
    "- **S**eries"
   ]
  },
  {
   "cell_type": "markdown",
   "metadata": {
    "slideshow": {
     "slide_type": "subslide"
    }
   },
   "source": [
    "## 創建 Series"
   ]
  },
  {
   "cell_type": "code",
   "execution_count": null,
   "metadata": {},
   "outputs": [],
   "source": [
    "import pandas as pd\n",
    "\n",
    "numbers = [9, 23, 33, 91, 13]\n",
    "players = [\"Ron Harper\", \"Michael Jordan\", \"Scottie Pippen\", \"Dennis Rodman\", \"Luc Longley\"]\n",
    "ser = pd.Series(players)\n",
    "ser"
   ]
  },
  {
   "cell_type": "code",
   "execution_count": null,
   "metadata": {
    "slideshow": {
     "slide_type": "subslide"
    }
   },
   "outputs": [],
   "source": [
    "ser.index = numbers\n",
    "ser"
   ]
  },
  {
   "cell_type": "markdown",
   "metadata": {
    "slideshow": {
     "slide_type": "subslide"
    }
   },
   "source": [
    "## 創建 DataFrame"
   ]
  },
  {
   "cell_type": "code",
   "execution_count": null,
   "metadata": {},
   "outputs": [],
   "source": [
    "df = pd.DataFrame()\n",
    "df[\"number\"] = numbers\n",
    "df[\"player\"] = players\n",
    "df"
   ]
  },
  {
   "cell_type": "code",
   "execution_count": null,
   "metadata": {
    "slideshow": {
     "slide_type": "subslide"
    }
   },
   "outputs": [],
   "source": [
    "df.set_index(\"player\")"
   ]
  },
  {
   "cell_type": "markdown",
   "metadata": {
    "slideshow": {
     "slide_type": "subslide"
    }
   },
   "source": [
    "## 以 `df.<TAB>` 觀察屬性與方法"
   ]
  },
  {
   "cell_type": "code",
   "execution_count": null,
   "metadata": {},
   "outputs": [],
   "source": [
    "df.head()"
   ]
  },
  {
   "cell_type": "code",
   "execution_count": null,
   "metadata": {
    "slideshow": {
     "slide_type": "subslide"
    }
   },
   "outputs": [],
   "source": [
    "df.tail(3)"
   ]
  },
  {
   "cell_type": "code",
   "execution_count": null,
   "metadata": {
    "slideshow": {
     "slide_type": "subslide"
    }
   },
   "outputs": [],
   "source": [
    "df.index"
   ]
  },
  {
   "cell_type": "code",
   "execution_count": null,
   "metadata": {
    "slideshow": {
     "slide_type": "subslide"
    }
   },
   "outputs": [],
   "source": [
    "df.describe()"
   ]
  },
  {
   "cell_type": "markdown",
   "metadata": {
    "slideshow": {
     "slide_type": "subslide"
    }
   },
   "source": [
    "## 選擇變數 Select"
   ]
  },
  {
   "cell_type": "code",
   "execution_count": null,
   "metadata": {},
   "outputs": [],
   "source": [
    "df[\"player\"]"
   ]
  },
  {
   "cell_type": "markdown",
   "metadata": {
    "slideshow": {
     "slide_type": "subslide"
    }
   },
   "source": [
    "## 篩選觀測值 Filter\n",
    "\n",
    "- `df.loc[]` 以標籤為準\n",
    "- `df.iloc[]` 以位置為準\n",
    "- 以布林陣列篩選"
   ]
  },
  {
   "cell_type": "code",
   "execution_count": null,
   "metadata": {
    "slideshow": {
     "slide_type": "fragment"
    }
   },
   "outputs": [],
   "source": [
    "df.index = [\"PG\", \"SG\", \"SF\", \"PF\", \"C\"]\n",
    "df.loc[[\"SG\", \"SF\", \"PF\"], [\"number\", \"player\"]]"
   ]
  },
  {
   "cell_type": "code",
   "execution_count": null,
   "metadata": {
    "slideshow": {
     "slide_type": "fragment"
    }
   },
   "outputs": [],
   "source": [
    "df.iloc[[1, 2, 3], [0, 1]]"
   ]
  },
  {
   "cell_type": "code",
   "execution_count": null,
   "metadata": {
    "slideshow": {
     "slide_type": "subslide"
    }
   },
   "outputs": [],
   "source": [
    "is_trio = df[\"number\"].isin([23, 33, 91])\n",
    "print(is_trio)\n",
    "df[is_trio]"
   ]
  },
  {
   "cell_type": "markdown",
   "metadata": {
    "slideshow": {
     "slide_type": "subslide"
    }
   },
   "source": [
    "## 排序觀測值 Arrange\n",
    "\n",
    "- `df.sort_index()`\n",
    "- `df.sort_values()`"
   ]
  },
  {
   "cell_type": "code",
   "execution_count": null,
   "metadata": {
    "slideshow": {
     "slide_type": "subslide"
    }
   },
   "outputs": [],
   "source": [
    "df.sort_index()"
   ]
  },
  {
   "cell_type": "code",
   "execution_count": null,
   "metadata": {
    "slideshow": {
     "slide_type": "fragment"
    }
   },
   "outputs": [],
   "source": [
    "df.sort_values(by=\"number\")"
   ]
  },
  {
   "cell_type": "markdown",
   "metadata": {
    "slideshow": {
     "slide_type": "subslide"
    }
   },
   "source": [
    "## 獲取資料的最大值最小值\n",
    "\n",
    "- `df[\"col_name\"].max()`\n",
    "- `df[\"col_name\"].min()`"
   ]
  },
  {
   "cell_type": "markdown",
   "metadata": {
    "slideshow": {
     "slide_type": "subslide"
    }
   },
   "source": [
    "## 獲取資料最大值最小值的索引值\n",
    "\n",
    "- `df[\"col_name\"].idxmax()`\n",
    "- `df[\"col_name\"].idxmin()`"
   ]
  },
  {
   "cell_type": "markdown",
   "metadata": {
    "slideshow": {
     "slide_type": "subslide"
    }
   },
   "source": [
    "## 隨堂練習：誰的背號數字最大？"
   ]
  },
  {
   "cell_type": "code",
   "execution_count": null,
   "metadata": {},
   "outputs": [],
   "source": [
    "import pandas as pd\n",
    "\n",
    "numbers = [9, 23, 33, 91, 13]\n",
    "players = [\"Ron Harper\", \"Michael Jordan\", \"Scottie Pippen\", \"Dennis Rodman\", \"Luc Longley\"]\n",
    "df = pd.DataFrame()\n",
    "df[\"number\"] = numbers\n",
    "df[\"player\"] = players\n",
    "df"
   ]
  },
  {
   "cell_type": "code",
   "execution_count": null,
   "metadata": {
    "slideshow": {
     "slide_type": "subslide"
    }
   },
   "outputs": [],
   "source": [
    "max_number = df[\"number\"].max()\n",
    "df[df[\"number\"] == max_number][\"player\"][3]"
   ]
  },
  {
   "cell_type": "code",
   "execution_count": null,
   "metadata": {
    "slideshow": {
     "slide_type": "subslide"
    }
   },
   "outputs": [],
   "source": [
    "df.set_index(\"player\")[\"number\"].idxmax()"
   ]
  },
  {
   "cell_type": "markdown",
   "metadata": {
    "slideshow": {
     "slide_type": "subslide"
    }
   },
   "source": [
    "## 隨堂練習：誰的背號數字最小？"
   ]
  },
  {
   "cell_type": "code",
   "execution_count": null,
   "metadata": {
    "slideshow": {
     "slide_type": "subslide"
    }
   },
   "outputs": [],
   "source": [
    "min_number = df[\"number\"].min()\n",
    "df[df[\"number\"] == min_number][\"player\"][0]"
   ]
  },
  {
   "cell_type": "code",
   "execution_count": null,
   "metadata": {
    "slideshow": {
     "slide_type": "subslide"
    }
   },
   "outputs": [],
   "source": [
    "df.set_index(\"player\")[\"number\"].idxmin()"
   ]
  },
  {
   "cell_type": "markdown",
   "metadata": {
    "slideshow": {
     "slide_type": "slide"
    }
   },
   "source": [
    "## 奧運獎牌排行"
   ]
  },
  {
   "cell_type": "markdown",
   "metadata": {
    "slideshow": {
     "slide_type": "subslide"
    }
   },
   "source": [
    "## 來源\n",
    "\n",
    "[Coursera](https://www.coursera.org/) 的 [Introduction to Data Science in Python](https://www.coursera.org/learn/python-data-analysis/home/welcome) 課程作業"
   ]
  },
  {
   "cell_type": "code",
   "execution_count": null,
   "metadata": {
    "slideshow": {
     "slide_type": "subslide"
    }
   },
   "outputs": [],
   "source": [
    "import pandas as pd\n",
    "\n",
    "df = pd.read_csv('https://storage.googleapis.com/py_ml_datasets/olympics.csv', index_col=0, skiprows=1)\n",
    "\n",
    "for col in df.columns:\n",
    "    if col[:2]=='01':\n",
    "        df.rename(columns={col:'Gold'+col[4:]}, inplace=True)\n",
    "    if col[:2]=='02':\n",
    "        df.rename(columns={col:'Silver'+col[4:]}, inplace=True)\n",
    "    if col[:2]=='03':\n",
    "        df.rename(columns={col:'Bronze'+col[4:]}, inplace=True)\n",
    "    if col[:1]=='№':\n",
    "        df.rename(columns={col:'#'+col[1:]}, inplace=True)\n",
    "\n",
    "names_ids = df.index.str.split('\\s\\(') # split the index by '('\n",
    "\n",
    "df.index = names_ids.str[0] # the [0] element is the country name (new index) \n",
    "df['ID'] = names_ids.str[1].str[:3] # the [1] element is the abbreviation or ID (take first 3 characters from that)\n",
    "\n",
    "df = df.drop('Totals')"
   ]
  },
  {
   "cell_type": "code",
   "execution_count": null,
   "metadata": {
    "slideshow": {
     "slide_type": "subslide"
    }
   },
   "outputs": [],
   "source": [
    "df.head()"
   ]
  },
  {
   "cell_type": "markdown",
   "metadata": {
    "slideshow": {
     "slide_type": "subslide"
    }
   },
   "source": [
    "## 隨堂練習：哪個國家贏得的夏季奧運金牌數最多？\n",
    "\n",
    "```python\n",
    "def answer_one():\n",
    "    \"\"\"\n",
    "    這個函數應該回傳一個文字，國家名\n",
    "    \"\"\"\n",
    "    return \"答案\"\n",
    "```"
   ]
  },
  {
   "cell_type": "code",
   "execution_count": null,
   "metadata": {
    "slideshow": {
     "slide_type": "subslide"
    }
   },
   "outputs": [],
   "source": [
    "def answer_one(df):\n",
    "    return df[\"Gold\"].idxmax()\n",
    "\n",
    "answer_one(df)"
   ]
  },
  {
   "cell_type": "markdown",
   "metadata": {
    "slideshow": {
     "slide_type": "subslide"
    }
   },
   "source": [
    "## 隨堂練習：哪個國家夏季奧運與冬季奧運的金牌數差距數最大？\n",
    "\n",
    "```python\n",
    "def answer_two():\n",
    "    \"\"\"\n",
    "    這個函數應該回傳一個文字，國家名\n",
    "    \"\"\"\n",
    "    return \"答案\"\n",
    "```"
   ]
  },
  {
   "cell_type": "code",
   "execution_count": null,
   "metadata": {
    "slideshow": {
     "slide_type": "subslide"
    }
   },
   "outputs": [],
   "source": [
    "def answer_two(df):\n",
    "    diff = df[\"Gold\"] - df[\"Gold.1\"]\n",
    "    diff_abs = diff.abs()\n",
    "    return diff_abs.idxmax()\n",
    "\n",
    "answer_two(df)"
   ]
  },
  {
   "cell_type": "markdown",
   "metadata": {
    "slideshow": {
     "slide_type": "subslide"
    }
   },
   "source": [
    "## 隨堂練習：哪個國家夏季奧運與冬季奧運的金牌數差距除以總金牌數的比例最大？（僅考慮至少有一個夏季金牌與一個冬季金牌的國家）\n",
    "\n",
    "$$\\text{Ratio} = \\frac{\\text{Summer Gold} - \\text{Winter Gold}}{\\text{Total Gold}}$$\n",
    "\n",
    "```python\n",
    "def answer_three():\n",
    "    \"\"\"\n",
    "    這個函數應該回傳一個文字，國家名\n",
    "    \"\"\"\n",
    "    return \"答案\"\n",
    "```"
   ]
  },
  {
   "cell_type": "code",
   "execution_count": null,
   "metadata": {
    "slideshow": {
     "slide_type": "subslide"
    }
   },
   "outputs": [],
   "source": [
    "def answer_three(df):\n",
    "    summer_gold = df[\"Gold\"]\n",
    "    winter_gold = df[\"Gold.1\"]\n",
    "    total_gold = df[\"Gold.2\"]\n",
    "    ratio = (summer_gold - winter_gold)/total_gold\n",
    "    ratio_not_one = ratio[ratio < 1]\n",
    "    return ratio_not_one.idxmax()\n",
    "\n",
    "answer_three(df)"
   ]
  },
  {
   "cell_type": "markdown",
   "metadata": {
    "slideshow": {
     "slide_type": "subslide"
    }
   },
   "source": [
    "## 隨堂練習：計算 146 個國家的獎牌點數，金牌 3 點、銀牌 2 點、銅牌 1 點。\n",
    "\n",
    "```python\n",
    "def answer_four():\n",
    "    \"\"\"\n",
    "    這個函數應該回傳一個 Series，長度為 146\n",
    "    \"\"\"\n",
    "    return \"答案\"\n",
    "```"
   ]
  },
  {
   "cell_type": "code",
   "execution_count": null,
   "metadata": {
    "slideshow": {
     "slide_type": "subslide"
    }
   },
   "outputs": [],
   "source": [
    "def answer_four(df):\n",
    "    total_gold = df[\"Gold.2\"]\n",
    "    total_silver = df[\"Silver.2\"]\n",
    "    total_bronze = df[\"Bronze.2\"]\n",
    "    points = 3*total_gold + 2*total_silver + total_bronze\n",
    "    return points\n",
    "\n",
    "answer_four(df)[:10]"
   ]
  },
  {
   "cell_type": "markdown",
   "metadata": {
    "slideshow": {
     "slide_type": "slide"
    }
   },
   "source": [
    "## pandas 技巧"
   ]
  },
  {
   "cell_type": "markdown",
   "metadata": {
    "slideshow": {
     "slide_type": "subslide"
    }
   },
   "source": [
    "## 不那麼基礎的 pandas 觀念\n",
    "\n",
    "- 資料的輸入輸出\n",
    "- Apply\n",
    "- 摘要\n",
    "- 分組\n",
    "- 遺漏值處理\n",
    "- 轉置\n",
    "- 合併"
   ]
  },
  {
   "cell_type": "markdown",
   "metadata": {
    "slideshow": {
     "slide_type": "subslide"
    }
   },
   "source": [
    "## 資料的輸入輸出\n",
    "\n",
    "- 關聯式資料庫表格\n",
    "- .csv 檔案\n",
    "- array of JSON 的 .json 檔案\n",
    "- Excel 試算表 .xls 與 .xlsx"
   ]
  },
  {
   "cell_type": "code",
   "execution_count": null,
   "metadata": {
    "slideshow": {
     "slide_type": "subslide"
    }
   },
   "outputs": [],
   "source": [
    "import requests\n",
    "\n",
    "aqi_url = \"https://opendata.epa.gov.tw/ws/Data/AQI/?$format=json\"\n",
    "r = requests.get(aqi_url, verify=False)\n",
    "aqi = pd.read_json(r.text)\n",
    "aqi.head()"
   ]
  },
  {
   "cell_type": "markdown",
   "metadata": {
    "slideshow": {
     "slide_type": "subslide"
    }
   },
   "source": [
    "## Apply\n",
    "\n",
    "將函數映射至資料框"
   ]
  },
  {
   "cell_type": "code",
   "execution_count": null,
   "metadata": {},
   "outputs": [],
   "source": [
    "import numpy as np\n",
    "\n",
    "def get_na(x):\n",
    "    \"\"\"getting np.nan from \"\" and \"ND\" \"\"\"\n",
    "    if x == \"\" or x == \"ND\":\n",
    "        return np.nan\n",
    "    else:\n",
    "        return x"
   ]
  },
  {
   "cell_type": "code",
   "execution_count": null,
   "metadata": {
    "slideshow": {
     "slide_type": "subslide"
    }
   },
   "outputs": [],
   "source": [
    "aqi[\"PM2.5\"] = aqi[\"PM2.5\"].apply(get_na)\n",
    "aqi[\"AQI\"] = aqi[\"AQI\"].apply(get_na)\n",
    "aqi.head()"
   ]
  },
  {
   "cell_type": "markdown",
   "metadata": {
    "slideshow": {
     "slide_type": "subslide"
    }
   },
   "source": [
    "## 遺漏值處理\n",
    "\n",
    "- pandas 主要以 `np.nan` 紀錄遺漏值\n",
    "- `df.isna()`\n",
    "- `df.dropna()`\n",
    "- `df.fillna()`"
   ]
  },
  {
   "cell_type": "code",
   "execution_count": null,
   "metadata": {
    "slideshow": {
     "slide_type": "subslide"
    }
   },
   "outputs": [],
   "source": [
    "aqi[\"PM2.5\"].isna()"
   ]
  },
  {
   "cell_type": "code",
   "execution_count": null,
   "metadata": {
    "slideshow": {
     "slide_type": "subslide"
    }
   },
   "outputs": [],
   "source": [
    "# how many missing values are there\n",
    "aqi[\"PM2.5\"].isna().sum()"
   ]
  },
  {
   "cell_type": "code",
   "execution_count": null,
   "metadata": {
    "slideshow": {
     "slide_type": "subslide"
    }
   },
   "outputs": [],
   "source": [
    "aqi.dropna()"
   ]
  },
  {
   "cell_type": "code",
   "execution_count": null,
   "metadata": {
    "slideshow": {
     "slide_type": "subslide"
    }
   },
   "outputs": [],
   "source": [
    "filled_val = 999\n",
    "aqi.fillna(filled_val)"
   ]
  },
  {
   "cell_type": "markdown",
   "metadata": {
    "slideshow": {
     "slide_type": "subslide"
    }
   },
   "source": [
    "## 摘要"
   ]
  },
  {
   "cell_type": "code",
   "execution_count": null,
   "metadata": {
    "slideshow": {
     "slide_type": "fragment"
    }
   },
   "outputs": [],
   "source": [
    "aqi[\"County\"].unique()"
   ]
  },
  {
   "cell_type": "code",
   "execution_count": null,
   "metadata": {
    "slideshow": {
     "slide_type": "fragment"
    }
   },
   "outputs": [],
   "source": [
    "aqi[\"AQI\"] = aqi[\"AQI\"].astype(float)\n",
    "aqi[\"PM2.5\"] = aqi[\"PM2.5\"].astype(float)\n",
    "print(aqi[\"AQI\"].max())\n",
    "print(aqi[\"PM2.5\"].min())"
   ]
  },
  {
   "cell_type": "markdown",
   "metadata": {
    "slideshow": {
     "slide_type": "subslide"
    }
   },
   "source": [
    "## 分組"
   ]
  },
  {
   "cell_type": "code",
   "execution_count": null,
   "metadata": {},
   "outputs": [],
   "source": [
    "aqi.groupby(\"County\").mean()[\"PM2.5\"]"
   ]
  },
  {
   "cell_type": "markdown",
   "metadata": {
    "slideshow": {
     "slide_type": "subslide"
    }
   },
   "source": [
    "## 轉置\n",
    "\n",
    "- `pd.melt()`：寬轉長格式\n",
    "- `df.pivot()`：長轉寬格式"
   ]
  },
  {
   "cell_type": "code",
   "execution_count": null,
   "metadata": {
    "slideshow": {
     "slide_type": "-"
    }
   },
   "outputs": [],
   "source": [
    "wide_df = aqi[[\"SiteName\", \"AQI\", \"PM2.5\", \"SO2\"]]\n",
    "wide_df = wide_df.sort_values(\"SiteName\").reset_index(drop=True)\n",
    "wide_df.head()"
   ]
  },
  {
   "cell_type": "code",
   "execution_count": null,
   "metadata": {
    "slideshow": {
     "slide_type": "subslide"
    }
   },
   "outputs": [],
   "source": [
    "long_df = pd.melt(wide_df, id_vars=[\"SiteName\"], value_vars=[\"AQI\", \"PM2.5\", \"SO2\"], var_name=\"AirQualityMetric\", value_name=\"Value\")\n",
    "long_df = long_df.sort_values(\"SiteName\")\n",
    "long_df = long_df.reset_index(drop=True)\n",
    "print(long_df.shape)"
   ]
  },
  {
   "cell_type": "code",
   "execution_count": null,
   "metadata": {
    "slideshow": {
     "slide_type": "subslide"
    }
   },
   "outputs": [],
   "source": [
    "long_df.head(15)"
   ]
  },
  {
   "cell_type": "code",
   "execution_count": null,
   "metadata": {
    "slideshow": {
     "slide_type": "subslide"
    }
   },
   "outputs": [],
   "source": [
    "pivot_df = long_df.pivot(index=\"SiteName\", columns=\"AirQualityMetric\", values=\"Value\")\n",
    "pivot_df = pivot_df.reset_index()\n",
    "del pivot_df.columns.name\n",
    "pivot_df.head()"
   ]
  },
  {
   "cell_type": "markdown",
   "metadata": {
    "slideshow": {
     "slide_type": "subslide"
    }
   },
   "source": [
    "## 合併\n",
    "\n",
    "利用 `pd.merge()` 進行 SQL 風格的合併"
   ]
  },
  {
   "cell_type": "code",
   "execution_count": null,
   "metadata": {
    "slideshow": {
     "slide_type": "subslide"
    }
   },
   "outputs": [],
   "source": [
    "left = long_df.copy()\n",
    "right = aqi[[\"SiteName\", \"Latitude\", \"Longitude\"]]\n",
    "pd.merge(left, right, on=\"SiteName\")"
   ]
  },
  {
   "cell_type": "markdown",
   "metadata": {
    "slideshow": {
     "slide_type": "slide"
    }
   },
   "source": [
    "## 美國普查"
   ]
  },
  {
   "cell_type": "markdown",
   "metadata": {
    "slideshow": {
     "slide_type": "subslide"
    }
   },
   "source": [
    "## 來源\n",
    "\n",
    "[Coursera](https://www.coursera.org/) 的 [Introduction to Data Science in Python](https://www.coursera.org/learn/python-data-analysis/home/welcome) 課程作業"
   ]
  },
  {
   "cell_type": "code",
   "execution_count": null,
   "metadata": {},
   "outputs": [],
   "source": [
    "import pandas as pd\n",
    "\n",
    "census_df = pd.read_csv('https://storage.googleapis.com/py_ml_datasets/census.csv')\n",
    "census_df.shape"
   ]
  },
  {
   "cell_type": "code",
   "execution_count": null,
   "metadata": {
    "slideshow": {
     "slide_type": "subslide"
    }
   },
   "outputs": [],
   "source": [
    "census_df.head()"
   ]
  },
  {
   "cell_type": "markdown",
   "metadata": {
    "slideshow": {
     "slide_type": "subslide"
    }
   },
   "source": [
    "## 隨堂練習：哪個州（state）的郡（county）數最多？\n",
    "\n",
    "```python\n",
    "def answer_one():\n",
    "    \"\"\"\n",
    "    這個函數應該回傳一個文字，州名\n",
    "    \"\"\"\n",
    "    return \"答案\"\n",
    "```"
   ]
  },
  {
   "cell_type": "code",
   "execution_count": null,
   "metadata": {
    "slideshow": {
     "slide_type": "subslide"
    }
   },
   "outputs": [],
   "source": [
    "def answer_one(df):\n",
    "    return df.groupby(\"STNAME\")[\"CTYNAME\"].count().idxmax()\n",
    "\n",
    "answer_one(census_df)"
   ]
  },
  {
   "cell_type": "markdown",
   "metadata": {
    "slideshow": {
     "slide_type": "subslide"
    }
   },
   "source": [
    "## 隨堂練習：僅考慮每州（state）人口最多的三個郡（county）計算人口總和（CENSUS2010POP），哪三個州總和數最多？（請注意 SUMLEV 變數）\n",
    "\n",
    "```python\n",
    "def answer_two():\n",
    "    \"\"\"\n",
    "    這個函數應該回傳一個清單，三個州名\n",
    "    \"\"\"\n",
    "    return \"答案\"\n",
    "```"
   ]
  },
  {
   "cell_type": "code",
   "execution_count": null,
   "metadata": {
    "slideshow": {
     "slide_type": "subslide"
    }
   },
   "outputs": [],
   "source": [
    "def answer_two(df):\n",
    "    county_df = df[df[\"SUMLEV\"] == 50]\n",
    "    groupby_summary = county_df.groupby(\"STNAME\")[\"CENSUS2010POP\"].nlargest(3)\n",
    "    groupby_summary_df = pd.DataFrame(groupby_summary).reset_index()\n",
    "    ans = groupby_summary_df.groupby(\"STNAME\")[\"CENSUS2010POP\"].sum().nlargest(3).index\n",
    "    return list(ans)\n",
    "\n",
    "answer_two(census_df)"
   ]
  },
  {
   "cell_type": "markdown",
   "metadata": {
    "slideshow": {
     "slide_type": "subslide"
    }
   },
   "source": [
    "## 哪個郡（county）在 2010-2015 期間人口改變數量最高？（POPESTIMATE2010:POPESTIMATE2015 這六個變數）\n",
    "\n",
    "提示：如果 6 年的人口數分別為 120, 80, 105, 100, 130, 120 則人口改變數量為 130-80 = 50\n",
    "\n",
    "```python\n",
    "def answer_three():\n",
    "    \"\"\"\n",
    "    這個函數應該回傳一個文字，郡名\n",
    "    \"\"\"\n",
    "    return \"答案\"\n",
    "```"
   ]
  },
  {
   "cell_type": "code",
   "execution_count": null,
   "metadata": {
    "slideshow": {
     "slide_type": "subslide"
    }
   },
   "outputs": [],
   "source": [
    "def answer_three(df):\n",
    "    county_df = df[df[\"SUMLEV\"] == 50]\n",
    "    county_df = county_df.set_index(\"CTYNAME\")\n",
    "    county_df = county_df.loc[:, \"POPESTIMATE2010\":\"POPESTIMATE2015\"]\n",
    "    max_population = county_df.loc[:, \"POPESTIMATE2010\":\"POPESTIMATE2015\"].max(axis=1)\n",
    "    min_population = county_df.loc[:, \"POPESTIMATE2010\":\"POPESTIMATE2015\"].min(axis=1)\n",
    "    diff_population = max_population - min_population\n",
    "    return diff_population.idxmax()\n",
    "\n",
    "answer_three(census_df)"
   ]
  },
  {
   "cell_type": "markdown",
   "metadata": {
    "slideshow": {
     "slide_type": "subslide"
    }
   },
   "source": [
    "## 篩選出屬於 REGION 1 或 2、開頭名稱為 Washington 並且 POPESTIMATE2015 大於 POPESTIMATE2014 的郡（county）\n",
    "\n",
    "```python\n",
    "def answer_four():\n",
    "    \"\"\"\n",
    "    這個函數應該回傳一個 DataFrame，外型為 5x2，\n",
    "    變數名稱為 ['STNAME', 'CTYNAME']，\n",
    "    索引值由小到大排列\n",
    "    \"\"\"\n",
    "    return \"答案\"\n",
    "```"
   ]
  },
  {
   "cell_type": "code",
   "execution_count": null,
   "metadata": {
    "slideshow": {
     "slide_type": "subslide"
    }
   },
   "outputs": [],
   "source": [
    "def answer_four(df):\n",
    "    county_df = df[df[\"SUMLEV\"] == 50]\n",
    "    contains_washington = county_df[\"CTYNAME\"].str.contains(\"Washington\")\n",
    "    region_filter = (county_df[\"REGION\"] == 1) | (county_df[\"REGION\"] == 2)\n",
    "    pop_filter = county_df[\"POPESTIMATE2015\"] > county_df[\"POPESTIMATE2014\"]\n",
    "    ans = county_df[contains_washington & region_filter & pop_filter][[\"STNAME\", \"CTYNAME\"]]\n",
    "    ans = ans.reset_index(drop=True)\n",
    "    return ans\n",
    "\n",
    "answer_four(census_df)"
   ]
  },
  {
   "cell_type": "markdown",
   "metadata": {
    "slideshow": {
     "slide_type": "slide"
    }
   },
   "source": [
    "## 延伸閱讀\n",
    "\n",
    "[pandas: powerful Python data analysis toolkit](http://pandas.pydata.org/pandas-docs/stable/)"
   ]
  },
  {
   "cell_type": "markdown",
   "metadata": {
    "slideshow": {
     "slide_type": "slide"
    }
   },
   "source": [
    "## 作業"
   ]
  },
  {
   "cell_type": "markdown",
   "metadata": {
    "slideshow": {
     "slide_type": "subslide"
    }
   },
   "source": [
    "## 擷取 Avengers: Endgame (2019) 的上映日期列表，改以 `pandas` 回答這兩個問題：\n",
    "\n",
    "- 最多的上映日期為哪一天？\n",
    "- 有幾個國家在那天上映？"
   ]
  },
  {
   "cell_type": "code",
   "execution_count": 1,
   "metadata": {
    "slideshow": {
     "slide_type": "skip"
    }
   },
   "outputs": [],
   "source": [
    "import requests\n",
    "from bs4 import BeautifulSoup\n",
    "import pandas as pd\n",
    "\n",
    "def answer_one():\n",
    "    r = requests.get(\"https://www.imdb.com/title/tt4154796/releaseinfo\")\n",
    "    soup = BeautifulSoup(r.text)\n",
    "    countries = [i.text.strip() for i in soup.select(\".release-date-item__country-name a\")]\n",
    "    release_dates = [i.text for i in soup.select(\".release-date-item__date\")]\n",
    "    df = pd.DataFrame()\n",
    "    df[\"country\"] = countries\n",
    "    df[\"release_date\"] = release_dates\n",
    "    grouped = df.groupby(\"release_date\")\n",
    "    return grouped[\"country\"].count()"
   ]
  },
  {
   "cell_type": "code",
   "execution_count": 2,
   "metadata": {
    "slideshow": {
     "slide_type": "subslide"
    }
   },
   "outputs": [
    {
     "data": {
      "text/plain": [
       "release_date\n",
       "22 April 2019     1\n",
       "23 April 2019     1\n",
       "24 April 2019    31\n",
       "25 April 2019    22\n",
       "26 April 2019    14\n",
       "28 April 2019     1\n",
       "29 April 2019     1\n",
       "Name: country, dtype: int64"
      ]
     },
     "execution_count": 2,
     "metadata": {},
     "output_type": "execute_result"
    }
   ],
   "source": [
    "answer_one()"
   ]
  },
  {
   "cell_type": "code",
   "execution_count": 3,
   "metadata": {
    "slideshow": {
     "slide_type": "subslide"
    }
   },
   "outputs": [
    {
     "data": {
      "text/plain": [
       "'24 April 2019'"
      ]
     },
     "execution_count": 3,
     "metadata": {},
     "output_type": "execute_result"
    }
   ],
   "source": [
    "answer_one().idxmax()"
   ]
  },
  {
   "cell_type": "code",
   "execution_count": 4,
   "metadata": {
    "slideshow": {
     "slide_type": "skip"
    }
   },
   "outputs": [],
   "source": [
    "import requests\n",
    "from bs4 import BeautifulSoup\n",
    "import pandas as pd\n",
    "\n",
    "def answer_two():\n",
    "    r = requests.get(\"https://www.imdb.com/title/tt4154796/releaseinfo\")\n",
    "    soup = BeautifulSoup(r.text)\n",
    "    countries = [i.text.strip() for i in soup.select(\".release-date-item__country-name a\")]\n",
    "    release_dates = [i.text for i in soup.select(\".release-date-item__date\")]\n",
    "    df = pd.DataFrame()\n",
    "    df[\"country\"] = countries\n",
    "    df[\"release_date\"] = release_dates\n",
    "    grouped = df.groupby(\"release_date\")\n",
    "    n_countries = grouped[\"country\"].count().max()\n",
    "    most_release_dates = grouped[\"country\"].count().idxmax()\n",
    "    return \"共有 {} 個國家在 {} 上映 Avengers: Endgame (2019)\".format(n_countries, most_release_dates)"
   ]
  },
  {
   "cell_type": "code",
   "execution_count": 5,
   "metadata": {
    "slideshow": {
     "slide_type": "subslide"
    }
   },
   "outputs": [
    {
     "data": {
      "text/plain": [
       "'共有 31 個國家在 24 April 2019 上映 Avengers: Endgame (2019)'"
      ]
     },
     "execution_count": 5,
     "metadata": {},
     "output_type": "execute_result"
    }
   ],
   "source": [
    "answer_two()"
   ]
  }
 ],
 "metadata": {
  "celltoolbar": "Slideshow",
  "kernelspec": {
   "display_name": "Python 3",
   "language": "python",
   "name": "python3"
  },
  "language_info": {
   "codemirror_mode": {
    "name": "ipython",
    "version": 3
   },
   "file_extension": ".py",
   "mimetype": "text/x-python",
   "name": "python",
   "nbconvert_exporter": "python",
   "pygments_lexer": "ipython3",
   "version": "3.7.1"
  }
 },
 "nbformat": 4,
 "nbformat_minor": 2
}
