{
 "cells": [
  {
   "cell_type": "markdown",
   "metadata": {
    "slideshow": {
     "slide_type": "slide"
    }
   },
   "source": [
    "# Python 與機器學習（3）\n",
    "\n",
    "## 郭耀仁"
   ]
  },
  {
   "cell_type": "markdown",
   "metadata": {
    "slideshow": {
     "slide_type": "slide"
    }
   },
   "source": [
    "## 分群問題\n",
    "\n",
    "- 處理沒有標籤的資料\n",
    "- 沒有對與錯\n",
    "- 組內差異小、組間差異大\n",
    "- 以觀測值之間的距離作為度量\n",
    "    - 歐幾里德距離, 曼哈頓距離, ..."
   ]
  },
  {
   "cell_type": "markdown",
   "metadata": {
    "slideshow": {
     "slide_type": "subslide"
    }
   },
   "source": [
    "## 分群問題（2）\n",
    "\n",
    "- 鯊魚\n",
    "- 鯨魚\n",
    "- 貓"
   ]
  },
  {
   "cell_type": "markdown",
   "metadata": {
    "slideshow": {
     "slide_type": "subslide"
    }
   },
   "source": [
    "## 分群問題（3）\n",
    "\n",
    "- 性別（2 群）\n",
    "- 血型（4 群）\n",
    "- 星座（12 群）"
   ]
  },
  {
   "cell_type": "markdown",
   "metadata": {
    "slideshow": {
     "slide_type": "subslide"
    }
   },
   "source": [
    "## 分群問題（4）\n",
    "\n",
    "- 與分類問題的比較：\n",
    "\n",
    "$$\\text{Training set: } (x_i, y_i)$$"
   ]
  },
  {
   "cell_type": "code",
   "execution_count": 8,
   "metadata": {
    "collapsed": false,
    "slideshow": {
     "slide_type": "subslide"
    }
   },
   "outputs": [
    {
     "data": {
      "image/png": "[encoded data removed]",
      "text/plain": [
       "<matplotlib.figure.Figure at 0x119ea2550>"
      ]
     },
     "metadata": {},
     "output_type": "display_data"
    }
   ],
   "source": [
    "import numpy as np\n",
    "import matplotlib.pyplot as plt\n",
    "import random\n",
    "\n",
    "x1_arr = np.linspace(0, 3, 100)\n",
    "x_points = np.linspace(0, 3, 20)\n",
    "x_points_len = int(len(x_points) / 2)\n",
    "y_minus = np.array(random.choices(np.arange(1, 2, 0.01), k = x_points_len)) - x_points[:x_points_len]\n",
    "y_plus = np.array(random.choices(np.arange(4, 6, 0.01), k = x_points_len)) - x_points[x_points_len:]\n",
    "plt.scatter(x_points[:x_points_len], y_minus, marker = '_', s = 200)\n",
    "plt.scatter(x_points[x_points_len:], y_plus, marker = '+', c = 'r', s = 200)\n",
    "plt.plot(x1_arr, 3 - x1_arr, c = 'k')\n",
    "plt.xlabel(\"$x_1$\")\n",
    "plt.ylabel(\"$x_2$\")\n",
    "plt.title(\"Classification\")\n",
    "plt.show()"
   ]
  },
  {
   "cell_type": "markdown",
   "metadata": {
    "slideshow": {
     "slide_type": "subslide"
    }
   },
   "source": [
    "## 分群問題（5）\n",
    "\n",
    "- 與分類問題比較\n",
    "\n",
    "$$\\text{Training set: } x_i$$"
   ]
  },
  {
   "cell_type": "code",
   "execution_count": 9,
   "metadata": {
    "collapsed": false,
    "slideshow": {
     "slide_type": "subslide"
    }
   },
   "outputs": [
    {
     "data": {
      "text/plain": [
       "<matplotlib.text.Text at 0x119e4ceb8>"
      ]
     },
     "execution_count": 9,
     "metadata": {},
     "output_type": "execute_result"
    }
   ],
   "source": [
    "import numpy as np\n",
    "import matplotlib.pyplot as plt\n",
    "import random\n",
    "\n",
    "x1_arr = np.linspace(0, 3, 100)\n",
    "x_points = np.linspace(0, 3, 10)\n",
    "x_points_len = int(len(x_points) / 2)\n",
    "random.seed(123)\n",
    "y_minus = np.array(random.choices(np.arange(1, 2, 0.01), k = x_points_len)) - x_points[:x_points_len]\n",
    "y_plus = np.array(random.choices(np.arange(4, 6, 0.01), k = x_points_len)) - x_points[x_points_len:]\n",
    "fig, ax = plt.subplots()\n",
    "ax.scatter(x_points[:x_points_len], y_minus, s = 200, c = 'r')\n",
    "ax.scatter(x_points[x_points_len:], y_plus, s = 200, c = 'b')\n",
    "circle1 = plt.Circle((0.5, 0.5), 1, color = 'r', fill = False)\n",
    "circle2 = plt.Circle((2.5, 2.2), 1.2, color = 'b', fill = False)\n",
    "ax.add_artist(circle1)\n",
    "ax.add_artist(circle2)\n",
    "ax.set_xlabel(\"$x_1$\")\n",
    "ax.set_ylabel(\"$x_2$\")\n",
    "ax.set_xlim(-0.5, 4)\n",
    "ax.set_ylim(-0.5, 4)\n",
    "ax.set_title(\"Classification\")"
   ]
  },
  {
   "cell_type": "code",
   "execution_count": 10,
   "metadata": {
    "collapsed": false,
    "slideshow": {
     "slide_type": "subslide"
    }
   },
   "outputs": [
    {
     "data": {
      "image/png": "[encoded data removed]",
      "text/plain": [
       "<matplotlib.figure.Figure at 0x11a0232b0>"
      ]
     },
     "metadata": {},
     "output_type": "display_data"
    }
   ],
   "source": [
    "plt.show()"
   ]
  },
  {
   "cell_type": "markdown",
   "metadata": {
    "slideshow": {
     "slide_type": "subslide"
    }
   },
   "source": [
    "## 分群問題（6）\n",
    "\n",
    "- K-means 分群方法的成本函數\n",
    "\n",
    "$$c: \\; \\text{分群的索引值}$$\n",
    "$$\\mu_k: \\; \\text{不同分群的中心點}$$\n",
    "$$\\mu_c: \\; \\text{計算距離後收斂的不同分群中心點}$$\n",
    "$$\\text{minimize:} \\; J(c, \\mu_k) = \\frac{1}{m}\\sum_{i = 1}^{m}(x_i-\\mu_c)^2$$"
   ]
  },
  {
   "cell_type": "markdown",
   "metadata": {
    "slideshow": {
     "slide_type": "subslide"
    }
   },
   "source": [
    "## 分群問題（7）\n",
    "\n",
    "- K-means 演算的方式\n",
    "\n",
    "![Stanford.edu：K-Means 視覺化](http://stanford.edu/~cpiech/cs221/img/kmeansViz.png)"
   ]
  },
  {
   "cell_type": "markdown",
   "metadata": {
    "slideshow": {
     "slide_type": "subslide"
    }
   },
   "source": [
    "## 分群問題（8）\n",
    "\n",
    "- 初始 $K$ 個中心點的位置對結果有決定性的影響"
   ]
  },
  {
   "cell_type": "code",
   "execution_count": 11,
   "metadata": {
    "collapsed": false,
    "slideshow": {
     "slide_type": "subslide"
    }
   },
   "outputs": [
    {
     "data": {
      "image/png": "[encoded data removed]",
      "text/plain": [
       "<matplotlib.figure.Figure at 0x119cc8a58>"
      ]
     },
     "metadata": {},
     "output_type": "display_data"
    }
   ],
   "source": [
    "import numpy as np\n",
    "import matplotlib.pyplot as plt\n",
    "import random\n",
    "\n",
    "x_arr = np.arange(1, 13)\n",
    "y_arr_length = [3, 4, 5]\n",
    "random.seed(123)\n",
    "y_arr_1 = x_arr[:3] + np.array(random.choices(np.arange(10, 15, 0.1), k = y_arr_length[0]))\n",
    "y_arr_2 = x_arr[3:7] + np.array(random.choices(np.arange(0, 5, 0.1), k = y_arr_length[1]))\n",
    "y_arr_3 = x_arr[7:] + np.array(random.choices(np.arange(5, 10, 0.1), k = y_arr_length[2]))\n",
    "plt.scatter(x_arr[:3], y_arr_1, s = 100, c = 'k')\n",
    "plt.scatter(x_arr[3:7], y_arr_2, s = 100, c = 'k')\n",
    "plt.scatter(x_arr[7:], y_arr_3, s = 100, c = 'k')\n",
    "plt.show()"
   ]
  },
  {
   "cell_type": "code",
   "execution_count": 12,
   "metadata": {
    "collapsed": false,
    "slideshow": {
     "slide_type": "subslide"
    }
   },
   "outputs": [
    {
     "data": {
      "image/png": "[encoded data removed]",
      "text/plain": [
       "<matplotlib.figure.Figure at 0x119dcc630>"
      ]
     },
     "metadata": {},
     "output_type": "display_data"
    }
   ],
   "source": [
    "import numpy as np\n",
    "import matplotlib.pyplot as plt\n",
    "import random\n",
    "\n",
    "x_arr = np.arange(1, 13)\n",
    "y_arr_length = [3, 4, 5]\n",
    "random.seed(123)\n",
    "y_arr_1 = x_arr[:3] + np.array(random.choices(np.arange(10, 15, 0.1), k = y_arr_length[0]))\n",
    "y_arr_2 = x_arr[3:7] + np.array(random.choices(np.arange(0, 5, 0.1), k = y_arr_length[1]))\n",
    "y_arr_3 = x_arr[7:] + np.array(random.choices(np.arange(5, 10, 0.1), k = y_arr_length[2]))\n",
    "plt.scatter(x_arr[:3], y_arr_1, s = 100, c = 'r')\n",
    "plt.scatter(x_arr[3:7], y_arr_2, s = 100, c = 'g')\n",
    "plt.scatter(x_arr[7:], y_arr_3, s = 100, c = 'b')\n",
    "plt.plot(2, 14, marker = 'X', markersize = 20, c = 'r')\n",
    "plt.plot(5, 8, marker = 'X', markersize = 20, c = 'g')\n",
    "plt.plot(10, 18, marker = 'X', markersize = 20, c = 'b')\n",
    "plt.show()"
   ]
  },
  {
   "cell_type": "code",
   "execution_count": 13,
   "metadata": {
    "collapsed": false,
    "slideshow": {
     "slide_type": "subslide"
    }
   },
   "outputs": [
    {
     "data": {
      "image/png": "[encoded data removed]",
      "text/plain": [
       "<matplotlib.figure.Figure at 0x11a1bb908>"
      ]
     },
     "metadata": {},
     "output_type": "display_data"
    }
   ],
   "source": [
    "import numpy as np\n",
    "import matplotlib.pyplot as plt\n",
    "import random\n",
    "\n",
    "x_arr = np.arange(1, 13)\n",
    "y_arr_length = [3, 4, 5]\n",
    "random.seed(123)\n",
    "y_arr_1 = x_arr[:3] + np.array(random.choices(np.arange(10, 15, 0.1), k = y_arr_length[0]))\n",
    "y_arr_2 = x_arr[3:7] + np.array(random.choices(np.arange(0, 5, 0.1), k = y_arr_length[1]))\n",
    "y_arr_3 = x_arr[7:] + np.array(random.choices(np.arange(5, 10, 0.1), k = y_arr_length[2]))\n",
    "plt.scatter(x_arr[:3], y_arr_1, s = 100, c = 'r')\n",
    "plt.scatter(x_arr[[3, 5]], y_arr_2[[0, 2]], s = 100, c = 'g')\n",
    "plt.scatter(x_arr[[4, 6]], y_arr_2[[1, 3]], s = 100, c = 'b')\n",
    "plt.scatter(x_arr[7:], y_arr_3, s = 100, c = 'r')\n",
    "plt.plot(6, 16, marker = 'X', markersize = 20, c = 'r')\n",
    "plt.plot(5, 5, marker = 'X', markersize = 20, c = 'g')\n",
    "plt.plot(6, 9, marker = 'X', markersize = 20, c = 'b')\n",
    "plt.show()"
   ]
  },
  {
   "cell_type": "code",
   "execution_count": 14,
   "metadata": {
    "collapsed": false,
    "slideshow": {
     "slide_type": "subslide"
    }
   },
   "outputs": [
    {
     "data": {
      "image/png": "[encoded data removed]",
      "text/plain": [
       "<matplotlib.figure.Figure at 0x119ddff28>"
      ]
     },
     "metadata": {},
     "output_type": "display_data"
    }
   ],
   "source": [
    "import numpy as np\n",
    "import matplotlib.pyplot as plt\n",
    "import random\n",
    "\n",
    "x_arr = np.arange(1, 13)\n",
    "y_arr_length = [3, 4, 5]\n",
    "random.seed(123)\n",
    "y_arr_1 = x_arr[:3] + np.array(random.choices(np.arange(10, 15, 0.1), k = y_arr_length[0]))\n",
    "y_arr_2 = x_arr[3:7] + np.array(random.choices(np.arange(0, 5, 0.1), k = y_arr_length[1]))\n",
    "y_arr_3 = x_arr[7:] + np.array(random.choices(np.arange(5, 10, 0.1), k = y_arr_length[2]))\n",
    "plt.scatter(x_arr[:3], y_arr_1, s = 100, c = 'r')\n",
    "plt.scatter(x_arr[3:7], y_arr_2, s = 100, c = 'r')\n",
    "plt.scatter(x_arr[7:10], y_arr_3[:3], s = 100, c = 'g')\n",
    "plt.scatter(x_arr[10:], y_arr_3[3:], s = 100, c = 'b')\n",
    "plt.plot(3, 10, marker = 'X', markersize = 20, c = 'r')\n",
    "plt.plot(9, 16, marker = 'X', markersize = 20, c = 'g')\n",
    "plt.plot(11.5, 18, marker = 'X', markersize = 20, c = 'b')\n",
    "plt.show()"
   ]
  },
  {
   "cell_type": "markdown",
   "metadata": {
    "slideshow": {
     "slide_type": "subslide"
    }
   },
   "source": [
    "## 分群問題（9）\n",
    "\n",
    "- 透過多進行幾次初始化 $K$ 個中心點的位置來進行校正\n",
    "- 從多次的分群中選擇一個 $J(c, \\mu_k)$ 最小的分群"
   ]
  },
  {
   "cell_type": "markdown",
   "metadata": {
    "slideshow": {
     "slide_type": "subslide"
    }
   },
   "source": [
    "## 分群問題（10）\n",
    "\n",
    "- 如何選擇一個合適的 $K$？\n",
    "    - 性別（2 群）\n",
    "    - 血型（4 群）\n",
    "    - 星座（12 群）\n",
    "    - 出生月日（366 群）\n",
    "    - DNA（75+ 億群）"
   ]
  },
  {
   "cell_type": "markdown",
   "metadata": {
    "slideshow": {
     "slide_type": "subslide"
    }
   },
   "source": [
    "## 分群問題（11）\n",
    "\n",
    "- 利用陡坡圖（Scree plot）尋找手肘點（Elbow point）"
   ]
  },
  {
   "cell_type": "code",
   "execution_count": 15,
   "metadata": {
    "collapsed": false
   },
   "outputs": [
    {
     "data": {
      "image/png": "[encoded data removed]",
      "text/plain": [
       "<matplotlib.figure.Figure at 0x119837400>"
      ]
     },
     "metadata": {},
     "output_type": "display_data"
    }
   ],
   "source": [
    "import matplotlib.pyplot as plt\n",
    "import numpy as np\n",
    "\n",
    "x = np.arange(0.01, 1, 0.1)\n",
    "y1 = -np.log(x)\n",
    "plt.plot(x, y1, marker = 's')\n",
    "plt.plot(x[[2, 3]], y1[[2, 3]], c = 'r', marker = 'X', lw = 0, markersize = 10)\n",
    "plt.xticks(x, range(1, 10))\n",
    "plt.xlabel(\"Number of clusters\")\n",
    "plt.ylabel(\"$J(c, \\mu_k)$\")\n",
    "plt.show()"
   ]
  }
 ],
 "metadata": {
  "celltoolbar": "Slideshow",
  "kernelspec": {
   "display_name": "Python 3",
   "language": "python",
   "name": "python3"
  },
  "language_info": {
   "codemirror_mode": {
    "name": "ipython",
    "version": 3
   },
   "file_extension": ".py",
   "mimetype": "text/x-python",
   "name": "python",
   "nbconvert_exporter": "python",
   "pygments_lexer": "ipython3",
   "version": "3.6.0"
  }
 },
 "nbformat": 4,
 "nbformat_minor": 2
}
