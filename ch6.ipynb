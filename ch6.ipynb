{
 "cells": [
  {
   "cell_type": "markdown",
   "metadata": {
    "slideshow": {
     "slide_type": "slide"
    }
   },
   "source": [
    "# 迴圈\n",
    "\n",
    "## 郭耀仁"
   ]
  },
  {
   "cell_type": "markdown",
   "metadata": {
    "slideshow": {
     "slide_type": "slide"
    }
   },
   "source": [
    "## 一次印出一天\n",
    "\n",
    "```python\n",
    "weekdays = [\"Monday\", \"Tuesday\", \"Wednesday\", \"Thursday\", \"Friday\"]\n",
    "```"
   ]
  },
  {
   "cell_type": "markdown",
   "metadata": {
    "slideshow": {
     "slide_type": "subslide"
    }
   },
   "source": [
    "## 一次印出一天（2）\n",
    "\n",
    "- 土法煉鋼的方法\n",
    "\n",
    "```python\n",
    "weekdays = [\"Monday\", \"Tuesday\", \"Wednesday\", \"Thursday\", \"Friday\"]\n",
    "\n",
    "print(weekdays[0])\n",
    "print(weekdays[1])\n",
    "print(weekdays[2])\n",
    "print(weekdays[3])\n",
    "print(weekdays[4])\n",
    "```"
   ]
  },
  {
   "cell_type": "markdown",
   "metadata": {
    "slideshow": {
     "slide_type": "subslide"
    }
   },
   "source": [
    "## 一次印出一天（3）\n",
    "\n",
    "- 或者寫一個迴圈\n",
    "\n",
    "```python\n",
    "weekdays = [\"Monday\", \"Tuesday\", \"Wednesday\", \"Thursday\", \"Friday\"]\n",
    "\n",
    "# 迴圈結構\n",
    "for weekday in weekdays:\n",
    "    print(weekday)\n",
    "```"
   ]
  },
  {
   "cell_type": "markdown",
   "metadata": {
    "slideshow": {
     "slide_type": "slide"
    }
   },
   "source": [
    "## 迴圈的結構\n",
    "\n",
    "- 宣告迴圈的種類（`for`）\n",
    "- 宣告一個 **iterator** 或者叫做 **cursor**（`weekday`）\n",
    "- 宣告一個迴圈要跑的空間（`weekdays`）\n",
    "- **縮排**宣告每一次 **iterator** 變動的時候要做什麼事（`print(weekday)`）\n",
    "\n",
    "```python\n",
    "weekdays = [\"Monday\", \"Tuesday\", \"Wednesday\", \"Thursday\", \"Friday\"]\n",
    "\n",
    "# 迴圈結構\n",
    "for weekday in weekdays:\n",
    "    print(weekday)\n",
    "```"
   ]
  },
  {
   "cell_type": "markdown",
   "metadata": {
    "slideshow": {
     "slide_type": "slide"
    }
   },
   "source": [
    "## for 迴圈\n",
    "\n",
    "- 結構：\n",
    "\n",
    "```python\n",
    "for element in sequence:\n",
    "    # 做什麼事\n",
    "```"
   ]
  },
  {
   "cell_type": "markdown",
   "metadata": {
    "slideshow": {
     "slide_type": "subslide"
    }
   },
   "source": [
    "## for 迴圈（2）\n",
    "\n",
    "```python\n",
    "seq = range(1, 11)\n",
    "\n",
    "for element in seq:\n",
    "    print(element)\n",
    "```"
   ]
  },
  {
   "cell_type": "markdown",
   "metadata": {
    "slideshow": {
     "slide_type": "subslide"
    }
   },
   "source": [
    "## for 迴圈（3）\n",
    "\n",
    "- element 不必要為單一變數\n",
    "\n",
    "```python\n",
    "seq = [87, [1, 2, 3], {\"city\": \"Taipei\"}]\n",
    "\n",
    "for element in seq:\n",
    "    print(element)\n",
    "```"
   ]
  },
  {
   "cell_type": "markdown",
   "metadata": {
    "slideshow": {
     "slide_type": "subslide"
    }
   },
   "source": [
    "## for 迴圈（4）\n",
    "\n",
    "- 如果 sequence 是一個字典，會直接輸出鍵值（key）\n",
    "\n",
    "```python\n",
    "my_dict = {\"country\": \"Taiwan\", \"city\":\"Taipei\"}\n",
    "\n",
    "for element in my_dict:\n",
    "    print(element)\n",
    "```"
   ]
  },
  {
   "cell_type": "markdown",
   "metadata": {
    "slideshow": {
     "slide_type": "subslide"
    }
   },
   "source": [
    "## for 迴圈（5）\n",
    "\n",
    "- sequence 是字典時，可讀性更強的寫法：\n",
    "\n",
    "```python\n",
    "my_dict = {\"country\": \"Taiwan\", \"city\":\"Taipei\"}\n",
    "print(my_dict.keys())\n",
    "\n",
    "for element in my_dict.keys():\n",
    "    print(element)\n",
    "```"
   ]
  },
  {
   "cell_type": "markdown",
   "metadata": {
    "collapsed": true,
    "slideshow": {
     "slide_type": "subslide"
    }
   },
   "source": [
    "## for 迴圈（6）\n",
    "\n",
    "- sequence 是字典時，可讀性更強的寫法：\n",
    "\n",
    "```python\n",
    "my_dict = {\"country\": \"Taiwan\", \"city\":\"Taipei\"}\n",
    "print(my_dict.values())\n",
    "\n",
    "for element in my_dict.values():\n",
    "    print(element)\n",
    "```"
   ]
  },
  {
   "cell_type": "markdown",
   "metadata": {
    "slideshow": {
     "slide_type": "subslide"
    }
   },
   "source": [
    "## for 迴圈（7）\n",
    "\n",
    "- sequence 是字典時，可讀性更強的寫法：\n",
    "\n",
    "```python\n",
    "my_dict = {\"country\": \"Taiwan\", \"city\":\"Taipei\"}\n",
    "print(my_dict.items())\n",
    "\n",
    "for (key, value) in my_dict.items():\n",
    "    print(key, \":\", value)\n",
    "```"
   ]
  },
  {
   "cell_type": "markdown",
   "metadata": {
    "slideshow": {
     "slide_type": "subslide"
    }
   },
   "source": [
    "## for 迴圈練習\n",
    "\n",
    "- 練習用 `for` 迴圈計算 1 加到 100"
   ]
  },
  {
   "cell_type": "markdown",
   "metadata": {
    "slideshow": {
     "slide_type": "subslide"
    }
   },
   "source": [
    "## for 迴圈練習（2）\n",
    "\n",
    "- 練習用 `for` 迴圈計算 `range(1, 101)` 的元素個數"
   ]
  },
  {
   "cell_type": "markdown",
   "metadata": {
    "slideshow": {
     "slide_type": "subslide"
    }
   },
   "source": [
    "## for 迴圈練習（3）\n",
    "\n",
    "- 練習用 `for` 迴圈計算 $10!$"
   ]
  },
  {
   "cell_type": "markdown",
   "metadata": {
    "slideshow": {
     "slide_type": "slide"
    }
   },
   "source": [
    "## while 迴圈\n",
    "\n",
    "- 概念：所有的 `for` 迴圈都可以用 `while` 迴圈改寫；反之則不一定\n",
    "- 結構：\n",
    "\n",
    "```python\n",
    "while 某種條件判斷為 `True` 的時候:\n",
    "    # 做什麼事\n",
    "```"
   ]
  },
  {
   "cell_type": "markdown",
   "metadata": {
    "slideshow": {
     "slide_type": "subslide"
    }
   },
   "source": [
    "## while 迴圈（2）\n",
    "\n",
    "- 1 加到 100\n",
    "\n",
    "```python\n",
    "one_to_hundred = range(1, 101)\n",
    "summation = 0\n",
    "i = 0\n",
    "\n",
    "while i < len(one_to_hundred):\n",
    "        summation += one_to_hundred[i]\n",
    "        i += 1\n",
    "\n",
    "print(summation)\n",
    "print(i)\n",
    "```"
   ]
  },
  {
   "cell_type": "markdown",
   "metadata": {
    "slideshow": {
     "slide_type": "subslide"
    }
   },
   "source": [
    "## while 迴圈（3）\n",
    "\n",
    "- 計算一個 [Fibonacci](https://en.wikipedia.org/wiki/Fibonacci_number) 數列的前 20 個數字\n",
    "\n",
    "```python\n",
    "f1 = 0\n",
    "f2 = 1\n",
    "fibonacci = [f1, f2]\n",
    "while len(fibonacci) < 20:\n",
    "    f1, f2 = f2, f1 + f2\n",
    "    fibonacci.append(f2)\n",
    "\n",
    "print(fibonacci)\n",
    "```"
   ]
  },
  {
   "cell_type": "markdown",
   "metadata": {
    "slideshow": {
     "slide_type": "subslide"
    }
   },
   "source": [
    "## while 迴圈（4）\n",
    "\n",
    "- 投擲一枚公正的硬幣，出現三次正面才停止\n",
    "\n",
    "```python\n",
    "import random\n",
    "\n",
    "flips = []\n",
    "while sum(flips) < 3:\n",
    "    flips.append(random.randint(0, 1))\n",
    "\n",
    "print(flips)\n",
    "print(len(flips))\n",
    "```"
   ]
  },
  {
   "cell_type": "markdown",
   "metadata": {
    "slideshow": {
     "slide_type": "slide"
    }
   },
   "source": [
    "## 使用 enumerate() 函數\n",
    "\n",
    "- 同時使用 sequence 的索引值與其中的內容值\n",
    "\n",
    "```python\n",
    "weekdays = [\"Monday\", \"Tuesday\", \"Wednesday\", \"Thursday\", \"Friday\"]\n",
    "\n",
    "for idx, weekday in enumerate(weekdays):\n",
    "    print(idx, \":\", weekday)\n",
    "```"
   ]
  },
  {
   "cell_type": "markdown",
   "metadata": {
    "slideshow": {
     "slide_type": "slide"
    }
   },
   "source": [
    "## 使用 zip() 函數\n",
    "\n",
    "- 同時使用兩個以上 sequences 的內容值\n",
    "\n",
    "```python\n",
    "weekdays_ch = [\"星期一\", \"星期二\", \"星期三\", \"星期四\", \"星期五\"]\n",
    "weekdays = [\"Monday\", \"Tuesday\", \"Wednesday\", \"Thursday\", \"Friday\"]\n",
    "\n",
    "for weekday_ch, weekday in zip(weekdays_ch, weekdays):\n",
    "    print(weekday_ch, \":\", weekday)\n",
    "```"
   ]
  },
  {
   "cell_type": "markdown",
   "metadata": {
    "slideshow": {
     "slide_type": "slide"
    }
   },
   "source": [
    "## 期中作業\n",
    "\n",
    "- 不使用 **NumPy** 實作[標準差](https://zh.wikipedia.org/wiki/%E6%A8%99%E6%BA%96%E5%B7%AE)的計算\n",
    "\n",
    "$$SD = \\sqrt{\\frac{1}{N}\\sum_{i=1}^{N}(x_i - \\mu)^2}$$\n",
    "\n",
    "- 印出九九乘法表\n",
    "\n",
    "![9x9](https://storage.googleapis.com/py_ds_basic/mat_9_9.png)"
   ]
  }
 ],
 "metadata": {
  "celltoolbar": "Slideshow",
  "kernelspec": {
   "display_name": "Python 3",
   "language": "python",
   "name": "python3"
  },
  "language_info": {
   "codemirror_mode": {
    "name": "ipython",
    "version": 3
   },
   "file_extension": ".py",
   "mimetype": "text/x-python",
   "name": "python",
   "nbconvert_exporter": "python",
   "pygments_lexer": "ipython3",
   "version": "3.6.0"
  }
 },
 "nbformat": 4,
 "nbformat_minor": 1
}
