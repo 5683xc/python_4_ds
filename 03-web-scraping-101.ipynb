{
 "cells": [
  {
   "cell_type": "markdown",
   "metadata": {
    "slideshow": {
     "slide_type": "slide"
    }
   },
   "source": [
    "# 成為初級資料分析師 | Python 與資料科學應用\n",
    "\n",
    "> 網頁資料擷取（a.k.a. 網路爬蟲）\n",
    "\n",
    "郭耀仁"
   ]
  },
  {
   "cell_type": "markdown",
   "metadata": {
    "slideshow": {
     "slide_type": "subslide"
    }
   },
   "source": [
    "## 大綱\n",
    "\n",
    "- 網頁資料擷取的核心任務\n",
    "- 擷取 JSON 格式網頁資料\n",
    "- 擷取 XML 格式網頁資料\n",
    "- 擷取 HTML 格式網頁資料\n",
    "- 瀏覽器自動化"
   ]
  },
  {
   "cell_type": "markdown",
   "metadata": {
    "slideshow": {
     "slide_type": "slide"
    }
   },
   "source": [
    "## 網頁資料擷取的核心任務"
   ]
  },
  {
   "cell_type": "markdown",
   "metadata": {
    "slideshow": {
     "slide_type": "subslide"
    }
   },
   "source": [
    "## 盤點核心任務\n",
    "\n",
    "以 Python 豐富的套件、Chrome 瀏覽器外掛與開發者工具來進行兩項核心任務：\n",
    "\n",
    "1. 請求資料 Requesting Data\n",
    "2. 解析資料 Parsing Data"
   ]
  },
  {
   "cell_type": "markdown",
   "metadata": {
    "slideshow": {
     "slide_type": "subslide"
    }
   },
   "source": [
    "## 請求資料\n",
    "\n",
    "- 使用 [Quick JavaScript Switcher](https://chrome.google.com/webstore/detail/quick-javascript-switcher/geddoclleiomckbhadiaipdggiiccfje) 與 Chrome 開發者工具判斷網頁資料類型\n",
    "- 以 `requests` 或 `selenium` 發送 HTTP 請求獲得網頁資料"
   ]
  },
  {
   "cell_type": "markdown",
   "metadata": {
    "slideshow": {
     "slide_type": "subslide"
    }
   },
   "source": [
    "## 常用的 `requests` 方法、屬性\n",
    "\n",
    "- `requests.get()`：進行 GET 請求\n",
    "- `r.status_code`：查看 HTTP 狀態碼\n",
    "- `r.json()`：將回應直接轉換為 Python 的資料結構（`list` 或 `dict`）\n",
    "- `r.content`：將回應轉換為 `bytes`\n",
    "- `r.text`：將回應轉換為 `str`"
   ]
  },
  {
   "cell_type": "markdown",
   "metadata": {
    "slideshow": {
     "slide_type": "subslide"
    }
   },
   "source": [
    "## 解析資料\n",
    "\n",
    "- 如果資料是 JSON 格式：以 `requests` 獲取後可直接以 Python 資料結構解析\n",
    "- 如果資料是 XML 格式：以 `lxml` 搭配 XPath 解析\n",
    "- 如果資料是 HTML 格式：以 `bs4`、`pyquery` 或 `selenium` 搭配 CSS Selector/XPath 解析"
   ]
  },
  {
   "cell_type": "markdown",
   "metadata": {
    "slideshow": {
     "slide_type": "slide"
    }
   },
   "source": [
    "## 擷取 JSON 格式網頁資料"
   ]
  },
  {
   "cell_type": "markdown",
   "metadata": {
    "slideshow": {
     "slide_type": "subslide"
    }
   },
   "source": [
    "## JSON 格式網頁資料範例\n",
    "\n",
    "- [空氣品質指標(AQI)](https://opendata.epa.gov.tw/ws/Data/AQI/?$format=json)\n",
    "- [data.nba](http://data.nba.net/prod/v1/today.json)\n",
    "- [PChome](https://ecshweb.pchome.com.tw/search/v3.3/all/results?q=macbook&page=1&sort=sale/dc)"
   ]
  },
  {
   "cell_type": "markdown",
   "metadata": {
    "slideshow": {
     "slide_type": "subslide"
    }
   },
   "source": [
    "## 幫助瀏覽 JSON 資料的 Chrome 外掛\n",
    "\n",
    "[JSON View](https://chrome.google.com/webstore/detail/jsonview/chklaanhfefbnpoihckbnefhakgolnmc)"
   ]
  },
  {
   "cell_type": "markdown",
   "metadata": {
    "slideshow": {
     "slide_type": "subslide"
    }
   },
   "source": [
    "## 擷取 JSON 格式網頁資料步驟\n",
    "\n",
    "- `requests.get()`\n",
    "- `r.json()`\n",
    "- 視需求進行摘要"
   ]
  },
  {
   "cell_type": "markdown",
   "metadata": {
    "slideshow": {
     "slide_type": "subslide"
    }
   },
   "source": [
    "## 以 <https://opendata.epa.gov.tw/ws/Data/AQI/?$format=json> 示範"
   ]
  },
  {
   "cell_type": "code",
   "execution_count": null,
   "metadata": {
    "slideshow": {
     "slide_type": "fragment"
    }
   },
   "outputs": [],
   "source": [
    "import requests\n",
    "\n",
    "aqi_url = \"https://opendata.epa.gov.tw/ws/Data/AQI/?$format=json\"\n",
    "r = requests.get(aqi_url, verify=False)\n",
    "aqi = r.json()\n",
    "print(type(aqi))\n",
    "print(aqi)"
   ]
  },
  {
   "cell_type": "markdown",
   "metadata": {
    "slideshow": {
     "slide_type": "subslide"
    }
   },
   "source": [
    "## 隨堂練習"
   ]
  },
  {
   "cell_type": "markdown",
   "metadata": {
    "slideshow": {
     "slide_type": "subslide"
    }
   },
   "source": [
    "## 台灣的測站共有幾個？"
   ]
  },
  {
   "cell_type": "code",
   "execution_count": null,
   "metadata": {
    "slideshow": {
     "slide_type": "subslide"
    }
   },
   "outputs": [],
   "source": [
    "n_sites = len(aqi)\n",
    "print(\"台灣的測站共有 {} 個\".format(n_sites))"
   ]
  },
  {
   "cell_type": "markdown",
   "metadata": {
    "slideshow": {
     "slide_type": "subslide"
    }
   },
   "source": [
    "## 位於台北市與新北市的測站共有幾個？"
   ]
  },
  {
   "cell_type": "code",
   "execution_count": null,
   "metadata": {
    "slideshow": {
     "slide_type": "subslide"
    }
   },
   "outputs": [],
   "source": [
    "sites_in_tp = [d[\"SiteName\"] for d in aqi if (d[\"County\"] == \"臺北市\") or (d[\"County\"] == \"新北市\")]\n",
    "print(\"位於台北市與新北市的測站共有 {} 個：\".format(len(sites_in_tp)))\n",
    "print(sites_in_tp)"
   ]
  },
  {
   "cell_type": "markdown",
   "metadata": {
    "slideshow": {
     "slide_type": "subslide"
    }
   },
   "source": [
    "## 過去一小時 PM2.5_AVG 最高與最低的測站分別為？"
   ]
  },
  {
   "cell_type": "code",
   "execution_count": null,
   "metadata": {
    "slideshow": {
     "slide_type": "subslide"
    }
   },
   "outputs": [],
   "source": [
    "pm25_avg = [float(d[\"PM2.5_AVG\"]) for d in aqi]\n",
    "max_val, min_val = max(pm25_avg), min(pm25_avg)\n",
    "max_sites, min_sites = [], []\n",
    "for d in aqi:\n",
    "    if float(d[\"PM2.5_AVG\"]) == max_val:\n",
    "        max_sites.append(d[\"SiteName\"])\n",
    "    elif float(d[\"PM2.5_AVG\"]) == min_val:\n",
    "        min_sites.append(d[\"SiteName\"])\n",
    "print(\"過去一小時 PM2.5_AVG 最高為 {}，測站為：\".format(max_val), max_sites)\n",
    "print(\"過去一小時 PM2.5_AVG 最低為 {}，測站為：\".format(min_val), min_sites)"
   ]
  },
  {
   "cell_type": "markdown",
   "metadata": {
    "slideshow": {
     "slide_type": "slide"
    }
   },
   "source": [
    "## 擷取 XML 格式網頁資料"
   ]
  },
  {
   "cell_type": "markdown",
   "metadata": {
    "slideshow": {
     "slide_type": "subslide"
    }
   },
   "source": [
    "## 擷取 XML 格式網頁資料步驟\n",
    "\n",
    "- `requests.get()`\n",
    "- `r.content`\n",
    "- 以 `lxml` 搭配 XPath 解析"
   ]
  },
  {
   "cell_type": "markdown",
   "metadata": {
    "slideshow": {
     "slide_type": "subslide"
    }
   },
   "source": [
    "## 以 <https://opendata.epa.gov.tw/ws/Data/AQI/?$format=xml> 示範"
   ]
  },
  {
   "cell_type": "code",
   "execution_count": null,
   "metadata": {
    "slideshow": {
     "slide_type": "fragment"
    }
   },
   "outputs": [],
   "source": [
    "import requests\n",
    "\n",
    "aqi_url = \"https://opendata.epa.gov.tw/ws/Data/AQI/?$format=xml\"\n",
    "r = requests.get(aqi_url, verify=False)"
   ]
  },
  {
   "cell_type": "code",
   "execution_count": null,
   "metadata": {
    "slideshow": {
     "slide_type": "subslide"
    }
   },
   "outputs": [],
   "source": [
    "from lxml import etree\n",
    "from io import BytesIO\n",
    "\n",
    "f = BytesIO(r.content)\n",
    "tree = etree.parse(f)\n",
    "site_names = [t.text for t in tree.xpath(\"//SiteName\")]\n",
    "print(site_names)"
   ]
  },
  {
   "cell_type": "markdown",
   "metadata": {
    "slideshow": {
     "slide_type": "slide"
    }
   },
   "source": [
    "## 擷取 HTML 格式網頁資料"
   ]
  },
  {
   "cell_type": "markdown",
   "metadata": {
    "slideshow": {
     "slide_type": "subslide"
    }
   },
   "source": [
    "## 擷取 HTML 格式網頁資料步驟\n",
    "\n",
    "- `requests.get()`\n",
    "- `r.text`\n",
    "- 以 `bs4` 或 `pyquery` 搭配 Tag Name/CSS Selector 解析"
   ]
  },
  {
   "cell_type": "markdown",
   "metadata": {
    "slideshow": {
     "slide_type": "subslide"
    }
   },
   "source": [
    "## 常見用來標示 HTML 資料的方法\n",
    "\n",
    "- **HTML 的標籤名稱**\n",
    "- HTML 標籤中給予的 id\n",
    "- HTML 標籤中給予的 class\n",
    "- **資料所在的 CSS 選擇器（CSS Selector）**\n",
    "- 資料所在的 XPath"
   ]
  },
  {
   "cell_type": "markdown",
   "metadata": {
    "slideshow": {
     "slide_type": "subslide"
    }
   },
   "source": [
    "## 幫助 CSS 選擇的 Chrome 外掛\n",
    "\n",
    "[SelectorGadget](https://chrome.google.com/webstore/detail/selectorgadget/mhjhnkcfbdhnjickkkdbjoemdmbfginb)"
   ]
  },
  {
   "cell_type": "markdown",
   "metadata": {
    "slideshow": {
     "slide_type": "subslide"
    }
   },
   "source": [
    "## [SelectorGadget](https://chrome.google.com/webstore/detail/selectorgadget/mhjhnkcfbdhnjickkkdbjoemdmbfginb) 的使用方法\n",
    "\n",
    "1. 點選 SelectorGadget 的外掛圖示\n",
    "2. 留意 SelectorGadget 的 CSS 選擇器\n",
    "3. 移動滑鼠到想要定位的元素\n",
    "3. 在想要定位的資料上面點選左鍵，留意 Clear 後面數字表示有多少個元素被選擇到\n",
    "4. 移動滑鼠點選不要選擇的元素（改以紅底標記），並同時注意 CSS 選擇器位址與 Clear 後面數字"
   ]
  },
  {
   "cell_type": "markdown",
   "metadata": {
    "slideshow": {
     "slide_type": "subslide"
    }
   },
   "source": [
    "## 以 [Avengers: Endgame (2019)](https://www.imdb.com/title/tt4154796) 示範 [SelectorGadget](https://chrome.google.com/webstore/detail/selectorgadget/mhjhnkcfbdhnjickkkdbjoemdmbfginb) 的使用方法\n",
    "\n",
    "- 電影名稱\n",
    "- 電影海報\n",
    "- 評分\n",
    "- 劇情類型\n",
    "- 演員陣容"
   ]
  },
  {
   "cell_type": "markdown",
   "metadata": {
    "slideshow": {
     "slide_type": "subslide"
    }
   },
   "source": [
    "## 使用 bs4 或 pyquery 解析網頁資料\n",
    "\n",
    "```python\n",
    "from bs4 import BeautifulSoup\n",
    "from pyquery import PyQuery as pq\n",
    "```"
   ]
  },
  {
   "cell_type": "markdown",
   "metadata": {
    "slideshow": {
     "slide_type": "subslide"
    }
   },
   "source": [
    "## 常用的 bs4 方法、屬性\n",
    "\n",
    "- `BeautifulSoup()`：創建 `soup` 類別\n",
    "- `soup.find()`：尋找第一個符合標記名稱的資料\n",
    "- `soup.find_all()`：尋找所有符合標記名稱的資料\n",
    "- `soup.select()`：尋找所有符合 CSS Selectors 的資料\n",
    "- `element.Tag.text`：取出標記中的文字值\n",
    "- `element.Tag.get(attr)`：取出標記中的指定屬性"
   ]
  },
  {
   "cell_type": "markdown",
   "metadata": {
    "slideshow": {
     "slide_type": "subslide"
    }
   },
   "source": [
    "## 以 [Avengers: Endgame (2019)](https://www.imdb.com/title/tt4154796) 示範 bs4"
   ]
  },
  {
   "cell_type": "code",
   "execution_count": null,
   "metadata": {},
   "outputs": [],
   "source": [
    "import requests\n",
    "from bs4 import BeautifulSoup\n",
    "\n",
    "r = requests.get(\"https://www.imdb.com/title/tt4154796\")\n",
    "html_doc = r.text\n",
    "soup = BeautifulSoup(html_doc)\n",
    "print(type(soup))"
   ]
  },
  {
   "cell_type": "code",
   "execution_count": null,
   "metadata": {
    "slideshow": {
     "slide_type": "subslide"
    }
   },
   "outputs": [],
   "source": [
    "print(soup.find(\"h1\"))\n",
    "print(type(soup.find(\"h1\")))\n",
    "print(soup.find(\"h1\").text)"
   ]
  },
  {
   "cell_type": "code",
   "execution_count": null,
   "metadata": {
    "slideshow": {
     "slide_type": "subslide"
    }
   },
   "outputs": [],
   "source": [
    "print(len(soup.find_all(\"img\")))\n",
    "print(soup.find_all(\"img\")[2])\n",
    "print(soup.find_all(\"img\")[2].get(\"alt\"))\n",
    "print(soup.find_all(\"img\")[2].get(\"src\"))"
   ]
  },
  {
   "cell_type": "code",
   "execution_count": null,
   "metadata": {
    "slideshow": {
     "slide_type": "subslide"
    }
   },
   "outputs": [],
   "source": [
    "print(soup.select(\"strong span\"))\n",
    "print(float(soup.select(\"strong span\")[0].text))"
   ]
  },
  {
   "cell_type": "markdown",
   "metadata": {
    "slideshow": {
     "slide_type": "subslide"
    }
   },
   "source": [
    "## 隨堂練習"
   ]
  },
  {
   "cell_type": "markdown",
   "metadata": {
    "slideshow": {
     "slide_type": "subslide"
    }
   },
   "source": [
    "## 以 `requests` 搭配 `bs4` 擷取 [Avengers: Endgame (2019)](https://www.imdb.com/title/tt4154796) 的劇情類型"
   ]
  },
  {
   "cell_type": "code",
   "execution_count": null,
   "metadata": {
    "slideshow": {
     "slide_type": "subslide"
    }
   },
   "outputs": [],
   "source": [
    "import requests\n",
    "from bs4 import BeautifulSoup\n",
    "\n",
    "r = requests.get(\"https://www.imdb.com/title/tt4154796\")\n",
    "html_doc = r.text\n",
    "soup = BeautifulSoup(html_doc)\n",
    "genre = soup.select(\".subtext a\")\n",
    "genre.pop()\n",
    "for g in genre:\n",
    "    print(g.text)"
   ]
  },
  {
   "cell_type": "markdown",
   "metadata": {
    "slideshow": {
     "slide_type": "subslide"
    }
   },
   "source": [
    "## 以 `requests` 搭配 `bs4` 擷取 [Avengers: Endgame (2019)](https://www.imdb.com/title/tt4154796) 的演員陣容"
   ]
  },
  {
   "cell_type": "code",
   "execution_count": null,
   "metadata": {
    "slideshow": {
     "slide_type": "subslide"
    }
   },
   "outputs": [],
   "source": [
    "import requests\n",
    "from bs4 import BeautifulSoup\n",
    "\n",
    "r = requests.get(\"https://www.imdb.com/title/tt4154796\")\n",
    "html_doc = r.text\n",
    "soup = BeautifulSoup(html_doc)\n",
    "n_cast = 15\n",
    "end_num = 1 + 4*n_cast\n",
    "i = 1\n",
    "cast = []\n",
    "while i < end_num:\n",
    "    star = soup.find_all(\"td\")[i].find(\"a\").find(\"img\").get(\"alt\")\n",
    "    cast.append(star)\n",
    "    i += 4\n",
    "print(cast)"
   ]
  },
  {
   "cell_type": "markdown",
   "metadata": {
    "slideshow": {
     "slide_type": "subslide"
    }
   },
   "source": [
    "## 常用的 pyquery 方法、屬性\n",
    "\n",
    "- `PyQuery()`：創建 `PyQuery` 類別\n",
    "- `d(\"YOUR-CSS-SELECTOR\")`：尋找所有符合 CSS Selectors 的資料\n",
    "- `d(\"YOUR-CSS-SELECTOR\").items()`：回傳所有符合 CSS Selectors 的文字與屬性\n",
    "- `elem.text()`：取出標記中的文字值\n",
    "- `elem.attr(ATTR)`：取出標記中的指定屬性"
   ]
  },
  {
   "cell_type": "markdown",
   "metadata": {
    "slideshow": {
     "slide_type": "subslide"
    }
   },
   "source": [
    "## 以 [Avengers: Endgame (2019)](https://www.imdb.com/title/tt4154796) 示範 PyQuery"
   ]
  },
  {
   "cell_type": "code",
   "execution_count": null,
   "metadata": {
    "slideshow": {
     "slide_type": "subslide"
    }
   },
   "outputs": [],
   "source": [
    "import requests\n",
    "from pyquery import PyQuery as pq\n",
    "\n",
    "r = requests.get(\"https://www.imdb.com/title/tt4154796\")\n",
    "html_doc = r.text\n",
    "d = pq(html_doc)\n",
    "print(type(d))"
   ]
  },
  {
   "cell_type": "code",
   "execution_count": null,
   "metadata": {
    "slideshow": {
     "slide_type": "subslide"
    }
   },
   "outputs": [],
   "source": [
    "print(d(\"h1\"))\n",
    "print(type(d(\"h1\")))\n",
    "for i in d(\"h1\").items():\n",
    "    print(i.text())"
   ]
  },
  {
   "cell_type": "code",
   "execution_count": null,
   "metadata": {
    "slideshow": {
     "slide_type": "subslide"
    }
   },
   "outputs": [],
   "source": [
    "for i in d(\".poster img\").items():\n",
    "    print(i.attr(\"src\"))"
   ]
  },
  {
   "cell_type": "code",
   "execution_count": null,
   "metadata": {
    "slideshow": {
     "slide_type": "subslide"
    }
   },
   "outputs": [],
   "source": [
    "for i in d(\"strong span\").items():\n",
    "    print(float(i.text()))"
   ]
  },
  {
   "cell_type": "markdown",
   "metadata": {
    "slideshow": {
     "slide_type": "subslide"
    }
   },
   "source": [
    "## 隨堂練習"
   ]
  },
  {
   "cell_type": "markdown",
   "metadata": {
    "slideshow": {
     "slide_type": "subslide"
    }
   },
   "source": [
    "## 以 `requests` 搭配 `pyquery` 擷取 [Avengers: Endgame (2019)](https://www.imdb.com/title/tt4154796) 的劇情類型"
   ]
  },
  {
   "cell_type": "code",
   "execution_count": null,
   "metadata": {
    "slideshow": {
     "slide_type": "subslide"
    }
   },
   "outputs": [],
   "source": [
    "import requests\n",
    "from pyquery import PyQuery as pq\n",
    "\n",
    "r = requests.get(\"https://www.imdb.com/title/tt4154796\")\n",
    "html_doc = r.text\n",
    "d = pq(html_doc)\n",
    "genre = [i.text() for i in d(\".subtext a\").items()]\n",
    "genre.pop()\n",
    "print(genre)"
   ]
  },
  {
   "cell_type": "markdown",
   "metadata": {
    "slideshow": {
     "slide_type": "subslide"
    }
   },
   "source": [
    "## 以 `requests` 搭配 `pyquery` 擷取 [Avengers: Endgame (2019)](https://www.imdb.com/title/tt4154796) 的演員陣容"
   ]
  },
  {
   "cell_type": "code",
   "execution_count": null,
   "metadata": {
    "slideshow": {
     "slide_type": "subslide"
    }
   },
   "outputs": [],
   "source": [
    "import requests\n",
    "from pyquery import PyQuery as pq\n",
    "\n",
    "r = requests.get(\"https://www.imdb.com/title/tt4154796\")\n",
    "html_doc = r.text\n",
    "d = pq(html_doc)\n",
    "cast = [i.text() for i in d(\".primary_photo+ td a\").items()]\n",
    "print(cast)"
   ]
  },
  {
   "cell_type": "markdown",
   "metadata": {
    "slideshow": {
     "slide_type": "subslide"
    }
   },
   "source": [
    "## 自訂一個函數 `get_movie_data(movie_url)`\n",
    "\n",
    "```\n",
    "## get_movie_data(\"https://www.imdb.com/title/tt4154796\")\n",
    "## {'movieTitle': 'Avengers: Endgame\\xa0(2019)',\n",
    "##  'moviePoster': 'https://m.media-amazon.com/images/M/MV5BMTc5MDE2ODcwNV5BMl5BanBnXkFtZTgwMzI2NzQ2NzM@._V1_UX182_CR0,0,182,268_AL_.jpg',\n",
    "##  'movieRating': 8.8,\n",
    "##  'movieGenre': ['Action', 'Adventure', 'Sci-Fi'],\n",
    "##  'movieCast': ['Robert Downey Jr.',\n",
    "##   'Chris Evans',\n",
    "##   'Mark Ruffalo',\n",
    "##   'Chris Hemsworth',\n",
    "##   'Scarlett Johansson',\n",
    "##   'Jeremy Renner',\n",
    "##   'Don Cheadle',\n",
    "##   'Paul Rudd',\n",
    "##   'Benedict Cumberbatch',\n",
    "##   'Chadwick Boseman',\n",
    "##   'Brie Larson',\n",
    "##   'Tom Holland',\n",
    "##   'Karen Gillan',\n",
    "##   'Zoe Saldana',\n",
    "##   'Evangeline Lilly']}\n",
    "```"
   ]
  },
  {
   "cell_type": "code",
   "execution_count": null,
   "metadata": {
    "slideshow": {
     "slide_type": "subslide"
    }
   },
   "outputs": [],
   "source": [
    "import requests\n",
    "from pyquery import PyQuery as pq\n",
    "\n",
    "def get_movie_data(movie_url):\n",
    "    r = requests.get(movie_url)\n",
    "    d = pq(r.text)\n",
    "    movie_title = [i.text() for i in d(\"h1\").items()][0]\n",
    "    movie_poster = [i.attr(\"src\") for i in d(\".poster img\").items()][0]\n",
    "    movie_rating = [float(i.text()) for i in d(\"strong span\").items()][0]\n",
    "    movie_genre = [i.text() for i in d(\".subtext a\").items()]\n",
    "    movie_genre.pop()\n",
    "    movie_cast = [i.text() for i in d(\".primary_photo+ td a\").items()]\n",
    "    movie_data = {\n",
    "        \"movieTitle\": movie_title,\n",
    "        \"moviePoster\": movie_poster,\n",
    "        \"movieRating\": movie_rating,\n",
    "        \"movieGenre\": movie_genre,\n",
    "        \"movieCast\": movie_cast\n",
    "    }\n",
    "    return movie_data"
   ]
  },
  {
   "cell_type": "markdown",
   "metadata": {
    "slideshow": {
     "slide_type": "subslide"
    }
   },
   "source": [
    "## 讓 `get_movie_data()` 更方便使用\n",
    "\n",
    "- 可以輸入電影名稱，而非 URL！\n",
    "- 以 `urllib.parse.quote_plus()` 製作 query string"
   ]
  },
  {
   "cell_type": "code",
   "execution_count": null,
   "metadata": {
    "slideshow": {
     "slide_type": "subslide"
    }
   },
   "outputs": [],
   "source": [
    "from urllib.parse import quote_plus\n",
    "\n",
    "query_str = quote_plus(\"Avengers: Endgame (2019)\")\n",
    "print(query_str)"
   ]
  },
  {
   "cell_type": "code",
   "execution_count": null,
   "metadata": {
    "slideshow": {
     "slide_type": "subslide"
    }
   },
   "outputs": [],
   "source": [
    "query_str = quote_plus(\"Avengers: Endgame (2019)\")\n",
    "query_url = \"https://www.imdb.com/find?q={}&s=tt&ttype=ft&ref_=fn_ft\".format(query_str)\n",
    "print(query_url)"
   ]
  },
  {
   "cell_type": "markdown",
   "metadata": {
    "slideshow": {
     "slide_type": "subslide"
    }
   },
   "source": [
    "## 隨堂練習"
   ]
  },
  {
   "cell_type": "markdown",
   "metadata": {
    "slideshow": {
     "slide_type": "subslide"
    }
   },
   "source": [
    "## 自訂一個函數 `get_movie_data(movie_title)`\n",
    "\n",
    "```\n",
    "## get_movie_data(\"Avengers: Endgame (2019)\")\n",
    "## {'movieTitle': 'Avengers: Endgame\\xa0(2019)',\n",
    "##  'moviePoster': 'https://m.media-amazon.com/images/M/MV5BMTc5MDE2ODcwNV5BMl5BanBnXkFtZTgwMzI2NzQ2NzM@._V1_UX182_CR0,0,182,268_AL_.jpg',\n",
    "##  'movieRating': 8.8,\n",
    "##  'movieGenre': ['Action', 'Adventure', 'Sci-Fi'],\n",
    "##  'movieCast': ['Robert Downey Jr.',\n",
    "##   'Chris Evans',\n",
    "##   'Mark Ruffalo',\n",
    "##   'Chris Hemsworth',\n",
    "##   'Scarlett Johansson',\n",
    "##   'Jeremy Renner',\n",
    "##   'Don Cheadle',\n",
    "##   'Paul Rudd',\n",
    "##   'Benedict Cumberbatch',\n",
    "##   'Chadwick Boseman',\n",
    "##   'Brie Larson',\n",
    "##   'Tom Holland',\n",
    "##   'Karen Gillan',\n",
    "##   'Zoe Saldana',\n",
    "##   'Evangeline Lilly']}\n",
    "```"
   ]
  },
  {
   "cell_type": "code",
   "execution_count": null,
   "metadata": {
    "slideshow": {
     "slide_type": "subslide"
    }
   },
   "outputs": [],
   "source": [
    "import requests\n",
    "from pyquery import PyQuery as pq\n",
    "from urllib.parse import quote_plus\n",
    "\n",
    "def get_movie_data(movie_title):\n",
    "    query_str = quote_plus(movie_title)\n",
    "    query_url = \"https://www.imdb.com/find?q={}&s=tt&ttype=ft&ref_=fn_ft\".format(query_str)\n",
    "    r = requests.get(query_url)\n",
    "    d = pq(r.text)\n",
    "    search_results = [i.attr(\"href\") for i in d(\".result_text a\").items()]\n",
    "    movie_url = \"https://www.imdb.com\" + search_results[0]\n",
    "    r = requests.get(movie_url)\n",
    "    d = pq(r.text)\n",
    "    movie_title = [i.text() for i in d(\"h1\").items()][0]\n",
    "    movie_poster = [i.attr(\"src\") for i in d(\".poster img\").items()][0]\n",
    "    movie_rating = [float(i.text()) for i in d(\"strong span\").items()][0]\n",
    "    movie_genre = [i.text() for i in d(\".subtext a\").items()]\n",
    "    movie_genre.pop()\n",
    "    movie_cast = [i.text() for i in d(\".primary_photo+ td a\").items()]\n",
    "    movie_data = {\n",
    "        \"movieTitle\": movie_title,\n",
    "        \"moviePoster\": movie_poster,\n",
    "        \"movieRating\": movie_rating,\n",
    "        \"movieGenre\": movie_genre,\n",
    "        \"movieCast\": movie_cast\n",
    "    }\n",
    "    return movie_data\n",
    "\n",
    "get_movie_data(\"Avengers: Endgame (2019)\")"
   ]
  },
  {
   "cell_type": "markdown",
   "metadata": {
    "slideshow": {
     "slide_type": "subslide"
    }
   },
   "source": [
    "## 有時候 `requests` 送出的請求需要攜帶餅乾（cookies），否則回傳的資料會不符合預期\n",
    "\n",
    "- [PTT 八卦版](https://www.ptt.cc/bbs/Gossiping/index.html)\n",
    "- [華航機上電影清單](http://www.fantasy-sky.com/ContentList.aspx?section=002)"
   ]
  },
  {
   "cell_type": "code",
   "execution_count": null,
   "metadata": {
    "slideshow": {
     "slide_type": "subslide"
    }
   },
   "outputs": [],
   "source": [
    "import requests\n",
    "\n",
    "r = requests.get(\"https://www.ptt.cc/bbs/Gossiping/index.html\")\n",
    "print(r.text)"
   ]
  },
  {
   "cell_type": "code",
   "execution_count": null,
   "metadata": {
    "slideshow": {
     "slide_type": "subslide"
    }
   },
   "outputs": [],
   "source": [
    "import requests\n",
    "from bs4 import BeautifulSoup\n",
    "\n",
    "r = requests.get(\"http://www.fantasy-sky.com/ContentList.aspx?section=002\")\n",
    "soup = BeautifulSoup(r.text)\n",
    "movie_titles = [i.text for i in soup.select(\".movies-name\")]\n",
    "print(movie_titles)"
   ]
  },
  {
   "cell_type": "markdown",
   "metadata": {
    "slideshow": {
     "slide_type": "subslide"
    }
   },
   "source": [
    "## 幫助檢視 cookies 的 Chrome 外掛\n",
    "\n",
    "[EditThisCookie](https://chrome.google.com/webstore/detail/editthiscookie/fngmhnnpilhplaeedifhccceomclgfbg)"
   ]
  },
  {
   "cell_type": "code",
   "execution_count": null,
   "metadata": {
    "slideshow": {
     "slide_type": "subslide"
    }
   },
   "outputs": [],
   "source": [
    "import requests\n",
    "\n",
    "r = requests.get(\"https://www.ptt.cc/bbs/Gossiping/index.html\", cookies={'over18': '1'})\n",
    "print(r.text)"
   ]
  },
  {
   "cell_type": "code",
   "execution_count": null,
   "metadata": {
    "slideshow": {
     "slide_type": "subslide"
    }
   },
   "outputs": [],
   "source": [
    "import requests\n",
    "from bs4 import BeautifulSoup\n",
    "\n",
    "r = requests.get(\"http://www.fantasy-sky.com/ContentList.aspx?section=002\", cookies={'COOKIE_LANGUAGE': 'en'})\n",
    "soup = BeautifulSoup(r.text)\n",
    "movie_titles = [i.text for i in soup.select(\".movies-name\")]\n",
    "print(movie_titles)"
   ]
  },
  {
   "cell_type": "markdown",
   "metadata": {
    "slideshow": {
     "slide_type": "subslide"
    }
   },
   "source": [
    "## 隨堂練習"
   ]
  },
  {
   "cell_type": "markdown",
   "metadata": {
    "slideshow": {
     "slide_type": "subslide"
    }
   },
   "source": [
    "## 擷取所有華航機上電影清單"
   ]
  },
  {
   "cell_type": "code",
   "execution_count": null,
   "metadata": {
    "slideshow": {
     "slide_type": "subslide"
    }
   },
   "outputs": [],
   "source": [
    "import requests\n",
    "\n",
    "ca_movie_urls = [\"http://www.fantasy-sky.com/ContentList.aspx?section=002&category=0020{}\".format(i) for i in range(1, 5)]\n",
    "ca_movie_titles = []\n",
    "for ca_url in ca_movie_urls:\n",
    "    r = requests.get(ca_url, cookies={'COOKIE_LANGUAGE': 'en'})\n",
    "    d = pq(r.text)\n",
    "    movie_titles = [i.text() for i in d(\".movies-name\").items()]\n",
    "    ca_movie_titles += movie_titles\n",
    "print(ca_movie_titles)"
   ]
  },
  {
   "cell_type": "markdown",
   "metadata": {
    "slideshow": {
     "slide_type": "slide"
    }
   },
   "source": [
    "## 瀏覽器自動化"
   ]
  },
  {
   "cell_type": "markdown",
   "metadata": {
    "slideshow": {
     "slide_type": "subslide"
    }
   },
   "source": [
    "## 在研究如何使 `get_movie_data()` 更方便的過程中我們做了幾個動作\n",
    "\n",
    "1. 前往 <https://www.imdb.com/> 首頁\n",
    "2. 輸入電影名稱\n",
    "3. 點選搜尋\n",
    "4. 點選 Movie 分類標籤\n",
    "5. 點選相似度最高的搜尋結果"
   ]
  },
  {
   "cell_type": "markdown",
   "metadata": {
    "slideshow": {
     "slide_type": "subslide"
    }
   },
   "source": [
    "## 這些操作可以利用 `selenium` 來自動化！"
   ]
  },
  {
   "cell_type": "markdown",
   "metadata": {
    "slideshow": {
     "slide_type": "subslide"
    }
   },
   "source": [
    "## 什麼是 Selenium\n",
    "\n",
    "- Selenium 是瀏覽器自動化測試的解決方案\n",
    "- Python 透過 Selenium WebDriver 呼叫瀏覽器驅動程式，再由瀏覽器驅動程式去呼叫瀏覽器\n",
    "- 對 Google Chrome 與 Mozilla Firefox 兩個主流瀏覽器的支援最好"
   ]
  },
  {
   "cell_type": "markdown",
   "metadata": {
    "slideshow": {
     "slide_type": "subslide"
    }
   },
   "source": [
    "## Selenium 環境設定：Chrome\n",
    "\n",
    "- 前往 [Chrome 官方網站](https://www.google.com/chrome/)下載最新版的瀏覽器\n",
    "- 下載最新版的瀏覽器驅動程式 [ChromeDriver](http://chromedriver.chromium.org/)\n",
    "- 下載完成以後解壓縮在熟悉路徑讓後續指派較為方便"
   ]
  },
  {
   "cell_type": "markdown",
   "metadata": {
    "slideshow": {
     "slide_type": "subslide"
    }
   },
   "source": [
    "## Selenium 環境設定：Firefox\n",
    "\n",
    "- 前往 [Firefox 官方網站](https://www.mozilla.org/zh-TW/firefox/new/)下載最新版的瀏覽器\n",
    "- 下載最新版的瀏覽器驅動程式 [geckodriver](https://github.com/mozilla/geckodriver/releases)\n",
    "- 下載完成以後解壓縮在熟悉路徑讓後續指派較為方便"
   ]
  },
  {
   "cell_type": "markdown",
   "metadata": {
    "slideshow": {
     "slide_type": "subslide"
    }
   },
   "source": [
    "## 測試是否設定完成\n",
    "\n",
    "用程式碼透過 ChromeDriver 操控 Chrome 瀏覽器前往 IMDB 首頁並將首頁的網址印出再關閉瀏覽器"
   ]
  },
  {
   "cell_type": "code",
   "execution_count": null,
   "metadata": {
    "slideshow": {
     "slide_type": "subslide"
    }
   },
   "outputs": [],
   "source": [
    "#!pip install selenium\n",
    "from selenium import webdriver\n",
    "\n",
    "driver_path = \"/YOUR/PATH/TO/CHROMEDRIVER\"\n",
    "imdb_home = \"https://www.imdb.com/\"\n",
    "driver = webdriver.Chrome(executable_path=driver_path) # Use Chrome\n",
    "driver.get(imdb_home)\n",
    "print(driver.current_url)\n",
    "driver.close()"
   ]
  },
  {
   "cell_type": "markdown",
   "metadata": {
    "slideshow": {
     "slide_type": "subslide"
    }
   },
   "source": [
    "## 測試是否設定完成\n",
    "\n",
    "用程式碼透過 geckodriver 操控 Firefox 瀏覽器前往 IMDB 首頁並將首頁的網址印出再關閉瀏覽器"
   ]
  },
  {
   "cell_type": "code",
   "execution_count": null,
   "metadata": {
    "slideshow": {
     "slide_type": "subslide"
    }
   },
   "outputs": [],
   "source": [
    "#!pip install selenium\n",
    "from selenium import webdriver\n",
    "\n",
    "driver_path = \"/YOUR/PATH/TO/GECKODRIVER\"\n",
    "imdb_home = \"https://www.imdb.com/\"\n",
    "driver = webdriver.Firefox(executable_path=driver_path) # Use Firefox\n",
    "driver.get(imdb_home)\n",
    "print(driver.current_url)\n",
    "driver.close()"
   ]
  },
  {
   "cell_type": "markdown",
   "metadata": {
    "slideshow": {
     "slide_type": "subslide"
    }
   },
   "source": [
    "## 常使用的方法、屬性\n",
    "\n",
    "- `driver.get()` ：前往指定網址\n",
    "- `driver.find_element_by_css_selector()` ：定位搜尋欄位、搜尋按鈕與搜尋結果連結（單數）\n",
    "- `driver.find_elements_by_css_selector()` ：定位搜尋欄位、搜尋按鈕與搜尋結果連結（複數）\n",
    "- `driver.find_element_by_xpath()` ：定位搜尋欄位、搜尋按鈕與搜尋結果連結（單數）\n",
    "- `driver.find_elements_by_xpath()` ：定位搜尋欄位、搜尋按鈕與搜尋結果連結（複數）\n",
    "- `driver.current_url` ：取得當下瀏覽器的網址\n",
    "- `elem.send_keys()` ：輸入電影名稱\n",
    "- `elem.click()` ：按下搜尋按鈕與連結\n",
    "- `elem.text`：取出標記中的文字值\n",
    "- `elem.get_attribute(ATTR)`：取出標記中的指定屬性"
   ]
  },
  {
   "cell_type": "markdown",
   "metadata": {
    "slideshow": {
     "slide_type": "fragment"
    }
   },
   "source": [
    "## 幫助檢視 XPath 的 Chrome 外掛\n",
    "\n",
    "[XPath Helper](https://chrome.google.com/webstore/detail/xpath-helper/hgimnogjllphhhkhlmebbmlgjoejdpjl)"
   ]
  },
  {
   "cell_type": "markdown",
   "metadata": {
    "slideshow": {
     "slide_type": "subslide"
    }
   },
   "source": [
    "## [XPath Helper](https://chrome.google.com/webstore/detail/xpath-helper/hgimnogjllphhhkhlmebbmlgjoejdpjl) 的使用方法\n",
    "\n",
    "- 點選 XPath Helper 的外掛圖示\n",
    "- 留意 XPath Helper 介面左邊的 XPath 與右邊被定位到的資料\n",
    "- 按住 shift 鍵移動滑鼠到想要定位的元素\n",
    "- 試著縮減 XPath，從最前面開始刪減並置換為 `//`"
   ]
  },
  {
   "cell_type": "markdown",
   "metadata": {
    "slideshow": {
     "slide_type": "subslide"
    }
   },
   "source": [
    "## 以 [Avengers: Endgame (2019)](https://www.imdb.com/title/tt4154796) 示範 [XPath Helper](https://chrome.google.com/webstore/detail/xpath-helper/hgimnogjllphhhkhlmebbmlgjoejdpjl) 的使用方法\n",
    "\n",
    "- 電影名稱\n",
    "- 電影海報\n",
    "- 評分\n",
    "- 劇情類型\n",
    "- 演員陣容"
   ]
  },
  {
   "cell_type": "markdown",
   "metadata": {
    "slideshow": {
     "slide_type": "subslide"
    }
   },
   "source": [
    "## 隨堂練習"
   ]
  },
  {
   "cell_type": "markdown",
   "metadata": {
    "slideshow": {
     "slide_type": "subslide"
    }
   },
   "source": [
    "## 以 `selenium` 實作 `get_movie_data(movie_title)`"
   ]
  },
  {
   "cell_type": "code",
   "execution_count": null,
   "metadata": {
    "slideshow": {
     "slide_type": "subslide"
    }
   },
   "outputs": [],
   "source": [
    "from selenium import webdriver\n",
    "\n",
    "def get_movie_data(movie_title):\n",
    "    chrome_driver_path = \"/YOUR/PATH/TO/CHROMEDRIVER\"\n",
    "    driver = webdriver.Chrome(executable_path=chrome_driver_path)\n",
    "    driver.get(\"https://www.imdb.com\")\n",
    "    elem = driver.find_element_by_xpath(\"//input[@id='navbar-query']\")\n",
    "    elem.send_keys(movie_title)\n",
    "    elem = driver.find_element_by_xpath(\"//div[@class='magnifyingglass navbarSprite']\")\n",
    "    elem.click()\n",
    "    elem = driver.find_element_by_xpath(\"//ul[@class='findTitleSubfilterList']/li[1]/a\")\n",
    "    elem.click()\n",
    "    elem = driver.find_element_by_xpath(\"//div[@class='findSection'][1]/table[@class='findList']/tbody/tr[@class='findResult odd'][1]/td[@class='result_text']/a\")\n",
    "    elem.click()\n",
    "    elem = driver.find_element_by_xpath(\"//h1\")\n",
    "    movie_title = elem.text\n",
    "    elem = driver.find_element_by_xpath(\"//strong/span\")\n",
    "    movie_rating = float(elem.text)\n",
    "    elem = driver.find_element_by_xpath(\"//div[@class='poster']/a/img\")\n",
    "    movie_poster_link = elem.get_attribute(\"src\")\n",
    "    elem = driver.find_elements_by_xpath(\"//div[@class='subtext']/a\")\n",
    "    movie_genre = [i.text for i in elem]\n",
    "    movie_genre.pop()\n",
    "    elem = driver.find_elements_by_xpath(\"//tbody/tr/td[2]/a\")\n",
    "    movie_cast = [i.text for i in elem]\n",
    "    driver.close()\n",
    "    movie_data = {\n",
    "        \"movieTitle\": movie_title,\n",
    "        \"moviePosterLink\": movie_poster_link,\n",
    "        \"movieRating\": movie_rating,\n",
    "        \"movieGenre\": movie_genre,\n",
    "        \"movieCast\": movie_cast\n",
    "    }\n",
    "    return movie_data\n",
    "\n",
    "get_movie_data(\"Avengers: Endgame (2019)\")"
   ]
  },
  {
   "cell_type": "markdown",
   "metadata": {
    "slideshow": {
     "slide_type": "subslide"
    }
   },
   "source": [
    "## 承接上題，擷取四部復仇者聯盟的電影資訊\n",
    "\n",
    "```python\n",
    "avengers_movies = [\"The Avengers (2012)\", \"Avengers: Age of Ultron (2015)\", \"Avengers: Infinity War (2018)\", \"Avengers: Endgame (2019)\"]\n",
    "```"
   ]
  },
  {
   "cell_type": "code",
   "execution_count": null,
   "metadata": {},
   "outputs": [],
   "source": [
    "import random\n",
    "import time\n",
    "\n",
    "avengers_movies = [\"The Avengers (2012)\", \"Avengers: Age of Ultron (2015)\", \"Avengers: Infinity War (2018)\", \"Avengers: Endgame (2019)\"]\n",
    "avengers_movie_data = []\n",
    "for am in avengers_movies:\n",
    "    print(\"開始擷取 {} 的電影資訊...\".format(am))\n",
    "    movie_data = get_movie_data(am)\n",
    "    avengers_movie_data.append(movie_data)\n",
    "    sleep_secs = random.randint(3, 10)\n",
    "    print(\"休息 {} 秒...\".format(sleep_secs))\n",
    "    time.sleep(sleep_secs)\n",
    "\n",
    "print(avengers_movie_data)"
   ]
  },
  {
   "cell_type": "markdown",
   "metadata": {
    "slideshow": {
     "slide_type": "subslide"
    }
   },
   "source": [
    "## 承接上題，將擷取的電影資訊匯出"
   ]
  },
  {
   "cell_type": "code",
   "execution_count": null,
   "metadata": {
    "slideshow": {
     "slide_type": "subslide"
    }
   },
   "outputs": [],
   "source": [
    "import json\n",
    "\n",
    "with open(\"avengers.json\", \"w\") as f:\n",
    "    json.dump(avengers_movie_data, f)"
   ]
  },
  {
   "cell_type": "markdown",
   "metadata": {
    "slideshow": {
     "slide_type": "slide"
    }
   },
   "source": [
    "## 延伸閱讀 \n",
    "\n",
    "- [Requests: HTTP for Humans](http://docs.python-requests.org/en/master/)\n",
    "- [Beautiful Soup Documentation](https://www.crummy.com/software/BeautifulSoup/bs4/doc/#)\n",
    "- [pyquery: a jquery-like library for python](https://pythonhosted.org/pyquery/)\n",
    "- [Selenium with Python](https://selenium-python.readthedocs.io/)\n",
    "- [Python 與網頁資料擷取 - DataInPoint](https://medium.com/datainpoint/web-scraping-with-python/home)"
   ]
  },
  {
   "cell_type": "markdown",
   "metadata": {
    "slideshow": {
     "slide_type": "slide"
    }
   },
   "source": [
    "## 作業"
   ]
  },
  {
   "cell_type": "markdown",
   "metadata": {
    "slideshow": {
     "slide_type": "subslide"
    }
   },
   "source": [
    "## 擷取 [Avengers: Endgame (2019)](https://www.imdb.com/title/tt4154796/releaseinfo) 的上映日期列表，最多的上映日期為哪一天？有幾個國家在那天上映？"
   ]
  },
  {
   "cell_type": "code",
   "execution_count": 1,
   "metadata": {
    "slideshow": {
     "slide_type": "skip"
    }
   },
   "outputs": [],
   "source": [
    "import requests\n",
    "from bs4 import BeautifulSoup\n",
    "\n",
    "def ans():\n",
    "    r = requests.get(\"https://www.imdb.com/title/tt4154796/releaseinfo\")\n",
    "    soup = BeautifulSoup(r.text)\n",
    "    countries = [i.text.strip() for i in soup.select(\".release-date-item__country-name a\")]\n",
    "    release_dates = [i.text for i in soup.select(\".release-date-item__date\")]\n",
    "    release_date_counter = {}\n",
    "    for r_date in release_dates:\n",
    "        if r_date in release_date_counter.keys():\n",
    "            release_date_counter[r_date] += 1\n",
    "        else:\n",
    "            release_date_counter[r_date] = 1\n",
    "    return release_date_counter"
   ]
  },
  {
   "cell_type": "code",
   "execution_count": 2,
   "metadata": {
    "slideshow": {
     "slide_type": "subslide"
    }
   },
   "outputs": [
    {
     "data": {
      "text/plain": [
       "{'22 April 2019': 1,\n",
       " '23 April 2019': 1,\n",
       " '24 April 2019': 31,\n",
       " '25 April 2019': 22,\n",
       " '26 April 2019': 14,\n",
       " '28 April 2019': 1,\n",
       " '29 April 2019': 1}"
      ]
     },
     "execution_count": 2,
     "metadata": {},
     "output_type": "execute_result"
    }
   ],
   "source": [
    "ans()"
   ]
  }
 ],
 "metadata": {
  "celltoolbar": "Slideshow",
  "kernelspec": {
   "display_name": "Python 3",
   "language": "python",
   "name": "python3"
  },
  "language_info": {
   "codemirror_mode": {
    "name": "ipython",
    "version": 3
   },
   "file_extension": ".py",
   "mimetype": "text/x-python",
   "name": "python",
   "nbconvert_exporter": "python",
   "pygments_lexer": "ipython3",
   "version": "3.7.1"
  }
 },
 "nbformat": 4,
 "nbformat_minor": 2
}
