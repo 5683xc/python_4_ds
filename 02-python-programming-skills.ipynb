{
 "cells": [
  {
   "cell_type": "markdown",
   "metadata": {
    "slideshow": {
     "slide_type": "slide"
    }
   },
   "source": [
    "# 成為初級資料分析師 | Python 與資料科學應用\n",
    "\n",
    "> Python 程式設計常用技巧\n",
    "\n",
    "## 郭耀仁"
   ]
  },
  {
   "cell_type": "markdown",
   "metadata": {
    "slideshow": {
     "slide_type": "subslide"
    }
   },
   "source": [
    "> Readability counts.\n",
    ">\n",
    "> The Zen of Python, Tim Peters"
   ]
  },
  {
   "cell_type": "markdown",
   "metadata": {
    "slideshow": {
     "slide_type": "subslide"
    }
   },
   "source": [
    "## 大綱\n",
    "\n",
    "- 彈性參數\n",
    "- 匿名函數\n",
    "- 迭代函數（Iterators）\n",
    "- List Comprehensions\n",
    "- Generators\n",
    "- 物件導向"
   ]
  },
  {
   "cell_type": "markdown",
   "metadata": {
    "slideshow": {
     "slide_type": "slide"
    }
   },
   "source": [
    "## 彈性參數"
   ]
  },
  {
   "cell_type": "markdown",
   "metadata": {
    "slideshow": {
     "slide_type": "subslide"
    }
   },
   "source": [
    "## 有時我們的函數不確定使用者會想輸入幾個參數\n",
    "\n",
    "- `*args` : for list-like arguments\n",
    "- `**kwargs`: for dict-like arguments"
   ]
  },
  {
   "cell_type": "code",
   "execution_count": null,
   "metadata": {
    "slideshow": {
     "slide_type": "subslide"
    }
   },
   "outputs": [],
   "source": [
    "def get_fahrenheit(c):\n",
    "    return c*9/5 + 32\n",
    "\n",
    "get_fahrenheit(18)"
   ]
  },
  {
   "cell_type": "code",
   "execution_count": null,
   "metadata": {
    "slideshow": {
     "slide_type": "subslide"
    }
   },
   "outputs": [],
   "source": [
    "def get_fahrenheits(*args):\n",
    "    fahrenheits = []\n",
    "    for c in args:\n",
    "        fahrenheits.append(c*9/5 + 32)\n",
    "    return fahrenheits\n",
    "\n",
    "print(get_fahrenheits(18))\n",
    "print(get_fahrenheits(18, 20))\n",
    "print(get_fahrenheits(18, 20, 22))"
   ]
  },
  {
   "cell_type": "code",
   "execution_count": null,
   "metadata": {
    "slideshow": {
     "slide_type": "subslide"
    }
   },
   "outputs": [],
   "source": [
    "def get_city_fahrenheit(city, c):\n",
    "    city_f = {\n",
    "        city: c*9/5 + 32\n",
    "    }\n",
    "    return city_f\n",
    "\n",
    "get_city_fahrenheit(\"Taipei\", 18)"
   ]
  },
  {
   "cell_type": "code",
   "execution_count": null,
   "metadata": {
    "slideshow": {
     "slide_type": "subslide"
    }
   },
   "outputs": [],
   "source": [
    "def get_city_fahrenheits(**kwargs):\n",
    "    city_f = {}\n",
    "    for k, v in kwargs.items():\n",
    "        v = v*9/5 + 32\n",
    "        city_f[k] = v\n",
    "    return city_f\n",
    "\n",
    "print(get_city_fahrenheits(Taipei=18))\n",
    "print(get_city_fahrenheits(Taipei=18, London=20))\n",
    "print(get_city_fahrenheits(Taipei=18, London=20, Japan=22))"
   ]
  },
  {
   "cell_type": "markdown",
   "metadata": {
    "slideshow": {
     "slide_type": "slide"
    }
   },
   "source": [
    "## 匿名函數"
   ]
  },
  {
   "cell_type": "markdown",
   "metadata": {
    "slideshow": {
     "slide_type": "subslide"
    }
   },
   "source": [
    "## 有些時候我們需要比 `def` 更簡潔的語法來定義函數"
   ]
  },
  {
   "cell_type": "code",
   "execution_count": null,
   "metadata": {},
   "outputs": [],
   "source": [
    "def squared(x):\n",
    "    return x**2\n",
    "\n",
    "squared(2)"
   ]
  },
  {
   "cell_type": "markdown",
   "metadata": {
    "slideshow": {
     "slide_type": "subslide"
    }
   },
   "source": [
    "## 匿名函數又稱為 `lambda` 函數\n",
    "\n",
    "```python\n",
    "FUNCTION_NAME = lambda arg0, arg1, ...: USING arg0, arg1\n",
    "```"
   ]
  },
  {
   "cell_type": "code",
   "execution_count": null,
   "metadata": {
    "slideshow": {
     "slide_type": "subslide"
    }
   },
   "outputs": [],
   "source": [
    "squared = lambda x: x**2\n",
    "\n",
    "squared(2)"
   ]
  },
  {
   "cell_type": "code",
   "execution_count": null,
   "metadata": {
    "slideshow": {
     "slide_type": "subslide"
    }
   },
   "outputs": [],
   "source": [
    "my_abs = lambda x: -x if x < 0 else x\n",
    "\n",
    "print(my_abs(-2))\n",
    "print(my_abs(2))"
   ]
  },
  {
   "cell_type": "markdown",
   "metadata": {
    "slideshow": {
     "slide_type": "subslide"
    }
   },
   "source": [
    "## 使用迭代函數（Iterators）時候會產生匿名函數需求"
   ]
  },
  {
   "cell_type": "markdown",
   "metadata": {
    "slideshow": {
     "slide_type": "slide"
    }
   },
   "source": [
    "## 迭代函數（Iterators）"
   ]
  },
  {
   "cell_type": "markdown",
   "metadata": {
    "slideshow": {
     "slide_type": "subslide"
    }
   },
   "source": [
    "## 常與匿名函數一起出現的迭代函數\n",
    "\n",
    "- `map()`\n",
    "- `filter()`"
   ]
  },
  {
   "cell_type": "code",
   "execution_count": null,
   "metadata": {
    "slideshow": {
     "slide_type": "subslide"
    }
   },
   "outputs": [],
   "source": [
    "def get_fahrenheit(c):\n",
    "    return c*9/5 + 32\n",
    "\n",
    "temp_c = [18, 20, 22]\n",
    "temp_f = map(get_fahrenheit, temp_c)\n",
    "list(temp_f)"
   ]
  },
  {
   "cell_type": "code",
   "execution_count": null,
   "metadata": {
    "slideshow": {
     "slide_type": "subslide"
    }
   },
   "outputs": [],
   "source": [
    "# map()\n",
    "temp_c = [18, 20, 22]\n",
    "temp_f = map(lambda x: x*9/5 + 32, temp_c)\n",
    "list(temp_f)"
   ]
  },
  {
   "cell_type": "code",
   "execution_count": null,
   "metadata": {
    "slideshow": {
     "slide_type": "subslide"
    }
   },
   "outputs": [],
   "source": [
    "# filter()\n",
    "temp_c = [-10, 18, 20, -5, -3]\n",
    "below_zero = filter(lambda x: x < 0, temp_c)\n",
    "list(below_zero)"
   ]
  },
  {
   "cell_type": "markdown",
   "metadata": {
    "slideshow": {
     "slide_type": "subslide"
    }
   },
   "source": [
    "## 其他常用迭代子函數\n",
    "\n",
    "- `enumerate()`：同時取用一個 iterable 中的 index 與 value\n",
    "- `zip()`：同時取用多個 iterables 中的 values"
   ]
  },
  {
   "cell_type": "code",
   "execution_count": null,
   "metadata": {
    "slideshow": {
     "slide_type": "subslide"
    }
   },
   "outputs": [],
   "source": [
    "# enumerate()：同時取用一個 iterable 中的 index 與 value\n",
    "the_avenger_movies = [\"The Avengers\", \"Avengers: Age of Ultron\", \"Avengers: Infinity War\", \"Avengers: Endgame\"]\n",
    "for i, val in enumerate(the_avenger_movies):\n",
    "    print(\"復仇者聯盟第{}集：{}\".format(i+1, val))"
   ]
  },
  {
   "cell_type": "code",
   "execution_count": null,
   "metadata": {
    "slideshow": {
     "slide_type": "subslide"
    }
   },
   "outputs": [],
   "source": [
    "# zip()：同時取用多個 iterables 中的 values\n",
    "release_years = [2012, 2015, 2018, 2019]\n",
    "the_avenger_movies = [\"The Avengers\", \"Avengers: Age of Ultron\", \"Avengers: Infinity War\", \"Avengers: Endgame\"]\n",
    "for y, movie in zip(release_years, the_avenger_movies):\n",
    "    print(\"{} 上映年份 {}\".format(movie, y))"
   ]
  },
  {
   "cell_type": "markdown",
   "metadata": {
    "slideshow": {
     "slide_type": "slide"
    }
   },
   "source": [
    "## List Comprehensions"
   ]
  },
  {
   "cell_type": "markdown",
   "metadata": {
    "slideshow": {
     "slide_type": "subslide"
    }
   },
   "source": [
    "## 將使用 loop 構建 list 壓縮為簡潔單行的方法"
   ]
  },
  {
   "cell_type": "code",
   "execution_count": null,
   "metadata": {},
   "outputs": [],
   "source": [
    "# loop construction\n",
    "squared_list = []\n",
    "for i in range(10):\n",
    "    squared_list.append(i**2)\n",
    "print(squared_list)"
   ]
  },
  {
   "cell_type": "code",
   "execution_count": null,
   "metadata": {
    "slideshow": {
     "slide_type": "subslide"
    }
   },
   "outputs": [],
   "source": [
    "# list comprehension\n",
    "squared_list = [i**2 for i in range(10)]\n",
    "print(squared_list)"
   ]
  },
  {
   "cell_type": "code",
   "execution_count": null,
   "metadata": {
    "slideshow": {
     "slide_type": "subslide"
    }
   },
   "outputs": [],
   "source": [
    "# list comprehension with if\n",
    "even_numbers = [i for i in range(10) if i % 2 == 0]\n",
    "print(even_numbers)"
   ]
  },
  {
   "cell_type": "code",
   "execution_count": null,
   "metadata": {
    "slideshow": {
     "slide_type": "subslide"
    }
   },
   "outputs": [],
   "source": [
    "# list comprehension with if-else\n",
    "is_even_numbers = [True if i % 2 == 0 else False for i in range(10)]\n",
    "print(is_even_numbers)"
   ]
  },
  {
   "cell_type": "markdown",
   "metadata": {
    "slideshow": {
     "slide_type": "slide"
    }
   },
   "source": [
    "## Generators"
   ]
  },
  {
   "cell_type": "markdown",
   "metadata": {
    "slideshow": {
     "slide_type": "subslide"
    }
   },
   "source": [
    "## Generators 是用來產生資料的物件"
   ]
  },
  {
   "cell_type": "markdown",
   "metadata": {
    "slideshow": {
     "slide_type": "subslide"
    }
   },
   "source": [
    "## 常見的 generators\n",
    "\n",
    "- `map()`\n",
    "- `filter()`\n",
    "- `enumerate()`\n",
    "- `zip()`"
   ]
  },
  {
   "cell_type": "code",
   "execution_count": null,
   "metadata": {
    "slideshow": {
     "slide_type": "subslide"
    }
   },
   "outputs": [],
   "source": [
    "# map()\n",
    "temp_c = [18, 20, 22]\n",
    "temp_f = map(lambda x: x*9/5 + 32, temp_c)\n",
    "print(type(temp_f))\n",
    "print(temp_f)"
   ]
  },
  {
   "cell_type": "code",
   "execution_count": null,
   "metadata": {
    "slideshow": {
     "slide_type": "-"
    }
   },
   "outputs": [],
   "source": [
    "list(temp_f)"
   ]
  },
  {
   "cell_type": "code",
   "execution_count": null,
   "metadata": {},
   "outputs": [],
   "source": [
    "list(temp_f)"
   ]
  },
  {
   "cell_type": "code",
   "execution_count": null,
   "metadata": {
    "slideshow": {
     "slide_type": "subslide"
    }
   },
   "outputs": [],
   "source": [
    "# filter()\n",
    "temp_c = [-10, 18, 20, -5, -3]\n",
    "below_zero = filter(lambda x: x < 0, temp_c)\n",
    "print(type(below_zero))\n",
    "print(below_zero)"
   ]
  },
  {
   "cell_type": "code",
   "execution_count": null,
   "metadata": {},
   "outputs": [],
   "source": [
    "list(below_zero)"
   ]
  },
  {
   "cell_type": "code",
   "execution_count": null,
   "metadata": {},
   "outputs": [],
   "source": [
    "list(below_zero)"
   ]
  },
  {
   "cell_type": "code",
   "execution_count": null,
   "metadata": {
    "slideshow": {
     "slide_type": "subslide"
    }
   },
   "outputs": [],
   "source": [
    "# enumerate()\n",
    "the_avenger_movies = [\"The Avengers\", \"Avengers: Age of Ultron\", \"Avengers: Infinity War\", \"Avengers: Endgame\"]\n",
    "enumerate_generator = enumerate(the_avenger_movies)\n",
    "print(type(enumerate_generator))\n",
    "print(enumerate_generator)"
   ]
  },
  {
   "cell_type": "code",
   "execution_count": null,
   "metadata": {},
   "outputs": [],
   "source": [
    "list(enumerate_generator)"
   ]
  },
  {
   "cell_type": "code",
   "execution_count": null,
   "metadata": {},
   "outputs": [],
   "source": [
    "list(enumerate_generator)"
   ]
  },
  {
   "cell_type": "code",
   "execution_count": null,
   "metadata": {
    "slideshow": {
     "slide_type": "subslide"
    }
   },
   "outputs": [],
   "source": [
    "# zip()\n",
    "release_years = [2012, 2015, 2018, 2019]\n",
    "the_avenger_movies = [\"The Avengers\", \"Avengers: Age of Ultron\", \"Avengers: Infinity War\", \"Avengers: Endgame\"]\n",
    "zip_generator = zip(the_avenger_movies)\n",
    "print(type(zip_generator))\n",
    "print(zip_generator)"
   ]
  },
  {
   "cell_type": "code",
   "execution_count": null,
   "metadata": {},
   "outputs": [],
   "source": [
    "list(zip_generator)"
   ]
  },
  {
   "cell_type": "code",
   "execution_count": null,
   "metadata": {},
   "outputs": [],
   "source": [
    "list(zip_generator)"
   ]
  },
  {
   "cell_type": "markdown",
   "metadata": {
    "slideshow": {
     "slide_type": "slide"
    }
   },
   "source": [
    "## 物件導向"
   ]
  },
  {
   "cell_type": "markdown",
   "metadata": {
    "slideshow": {
     "slide_type": "subslide"
    }
   },
   "source": [
    "## 注意物件導向的三個應用面\n",
    "\n",
    "- 初始化\n",
    "- 靜態的屬性\n",
    "- 動態的方法"
   ]
  },
  {
   "cell_type": "code",
   "execution_count": null,
   "metadata": {
    "slideshow": {
     "slide_type": "subslide"
    }
   },
   "outputs": [],
   "source": [
    "class Movie:\n",
    "    def __init__(self, rating, movie_time):\n",
    "        self._rating = rating\n",
    "        self._movie_time = movie_time\n",
    "        self._genre = []\n",
    "\n",
    "    def get_rating(self):\n",
    "        return self._rating\n",
    "\n",
    "    def get_movie_time(self):\n",
    "        return self._movie_time\n",
    "\n",
    "    def get_genre(self):\n",
    "        return self._genre\n",
    "\n",
    "    def add_genre(self, genre):\n",
    "        self._genre.append(genre)\n",
    "        return True"
   ]
  },
  {
   "cell_type": "code",
   "execution_count": null,
   "metadata": {
    "slideshow": {
     "slide_type": "subslide"
    }
   },
   "outputs": [],
   "source": [
    "avengers_endgame = Movie(8.8, '3h 1min') # 初始化\n",
    "# 靜態的屬性\n",
    "print(avengers_endgame._rating)\n",
    "print(avengers_endgame._movie_time)\n",
    "print(avengers_endgame._genre)"
   ]
  },
  {
   "cell_type": "code",
   "execution_count": null,
   "metadata": {
    "slideshow": {
     "slide_type": "subslide"
    }
   },
   "outputs": [],
   "source": [
    "# 動態的方法\n",
    "print(avengers_endgame.get_rating())\n",
    "print(avengers_endgame.get_movie_time())\n",
    "print(avengers_endgame.get_genre())\n",
    "avengers_endgame.add_genre(\"Action\")\n",
    "avengers_endgame.add_genre(\"Adventure\")\n",
    "avengers_endgame.add_genre(\"Sci-Fi\")\n",
    "print(avengers_endgame.get_genre())"
   ]
  }
 ],
 "metadata": {
  "celltoolbar": "Slideshow",
  "kernelspec": {
   "display_name": "Python 3",
   "language": "python",
   "name": "python3"
  },
  "language_info": {
   "codemirror_mode": {
    "name": "ipython",
    "version": 3
   },
   "file_extension": ".py",
   "mimetype": "text/x-python",
   "name": "python",
   "nbconvert_exporter": "python",
   "pygments_lexer": "ipython3",
   "version": "3.7.1"
  }
 },
 "nbformat": 4,
 "nbformat_minor": 2
}
