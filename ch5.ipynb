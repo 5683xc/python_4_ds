{
 "cells": [
  {
   "cell_type": "markdown",
   "metadata": {
    "slideshow": {
     "slide_type": "slide"
    }
   },
   "source": [
    "# Pandas\n",
    "\n",
    "## 郭耀仁"
   ]
  },
  {
   "cell_type": "markdown",
   "metadata": {
    "slideshow": {
     "slide_type": "slide"
    }
   },
   "source": [
    "## Documentation\n",
    "\n",
    "https://pandas.pydata.org/pandas-docs/stable/index.html"
   ]
  },
  {
   "cell_type": "markdown",
   "metadata": {
    "slideshow": {
     "slide_type": "slide"
    }
   },
   "source": [
    "## 啟發自 R 語言\n",
    "\n",
    "> Flexible and powerful data analysis / manipulation library for Python, providing labeled data structures similar to R data.frame objects, statistical functions, and much more.\n",
    "\n",
    "Source: <https://github.com/pandas-dev/pandas>"
   ]
  },
  {
   "cell_type": "markdown",
   "metadata": {
    "slideshow": {
     "slide_type": "slide"
    }
   },
   "source": [
    "## Pandas 提供的資料結構\n",
    "\n",
    "|名稱|描述|\n",
    "|---|----|\n",
    "|Series|可以建立索引的一維陣列|\n",
    "|DataFrame|有列索引與欄標籤的二維資料集|\n",
    "|Panel|有列索引與欄標籤的三維資料集|"
   ]
  },
  {
   "cell_type": "markdown",
   "metadata": {
    "slideshow": {
     "slide_type": "slide"
    }
   },
   "source": [
    "# Series"
   ]
  },
  {
   "cell_type": "markdown",
   "metadata": {
    "slideshow": {
     "slide_type": "subslide"
    }
   },
   "source": [
    "## 建立 Series\n",
    "\n",
    "- 用 `Series()` 建立 Series\n",
    "- 其中 data 可以是：\n",
    "    - 一個 ndarray\n",
    "    - 一個 dict\n",
    "    - 單一資料\n",
    "\n",
    "```python\n",
    "import pandas as pd\n",
    "\n",
    "ser = pd.Series(data, index = idx)\n",
    "```"
   ]
  },
  {
   "cell_type": "markdown",
   "metadata": {
    "slideshow": {
     "slide_type": "subslide"
    }
   },
   "source": [
    "## 建立 Series（2）\n",
    "\n",
    "- data 是一個 ndarray"
   ]
  },
  {
   "cell_type": "code",
   "execution_count": 30,
   "metadata": {
    "collapsed": false
   },
   "outputs": [
    {
     "name": "stdout",
     "output_type": "stream",
     "text": [
      "<class 'pandas.core.series.Series'>\n",
      "\n",
      "\n",
      "0      Monkey D. Luffy\n",
      "1         Roronoa Zoro\n",
      "2                 Nami\n",
      "3                Usopp\n",
      "4       Vinsmoke Sanji\n",
      "5    Tony Tony Chopper\n",
      "6           Nico Robin\n",
      "7               Franky\n",
      "8                Brook\n",
      "dtype: object\n"
     ]
    }
   ],
   "source": [
    "import numpy as np\n",
    "import pandas as pd\n",
    "\n",
    "arr = np.array((\"Monkey D. Luffy\", \"Roronoa Zoro\", \"Nami\", \"Usopp\", \"Vinsmoke Sanji\",\n",
    "                \"Tony Tony Chopper\", \"Nico Robin\", \"Franky\", \"Brook\"))\n",
    "ser = pd.Series(arr) # 預設的索引\n",
    "print(type(ser))\n",
    "print(\"\\n\")\n",
    "print(ser)"
   ]
  },
  {
   "cell_type": "code",
   "execution_count": 31,
   "metadata": {
    "collapsed": false,
    "slideshow": {
     "slide_type": "subslide"
    }
   },
   "outputs": [
    {
     "name": "stdout",
     "output_type": "stream",
     "text": [
      "crew 1      Monkey D. Luffy\n",
      "crew 2         Roronoa Zoro\n",
      "crew 3                 Nami\n",
      "crew 4                Usopp\n",
      "crew 5       Vinsmoke Sanji\n",
      "crew 6    Tony Tony Chopper\n",
      "crew 7           Nico Robin\n",
      "crew 8               Franky\n",
      "crew 9                Brook\n",
      "dtype: object\n"
     ]
    }
   ],
   "source": [
    "# 使用自訂的索引\n",
    "\n",
    "crew_idx = []\n",
    "for i in range(9):\n",
    "    crew_idx.append(\"crew \" + str(i + 1))\n",
    "ser = pd.Series(arr, index = crew_idx)\n",
    "print(ser)"
   ]
  },
  {
   "cell_type": "markdown",
   "metadata": {
    "slideshow": {
     "slide_type": "subslide"
    }
   },
   "source": [
    "## 建立 Series（3）\n",
    "\n",
    "- data 是一個 dict\n",
    "- 預設會將 key 當作索引值"
   ]
  },
  {
   "cell_type": "code",
   "execution_count": 35,
   "metadata": {
    "collapsed": false
   },
   "outputs": [
    {
     "name": "stdout",
     "output_type": "stream",
     "text": [
      "archaeologist           Nico Robin\n",
      "captain            Monkey D. Luffy\n",
      "chef                Vinsmoke Sanji\n",
      "doctor           Tony Tony Chopper\n",
      "musician                     Brook\n",
      "navigator                     Nami\n",
      "shipwright                  Franky\n",
      "sniper                       Usopp\n",
      "swordsman             Roronoa Zoro\n",
      "dtype: object\n"
     ]
    }
   ],
   "source": [
    "import pandas as pd\n",
    "\n",
    "crew_dict = {\n",
    "    \"captain\": \"Monkey D. Luffy\",\n",
    "    \"swordsman\": \"Roronoa Zoro\",\n",
    "    \"navigator\": \"Nami\",\n",
    "    \"sniper\": \"Usopp\",\n",
    "    \"chef\": \"Vinsmoke Sanji\",\n",
    "    \"doctor\": \"Tony Tony Chopper\",\n",
    "    \"archaeologist\": \"Nico Robin\",\n",
    "    \"shipwright\": \"Franky\",\n",
    "    \"musician\": \"Brook\"\n",
    "}\n",
    "\n",
    "ser = pd.Series(crew_dict) # 會依照 key 排序\n",
    "print(ser)"
   ]
  },
  {
   "cell_type": "code",
   "execution_count": 34,
   "metadata": {
    "collapsed": false,
    "slideshow": {
     "slide_type": "subslide"
    }
   },
   "outputs": [
    {
     "name": "stdout",
     "output_type": "stream",
     "text": [
      "captain            Monkey D. Luffy\n",
      "swordsman             Roronoa Zoro\n",
      "navigator                     Nami\n",
      "sniper                       Usopp\n",
      "chef                Vinsmoke Sanji\n",
      "doctor           Tony Tony Chopper\n",
      "archaeologist           Nico Robin\n",
      "shipwright                  Franky\n",
      "musician                     Brook\n",
      "dtype: object\n"
     ]
    }
   ],
   "source": [
    "import pandas as pd\n",
    "\n",
    "crew_dict = {\n",
    "    \"captain\": \"Monkey D. Luffy\",\n",
    "    \"swordsman\": \"Roronoa Zoro\",\n",
    "    \"navigator\": \"Nami\",\n",
    "    \"sniper\": \"Usopp\",\n",
    "    \"chef\": \"Vinsmoke Sanji\",\n",
    "    \"doctor\": \"Tony Tony Chopper\",\n",
    "    \"archaeologist\": \"Nico Robin\",\n",
    "    \"shipwright\": \"Franky\",\n",
    "    \"musician\": \"Brook\"\n",
    "}\n",
    "\n",
    "ser = pd.Series(crew_dict, index = crew_dict.keys()) # 排序與原 dict 相同\n",
    "print(ser)"
   ]
  },
  {
   "cell_type": "markdown",
   "metadata": {
    "slideshow": {
     "slide_type": "subslide"
    }
   },
   "source": [
    "## 建立 Series（4）\n",
    "\n",
    "- data 可以是單一資料"
   ]
  },
  {
   "cell_type": "code",
   "execution_count": 36,
   "metadata": {
    "collapsed": false
   },
   "outputs": [
    {
     "name": "stdout",
     "output_type": "stream",
     "text": [
      "0    Monkey D. Luffy\n",
      "1    Monkey D. Luffy\n",
      "2    Monkey D. Luffy\n",
      "3    Monkey D. Luffy\n",
      "4    Monkey D. Luffy\n",
      "dtype: object\n"
     ]
    }
   ],
   "source": [
    "import pandas as pd\n",
    "\n",
    "luffy = \"Monkey D. Luffy\"\n",
    "ser = pd.Series(luffy, index = range(5))\n",
    "print(ser)"
   ]
  },
  {
   "cell_type": "markdown",
   "metadata": {
    "slideshow": {
     "slide_type": "slide"
    }
   },
   "source": [
    "## Series 的操作\n",
    "\n",
    "- 透過索引值或標籤選取資料\n",
    "- 跟 ndarray 沒有差太多"
   ]
  },
  {
   "cell_type": "code",
   "execution_count": 40,
   "metadata": {
    "collapsed": false
   },
   "outputs": [
    {
     "name": "stdout",
     "output_type": "stream",
     "text": [
      "Monkey D. Luffy\n",
      "Monkey D. Luffy\n",
      "\n",
      "\n",
      "captain          Monkey D. Luffy\n",
      "sniper                     Usopp\n",
      "archaeologist         Nico Robin\n",
      "dtype: object\n",
      "captain          Monkey D. Luffy\n",
      "sniper                     Usopp\n",
      "archaeologist         Nico Robin\n",
      "dtype: object\n"
     ]
    }
   ],
   "source": [
    "import pandas as pd\n",
    "\n",
    "crew_dict = {\n",
    "    \"captain\": \"Monkey D. Luffy\",\n",
    "    \"swordsman\": \"Roronoa Zoro\",\n",
    "    \"navigator\": \"Nami\",\n",
    "    \"sniper\": \"Usopp\",\n",
    "    \"chef\": \"Vinsmoke Sanji\",\n",
    "    \"doctor\": \"Tony Tony Chopper\",\n",
    "    \"archaeologist\": \"Nico Robin\",\n",
    "    \"shipwright\": \"Franky\",\n",
    "    \"musician\": \"Brook\"\n",
    "}\n",
    "\n",
    "ser = pd.Series(crew_dict, index = crew_dict.keys()) # 排序與原 dict 相同\n",
    "print(ser[0])\n",
    "print(ser['captain'])\n",
    "print(\"\\n\")\n",
    "print(ser[[0, 3, 6]])\n",
    "print(ser[['captain', 'sniper', 'archaeologist']])"
   ]
  },
  {
   "cell_type": "markdown",
   "metadata": {
    "slideshow": {
     "slide_type": "subslide"
    }
   },
   "source": [
    "## Series 的操作（2）\n",
    "\n",
    "- 透過 `:` 快速地切割"
   ]
  },
  {
   "cell_type": "code",
   "execution_count": 43,
   "metadata": {
    "collapsed": false
   },
   "outputs": [
    {
     "name": "stdout",
     "output_type": "stream",
     "text": [
      "captain      Monkey D. Luffy\n",
      "swordsman       Roronoa Zoro\n",
      "navigator               Nami\n",
      "dtype: object\n",
      "\n",
      "\n",
      "sniper                       Usopp\n",
      "chef                Vinsmoke Sanji\n",
      "doctor           Tony Tony Chopper\n",
      "archaeologist           Nico Robin\n",
      "shipwright                  Franky\n",
      "musician                     Brook\n",
      "dtype: object\n"
     ]
    }
   ],
   "source": [
    "import pandas as pd\n",
    "\n",
    "crew_dict = {\n",
    "    \"captain\": \"Monkey D. Luffy\",\n",
    "    \"swordsman\": \"Roronoa Zoro\",\n",
    "    \"navigator\": \"Nami\",\n",
    "    \"sniper\": \"Usopp\",\n",
    "    \"chef\": \"Vinsmoke Sanji\",\n",
    "    \"doctor\": \"Tony Tony Chopper\",\n",
    "    \"archaeologist\": \"Nico Robin\",\n",
    "    \"shipwright\": \"Franky\",\n",
    "    \"musician\": \"Brook\"\n",
    "}\n",
    "\n",
    "ser = pd.Series(crew_dict, index = crew_dict.keys()) # 排序與原 dict 相同\n",
    "print(ser[:3])\n",
    "print(\"\\n\")\n",
    "print(ser['sniper':])"
   ]
  },
  {
   "cell_type": "markdown",
   "metadata": {
    "slideshow": {
     "slide_type": "subslide"
    }
   },
   "source": [
    "## Series 的操作（3）\n",
    "\n",
    "- 也可以透過判斷條件進行布林篩選"
   ]
  },
  {
   "cell_type": "code",
   "execution_count": 46,
   "metadata": {
    "collapsed": false
   },
   "outputs": [
    {
     "name": "stdout",
     "output_type": "stream",
     "text": [
      "navigator              Nami\n",
      "archaeologist    Nico Robin\n",
      "dtype: object\n"
     ]
    }
   ],
   "source": [
    "import pandas as pd\n",
    "\n",
    "crew_dict = {\n",
    "    \"captain\": \"Monkey D. Luffy\",\n",
    "    \"swordsman\": \"Roronoa Zoro\",\n",
    "    \"navigator\": \"Nami\",\n",
    "    \"sniper\": \"Usopp\",\n",
    "    \"chef\": \"Vinsmoke Sanji\",\n",
    "    \"doctor\": \"Tony Tony Chopper\",\n",
    "    \"archaeologist\": \"Nico Robin\",\n",
    "    \"shipwright\": \"Franky\",\n",
    "    \"musician\": \"Brook\"\n",
    "}\n",
    "\n",
    "ser = pd.Series(crew_dict, index = crew_dict.keys()) # 排序與原 dict 相同\n",
    "filter = ser.isin((\"Nami\", \"Nico Robin\"))\n",
    "print(ser[filter])"
   ]
  },
  {
   "cell_type": "markdown",
   "metadata": {
    "slideshow": {
     "slide_type": "subslide"
    }
   },
   "source": [
    "## Series 的操作（4）\n",
    "\n",
    "- NumPy 的函數也都適用"
   ]
  },
  {
   "cell_type": "code",
   "execution_count": 48,
   "metadata": {
    "collapsed": false
   },
   "outputs": [
    {
     "name": "stdout",
     "output_type": "stream",
     "text": [
      "草帽海賊團的平均年齡：30.33\n",
      "草帽海賊團的年齡標準差：21.88\n"
     ]
    }
   ],
   "source": [
    "import pandas as pd\n",
    "\n",
    "crew_age = {\n",
    "    \"Monkey D. Luffy\": 19,\n",
    "    \"Roronoa Zoro\": 21,\n",
    "    \"Nami\": 20,\n",
    "    \"Usopp\": 19,\n",
    "    \"Vinsmoke Sanji\": 21,\n",
    "    \"Tony Tony Chopper\": 17,\n",
    "    \"Nico Robin\": 30,\n",
    "    \"Franky\": 36,\n",
    "    \"Brook\": 90\n",
    "}\n",
    "\n",
    "ser = pd.Series(crew_age)\n",
    "print(\"草帽海賊團的平均年齡：%.2f\" % np.mean(ser))\n",
    "print(\"草帽海賊團的年齡標準差：%.2f\" % np.std(ser))"
   ]
  },
  {
   "cell_type": "markdown",
   "metadata": {
    "slideshow": {
     "slide_type": "subslide"
    }
   },
   "source": [
    "## Series 的操作（5）\n",
    "\n",
    "- 同樣適用 element-wise 運算"
   ]
  },
  {
   "cell_type": "code",
   "execution_count": 50,
   "metadata": {
    "collapsed": false
   },
   "outputs": [
    {
     "name": "stdout",
     "output_type": "stream",
     "text": [
      "Monkey D. Luffy      17\n",
      "Roronoa Zoro         19\n",
      "Nami                 18\n",
      "Usopp                17\n",
      "Vinsmoke Sanji       19\n",
      "Tony Tony Chopper    15\n",
      "Nico Robin           28\n",
      "Franky               34\n",
      "Brook                88\n",
      "dtype: int64\n"
     ]
    }
   ],
   "source": [
    "import pandas as pd\n",
    "\n",
    "crew_age = {\n",
    "    \"Monkey D. Luffy\": 19,\n",
    "    \"Roronoa Zoro\": 21,\n",
    "    \"Nami\": 20,\n",
    "    \"Usopp\": 19,\n",
    "    \"Vinsmoke Sanji\": 21,\n",
    "    \"Tony Tony Chopper\": 17,\n",
    "    \"Nico Robin\": 30,\n",
    "    \"Franky\": 36,\n",
    "    \"Brook\": 90\n",
    "}\n",
    "\n",
    "ser = pd.Series(crew_age, index = crew_age.keys())\n",
    "print(ser - 2)"
   ]
  },
  {
   "cell_type": "markdown",
   "metadata": {},
   "source": [
    "# DataFrame"
   ]
  },
  {
   "cell_type": "markdown",
   "metadata": {
    "slideshow": {
     "slide_type": "slide"
    }
   },
   "source": [
    "## 建立 DataFrame\n",
    "\n",
    "- 用 `DataFrame()` 建立 DataFrame\n",
    "- 其中 data 是：\n",
    "    - 一個 dict\n",
    "    - 一個 ndarray\n",
    "\n",
    "```python\n",
    "import pandas as pd\n",
    "\n",
    "df = pd.DataFrame(data)\n",
    "```"
   ]
  },
  {
   "cell_type": "markdown",
   "metadata": {
    "slideshow": {
     "slide_type": "subslide"
    }
   },
   "source": [
    "## 建立 DataFrame（2）\n",
    "\n",
    "- 其中 data 是一個 dict"
   ]
  },
  {
   "cell_type": "code",
   "execution_count": 54,
   "metadata": {
    "collapsed": false
   },
   "outputs": [
    {
     "name": "stdout",
     "output_type": "stream",
     "text": [
      "<class 'pandas.core.frame.DataFrame'>\n"
     ]
    },
    {
     "data": {
      "text/html": [
       "<div>\n",
       "<style>\n",
       "    .dataframe thead tr:only-child th {\n",
       "        text-align: right;\n",
       "    }\n",
       "\n",
       "    .dataframe thead th {\n",
       "        text-align: left;\n",
       "    }\n",
       "\n",
       "    .dataframe tbody tr th {\n",
       "        vertical-align: top;\n",
       "    }\n",
       "</style>\n",
       "<table border=\"1\" class=\"dataframe\">\n",
       "  <thead>\n",
       "    <tr style=\"text-align: right;\">\n",
       "      <th></th>\n",
       "      <th>age</th>\n",
       "      <th>is_male</th>\n",
       "      <th>name</th>\n",
       "    </tr>\n",
       "  </thead>\n",
       "  <tbody>\n",
       "    <tr>\n",
       "      <th>0</th>\n",
       "      <td>19</td>\n",
       "      <td>True</td>\n",
       "      <td>Monkey D. Luffy</td>\n",
       "    </tr>\n",
       "    <tr>\n",
       "      <th>1</th>\n",
       "      <td>21</td>\n",
       "      <td>True</td>\n",
       "      <td>Roronoa Zoro</td>\n",
       "    </tr>\n",
       "    <tr>\n",
       "      <th>2</th>\n",
       "      <td>20</td>\n",
       "      <td>False</td>\n",
       "      <td>Nami</td>\n",
       "    </tr>\n",
       "    <tr>\n",
       "      <th>3</th>\n",
       "      <td>19</td>\n",
       "      <td>True</td>\n",
       "      <td>Usopp</td>\n",
       "    </tr>\n",
       "    <tr>\n",
       "      <th>4</th>\n",
       "      <td>21</td>\n",
       "      <td>True</td>\n",
       "      <td>Vinsmoke Sanji</td>\n",
       "    </tr>\n",
       "    <tr>\n",
       "      <th>5</th>\n",
       "      <td>17</td>\n",
       "      <td>True</td>\n",
       "      <td>Tony Tony Chopper</td>\n",
       "    </tr>\n",
       "    <tr>\n",
       "      <th>6</th>\n",
       "      <td>30</td>\n",
       "      <td>False</td>\n",
       "      <td>Nico Robin</td>\n",
       "    </tr>\n",
       "    <tr>\n",
       "      <th>7</th>\n",
       "      <td>36</td>\n",
       "      <td>True</td>\n",
       "      <td>Franky</td>\n",
       "    </tr>\n",
       "    <tr>\n",
       "      <th>8</th>\n",
       "      <td>90</td>\n",
       "      <td>True</td>\n",
       "      <td>Brook</td>\n",
       "    </tr>\n",
       "  </tbody>\n",
       "</table>\n",
       "</div>"
      ],
      "text/plain": [
       "   age  is_male               name\n",
       "0   19     True    Monkey D. Luffy\n",
       "1   21     True       Roronoa Zoro\n",
       "2   20    False               Nami\n",
       "3   19     True              Usopp\n",
       "4   21     True     Vinsmoke Sanji\n",
       "5   17     True  Tony Tony Chopper\n",
       "6   30    False         Nico Robin\n",
       "7   36     True             Franky\n",
       "8   90     True              Brook"
      ]
     },
     "execution_count": 54,
     "metadata": {},
     "output_type": "execute_result"
    }
   ],
   "source": [
    "import pandas as pd\n",
    "\n",
    "straw_hat_dict = {\"name\": [\"Monkey D. Luffy\", \"Roronoa Zoro\", \"Nami\", \"Usopp\",\n",
    "                           \"Vinsmoke Sanji\", \"Tony Tony Chopper\", \"Nico Robin\", \"Franky\", \"Brook\"],\n",
    "                  \"age\": [19, 21, 20, 19, 21, 17, 30, 36, 90],\n",
    "                  \"is_male\": [True, True, False, True, True, True, False, True, True]\n",
    "}\n",
    "\n",
    "df = pd.DataFrame(straw_hat_dict) # 欄標籤預設排序\n",
    "print(type(df))\n",
    "df"
   ]
  },
  {
   "cell_type": "code",
   "execution_count": 6,
   "metadata": {
    "collapsed": false,
    "slideshow": {
     "slide_type": "subslide"
    }
   },
   "outputs": [
    {
     "name": "stdout",
     "output_type": "stream",
     "text": [
      "<class 'pandas.core.frame.DataFrame'>\n"
     ]
    },
    {
     "data": {
      "text/html": [
       "<div>\n",
       "<style>\n",
       "    .dataframe thead tr:only-child th {\n",
       "        text-align: right;\n",
       "    }\n",
       "\n",
       "    .dataframe thead th {\n",
       "        text-align: left;\n",
       "    }\n",
       "\n",
       "    .dataframe tbody tr th {\n",
       "        vertical-align: top;\n",
       "    }\n",
       "</style>\n",
       "<table border=\"1\" class=\"dataframe\">\n",
       "  <thead>\n",
       "    <tr style=\"text-align: right;\">\n",
       "      <th></th>\n",
       "      <th>name</th>\n",
       "      <th>age</th>\n",
       "      <th>is_male</th>\n",
       "    </tr>\n",
       "  </thead>\n",
       "  <tbody>\n",
       "    <tr>\n",
       "      <th>0</th>\n",
       "      <td>Monkey D. Luffy</td>\n",
       "      <td>19</td>\n",
       "      <td>True</td>\n",
       "    </tr>\n",
       "    <tr>\n",
       "      <th>1</th>\n",
       "      <td>Roronoa Zoro</td>\n",
       "      <td>21</td>\n",
       "      <td>True</td>\n",
       "    </tr>\n",
       "    <tr>\n",
       "      <th>2</th>\n",
       "      <td>Nami</td>\n",
       "      <td>20</td>\n",
       "      <td>False</td>\n",
       "    </tr>\n",
       "    <tr>\n",
       "      <th>3</th>\n",
       "      <td>Usopp</td>\n",
       "      <td>19</td>\n",
       "      <td>True</td>\n",
       "    </tr>\n",
       "    <tr>\n",
       "      <th>4</th>\n",
       "      <td>Vinsmoke Sanji</td>\n",
       "      <td>21</td>\n",
       "      <td>True</td>\n",
       "    </tr>\n",
       "    <tr>\n",
       "      <th>5</th>\n",
       "      <td>Tony Tony Chopper</td>\n",
       "      <td>17</td>\n",
       "      <td>True</td>\n",
       "    </tr>\n",
       "    <tr>\n",
       "      <th>6</th>\n",
       "      <td>Nico Robin</td>\n",
       "      <td>30</td>\n",
       "      <td>False</td>\n",
       "    </tr>\n",
       "    <tr>\n",
       "      <th>7</th>\n",
       "      <td>Franky</td>\n",
       "      <td>36</td>\n",
       "      <td>True</td>\n",
       "    </tr>\n",
       "    <tr>\n",
       "      <th>8</th>\n",
       "      <td>Brook</td>\n",
       "      <td>90</td>\n",
       "      <td>True</td>\n",
       "    </tr>\n",
       "  </tbody>\n",
       "</table>\n",
       "</div>"
      ],
      "text/plain": [
       "                name  age  is_male\n",
       "0    Monkey D. Luffy   19     True\n",
       "1       Roronoa Zoro   21     True\n",
       "2               Nami   20    False\n",
       "3              Usopp   19     True\n",
       "4     Vinsmoke Sanji   21     True\n",
       "5  Tony Tony Chopper   17     True\n",
       "6         Nico Robin   30    False\n",
       "7             Franky   36     True\n",
       "8              Brook   90     True"
      ]
     },
     "execution_count": 6,
     "metadata": {},
     "output_type": "execute_result"
    }
   ],
   "source": [
    "import pandas as pd\n",
    "\n",
    "straw_hat_dict = {\"name\": [\"Monkey D. Luffy\", \"Roronoa Zoro\", \"Nami\", \"Usopp\",\n",
    "                           \"Vinsmoke Sanji\", \"Tony Tony Chopper\", \"Nico Robin\", \"Franky\", \"Brook\"],\n",
    "                  \"age\": [19, 21, 20, 19, 21, 17, 30, 36, 90],\n",
    "                  \"is_male\": [True, True, False, True, True, True, False, True, True]\n",
    "}\n",
    "\n",
    "df = pd.DataFrame(straw_hat_dict, columns = [\"name\", \"age\", \"is_male\"]) # 指定欄標籤排序\n",
    "print(type(df))\n",
    "df"
   ]
  },
  {
   "cell_type": "markdown",
   "metadata": {
    "slideshow": {
     "slide_type": "subslide"
    }
   },
   "source": [
    "## 建立 DataFrame（3）\n",
    "\n",
    "- 其中 data 是一個 ndarray"
   ]
  },
  {
   "cell_type": "code",
   "execution_count": 10,
   "metadata": {
    "collapsed": false
   },
   "outputs": [
    {
     "data": {
      "text/html": [
       "<div>\n",
       "<style>\n",
       "    .dataframe thead tr:only-child th {\n",
       "        text-align: right;\n",
       "    }\n",
       "\n",
       "    .dataframe thead th {\n",
       "        text-align: left;\n",
       "    }\n",
       "\n",
       "    .dataframe tbody tr th {\n",
       "        vertical-align: top;\n",
       "    }\n",
       "</style>\n",
       "<table border=\"1\" class=\"dataframe\">\n",
       "  <thead>\n",
       "    <tr style=\"text-align: right;\">\n",
       "      <th></th>\n",
       "      <th>name</th>\n",
       "      <th>age</th>\n",
       "      <th>is_male</th>\n",
       "    </tr>\n",
       "  </thead>\n",
       "  <tbody>\n",
       "    <tr>\n",
       "      <th>0</th>\n",
       "      <td>Monkey D. Luffy</td>\n",
       "      <td>19</td>\n",
       "      <td>True</td>\n",
       "    </tr>\n",
       "    <tr>\n",
       "      <th>1</th>\n",
       "      <td>Roronoa Zoro</td>\n",
       "      <td>21</td>\n",
       "      <td>True</td>\n",
       "    </tr>\n",
       "    <tr>\n",
       "      <th>2</th>\n",
       "      <td>Nami</td>\n",
       "      <td>20</td>\n",
       "      <td>False</td>\n",
       "    </tr>\n",
       "    <tr>\n",
       "      <th>3</th>\n",
       "      <td>Usopp</td>\n",
       "      <td>19</td>\n",
       "      <td>True</td>\n",
       "    </tr>\n",
       "    <tr>\n",
       "      <th>4</th>\n",
       "      <td>Vinsmoke Sanji</td>\n",
       "      <td>21</td>\n",
       "      <td>True</td>\n",
       "    </tr>\n",
       "    <tr>\n",
       "      <th>5</th>\n",
       "      <td>Tony Tony Chopper</td>\n",
       "      <td>17</td>\n",
       "      <td>True</td>\n",
       "    </tr>\n",
       "    <tr>\n",
       "      <th>6</th>\n",
       "      <td>Nico Robin</td>\n",
       "      <td>30</td>\n",
       "      <td>False</td>\n",
       "    </tr>\n",
       "    <tr>\n",
       "      <th>7</th>\n",
       "      <td>Franky</td>\n",
       "      <td>36</td>\n",
       "      <td>True</td>\n",
       "    </tr>\n",
       "    <tr>\n",
       "      <th>8</th>\n",
       "      <td>Brook</td>\n",
       "      <td>90</td>\n",
       "      <td>True</td>\n",
       "    </tr>\n",
       "  </tbody>\n",
       "</table>\n",
       "</div>"
      ],
      "text/plain": [
       "                name age is_male\n",
       "0    Monkey D. Luffy  19    True\n",
       "1       Roronoa Zoro  21    True\n",
       "2               Nami  20   False\n",
       "3              Usopp  19    True\n",
       "4     Vinsmoke Sanji  21    True\n",
       "5  Tony Tony Chopper  17    True\n",
       "6         Nico Robin  30   False\n",
       "7             Franky  36    True\n",
       "8              Brook  90    True"
      ]
     },
     "execution_count": 10,
     "metadata": {},
     "output_type": "execute_result"
    }
   ],
   "source": [
    "import numpy as np\n",
    "import pandas as pd\n",
    "\n",
    "arr = np.array([\n",
    "    [\"Monkey D. Luffy\", 19, True],\n",
    "    [\"Roronoa Zoro\", 21, True],\n",
    "    [\"Nami\", 20, False],\n",
    "    [\"Usopp\", 19, True],\n",
    "    [\"Vinsmoke Sanji\", 21, True],\n",
    "    [\"Tony Tony Chopper\", 17, True],\n",
    "    [\"Nico Robin\", 30, False],\n",
    "    [\"Franky\", 36, True],\n",
    "    [\"Brook\", 90, True]\n",
    "])\n",
    "df = pd.DataFrame(arr, columns = [\"name\", \"age\", \"is_male\"])\n",
    "df"
   ]
  },
  {
   "cell_type": "code",
   "execution_count": 11,
   "metadata": {
    "collapsed": false
   },
   "outputs": [
    {
     "name": "stdout",
     "output_type": "stream",
     "text": [
      "name       object\n",
      "age        object\n",
      "is_male    object\n",
      "dtype: object\n",
      "\n",
      "\n",
      "name       object\n",
      "age         int64\n",
      "is_male      bool\n",
      "dtype: object\n"
     ]
    },
    {
     "data": {
      "text/html": [
       "<div>\n",
       "<style>\n",
       "    .dataframe thead tr:only-child th {\n",
       "        text-align: right;\n",
       "    }\n",
       "\n",
       "    .dataframe thead th {\n",
       "        text-align: left;\n",
       "    }\n",
       "\n",
       "    .dataframe tbody tr th {\n",
       "        vertical-align: top;\n",
       "    }\n",
       "</style>\n",
       "<table border=\"1\" class=\"dataframe\">\n",
       "  <thead>\n",
       "    <tr style=\"text-align: right;\">\n",
       "      <th></th>\n",
       "      <th>name</th>\n",
       "      <th>age</th>\n",
       "      <th>is_male</th>\n",
       "    </tr>\n",
       "  </thead>\n",
       "  <tbody>\n",
       "    <tr>\n",
       "      <th>0</th>\n",
       "      <td>Monkey D. Luffy</td>\n",
       "      <td>19</td>\n",
       "      <td>True</td>\n",
       "    </tr>\n",
       "    <tr>\n",
       "      <th>1</th>\n",
       "      <td>Roronoa Zoro</td>\n",
       "      <td>21</td>\n",
       "      <td>True</td>\n",
       "    </tr>\n",
       "    <tr>\n",
       "      <th>2</th>\n",
       "      <td>Nami</td>\n",
       "      <td>20</td>\n",
       "      <td>True</td>\n",
       "    </tr>\n",
       "    <tr>\n",
       "      <th>3</th>\n",
       "      <td>Usopp</td>\n",
       "      <td>19</td>\n",
       "      <td>True</td>\n",
       "    </tr>\n",
       "    <tr>\n",
       "      <th>4</th>\n",
       "      <td>Vinsmoke Sanji</td>\n",
       "      <td>21</td>\n",
       "      <td>True</td>\n",
       "    </tr>\n",
       "    <tr>\n",
       "      <th>5</th>\n",
       "      <td>Tony Tony Chopper</td>\n",
       "      <td>17</td>\n",
       "      <td>True</td>\n",
       "    </tr>\n",
       "    <tr>\n",
       "      <th>6</th>\n",
       "      <td>Nico Robin</td>\n",
       "      <td>30</td>\n",
       "      <td>True</td>\n",
       "    </tr>\n",
       "    <tr>\n",
       "      <th>7</th>\n",
       "      <td>Franky</td>\n",
       "      <td>36</td>\n",
       "      <td>True</td>\n",
       "    </tr>\n",
       "    <tr>\n",
       "      <th>8</th>\n",
       "      <td>Brook</td>\n",
       "      <td>90</td>\n",
       "      <td>True</td>\n",
       "    </tr>\n",
       "  </tbody>\n",
       "</table>\n",
       "</div>"
      ],
      "text/plain": [
       "                name  age  is_male\n",
       "0    Monkey D. Luffy   19     True\n",
       "1       Roronoa Zoro   21     True\n",
       "2               Nami   20     True\n",
       "3              Usopp   19     True\n",
       "4     Vinsmoke Sanji   21     True\n",
       "5  Tony Tony Chopper   17     True\n",
       "6         Nico Robin   30     True\n",
       "7             Franky   36     True\n",
       "8              Brook   90     True"
      ]
     },
     "execution_count": 11,
     "metadata": {},
     "output_type": "execute_result"
    }
   ],
   "source": [
    "import numpy as np\n",
    "import pandas as pd\n",
    "\n",
    "arr = np.array([\n",
    "    [\"Monkey D. Luffy\", 19, True],\n",
    "    [\"Roronoa Zoro\", 21, True],\n",
    "    [\"Nami\", 20, False],\n",
    "    [\"Usopp\", 19, True],\n",
    "    [\"Vinsmoke Sanji\", 21, True],\n",
    "    [\"Tony Tony Chopper\", 17, True],\n",
    "    [\"Nico Robin\", 30, False],\n",
    "    [\"Franky\", 36, True],\n",
    "    [\"Brook\", 90, True]\n",
    "])\n",
    "df = pd.DataFrame(arr, columns = [\"name\", \"age\", \"is_male\"])\n",
    "print(df.dtypes)\n",
    "df['age'] = df['age'].astype(int)\n",
    "df['is_male'] = df['is_male'].astype(bool)\n",
    "print(\"\\n\")\n",
    "print(df.dtypes)\n",
    "df"
   ]
  },
  {
   "cell_type": "markdown",
   "metadata": {
    "slideshow": {
     "slide_type": "slide"
    }
   },
   "source": [
    "## Data frame 的操作\n",
    "\n",
    "- 包含多種變數類型，不像 ndarray 僅容納單一變數類型"
   ]
  },
  {
   "cell_type": "code",
   "execution_count": 57,
   "metadata": {
    "collapsed": false
   },
   "outputs": [
    {
     "data": {
      "text/plain": [
       "name       object\n",
       "age         int64\n",
       "is_male      bool\n",
       "dtype: object"
      ]
     },
     "execution_count": 57,
     "metadata": {},
     "output_type": "execute_result"
    }
   ],
   "source": [
    "import pandas as pd\n",
    "\n",
    "straw_hat_dict = {\"name\": [\"Monkey D. Luffy\", \"Roronoa Zoro\", \"Nami\", \"Usopp\",\n",
    "                           \"Vinsmoke Sanji\", \"Tony Tony Chopper\", \"Nico Robin\", \"Franky\", \"Brook\"],\n",
    "                  \"age\": [19, 21, 20, 19, 21, 17, 30, 36, 90],\n",
    "                  \"is_male\": [True, True, False, True, True, True, False, True, True]\n",
    "}\n",
    "\n",
    "df = pd.DataFrame(straw_hat_dict, columns = [\"name\", \"age\", \"is_male\"]) # 指定欄標籤排序\n",
    "df.dtypes"
   ]
  },
  {
   "cell_type": "markdown",
   "metadata": {
    "slideshow": {
     "slide_type": "subslide"
    }
   },
   "source": [
    "## Data frame 的操作（2）\n",
    "\n",
    "- 可以直接指派新增一個變數"
   ]
  },
  {
   "cell_type": "code",
   "execution_count": 59,
   "metadata": {
    "collapsed": false
   },
   "outputs": [
    {
     "data": {
      "text/html": [
       "<div>\n",
       "<style>\n",
       "    .dataframe thead tr:only-child th {\n",
       "        text-align: right;\n",
       "    }\n",
       "\n",
       "    .dataframe thead th {\n",
       "        text-align: left;\n",
       "    }\n",
       "\n",
       "    .dataframe tbody tr th {\n",
       "        vertical-align: top;\n",
       "    }\n",
       "</style>\n",
       "<table border=\"1\" class=\"dataframe\">\n",
       "  <thead>\n",
       "    <tr style=\"text-align: right;\">\n",
       "      <th></th>\n",
       "      <th>name</th>\n",
       "      <th>age</th>\n",
       "      <th>is_male</th>\n",
       "      <th>age_2_yr_ago</th>\n",
       "    </tr>\n",
       "  </thead>\n",
       "  <tbody>\n",
       "    <tr>\n",
       "      <th>0</th>\n",
       "      <td>Monkey D. Luffy</td>\n",
       "      <td>19</td>\n",
       "      <td>True</td>\n",
       "      <td>17</td>\n",
       "    </tr>\n",
       "    <tr>\n",
       "      <th>1</th>\n",
       "      <td>Roronoa Zoro</td>\n",
       "      <td>21</td>\n",
       "      <td>True</td>\n",
       "      <td>19</td>\n",
       "    </tr>\n",
       "    <tr>\n",
       "      <th>2</th>\n",
       "      <td>Nami</td>\n",
       "      <td>20</td>\n",
       "      <td>False</td>\n",
       "      <td>18</td>\n",
       "    </tr>\n",
       "    <tr>\n",
       "      <th>3</th>\n",
       "      <td>Usopp</td>\n",
       "      <td>19</td>\n",
       "      <td>True</td>\n",
       "      <td>17</td>\n",
       "    </tr>\n",
       "    <tr>\n",
       "      <th>4</th>\n",
       "      <td>Vinsmoke Sanji</td>\n",
       "      <td>21</td>\n",
       "      <td>True</td>\n",
       "      <td>19</td>\n",
       "    </tr>\n",
       "    <tr>\n",
       "      <th>5</th>\n",
       "      <td>Tony Tony Chopper</td>\n",
       "      <td>17</td>\n",
       "      <td>True</td>\n",
       "      <td>15</td>\n",
       "    </tr>\n",
       "    <tr>\n",
       "      <th>6</th>\n",
       "      <td>Nico Robin</td>\n",
       "      <td>30</td>\n",
       "      <td>False</td>\n",
       "      <td>28</td>\n",
       "    </tr>\n",
       "    <tr>\n",
       "      <th>7</th>\n",
       "      <td>Franky</td>\n",
       "      <td>36</td>\n",
       "      <td>True</td>\n",
       "      <td>34</td>\n",
       "    </tr>\n",
       "    <tr>\n",
       "      <th>8</th>\n",
       "      <td>Brook</td>\n",
       "      <td>90</td>\n",
       "      <td>True</td>\n",
       "      <td>88</td>\n",
       "    </tr>\n",
       "  </tbody>\n",
       "</table>\n",
       "</div>"
      ],
      "text/plain": [
       "                name  age  is_male  age_2_yr_ago\n",
       "0    Monkey D. Luffy   19     True            17\n",
       "1       Roronoa Zoro   21     True            19\n",
       "2               Nami   20    False            18\n",
       "3              Usopp   19     True            17\n",
       "4     Vinsmoke Sanji   21     True            19\n",
       "5  Tony Tony Chopper   17     True            15\n",
       "6         Nico Robin   30    False            28\n",
       "7             Franky   36     True            34\n",
       "8              Brook   90     True            88"
      ]
     },
     "execution_count": 59,
     "metadata": {},
     "output_type": "execute_result"
    }
   ],
   "source": [
    "import pandas as pd\n",
    "\n",
    "straw_hat_dict = {\"name\": [\"Monkey D. Luffy\", \"Roronoa Zoro\", \"Nami\", \"Usopp\",\n",
    "                           \"Vinsmoke Sanji\", \"Tony Tony Chopper\", \"Nico Robin\", \"Franky\", \"Brook\"],\n",
    "                  \"age\": [19, 21, 20, 19, 21, 17, 30, 36, 90],\n",
    "                  \"is_male\": [True, True, False, True, True, True, False, True, True]\n",
    "}\n",
    "\n",
    "df = pd.DataFrame(straw_hat_dict, columns = [\"name\", \"age\", \"is_male\"]) # 指定欄標籤排序\n",
    "df['age_2_yr_ago'] = df['age'] - 2\n",
    "df"
   ]
  },
  {
   "cell_type": "code",
   "execution_count": 60,
   "metadata": {
    "collapsed": false,
    "slideshow": {
     "slide_type": "subslide"
    }
   },
   "outputs": [
    {
     "data": {
      "text/html": [
       "<div>\n",
       "<style>\n",
       "    .dataframe thead tr:only-child th {\n",
       "        text-align: right;\n",
       "    }\n",
       "\n",
       "    .dataframe thead th {\n",
       "        text-align: left;\n",
       "    }\n",
       "\n",
       "    .dataframe tbody tr th {\n",
       "        vertical-align: top;\n",
       "    }\n",
       "</style>\n",
       "<table border=\"1\" class=\"dataframe\">\n",
       "  <thead>\n",
       "    <tr style=\"text-align: right;\">\n",
       "      <th></th>\n",
       "      <th>name</th>\n",
       "      <th>age</th>\n",
       "      <th>is_male</th>\n",
       "      <th>favorite_food</th>\n",
       "    </tr>\n",
       "  </thead>\n",
       "  <tbody>\n",
       "    <tr>\n",
       "      <th>0</th>\n",
       "      <td>Monkey D. Luffy</td>\n",
       "      <td>19</td>\n",
       "      <td>True</td>\n",
       "      <td>Meat</td>\n",
       "    </tr>\n",
       "    <tr>\n",
       "      <th>1</th>\n",
       "      <td>Roronoa Zoro</td>\n",
       "      <td>21</td>\n",
       "      <td>True</td>\n",
       "      <td>Food matches wine</td>\n",
       "    </tr>\n",
       "    <tr>\n",
       "      <th>2</th>\n",
       "      <td>Nami</td>\n",
       "      <td>20</td>\n",
       "      <td>False</td>\n",
       "      <td>Orange</td>\n",
       "    </tr>\n",
       "    <tr>\n",
       "      <th>3</th>\n",
       "      <td>Usopp</td>\n",
       "      <td>19</td>\n",
       "      <td>True</td>\n",
       "      <td>Fish</td>\n",
       "    </tr>\n",
       "    <tr>\n",
       "      <th>4</th>\n",
       "      <td>Vinsmoke Sanji</td>\n",
       "      <td>21</td>\n",
       "      <td>True</td>\n",
       "      <td>Food matches black tea</td>\n",
       "    </tr>\n",
       "    <tr>\n",
       "      <th>5</th>\n",
       "      <td>Tony Tony Chopper</td>\n",
       "      <td>17</td>\n",
       "      <td>True</td>\n",
       "      <td>Sweets</td>\n",
       "    </tr>\n",
       "    <tr>\n",
       "      <th>6</th>\n",
       "      <td>Nico Robin</td>\n",
       "      <td>30</td>\n",
       "      <td>False</td>\n",
       "      <td>Food matches coffee</td>\n",
       "    </tr>\n",
       "    <tr>\n",
       "      <th>7</th>\n",
       "      <td>Franky</td>\n",
       "      <td>36</td>\n",
       "      <td>True</td>\n",
       "      <td>Food matches coke</td>\n",
       "    </tr>\n",
       "    <tr>\n",
       "      <th>8</th>\n",
       "      <td>Brook</td>\n",
       "      <td>90</td>\n",
       "      <td>True</td>\n",
       "      <td>Milk</td>\n",
       "    </tr>\n",
       "  </tbody>\n",
       "</table>\n",
       "</div>"
      ],
      "text/plain": [
       "                name  age  is_male           favorite_food\n",
       "0    Monkey D. Luffy   19     True                    Meat\n",
       "1       Roronoa Zoro   21     True       Food matches wine\n",
       "2               Nami   20    False                  Orange\n",
       "3              Usopp   19     True                    Fish\n",
       "4     Vinsmoke Sanji   21     True  Food matches black tea\n",
       "5  Tony Tony Chopper   17     True                  Sweets\n",
       "6         Nico Robin   30    False     Food matches coffee\n",
       "7             Franky   36     True       Food matches coke\n",
       "8              Brook   90     True                    Milk"
      ]
     },
     "execution_count": 60,
     "metadata": {},
     "output_type": "execute_result"
    }
   ],
   "source": [
    "import pandas as pd\n",
    "\n",
    "straw_hat_dict = {\"name\": [\"Monkey D. Luffy\", \"Roronoa Zoro\", \"Nami\", \"Usopp\",\n",
    "                           \"Vinsmoke Sanji\", \"Tony Tony Chopper\", \"Nico Robin\", \"Franky\", \"Brook\"],\n",
    "                  \"age\": [19, 21, 20, 19, 21, 17, 30, 36, 90],\n",
    "                  \"is_male\": [True, True, False, True, True, True, False, True, True]\n",
    "}\n",
    "\n",
    "df = pd.DataFrame(straw_hat_dict, columns = [\"name\", \"age\", \"is_male\"]) # 指定欄標籤排序\n",
    "df['favorite_food'] = [\"Meat\", \"Food matches wine\", \"Orange\", \"Fish\", \"Food matches black tea\",\n",
    "                       \"Sweets\", \"Food matches coffee\", \"Food matches coke\", \"Milk\"]\n",
    "df"
   ]
  },
  {
   "cell_type": "markdown",
   "metadata": {},
   "source": [
    "## Data frame 的操作（3）\n",
    "\n",
    "- 利用 `.insert()` 指定變數新增的位置"
   ]
  },
  {
   "cell_type": "code",
   "execution_count": 66,
   "metadata": {
    "collapsed": false
   },
   "outputs": [
    {
     "data": {
      "text/html": [
       "<div>\n",
       "<style>\n",
       "    .dataframe thead tr:only-child th {\n",
       "        text-align: right;\n",
       "    }\n",
       "\n",
       "    .dataframe thead th {\n",
       "        text-align: left;\n",
       "    }\n",
       "\n",
       "    .dataframe tbody tr th {\n",
       "        vertical-align: top;\n",
       "    }\n",
       "</style>\n",
       "<table border=\"1\" class=\"dataframe\">\n",
       "  <thead>\n",
       "    <tr style=\"text-align: right;\">\n",
       "      <th></th>\n",
       "      <th>name</th>\n",
       "      <th>favorite_food</th>\n",
       "      <th>age</th>\n",
       "      <th>is_male</th>\n",
       "    </tr>\n",
       "  </thead>\n",
       "  <tbody>\n",
       "    <tr>\n",
       "      <th>0</th>\n",
       "      <td>Monkey D. Luffy</td>\n",
       "      <td>Meat</td>\n",
       "      <td>19</td>\n",
       "      <td>True</td>\n",
       "    </tr>\n",
       "    <tr>\n",
       "      <th>1</th>\n",
       "      <td>Roronoa Zoro</td>\n",
       "      <td>Food matches wine</td>\n",
       "      <td>21</td>\n",
       "      <td>True</td>\n",
       "    </tr>\n",
       "    <tr>\n",
       "      <th>2</th>\n",
       "      <td>Nami</td>\n",
       "      <td>Orange</td>\n",
       "      <td>20</td>\n",
       "      <td>False</td>\n",
       "    </tr>\n",
       "    <tr>\n",
       "      <th>3</th>\n",
       "      <td>Usopp</td>\n",
       "      <td>Fish</td>\n",
       "      <td>19</td>\n",
       "      <td>True</td>\n",
       "    </tr>\n",
       "    <tr>\n",
       "      <th>4</th>\n",
       "      <td>Vinsmoke Sanji</td>\n",
       "      <td>Food matches black tea</td>\n",
       "      <td>21</td>\n",
       "      <td>True</td>\n",
       "    </tr>\n",
       "    <tr>\n",
       "      <th>5</th>\n",
       "      <td>Tony Tony Chopper</td>\n",
       "      <td>Sweets</td>\n",
       "      <td>17</td>\n",
       "      <td>True</td>\n",
       "    </tr>\n",
       "    <tr>\n",
       "      <th>6</th>\n",
       "      <td>Nico Robin</td>\n",
       "      <td>Food matches coffee</td>\n",
       "      <td>30</td>\n",
       "      <td>False</td>\n",
       "    </tr>\n",
       "    <tr>\n",
       "      <th>7</th>\n",
       "      <td>Franky</td>\n",
       "      <td>Food matches coke</td>\n",
       "      <td>36</td>\n",
       "      <td>True</td>\n",
       "    </tr>\n",
       "    <tr>\n",
       "      <th>8</th>\n",
       "      <td>Brook</td>\n",
       "      <td>Milk</td>\n",
       "      <td>90</td>\n",
       "      <td>True</td>\n",
       "    </tr>\n",
       "  </tbody>\n",
       "</table>\n",
       "</div>"
      ],
      "text/plain": [
       "                name           favorite_food  age  is_male\n",
       "0    Monkey D. Luffy                    Meat   19     True\n",
       "1       Roronoa Zoro       Food matches wine   21     True\n",
       "2               Nami                  Orange   20    False\n",
       "3              Usopp                    Fish   19     True\n",
       "4     Vinsmoke Sanji  Food matches black tea   21     True\n",
       "5  Tony Tony Chopper                  Sweets   17     True\n",
       "6         Nico Robin     Food matches coffee   30    False\n",
       "7             Franky       Food matches coke   36     True\n",
       "8              Brook                    Milk   90     True"
      ]
     },
     "execution_count": 66,
     "metadata": {},
     "output_type": "execute_result"
    }
   ],
   "source": [
    "import pandas as pd\n",
    "\n",
    "straw_hat_dict = {\"name\": [\"Monkey D. Luffy\", \"Roronoa Zoro\", \"Nami\", \"Usopp\",\n",
    "                           \"Vinsmoke Sanji\", \"Tony Tony Chopper\", \"Nico Robin\", \"Franky\", \"Brook\"],\n",
    "                  \"age\": [19, 21, 20, 19, 21, 17, 30, 36, 90],\n",
    "                  \"is_male\": [True, True, False, True, True, True, False, True, True]\n",
    "}\n",
    "\n",
    "df = pd.DataFrame(straw_hat_dict, columns = [\"name\", \"age\", \"is_male\"]) # 指定欄標籤排序\n",
    "df.insert(1, 'favorite_food', [\"Meat\", \"Food matches wine\", \"Orange\", \"Fish\", \"Food matches black tea\",\n",
    "                               \"Sweets\", \"Food matches coffee\", \"Food matches coke\", \"Milk\"])\n",
    "df"
   ]
  },
  {
   "cell_type": "markdown",
   "metadata": {
    "slideshow": {
     "slide_type": "subslide"
    }
   },
   "source": [
    "## Data frame 的操作（3）\n",
    "\n",
    "- 利用 `del` 刪除變數"
   ]
  },
  {
   "cell_type": "code",
   "execution_count": 63,
   "metadata": {
    "collapsed": false
   },
   "outputs": [
    {
     "data": {
      "text/html": [
       "<div>\n",
       "<style>\n",
       "    .dataframe thead tr:only-child th {\n",
       "        text-align: right;\n",
       "    }\n",
       "\n",
       "    .dataframe thead th {\n",
       "        text-align: left;\n",
       "    }\n",
       "\n",
       "    .dataframe tbody tr th {\n",
       "        vertical-align: top;\n",
       "    }\n",
       "</style>\n",
       "<table border=\"1\" class=\"dataframe\">\n",
       "  <thead>\n",
       "    <tr style=\"text-align: right;\">\n",
       "      <th></th>\n",
       "      <th>name</th>\n",
       "      <th>age</th>\n",
       "    </tr>\n",
       "  </thead>\n",
       "  <tbody>\n",
       "    <tr>\n",
       "      <th>0</th>\n",
       "      <td>Monkey D. Luffy</td>\n",
       "      <td>19</td>\n",
       "    </tr>\n",
       "    <tr>\n",
       "      <th>1</th>\n",
       "      <td>Roronoa Zoro</td>\n",
       "      <td>21</td>\n",
       "    </tr>\n",
       "    <tr>\n",
       "      <th>2</th>\n",
       "      <td>Nami</td>\n",
       "      <td>20</td>\n",
       "    </tr>\n",
       "    <tr>\n",
       "      <th>3</th>\n",
       "      <td>Usopp</td>\n",
       "      <td>19</td>\n",
       "    </tr>\n",
       "    <tr>\n",
       "      <th>4</th>\n",
       "      <td>Vinsmoke Sanji</td>\n",
       "      <td>21</td>\n",
       "    </tr>\n",
       "    <tr>\n",
       "      <th>5</th>\n",
       "      <td>Tony Tony Chopper</td>\n",
       "      <td>17</td>\n",
       "    </tr>\n",
       "    <tr>\n",
       "      <th>6</th>\n",
       "      <td>Nico Robin</td>\n",
       "      <td>30</td>\n",
       "    </tr>\n",
       "    <tr>\n",
       "      <th>7</th>\n",
       "      <td>Franky</td>\n",
       "      <td>36</td>\n",
       "    </tr>\n",
       "    <tr>\n",
       "      <th>8</th>\n",
       "      <td>Brook</td>\n",
       "      <td>90</td>\n",
       "    </tr>\n",
       "  </tbody>\n",
       "</table>\n",
       "</div>"
      ],
      "text/plain": [
       "                name  age\n",
       "0    Monkey D. Luffy   19\n",
       "1       Roronoa Zoro   21\n",
       "2               Nami   20\n",
       "3              Usopp   19\n",
       "4     Vinsmoke Sanji   21\n",
       "5  Tony Tony Chopper   17\n",
       "6         Nico Robin   30\n",
       "7             Franky   36\n",
       "8              Brook   90"
      ]
     },
     "execution_count": 63,
     "metadata": {},
     "output_type": "execute_result"
    }
   ],
   "source": [
    "import pandas as pd\n",
    "\n",
    "straw_hat_dict = {\"name\": [\"Monkey D. Luffy\", \"Roronoa Zoro\", \"Nami\", \"Usopp\",\n",
    "                           \"Vinsmoke Sanji\", \"Tony Tony Chopper\", \"Nico Robin\", \"Franky\", \"Brook\"],\n",
    "                  \"age\": [19, 21, 20, 19, 21, 17, 30, 36, 90],\n",
    "                  \"is_male\": [True, True, False, True, True, True, False, True, True]\n",
    "}\n",
    "\n",
    "df = pd.DataFrame(straw_hat_dict, columns = [\"name\", \"age\", \"is_male\"]) # 指定欄標籤排序\n",
    "del df['is_male']\n",
    "df"
   ]
  },
  {
   "cell_type": "markdown",
   "metadata": {
    "slideshow": {
     "slide_type": "subslide"
    }
   },
   "source": [
    "## Data frame 的操作（4）\n",
    "\n",
    "- 利用 `.pop()` 將變數刪除後指派給一個 Series"
   ]
  },
  {
   "cell_type": "code",
   "execution_count": 67,
   "metadata": {
    "collapsed": false
   },
   "outputs": [
    {
     "name": "stdout",
     "output_type": "stream",
     "text": [
      "<class 'pandas.core.series.Series'>\n",
      "0     True\n",
      "1     True\n",
      "2    False\n",
      "3     True\n",
      "4     True\n",
      "5     True\n",
      "6    False\n",
      "7     True\n",
      "8     True\n",
      "Name: is_male, dtype: bool\n"
     ]
    },
    {
     "data": {
      "text/html": [
       "<div>\n",
       "<style>\n",
       "    .dataframe thead tr:only-child th {\n",
       "        text-align: right;\n",
       "    }\n",
       "\n",
       "    .dataframe thead th {\n",
       "        text-align: left;\n",
       "    }\n",
       "\n",
       "    .dataframe tbody tr th {\n",
       "        vertical-align: top;\n",
       "    }\n",
       "</style>\n",
       "<table border=\"1\" class=\"dataframe\">\n",
       "  <thead>\n",
       "    <tr style=\"text-align: right;\">\n",
       "      <th></th>\n",
       "      <th>name</th>\n",
       "      <th>age</th>\n",
       "    </tr>\n",
       "  </thead>\n",
       "  <tbody>\n",
       "    <tr>\n",
       "      <th>0</th>\n",
       "      <td>Monkey D. Luffy</td>\n",
       "      <td>19</td>\n",
       "    </tr>\n",
       "    <tr>\n",
       "      <th>1</th>\n",
       "      <td>Roronoa Zoro</td>\n",
       "      <td>21</td>\n",
       "    </tr>\n",
       "    <tr>\n",
       "      <th>2</th>\n",
       "      <td>Nami</td>\n",
       "      <td>20</td>\n",
       "    </tr>\n",
       "    <tr>\n",
       "      <th>3</th>\n",
       "      <td>Usopp</td>\n",
       "      <td>19</td>\n",
       "    </tr>\n",
       "    <tr>\n",
       "      <th>4</th>\n",
       "      <td>Vinsmoke Sanji</td>\n",
       "      <td>21</td>\n",
       "    </tr>\n",
       "    <tr>\n",
       "      <th>5</th>\n",
       "      <td>Tony Tony Chopper</td>\n",
       "      <td>17</td>\n",
       "    </tr>\n",
       "    <tr>\n",
       "      <th>6</th>\n",
       "      <td>Nico Robin</td>\n",
       "      <td>30</td>\n",
       "    </tr>\n",
       "    <tr>\n",
       "      <th>7</th>\n",
       "      <td>Franky</td>\n",
       "      <td>36</td>\n",
       "    </tr>\n",
       "    <tr>\n",
       "      <th>8</th>\n",
       "      <td>Brook</td>\n",
       "      <td>90</td>\n",
       "    </tr>\n",
       "  </tbody>\n",
       "</table>\n",
       "</div>"
      ],
      "text/plain": [
       "                name  age\n",
       "0    Monkey D. Luffy   19\n",
       "1       Roronoa Zoro   21\n",
       "2               Nami   20\n",
       "3              Usopp   19\n",
       "4     Vinsmoke Sanji   21\n",
       "5  Tony Tony Chopper   17\n",
       "6         Nico Robin   30\n",
       "7             Franky   36\n",
       "8              Brook   90"
      ]
     },
     "execution_count": 67,
     "metadata": {},
     "output_type": "execute_result"
    }
   ],
   "source": [
    "import pandas as pd\n",
    "\n",
    "straw_hat_dict = {\"name\": [\"Monkey D. Luffy\", \"Roronoa Zoro\", \"Nami\", \"Usopp\",\n",
    "                           \"Vinsmoke Sanji\", \"Tony Tony Chopper\", \"Nico Robin\", \"Franky\", \"Brook\"],\n",
    "                  \"age\": [19, 21, 20, 19, 21, 17, 30, 36, 90],\n",
    "                  \"is_male\": [True, True, False, True, True, True, False, True, True]\n",
    "}\n",
    "\n",
    "df = pd.DataFrame(straw_hat_dict, columns = [\"name\", \"age\", \"is_male\"]) # 指定欄標籤排序\n",
    "ser = df.pop('is_male')\n",
    "print(type(ser))\n",
    "print(ser)\n",
    "df"
   ]
  },
  {
   "cell_type": "markdown",
   "metadata": {
    "slideshow": {
     "slide_type": "subslide"
    }
   },
   "source": [
    "## Data frame 的特性（3）\n",
    "\n",
    "- 同樣使用中括號 `[]` 選擇元素\n",
    "- 使用 `.ix` 屬性\n",
    "\n",
    "```python\n",
    "import pandas as pd # 引用套件並縮寫為 pd\n",
    "\n",
    "name = [\"Monkey D. Luffy\", \"Roronoa Zoro\", \"Nami\", \"Usopp\", \"Vinsmoke Sanji\", \"Tony Tony Chopper\", \"Nico Robin\", \"Franky\", \"Brook\"]\n",
    "age = [19, 21, 20, 19, 21, 17, 30, 36, 90]\n",
    "is_male = [True, True, False, True, True, True, False, True, True]\n",
    "\n",
    "straw_hat_dict = {\"name\": name,\n",
    "                  \"age\": age,\n",
    "                  \"is_male\": is_male\n",
    "}\n",
    "\n",
    "straw_hat_df = pd.DataFrame(straw_hat_dict)\n",
    "\n",
    "print(straw_hat_df.ix[0, :]) # 選第 0 個觀測值\n",
    "print(\"---\")\n",
    "print(straw_hat_df.ix[:, \"name\"]) # 選 name 欄位\n",
    "print(\"---\")\n",
    "print(straw_hat_df.ix[0, \"name\"]) # 選第 0 個觀測值的 name 欄位\n",
    "```"
   ]
  },
  {
   "cell_type": "markdown",
   "metadata": {
    "slideshow": {
     "slide_type": "subslide"
    }
   },
   "source": [
    "## Data frame 的特性（4）\n",
    "\n",
    "- 請同學練習使用 `.ix` 與 `[]` 選擇 row、column 與元素"
   ]
  },
  {
   "cell_type": "markdown",
   "metadata": {
    "slideshow": {
     "slide_type": "subslide"
    }
   },
   "source": [
    "## Data frame 的特性（5）\n",
    "\n",
    "- 可以使用布林值篩選\n",
    "\n",
    "```python\n",
    "import pandas as pd # 引用套件並縮寫為 pd\n",
    "\n",
    "name = [\"Monkey D. Luffy\", \"Roronoa Zoro\", \"Nami\", \"Usopp\", \"Vinsmoke Sanji\", \"Tony Tony Chopper\", \"Nico Robin\", \"Franky\", \"Brook\"]\n",
    "age = [19, 21, 20, 19, 21, 17, 30, 36, 90]\n",
    "is_male = [True, True, False, True, True, True, False, True, True]\n",
    "\n",
    "straw_hat_dict = {\"name\": name,\n",
    "                  \"age\": age,\n",
    "                  \"is_male\": is_male\n",
    "}\n",
    "\n",
    "straw_hat_df = pd.DataFrame(straw_hat_dict)\n",
    "\n",
    "# 篩選小於 30 歲的船員\n",
    "filter = straw_hat_df.ix[:, \"age\"] <= 30\n",
    "straw_hat_df[filter]\n",
    "\n",
    "# 篩選女性船員\n",
    "filter = straw_hat_df.ix[:, \"is_male\"] == False\n",
    "straw_hat_df[filter]\n",
    "```"
   ]
  },
  {
   "cell_type": "markdown",
   "metadata": {
    "slideshow": {
     "slide_type": "subslide"
    }
   },
   "source": [
    "## Data frame 的特性（6）\n",
    "\n",
    "- 請同學練習使用布林值篩選出草帽海賊團的熟男：\n",
    "    - `age` >= 30\n",
    "    - `is_male` == True"
   ]
  },
  {
   "cell_type": "markdown",
   "metadata": {
    "slideshow": {
     "slide_type": "slide"
    }
   },
   "source": [
    "## 了解 data frame 的概觀\n",
    "\n",
    "```python\n",
    "import pandas as pd # 引用套件並縮寫為 pd\n",
    "\n",
    "name = [\"Monkey D. Luffy\", \"Roronoa Zoro\", \"Nami\", \"Usopp\", \"Vinsmoke Sanji\", \"Tony Tony Chopper\", \"Nico Robin\", \"Franky\", \"Brook\"]\n",
    "age = [19, 21, 20, 19, 21, 17, 30, 36, 90]\n",
    "is_male = [True, True, False, True, True, True, False, True, True]\n",
    "\n",
    "straw_hat_dict = {\"name\": name,\n",
    "                  \"age\": age,\n",
    "                  \"is_male\": is_male\n",
    "}\n",
    "\n",
    "straw_hat_df = pd.DataFrame(straw_hat_dict)\n",
    "\n",
    "print(straw_hat_df.shape) # 回傳列數與欄數\n",
    "print(\"---\")\n",
    "print(straw_hat_df.describe()) # 回傳描述性統計\n",
    "print(\"---\")\n",
    "print(straw_hat_df.head(3)) # 回傳前三筆觀測值\n",
    "print(\"---\")\n",
    "print(straw_hat_df.tail(3)) # 回傳後三筆觀測值\n",
    "print(\"---\")\n",
    "print(straw_hat_df.columns) # 回傳欄位名稱\n",
    "```"
   ]
  },
  {
   "cell_type": "markdown",
   "metadata": {
    "slideshow": {
     "slide_type": "subslide"
    }
   },
   "source": [
    "## 了解 data frame 的概觀（2）\n",
    "\n",
    "- 請同學練習 **data frame** 的 `shape` 與 `columns` 屬性\n",
    "- 練習 **data frame** 的 `describe()`、`head()` 與 `tail()` 方法"
   ]
  },
  {
   "cell_type": "markdown",
   "metadata": {
    "slideshow": {
     "slide_type": "slide"
    }
   },
   "source": [
    "# Panel"
   ]
  },
  {
   "cell_type": "markdown",
   "metadata": {
    "slideshow": {
     "slide_type": "slide"
    }
   },
   "source": [
    "## 讀取外部資料\n",
    "\n",
    "- 使用 `pandas` 套件的 `.read_csv()` 方法讀取 csv 檔案\n",
    "\n",
    "```python\n",
    "import pandas as pd\n",
    "\n",
    "url = \"https://storage.googleapis.com/py_ds_basic/iris.csv\" # 在雲端上儲存了一份 csv 檔案\n",
    "iris_df = pd.read_csv(url)\n",
    "iris_df.head()\n",
    "```"
   ]
  },
  {
   "cell_type": "markdown",
   "metadata": {
    "slideshow": {
     "slide_type": "subslide"
    }
   },
   "source": [
    "## 讀取外部資料（2）\n",
    "\n",
    "- 使用 `pandas` 套件的 `.read_table()` 方法讀取 tsv 檔案\n",
    "\n",
    "```python\n",
    "import pandas as pd\n",
    "\n",
    "url = \"https://storage.googleapis.com/py_ds_basic/iris.tsv\" # 在雲端上儲存了一份 tsv 檔案\n",
    "iris_df = pd.read_table(url, sep = \"\\t\")\n",
    "iris_df.head()\n",
    "```"
   ]
  },
  {
   "cell_type": "markdown",
   "metadata": {
    "slideshow": {
     "slide_type": "subslide"
    }
   },
   "source": [
    "## 讀取外部資料（3）\n",
    "\n",
    "- 使用 `pandas` 套件的 `.read_excel()` 方法來讀取 excel 檔案\n",
    "\n",
    "```python\n",
    "import pandas as pd\n",
    "\n",
    "url = \"https://storage.googleapis.com/py_ds_basic/iris.xlsx\" # 在雲端上儲存了一份 Excel 試算表\n",
    "iris_df = pd.read_excel(url)\n",
    "iris_df.head()\n",
    "```"
   ]
  },
  {
   "cell_type": "markdown",
   "metadata": {
    "slideshow": {
     "slide_type": "subslide"
    }
   },
   "source": [
    "## 讀取外部資料（4）\n",
    "\n",
    "- 使用 `pandas` 套件的 `.read_json()` 方法來讀取 JSON 檔案\n",
    "\n",
    "```python\n",
    "import pandas as pd\n",
    "\n",
    "url = \"https://storage.googleapis.com/py_ds_basic/iris.json\" # 在雲端上儲存了一份 JSON 檔\n",
    "iris_df = pd.read_json(url)\n",
    "iris_df.head()\n",
    "```"
   ]
  },
  {
   "cell_type": "markdown",
   "metadata": {
    "slideshow": {
     "slide_type": "subslide"
    }
   },
   "source": [
    "## 讀取外部資料（5）\n",
    "\n",
    "- 請同學讀取 **iris** 之後告訴我們這個資料的概觀：\n",
    "    - 有幾個觀測值、幾個變數\n",
    "    - 各個變數的名稱\n",
    "    - 描述性統計"
   ]
  }
 ],
 "metadata": {
  "celltoolbar": "Slideshow",
  "kernelspec": {
   "display_name": "Python 3",
   "language": "python",
   "name": "python3"
  },
  "language_info": {
   "codemirror_mode": {
    "name": "ipython",
    "version": 3
   },
   "file_extension": ".py",
   "mimetype": "text/x-python",
   "name": "python",
   "nbconvert_exporter": "python",
   "pygments_lexer": "ipython3",
   "version": "3.6.0"
  }
 },
 "nbformat": 4,
 "nbformat_minor": 1
}
