{
 "cells": [
  {
   "cell_type": "markdown",
   "metadata": {
    "slideshow": {
     "slide_type": "slide"
    }
   },
   "source": [
    "# 成為初級資料分析師 | Python 與資料科學應用\n",
    "\n",
    "> NumPy 101：實踐科學計算的 Python 模組\n",
    "\n",
    "## 郭耀仁"
   ]
  },
  {
   "cell_type": "markdown",
   "metadata": {
    "slideshow": {
     "slide_type": "subslide"
    }
   },
   "source": [
    "## 大綱\n",
    "\n",
    "- 為什麼資料分析師需要 NumPy\n",
    "- NumPy 基礎\n",
    "- NumPy 技巧\n",
    "- 延伸閱讀\n",
    "- 作業"
   ]
  },
  {
   "cell_type": "markdown",
   "metadata": {
    "slideshow": {
     "slide_type": "slide"
    }
   },
   "source": [
    "## 為什麼資料分析師需要 NumPy"
   ]
  },
  {
   "cell_type": "markdown",
   "metadata": {
    "slideshow": {
     "slide_type": "subslide"
    }
   },
   "source": [
    "## 隨堂練習：1 公里是 0.62137 英里，將這幾個長跑距離（公里）轉換為英里"
   ]
  },
  {
   "cell_type": "code",
   "execution_count": null,
   "metadata": {
    "slideshow": {
     "slide_type": "-"
    }
   },
   "outputs": [],
   "source": [
    "distances = [1, 1.6, 3, 5, 10, 21.097, 42.195]"
   ]
  },
  {
   "cell_type": "code",
   "execution_count": null,
   "metadata": {
    "slideshow": {
     "slide_type": "subslide"
    }
   },
   "outputs": [],
   "source": [
    "# conventional\n",
    "dist_in_mile = []\n",
    "for d in distances:\n",
    "    dist_in_mile.append(d * 0.62137)\n",
    "print(dist_in_mile)"
   ]
  },
  {
   "cell_type": "code",
   "execution_count": null,
   "metadata": {
    "slideshow": {
     "slide_type": "subslide"
    }
   },
   "outputs": [],
   "source": [
    "# list comprehension\n",
    "dist_in_mile = [d * 0.62137 for d in distances]\n",
    "print(dist_in_mile)"
   ]
  },
  {
   "cell_type": "code",
   "execution_count": null,
   "metadata": {
    "slideshow": {
     "slide_type": "subslide"
    }
   },
   "outputs": [],
   "source": [
    "# generator\n",
    "dist_in_mile = (d * 0.62137 for d in distances)\n",
    "print(list(dist_in_mile))"
   ]
  },
  {
   "cell_type": "code",
   "execution_count": null,
   "metadata": {
    "slideshow": {
     "slide_type": "subslide"
    }
   },
   "outputs": [],
   "source": [
    "# lambda expression + map\n",
    "dist_in_mile = list(map(lambda d : d * 0.62137, distances))\n",
    "print(dist_in_mile)"
   ]
  },
  {
   "cell_type": "markdown",
   "metadata": {
    "slideshow": {
     "slide_type": "subslide"
    }
   },
   "source": [
    "## 隨堂練習：計算 A 與 B 的內積 C\n",
    "\n",
    "$$\n",
    "C_{i, j} = \\sum{A_{i, k}B_{k, j}}\n",
    "$$"
   ]
  },
  {
   "cell_type": "code",
   "execution_count": null,
   "metadata": {
    "slideshow": {
     "slide_type": "-"
    }
   },
   "outputs": [],
   "source": [
    "A = [\n",
    "    [1, 2],\n",
    "    [4, 5]\n",
    "]\n",
    "B = [\n",
    "    [4, 3],\n",
    "    [2, 1]\n",
    "]\n",
    "# C = ?"
   ]
  },
  {
   "cell_type": "code",
   "execution_count": null,
   "metadata": {
    "slideshow": {
     "slide_type": "subslide"
    }
   },
   "outputs": [],
   "source": [
    "# C is 2X2\n",
    "C = [\n",
    "    [0, 0],\n",
    "    [0, 0]\n",
    "]\n",
    "I = len(A)\n",
    "K = len(A[0])\n",
    "J = len(B[0])\n",
    "\n",
    "for i in range(I):\n",
    "    for k in range(K):\n",
    "        for j in range(J):\n",
    "            C[i][j] += A[i][k] * B[k][j]\n",
    "print(C)"
   ]
  },
  {
   "cell_type": "markdown",
   "metadata": {
    "slideshow": {
     "slide_type": "subslide"
    }
   },
   "source": [
    "## 讓內積更 Generalized"
   ]
  },
  {
   "cell_type": "code",
   "execution_count": null,
   "metadata": {
    "slideshow": {
     "slide_type": "fragment"
    }
   },
   "outputs": [],
   "source": [
    "def get_mat_dot(A, B):\n",
    "    I = len(A)\n",
    "    K_A = len(A[0])\n",
    "    K_B = len(B)\n",
    "    J = len(B[0])\n",
    "    if K_A != K_B:\n",
    "        raise ValueError(\"shapes ({},{}) and ({},{}) not aligned: {} (dim 1) != {} (dim 0)\".format(I, K_A, K_B, J, K_A, K_B))\n",
    "    C = [[0 for j in range(J)] for i in range(I)]\n",
    "    for i in range(I):\n",
    "        for k in range(K):\n",
    "            for j in range(J):\n",
    "                C[i][j] += A[i][k] * B[k][j]\n",
    "    return C"
   ]
  },
  {
   "cell_type": "code",
   "execution_count": null,
   "metadata": {
    "slideshow": {
     "slide_type": "subslide"
    }
   },
   "outputs": [],
   "source": [
    "A = [\n",
    "    [1, 2],\n",
    "    [4, 5]\n",
    "]\n",
    "B = [\n",
    "    [4, 3],\n",
    "    [2, 1]\n",
    "]\n",
    "\n",
    "get_mat_dot(A, B)"
   ]
  },
  {
   "cell_type": "code",
   "execution_count": null,
   "metadata": {
    "slideshow": {
     "slide_type": "subslide"
    }
   },
   "outputs": [],
   "source": [
    "A = [\n",
    "    [1, 2],\n",
    "    [4, 5]\n",
    "]\n",
    "B = [\n",
    "    [4, 3],\n",
    "    [2, 1],\n",
    "    [4, 9]\n",
    "]\n",
    "\n",
    "get_mat_dot(A, B)"
   ]
  },
  {
   "cell_type": "markdown",
   "metadata": {
    "slideshow": {
     "slide_type": "subslide"
    }
   },
   "source": [
    "## 在科學計算使用者眼裡\n",
    "\n",
    "- 以純量（scalar）作為運算單位還是太麻煩\n",
    "- 哪些程式語言內建了 Vectorization（向量化）功能？\n",
    "    - Matlab\n",
    "    - R\n",
    "    - Julia\n",
    "    - ...etc."
   ]
  },
  {
   "cell_type": "markdown",
   "metadata": {
    "slideshow": {
     "slide_type": "subslide"
    }
   },
   "source": [
    "## NumPy to the Rescue!"
   ]
  },
  {
   "cell_type": "markdown",
   "metadata": {
    "slideshow": {
     "slide_type": "subslide"
    }
   },
   "source": [
    "## 如何將這幾個長跑距離（公里）轉換為英里？"
   ]
  },
  {
   "cell_type": "code",
   "execution_count": null,
   "metadata": {
    "slideshow": {
     "slide_type": "fragment"
    }
   },
   "outputs": [],
   "source": [
    "import numpy as np\n",
    "\n",
    "distances = [1, 1.6, 3, 5, 10, 21.097, 42.195]\n",
    "distances = np.array(distances)\n",
    "dist_in_mile = distances * 0.62137\n",
    "print(dist_in_mile)"
   ]
  },
  {
   "cell_type": "markdown",
   "metadata": {
    "slideshow": {
     "slide_type": "subslide"
    }
   },
   "source": [
    "## 如何計算 A 與 B 的內積 C？"
   ]
  },
  {
   "cell_type": "code",
   "execution_count": null,
   "metadata": {
    "slideshow": {
     "slide_type": "fragment"
    }
   },
   "outputs": [],
   "source": [
    "import numpy as np\n",
    "\n",
    "A = [\n",
    "    [1, 2],\n",
    "    [4, 5]\n",
    "]\n",
    "B = [\n",
    "    [4, 3],\n",
    "    [2, 1]\n",
    "]\n",
    "A = np.array(A)\n",
    "B = np.array(B)\n",
    "C = A.dot(B)\n",
    "print(C)"
   ]
  },
  {
   "cell_type": "markdown",
   "metadata": {
    "slideshow": {
     "slide_type": "slide"
    }
   },
   "source": [
    "## NumPy 基礎"
   ]
  },
  {
   "cell_type": "markdown",
   "metadata": {
    "slideshow": {
     "slide_type": "subslide"
    }
   },
   "source": [
    "## 什麼是 NumPy\n",
    "\n",
    "> NumPy is the fundamental package for scientific computing in Python. It is a Python library that provides a multidimensional array object, various derived objects (such as masked arrays and matrices), and an assortment of routines for fast operations on arrays, including mathematical, logical, shape manipulation, sorting, selecting, I/O, discrete Fourier transforms, basic linear algebra, basic statistical operations, random simulation and much more.\n",
    "\n",
    "- Numerical Python\n",
    "- 創建一種稱為 ndarray 的類別，彌補了原生 list 缺少的向量化運算（vectorization）功能"
   ]
  },
  {
   "cell_type": "markdown",
   "metadata": {
    "slideshow": {
     "slide_type": "subslide"
    }
   },
   "source": [
    "## ndarray 類別與 `list` 的差異\n",
    "\n",
    "> At the core of the NumPy package, is the ndarray object. This encapsulates n-dimensional arrays of homogeneous data types, with many operations being performed in compiled code for performance.\n",
    "\n",
    "- 更動 NumPy arrays 的大小會創建新的陣列並刪除原本的物件\n",
    "- 僅能容納相同的資料類型\n",
    "- 具有 Fancy Indexing 特性"
   ]
  },
  {
   "cell_type": "markdown",
   "metadata": {
    "slideshow": {
     "slide_type": "subslide"
    }
   },
   "source": [
    "## 一個簡單範例"
   ]
  },
  {
   "cell_type": "code",
   "execution_count": null,
   "metadata": {
    "slideshow": {
     "slide_type": "-"
    }
   },
   "outputs": [],
   "source": [
    "import numpy as np\n",
    "\n",
    "a = np.arange(15).reshape(3, 5)\n",
    "a"
   ]
  },
  {
   "cell_type": "code",
   "execution_count": null,
   "metadata": {
    "slideshow": {
     "slide_type": "subslide"
    }
   },
   "outputs": [],
   "source": [
    "print(a.shape)\n",
    "print(a.ndim)\n",
    "print(a.dtype.name)\n",
    "print(a.itemsize) # bytes\n",
    "print(a.size)\n",
    "print(type(a))"
   ]
  },
  {
   "cell_type": "markdown",
   "metadata": {
    "slideshow": {
     "slide_type": "subslide"
    }
   },
   "source": [
    "## 創建陣列\n",
    "\n",
    "使用 `np.array()` 將 Python list 或 tuple 轉換為 numpy array"
   ]
  },
  {
   "cell_type": "code",
   "execution_count": null,
   "metadata": {},
   "outputs": [],
   "source": [
    "a = np.array([2, 3, 4])\n",
    "print(a)\n",
    "print(a.dtype)\n",
    "b = np.array([1.2, 3.5, 5.1])\n",
    "print(b.dtype)"
   ]
  },
  {
   "cell_type": "markdown",
   "metadata": {
    "slideshow": {
     "slide_type": "subslide"
    }
   },
   "source": [
    "## 常見創建陣列錯誤"
   ]
  },
  {
   "cell_type": "code",
   "execution_count": null,
   "metadata": {},
   "outputs": [],
   "source": [
    "#a = np.array(1, 2, 3, 4)    # WRONG\n",
    "a = np.array([1, 2, 3, 4])  # RIGHT"
   ]
  },
  {
   "cell_type": "markdown",
   "metadata": {
    "slideshow": {
     "slide_type": "subslide"
    }
   },
   "source": [
    "## 創建陣列可以傳入巢狀的 sequences"
   ]
  },
  {
   "cell_type": "code",
   "execution_count": null,
   "metadata": {},
   "outputs": [],
   "source": [
    "b = np.array([(1.5, 2, 3), (4, 5, 6)])\n",
    "print(b)\n",
    "print(b.shape)"
   ]
  },
  {
   "cell_type": "markdown",
   "metadata": {
    "slideshow": {
     "slide_type": "subslide"
    }
   },
   "source": [
    "## 創建陣列可以指定資料類型"
   ]
  },
  {
   "cell_type": "code",
   "execution_count": null,
   "metadata": {},
   "outputs": [],
   "source": [
    "c = np.array([[1, 2], [3, 4]], dtype=complex)\n",
    "print(c)"
   ]
  },
  {
   "cell_type": "markdown",
   "metadata": {
    "slideshow": {
     "slide_type": "subslide"
    }
   },
   "source": [
    "## 更多創建陣列的函數\n",
    "\n",
    "- `np.zeros()`\n",
    "- `np.ones()`\n",
    "- `np.empty()`"
   ]
  },
  {
   "cell_type": "code",
   "execution_count": null,
   "metadata": {
    "slideshow": {
     "slide_type": "subslide"
    }
   },
   "outputs": [],
   "source": [
    "print(np.zeros((3, 4)))\n",
    "print(np.ones((2, 3, 4), dtype=np.int16)) # dtype can also be specified\n",
    "print(np.empty((2, 3))) # uninitialized, output may vary"
   ]
  },
  {
   "cell_type": "markdown",
   "metadata": {
    "slideshow": {
     "slide_type": "subslide"
    }
   },
   "source": [
    "## 創建陣列為數列的函數\n",
    "\n",
    "- `np.arange()`\n",
    "- `np.linspace()`"
   ]
  },
  {
   "cell_type": "code",
   "execution_count": null,
   "metadata": {
    "slideshow": {
     "slide_type": "subslide"
    }
   },
   "outputs": [],
   "source": [
    "from numpy import pi\n",
    "\n",
    "print(np.arange(10, 30, 5))\n",
    "print(np.arange(0, 2, 0.3))\n",
    "print(np.linspace(0, 2, 9))"
   ]
  },
  {
   "cell_type": "code",
   "execution_count": null,
   "metadata": {
    "slideshow": {
     "slide_type": "subslide"
    }
   },
   "outputs": [],
   "source": [
    "import matplotlib.pyplot as plt\n",
    "\n",
    "x = np.linspace(0, 2*pi, 100)\n",
    "f = np.sin(x)\n",
    "plt.plot(x, f)\n",
    "plt.show()"
   ]
  },
  {
   "cell_type": "markdown",
   "metadata": {
    "slideshow": {
     "slide_type": "subslide"
    }
   },
   "source": [
    "## 還有其他創建陣列的函數\n",
    "\n",
    "- `np.random.random()`\n",
    "- `np.random.rand()`\n",
    "- `np.random.randn()`\n",
    "- `np.fromfunction()`\n",
    "- `np.fromfile()`"
   ]
  },
  {
   "cell_type": "markdown",
   "metadata": {
    "slideshow": {
     "slide_type": "subslide"
    }
   },
   "source": [
    "## 隨堂練習：創建一個長度為 9 的陣列，除了第 5 個數字（index 4th）是 5 其他都是 0\n",
    "\n",
    "```python\n",
    "[0. 0. 0. 0. 5. 0. 0. 0. 0.]\n",
    "```"
   ]
  },
  {
   "cell_type": "code",
   "execution_count": null,
   "metadata": {
    "slideshow": {
     "slide_type": "subslide"
    }
   },
   "outputs": [],
   "source": [
    "import numpy as np\n",
    "\n",
    "arr = np.zeros(9)\n",
    "arr[4] = 5\n",
    "print(arr)"
   ]
  },
  {
   "cell_type": "markdown",
   "metadata": {
    "slideshow": {
     "slide_type": "subslide"
    }
   },
   "source": [
    "## 印出陣列\n",
    "\n",
    "- 陣列如果太巨大，NumPy 會自動忽略中間的資訊\n",
    "- 可以利用 `np.set_printoptions(threshold=np.nan)` 強制印出所有內容"
   ]
  },
  {
   "cell_type": "code",
   "execution_count": null,
   "metadata": {},
   "outputs": [],
   "source": [
    "print(np.arange(10000))\n",
    "print(np.arange(10000).reshape(100,100))"
   ]
  },
  {
   "cell_type": "code",
   "execution_count": null,
   "metadata": {
    "slideshow": {
     "slide_type": "subslide"
    }
   },
   "outputs": [],
   "source": [
    "#np.set_printoptions(threshold=np.nan)\n",
    "print(np.arange(10000))\n",
    "print(np.arange(10000).reshape(100,100))"
   ]
  },
  {
   "cell_type": "code",
   "execution_count": null,
   "metadata": {
    "slideshow": {
     "slide_type": "subslide"
    }
   },
   "outputs": [],
   "source": [
    "# 還原預設值\n",
    "#np.set_printoptions(edgeitems=3,infstr='inf',\n",
    "#                    linewidth=75, nanstr='nan', precision=8,\n",
    "#                    suppress=False, threshold=1000, formatter=None)"
   ]
  },
  {
   "cell_type": "markdown",
   "metadata": {
    "slideshow": {
     "slide_type": "subslide"
    }
   },
   "source": [
    "## 運算具備 elementwise 特性\n",
    "\n",
    "- 數值運算符號（arithmetic operators）\n",
    "- 布林判斷符號（boolean operators）"
   ]
  },
  {
   "cell_type": "code",
   "execution_count": null,
   "metadata": {},
   "outputs": [],
   "source": [
    "a = np.array([20, 30, 40, 50])\n",
    "b = np.arange(4)\n",
    "c = a - b\n",
    "print(c)\n",
    "print(b**2)\n",
    "print(10*np.sin(a))\n",
    "print(a < 35)"
   ]
  },
  {
   "cell_type": "markdown",
   "metadata": {
    "slideshow": {
     "slide_type": "subslide"
    }
   },
   "source": [
    "## 矩陣相乘的符號或函數\n",
    "\n",
    "- `A @ B`\n",
    "- `np.dot(A, B)`\n",
    "- `A.dot(B)`"
   ]
  },
  {
   "cell_type": "code",
   "execution_count": null,
   "metadata": {},
   "outputs": [],
   "source": [
    "A = np.array([[1, 1], [0, 1]])\n",
    "B = np.array([[2, 0],[3, 4]])\n",
    "print(A * B)\n",
    "print(A @ B)\n",
    "print(np.dot(A, B))\n",
    "print(A.dot(B))"
   ]
  },
  {
   "cell_type": "markdown",
   "metadata": {
    "slideshow": {
     "slide_type": "subslide"
    }
   },
   "source": [
    "## 型別不相同時依照 upcasting 規範\n",
    "\n",
    "以較為普遍、泛用的型別做隱性資料類型轉換"
   ]
  },
  {
   "cell_type": "code",
   "execution_count": null,
   "metadata": {
    "slideshow": {
     "slide_type": "-"
    }
   },
   "outputs": [],
   "source": [
    "a = np.ones(3, dtype=np.int32)\n",
    "b = np.linspace(0, pi, 3)\n",
    "c = a + b\n",
    "print(b.dtype.name)\n",
    "print(c)\n",
    "print(c.dtype.name)"
   ]
  },
  {
   "cell_type": "markdown",
   "metadata": {
    "slideshow": {
     "slide_type": "subslide"
    }
   },
   "source": [
    "## 陣列的摘要以方法呼叫"
   ]
  },
  {
   "cell_type": "code",
   "execution_count": null,
   "metadata": {},
   "outputs": [],
   "source": [
    "a = np.random.random((2, 3))\n",
    "print(a)\n",
    "print(a.sum())\n",
    "print(a.max())\n",
    "print(a.min())"
   ]
  },
  {
   "cell_type": "markdown",
   "metadata": {
    "slideshow": {
     "slide_type": "subslide"
    }
   },
   "source": [
    "## 陣列的摘要可以指定 `axis` 參數\n",
    "\n",
    "- `axis=0` 表示各欄的摘要\n",
    "- `axis=1` 表示各列的摘要"
   ]
  },
  {
   "cell_type": "code",
   "execution_count": null,
   "metadata": {},
   "outputs": [],
   "source": [
    "b = np.arange(12).reshape(3, 4)\n",
    "print(b)\n",
    "print(b.sum(axis=0))\n",
    "print(b.min(axis=1))\n",
    "print(b.cumsum(axis=1))"
   ]
  },
  {
   "cell_type": "markdown",
   "metadata": {
    "slideshow": {
     "slide_type": "subslide"
    }
   },
   "source": [
    "## Universal functions: 輸入與輸出陣列長度相同的函數"
   ]
  },
  {
   "cell_type": "code",
   "execution_count": null,
   "metadata": {},
   "outputs": [],
   "source": [
    "B = np.arange(3)\n",
    "print(np.exp(B))\n",
    "print(np.sqrt(B))"
   ]
  },
  {
   "cell_type": "markdown",
   "metadata": {
    "slideshow": {
     "slide_type": "subslide"
    }
   },
   "source": [
    "## 索引與切割陣列\n",
    "\n",
    "跟原生 `list` 完全一樣"
   ]
  },
  {
   "cell_type": "code",
   "execution_count": null,
   "metadata": {},
   "outputs": [],
   "source": [
    "a = np.arange(10)**3\n",
    "print(a)\n",
    "print(a[2])\n",
    "print(a[2:5])\n",
    "print(a[:6:2])"
   ]
  },
  {
   "cell_type": "markdown",
   "metadata": {
    "slideshow": {
     "slide_type": "subslide"
    }
   },
   "source": [
    "## 索引與切割陣列\n",
    "\n",
    "多維度的陣列要指定 `[m, n, ...]`"
   ]
  },
  {
   "cell_type": "code",
   "execution_count": null,
   "metadata": {
    "slideshow": {
     "slide_type": "-"
    }
   },
   "outputs": [],
   "source": [
    "def f(x, y):\n",
    "    return 10*x + y\n",
    "\n",
    "b = np.fromfunction(f, (5, 4), dtype=int)\n",
    "print(b)"
   ]
  },
  {
   "cell_type": "code",
   "execution_count": null,
   "metadata": {
    "slideshow": {
     "slide_type": "subslide"
    }
   },
   "outputs": [],
   "source": [
    "print(b[2, 3])\n",
    "print(b[0:5, 1])\n",
    "print(b[:, 1])\n",
    "print(b[1:3, :])"
   ]
  },
  {
   "cell_type": "markdown",
   "metadata": {
    "slideshow": {
     "slide_type": "slide"
    }
   },
   "source": [
    "## NumPy 技巧"
   ]
  },
  {
   "cell_type": "markdown",
   "metadata": {
    "slideshow": {
     "slide_type": "subslide"
    }
   },
   "source": [
    "## 不那麼基礎的 NumPy 觀念\n",
    "\n",
    "- 如何調整陣列外觀\n",
    "- 如何複製陣列\n",
    "- Broadcasting\n",
    "- Fancy indexing\n",
    "- 將函數向量化\n",
    "- 簡單的線代方法"
   ]
  },
  {
   "cell_type": "markdown",
   "metadata": {
    "slideshow": {
     "slide_type": "subslide"
    }
   },
   "source": [
    "## 如何調整陣列外觀"
   ]
  },
  {
   "cell_type": "code",
   "execution_count": null,
   "metadata": {},
   "outputs": [],
   "source": [
    "a = np.floor(10*np.random.random((3,4)))\n",
    "print(a)\n",
    "print(a.shape)\n",
    "print(a.ravel())\n",
    "print(a.reshape(6, 2))\n",
    "print(a.T)"
   ]
  },
  {
   "cell_type": "markdown",
   "metadata": {
    "slideshow": {
     "slide_type": "subslide"
    }
   },
   "source": [
    "## `arr.reshape()` 與 `arr.resize()` 的差別 "
   ]
  },
  {
   "cell_type": "code",
   "execution_count": null,
   "metadata": {},
   "outputs": [],
   "source": [
    "print(a)\n",
    "print(a.reshape((2,6)))\n",
    "print(a)\n",
    "a.resize(2, 6)\n",
    "print(a)"
   ]
  },
  {
   "cell_type": "markdown",
   "metadata": {
    "slideshow": {
     "slide_type": "subslide"
    }
   },
   "source": [
    "## 其中一個維度指派為 `-1` 讓 NumPy 自行計算"
   ]
  },
  {
   "cell_type": "code",
   "execution_count": null,
   "metadata": {},
   "outputs": [],
   "source": [
    "print(a.reshape(3, -1))"
   ]
  },
  {
   "cell_type": "markdown",
   "metadata": {
    "slideshow": {
     "slide_type": "subslide"
    }
   },
   "source": [
    "## 水平或垂直堆疊陣列"
   ]
  },
  {
   "cell_type": "code",
   "execution_count": null,
   "metadata": {},
   "outputs": [],
   "source": [
    "a = np.floor(10*np.random.random((2,2)))\n",
    "b = np.floor(10*np.random.random((2,2)))\n",
    "print(a)\n",
    "print(b)\n",
    "print(np.vstack((a,b)))\n",
    "print(np.hstack((a,b)))"
   ]
  },
  {
   "cell_type": "markdown",
   "metadata": {
    "slideshow": {
     "slide_type": "subslide"
    }
   },
   "source": [
    "## 如何複製陣列\n",
    "\n",
    "- 沒有複製\n",
    "- View\n",
    "- 複製"
   ]
  },
  {
   "cell_type": "code",
   "execution_count": null,
   "metadata": {
    "slideshow": {
     "slide_type": "subslide"
    }
   },
   "outputs": [],
   "source": [
    "# 沒有複製\n",
    "a = np.arange(12)\n",
    "b = a\n",
    "print(b is a)\n",
    "b.resize(3, 4)\n",
    "print(a)\n",
    "print(id(a))\n",
    "print(id(b))"
   ]
  },
  {
   "cell_type": "code",
   "execution_count": null,
   "metadata": {
    "slideshow": {
     "slide_type": "subslide"
    }
   },
   "outputs": [],
   "source": [
    "# View\n",
    "a = np.arange(12)\n",
    "c = a.view()\n",
    "print(c is a)\n",
    "c.resize(2, 6)\n",
    "print(a) # a's shape doesn't change\n",
    "c[0, 4] = 999\n",
    "print(a) # a's data changes"
   ]
  },
  {
   "cell_type": "code",
   "execution_count": null,
   "metadata": {
    "slideshow": {
     "slide_type": "subslide"
    }
   },
   "outputs": [],
   "source": [
    "# 複製\n",
    "a = np.arange(12)\n",
    "d = a.copy()\n",
    "print(d is a)\n",
    "d[4] = 999\n",
    "print(a) # d doesn't share anything with a"
   ]
  },
  {
   "cell_type": "markdown",
   "metadata": {
    "slideshow": {
     "slide_type": "subslide"
    }
   },
   "source": [
    "## Broadcasting\n",
    "\n",
    "NumPy 在運算碰到不同外觀時的應對方式"
   ]
  },
  {
   "cell_type": "markdown",
   "metadata": {
    "slideshow": {
     "slide_type": "subslide"
    }
   },
   "source": [
    "## Broadcasting 可以在兩個情況下順利運作\n",
    "\n",
    "1. 維度相同\n",
    "2. 其中一個為 1"
   ]
  },
  {
   "cell_type": "code",
   "execution_count": null,
   "metadata": {
    "slideshow": {
     "slide_type": "fragment"
    }
   },
   "outputs": [],
   "source": [
    "a = np.arange(1, 4)\n",
    "b = np.array([2, 2, 2])\n",
    "print(a * b)"
   ]
  },
  {
   "cell_type": "code",
   "execution_count": null,
   "metadata": {
    "slideshow": {
     "slide_type": "fragment"
    }
   },
   "outputs": [],
   "source": [
    "a = np.arange(1, 4)\n",
    "b = 2\n",
    "print(a * b)"
   ]
  },
  {
   "cell_type": "markdown",
   "metadata": {
    "slideshow": {
     "slide_type": "subslide"
    }
   },
   "source": [
    "## Fancy indexing\n",
    "\n",
    "NumPy 具備比原生 `list` 索引、切割更彈性的選擇：\n",
    "\n",
    "- 以陣列切割\n",
    "- 以布林陣列切割"
   ]
  },
  {
   "cell_type": "code",
   "execution_count": null,
   "metadata": {
    "slideshow": {
     "slide_type": "fragment"
    }
   },
   "outputs": [],
   "source": [
    "a = np.arange(12)**2\n",
    "j = np.array([ 9, 7 ])\n",
    "print(a[j])"
   ]
  },
  {
   "cell_type": "code",
   "execution_count": null,
   "metadata": {
    "slideshow": {
     "slide_type": "fragment"
    }
   },
   "outputs": [],
   "source": [
    "a = np.arange(12)\n",
    "b = a > 4\n",
    "print(a[b])"
   ]
  },
  {
   "cell_type": "markdown",
   "metadata": {
    "slideshow": {
     "slide_type": "subslide"
    }
   },
   "source": [
    "## 隨堂練習：從隨機陣列中挑出偶數"
   ]
  },
  {
   "cell_type": "code",
   "execution_count": null,
   "metadata": {},
   "outputs": [],
   "source": [
    "import numpy as np\n",
    "\n",
    "arr = np.floor(100* np.random.random(20))\n",
    "print(arr)"
   ]
  },
  {
   "cell_type": "code",
   "execution_count": null,
   "metadata": {
    "slideshow": {
     "slide_type": "subslide"
    }
   },
   "outputs": [],
   "source": [
    "# conventional\n",
    "print(list(filter(lambda x: x % 2 == 0, list(arr))))"
   ]
  },
  {
   "cell_type": "code",
   "execution_count": null,
   "metadata": {
    "slideshow": {
     "slide_type": "subslide"
    }
   },
   "outputs": [],
   "source": [
    "arr[arr % 2 == 0]"
   ]
  },
  {
   "cell_type": "markdown",
   "metadata": {
    "slideshow": {
     "slide_type": "subslide"
    }
   },
   "source": [
    "## 隨堂練習：哪一部復仇者聯盟的 IMDB 評分不到 8 分"
   ]
  },
  {
   "cell_type": "code",
   "execution_count": null,
   "metadata": {
    "slideshow": {
     "slide_type": "-"
    }
   },
   "outputs": [],
   "source": [
    "avengers_movies = [\"The Avengers (2012)\", \"Avengers: Age of Ultron (2015)\", \"Avengers: Infinity War (2018)\", \"Avengers: Endgame (2019)\"]\n",
    "avengers_ratings = [8.1, 7.3, 8.5, 8.7]"
   ]
  },
  {
   "cell_type": "code",
   "execution_count": null,
   "metadata": {
    "slideshow": {
     "slide_type": "subslide"
    }
   },
   "outputs": [],
   "source": [
    "import numpy as np\n",
    "\n",
    "ratings_arr = np.array(avengers_ratings)\n",
    "movies_arr = np.array(avengers_movies)\n",
    "print(movies_arr[ratings_arr < 8][0])"
   ]
  },
  {
   "cell_type": "markdown",
   "metadata": {
    "slideshow": {
     "slide_type": "subslide"
    }
   },
   "source": [
    "## 將函數向量化\n",
    "\n",
    "使用 `np.vectorize()`"
   ]
  },
  {
   "cell_type": "code",
   "execution_count": null,
   "metadata": {
    "slideshow": {
     "slide_type": "subslide"
    }
   },
   "outputs": [],
   "source": [
    "import numpy as np\n",
    "\n",
    "vfunc = np.vectorize(lambda x: x**2)\n",
    "vfunc(np.arange(10))"
   ]
  },
  {
   "cell_type": "markdown",
   "metadata": {
    "slideshow": {
     "slide_type": "subslide"
    }
   },
   "source": [
    "## 隨堂練習：從隨機陣列中挑出質數"
   ]
  },
  {
   "cell_type": "code",
   "execution_count": null,
   "metadata": {},
   "outputs": [],
   "source": [
    "import numpy as np\n",
    "\n",
    "arr = np.floor(100* np.random.random(50))\n",
    "arr = arr.astype(int)\n",
    "print(arr)"
   ]
  },
  {
   "cell_type": "code",
   "execution_count": null,
   "metadata": {
    "slideshow": {
     "slide_type": "subslide"
    }
   },
   "outputs": [],
   "source": [
    "def is_prime(x):\n",
    "    divisors_cnt = 0\n",
    "    for i in range(1, x+1):\n",
    "        if x % i == 0:\n",
    "            divisors_cnt +=1\n",
    "        if divisors_cnt > 2:\n",
    "            break\n",
    "    return divisors_cnt == 2\n",
    "\n",
    "vfunc = np.vectorize(is_prime)\n",
    "arr[vfunc(arr)]"
   ]
  },
  {
   "cell_type": "markdown",
   "metadata": {
    "slideshow": {
     "slide_type": "subslide"
    }
   },
   "source": [
    "## 簡單的線代方法\n",
    "\n",
    "- 轉置\n",
    "- 反矩陣\n",
    "- 單位矩陣\n",
    "- 對角線元素之和\n",
    "- 特徵向量"
   ]
  },
  {
   "cell_type": "code",
   "execution_count": null,
   "metadata": {
    "slideshow": {
     "slide_type": "subslide"
    }
   },
   "outputs": [],
   "source": [
    "a = np.array([[1, 2], [3, 4]])\n",
    "print(a)\n",
    "print(a.transpose())\n",
    "print(np.linalg.inv(a))\n",
    "I = np.eye(2) # \"eye\" represents \"I\"\n",
    "print(I)\n",
    "print(np.trace(I))\n",
    "y = np.array([[5], [7]])\n",
    "print(np.linalg.solve(a, y)) # for ax=y, get x\n",
    "print(np.linalg.eig(a))"
   ]
  },
  {
   "cell_type": "markdown",
   "metadata": {
    "slideshow": {
     "slide_type": "slide"
    }
   },
   "source": [
    "## 延伸閱讀\n",
    "\n",
    "[NumPy User Guide](https://www.numpy.org/devdocs/user/index.html)"
   ]
  },
  {
   "cell_type": "markdown",
   "metadata": {
    "slideshow": {
     "slide_type": "slide"
    }
   },
   "source": [
    "## 作業"
   ]
  },
  {
   "cell_type": "markdown",
   "metadata": {
    "slideshow": {
     "slide_type": "subslide"
    }
   },
   "source": [
    "## 創建一個九九乘法表的陣列"
   ]
  },
  {
   "cell_type": "code",
   "execution_count": 1,
   "metadata": {
    "slideshow": {
     "slide_type": "skip"
    }
   },
   "outputs": [],
   "source": [
    "import numpy as np\n",
    "\n",
    "def hw():\n",
    "    A = np.arange(1, 10, dtype=int).reshape(9, 1)\n",
    "    B = np.arange(1, 10, dtype=int).reshape(1, 9)\n",
    "    return A@B"
   ]
  },
  {
   "cell_type": "code",
   "execution_count": 2,
   "metadata": {},
   "outputs": [
    {
     "data": {
      "text/plain": [
       "array([[ 1,  2,  3,  4,  5,  6,  7,  8,  9],\n",
       "       [ 2,  4,  6,  8, 10, 12, 14, 16, 18],\n",
       "       [ 3,  6,  9, 12, 15, 18, 21, 24, 27],\n",
       "       [ 4,  8, 12, 16, 20, 24, 28, 32, 36],\n",
       "       [ 5, 10, 15, 20, 25, 30, 35, 40, 45],\n",
       "       [ 6, 12, 18, 24, 30, 36, 42, 48, 54],\n",
       "       [ 7, 14, 21, 28, 35, 42, 49, 56, 63],\n",
       "       [ 8, 16, 24, 32, 40, 48, 56, 64, 72],\n",
       "       [ 9, 18, 27, 36, 45, 54, 63, 72, 81]])"
      ]
     },
     "execution_count": 2,
     "metadata": {},
     "output_type": "execute_result"
    }
   ],
   "source": [
    "hw()"
   ]
  },
  {
   "cell_type": "markdown",
   "metadata": {
    "slideshow": {
     "slide_type": "subslide"
    }
   },
   "source": [
    "## 寫作一個可以計算[樣本標準差](https://zh.wikipedia.org/wiki/%E6%A8%99%E6%BA%96%E5%B7%AE)的函數\n",
    "\n",
    "$$SD = \\sqrt{\\frac{1}{N-1}\\sum_{i=1}^{N}(x_i - \\bar{x})^2}$$"
   ]
  },
  {
   "cell_type": "code",
   "execution_count": 3,
   "metadata": {
    "slideshow": {
     "slide_type": "skip"
    }
   },
   "outputs": [],
   "source": [
    "import numpy as np\n",
    "\n",
    "def hw(x):\n",
    "    if x.size == 1:\n",
    "        raise ValueError(\"The length of array must be larger than 1.\")\n",
    "    return x.std(ddof=1)"
   ]
  },
  {
   "cell_type": "code",
   "execution_count": 4,
   "metadata": {
    "slideshow": {
     "slide_type": "subslide"
    }
   },
   "outputs": [
    {
     "data": {
      "text/plain": [
       "3.0276503540974917"
      ]
     },
     "execution_count": 4,
     "metadata": {},
     "output_type": "execute_result"
    }
   ],
   "source": [
    "arr = np.arange(10)\n",
    "hw(arr)"
   ]
  },
  {
   "cell_type": "code",
   "execution_count": 5,
   "metadata": {},
   "outputs": [
    {
     "ename": "ValueError",
     "evalue": "The length of array must be larger than 1.",
     "output_type": "error",
     "traceback": [
      "\u001b[0;31m---------------------------------------------------------------------------\u001b[0m",
      "\u001b[0;31mValueError\u001b[0m                                Traceback (most recent call last)",
      "\u001b[0;32m<ipython-input-5-5f30b5046560>\u001b[0m in \u001b[0;36m<module>\u001b[0;34m\u001b[0m\n\u001b[1;32m      1\u001b[0m \u001b[0marr\u001b[0m \u001b[0;34m=\u001b[0m \u001b[0mnp\u001b[0m\u001b[0;34m.\u001b[0m\u001b[0marange\u001b[0m\u001b[0;34m(\u001b[0m\u001b[0;36m1\u001b[0m\u001b[0;34m)\u001b[0m\u001b[0;34m\u001b[0m\u001b[0;34m\u001b[0m\u001b[0m\n\u001b[0;32m----> 2\u001b[0;31m \u001b[0mhw\u001b[0m\u001b[0;34m(\u001b[0m\u001b[0marr\u001b[0m\u001b[0;34m)\u001b[0m\u001b[0;34m\u001b[0m\u001b[0;34m\u001b[0m\u001b[0m\n\u001b[0m",
      "\u001b[0;32m<ipython-input-3-b3445b322417>\u001b[0m in \u001b[0;36mhw\u001b[0;34m(x)\u001b[0m\n\u001b[1;32m      3\u001b[0m \u001b[0;32mdef\u001b[0m \u001b[0mhw\u001b[0m\u001b[0;34m(\u001b[0m\u001b[0mx\u001b[0m\u001b[0;34m)\u001b[0m\u001b[0;34m:\u001b[0m\u001b[0;34m\u001b[0m\u001b[0;34m\u001b[0m\u001b[0m\n\u001b[1;32m      4\u001b[0m     \u001b[0;32mif\u001b[0m \u001b[0mx\u001b[0m\u001b[0;34m.\u001b[0m\u001b[0msize\u001b[0m \u001b[0;34m==\u001b[0m \u001b[0;36m1\u001b[0m\u001b[0;34m:\u001b[0m\u001b[0;34m\u001b[0m\u001b[0;34m\u001b[0m\u001b[0m\n\u001b[0;32m----> 5\u001b[0;31m         \u001b[0;32mraise\u001b[0m \u001b[0mValueError\u001b[0m\u001b[0;34m(\u001b[0m\u001b[0;34m\"The length of array must be larger than 1.\"\u001b[0m\u001b[0;34m)\u001b[0m\u001b[0;34m\u001b[0m\u001b[0;34m\u001b[0m\u001b[0m\n\u001b[0m\u001b[1;32m      6\u001b[0m     \u001b[0;32mreturn\u001b[0m \u001b[0mx\u001b[0m\u001b[0;34m.\u001b[0m\u001b[0mstd\u001b[0m\u001b[0;34m(\u001b[0m\u001b[0mddof\u001b[0m\u001b[0;34m=\u001b[0m\u001b[0;36m1\u001b[0m\u001b[0;34m)\u001b[0m\u001b[0;34m\u001b[0m\u001b[0;34m\u001b[0m\u001b[0m\n",
      "\u001b[0;31mValueError\u001b[0m: The length of array must be larger than 1."
     ]
    }
   ],
   "source": [
    "arr = np.arange(1)\n",
    "hw(arr)"
   ]
  }
 ],
 "metadata": {
  "celltoolbar": "Slideshow",
  "kernelspec": {
   "display_name": "Python 3",
   "language": "python",
   "name": "python3"
  },
  "language_info": {
   "codemirror_mode": {
    "name": "ipython",
    "version": 3
   },
   "file_extension": ".py",
   "mimetype": "text/x-python",
   "name": "python",
   "nbconvert_exporter": "python",
   "pygments_lexer": "ipython3",
   "version": "3.7.1"
  }
 },
 "nbformat": 4,
 "nbformat_minor": 2
}
