{
 "cells": [
  {
   "cell_type": "markdown",
   "metadata": {
    "slideshow": {
     "slide_type": "slide"
    }
   },
   "source": [
    "# 視覺化\n",
    "\n",
    "## 郭耀仁"
   ]
  },
  {
   "cell_type": "markdown",
   "metadata": {
    "slideshow": {
     "slide_type": "slide"
    }
   },
   "source": [
    "## 視覺化的力量\n",
    "\n",
    "- [Hans Rosling](https://www.youtube.com/watch?v=jbkSRLYSojo)\n",
    "\n",
    "> He rose to international celebrity status after producing a [Ted Talk](https://www.ted.com/talks/hans_rosling_shows_the_best_stats_you_ve_ever_seen?language=zh-tw) in which he promoted the use of data to explore development issues.\n",
    "> [Hans Rosling - Wikipedia](https://en.wikipedia.org/wiki/Hans_Rosling)"
   ]
  },
  {
   "cell_type": "markdown",
   "metadata": {
    "slideshow": {
     "slide_type": "slide"
    }
   },
   "source": [
    "## Matplotlib\n",
    "\n",
    "- Python 基礎的繪圖套件\n",
    "\n",
    "```python\n",
    "%matplotlib inline # 讓圖能夠在 Notebook 中顯示\n",
    "import matplotlib.pyplot as plt\n",
    "```"
   ]
  },
  {
   "cell_type": "markdown",
   "metadata": {
    "slideshow": {
     "slide_type": "slide"
    }
   },
   "source": [
    "## 使用 `scatter()` 方法畫散佈圖\n",
    "\n",
    "- 探索兩個數值的關係\n",
    "- 畫好以後利用 `plt.show()` 把圖顯示出來\n",
    "\n",
    "```python\n",
    "import matplotlib.pyplot as plt\n",
    "import numpy as np\n",
    "\n",
    "x = np.arange(1, 11)\n",
    "y = 2*x\n",
    "plt.scatter(x, y)\n",
    "plt.show()\n",
    "```"
   ]
  },
  {
   "cell_type": "markdown",
   "metadata": {
    "slideshow": {
     "slide_type": "subslide"
    }
   },
   "source": [
    "## 使用 `scatter()` 方法畫散佈圖（2）\n",
    "\n",
    "- `xlabel()` 編輯 X 軸標籤\n",
    "- `ylabel()` 編輯 Y 軸標籤\n",
    "- `title()` 編輯圖標題\n",
    "\n",
    "```python\n",
    "import matplotlib.pyplot as plt\n",
    "import numpy as np\n",
    "\n",
    "x = np.arange(1, 11)\n",
    "y = 2*x\n",
    "plt.scatter(x, y)\n",
    "plt.xlabel(\"x\")\n",
    "plt.ylabel(\"y\")\n",
    "plt.title(\"y = 2x\")\n",
    "plt.show()\n",
    "```"
   ]
  },
  {
   "cell_type": "markdown",
   "metadata": {
    "collapsed": false,
    "slideshow": {
     "slide_type": "slide"
    }
   },
   "source": [
    "## 使用 `plot()` 畫線圖\n",
    "\n",
    "- `plt.grid(True)` 加入格線\n",
    "\n",
    "```python\n",
    "import matplotlib.pyplot as plt\n",
    "import numpy as np\n",
    "import math\n",
    "\n",
    "x = np.arange(-math.pi, math.pi, 0.01)\n",
    "y = np.sin(x)\n",
    "\n",
    "plt.plot(x, y)\n",
    "plt.xlabel(\"x\")\n",
    "plt.ylabel(\"y\")\n",
    "plt.title(\"y = sin(x)\")\n",
    "plt.grid(True)\n",
    "plt.show()\n",
    "```"
   ]
  },
  {
   "cell_type": "markdown",
   "metadata": {
    "slideshow": {
     "slide_type": "subslide"
    }
   },
   "source": [
    "## 使用 `plot()` 畫線圖（2）\n",
    "\n",
    "- 練習畫出 $f(x) = x^3$"
   ]
  },
  {
   "cell_type": "markdown",
   "metadata": {
    "collapsed": false,
    "slideshow": {
     "slide_type": "subslide"
    }
   },
   "source": [
    "## 使用 `plot()` 畫線圖（3）\n",
    "\n",
    "- 將兩個線圖疊在一起\n",
    "\n",
    "```python\n",
    "import matplotlib.pyplot as plt\n",
    "import numpy as np\n",
    "import math\n",
    "\n",
    "x = np.arange(-math.pi*3, math.pi*3, 0.01)\n",
    "y_sin = np.sin(x)\n",
    "y_cos = np.cos(x)\n",
    "\n",
    "plt.plot(x, y_sin)\n",
    "plt.plot(x, y_cos)\n",
    "plt.xlabel(\"x\")\n",
    "plt.ylabel(\"y\")\n",
    "plt.title(\"y = sin(x) & y = cos(x)\")\n",
    "plt.grid(True)\n",
    "plt.show()\n",
    "```"
   ]
  },
  {
   "cell_type": "markdown",
   "metadata": {
    "collapsed": false,
    "slideshow": {
     "slide_type": "subslide"
    }
   },
   "source": [
    "## 使用 `plot()` 畫線圖（4）\n",
    "\n",
    "- 在左邊與右邊各畫一個線圖\n",
    "\n",
    "```python\n",
    "import matplotlib.pyplot as plt\n",
    "import numpy as np\n",
    "import math\n",
    "\n",
    "x = np.arange(-math.pi*3, math.pi*3, 0.01)\n",
    "y_sin = np.sin(x)\n",
    "y_cos = np.cos(x)\n",
    "\n",
    "plt.subplot(1, 2, 1) # 要畫 (1, 2) 中的第一個\n",
    "plt.plot(x, y_sin, \"r--\") # 紅色虛線\n",
    "plt.ylabel(\"y\")\n",
    "plt.title(\"y = sin(x)\")\n",
    "plt.subplot(1, 2, 2) # 要畫 (1, 2) 中的第二個\n",
    "plt.plot(x, y_cos, \"b\") # 藍色實線\n",
    "plt.title(\"y = cos(x)\")\n",
    "plt.show()\n",
    "```"
   ]
  },
  {
   "cell_type": "markdown",
   "metadata": {
    "slideshow": {
     "slide_type": "slide"
    }
   },
   "source": [
    "## 直方圖\n",
    "\n",
    "- 使用 `numpy.random` 產生隨機變數\n",
    "- 用 `hist()` 方法視覺化\n",
    "\n",
    "```python\n",
    "import numpy as np\n",
    "import matplotlib.pyplot as ply\n",
    "\n",
    "normal_samples = np.random.normal(size = 1000)\n",
    "\n",
    "plt.hist(normal_samples)\n",
    "plt.title(\"Normal Dist\")\n",
    "plt.show()\n",
    "```"
   ]
  },
  {
   "cell_type": "markdown",
   "metadata": {
    "slideshow": {
     "slide_type": "subslide"
    }
   },
   "source": [
    "## 直方圖（2）\n",
    "\n",
    "- 練習畫左右各一個直方圖\n",
    "    - 均勻分布\n",
    "    - 標準常態分配"
   ]
  },
  {
   "cell_type": "markdown",
   "metadata": {
    "slideshow": {
     "slide_type": "slide"
    }
   },
   "source": [
    "## 長條圖\n",
    "\n",
    "- `bar()` 與 `barh()` 方法\n",
    "\n",
    "```python\n",
    "import pandas as pd\n",
    "import matplotlib.pyplot as plt\n",
    "import numpy as np\n",
    "\n",
    "url = \"http://archive.ics.uci.edu/ml/machine-learning-databases/iris/bezdekIris.data\"\n",
    "iris = pd.read_csv(url, names = [\"sepal_length\", \"sepal_width\", \"petal_length\", \"petal_width\", \"species\"])\n",
    "average = np.mean(iris.values[:, 0:4], axis = 0)\n",
    "category = range(iris.shape[1] - 1)\n",
    "\n",
    "plt.subplot(1, 2, 1)\n",
    "plt.barh(category, average, color = \"b\", alpha = 0.5, align = \"center\")\n",
    "plt.title(\"Horizontal Bar Chart\")\n",
    "plt.yticks(category, iris.columns[0:4])\n",
    "plt.subplot(1, 2, 2)\n",
    "plt.bar(category, average, color = \"r\", alpha = 0.5, align = \"center\")\n",
    "plt.title(\"Vertical Bar Chart\")\n",
    "plt.xticks(category, iris.columns[0:4], rotation='vertical')\n",
    "plt.show()\n",
    "```"
   ]
  },
  {
   "cell_type": "markdown",
   "metadata": {
    "slideshow": {
     "slide_type": "slide"
    }
   },
   "source": [
    "## 等高線圖\n",
    "\n",
    "- `numpy.meshgrid()` 可以幫我們把一維數列分別往水平/垂直方向延伸為矩陣\n",
    "\n",
    "```python\n",
    "import numpy as np\n",
    "\n",
    "u = np.arange(start = -5, stop = 5, step = 0.1)\n",
    "x, y = np.meshgrid(u, u)\n",
    "print(x)\n",
    "print(\"------\")\n",
    "print(y)\n",
    "```"
   ]
  },
  {
   "cell_type": "markdown",
   "metadata": {
    "slideshow": {
     "slide_type": "subslide"
    }
   },
   "source": [
    "## 等高線圖（2）\n",
    "\n",
    "- 等高線圖需要第三個維度：`z` 來表示高度（顏色）\n",
    "\n",
    "```python\n",
    "import numpy as np\n",
    "\n",
    "u = np.arange(start = -5, stop = 5, step = 0.1)\n",
    "x, y = np.meshgrid(u, u)\n",
    "z = x**2 + y**2\n",
    "```"
   ]
  },
  {
   "cell_type": "markdown",
   "metadata": {
    "slideshow": {
     "slide_type": "subslide"
    }
   },
   "source": [
    "## 等高線圖（3）\n",
    "\n",
    "- `contour()` 是沒有填色的\n",
    "\n",
    "```python\n",
    "import numpy as np\n",
    "\n",
    "u = np.arange(start = -5, stop = 5, step = 0.1)\n",
    "x, y = np.meshgrid(u, u)\n",
    "z = x**2 + y**2\n",
    "plt.contour(x, y, z)\n",
    "plt.show()\n",
    "```"
   ]
  },
  {
   "cell_type": "markdown",
   "metadata": {
    "slideshow": {
     "slide_type": "subslide"
    }
   },
   "source": [
    "## 等高線圖（4）\n",
    "\n",
    "- `contourf()` 是有填色的\n",
    "\n",
    "```python\n",
    "import numpy as np\n",
    "import matplotlib.pyplot as plt\n",
    "\n",
    "u = np.arange(start = -5, stop = 5, step = 0.1)\n",
    "x, y = np.meshgrid(u, u)\n",
    "z = x**2 + y**2\n",
    "plt.contourf(x, y, z)\n",
    "plt.show()\n",
    "```"
   ]
  },
  {
   "cell_type": "markdown",
   "metadata": {
    "slideshow": {
     "slide_type": "subslide"
    }
   },
   "source": [
    "## 等高線圖（5）\n",
    "\n",
    "- 為什麼要知道等高線圖怎麼畫？"
   ]
  },
  {
   "cell_type": "markdown",
   "metadata": {
    "slideshow": {
     "slide_type": "slide"
    }
   },
   "source": [
    "## 視覺化像素\n",
    "\n",
    "- 讀入範例資料\n",
    "\n",
    "```python\n",
    "from sklearn import datasets\n",
    "\n",
    "digits = datasets.load_digits()\n",
    "print(digits.images.shape)\n",
    "print(digits.images[0].shape)\n",
    "```"
   ]
  },
  {
   "cell_type": "code",
   "execution_count": 16,
   "metadata": {
    "collapsed": false,
    "slideshow": {
     "slide_type": "subslide"
    }
   },
   "outputs": [
    {
     "data": {
      "image/png": "[encoded data removed]",
      "text/plain": [
       "<matplotlib.figure.Figure at 0x1101c06a0>"
      ]
     },
     "metadata": {},
     "output_type": "display_data"
    }
   ],
   "source": [
    "# 視覺化像素（2）\n",
    "# 使用 `imshow()` 方法\n",
    "\n",
    "from sklearn import datasets\n",
    "import matplotlib.pyplot as plt\n",
    "\n",
    "digits = datasets.load_digits()\n",
    "plt.imshow(digits.images[0], cmap = \"binary\")\n",
    "plt.show()"
   ]
  },
  {
   "cell_type": "code",
   "execution_count": 1,
   "metadata": {
    "collapsed": false
   },
   "outputs": [
    {
     "data": {
      "image/png": "[encoded data removed]",
      "text/plain": [
       "<matplotlib.figure.Figure at 0x10fe1ffd0>"
      ]
     },
     "metadata": {},
     "output_type": "display_data"
    }
   ],
   "source": [
    "# 視覺化像素（3）\n",
    "# 看 10 張\n",
    "\n",
    "from sklearn import datasets\n",
    "import matplotlib.pyplot as plt\n",
    "\n",
    "digits = datasets.load_digits()\n",
    "for i in range(10):\n",
    "    plt.subplot(2, 5, i + 1)\n",
    "    plt.imshow(digits.images[i], cmap = \"binary\")\n",
    "plt.show()"
   ]
  },
  {
   "cell_type": "code",
   "execution_count": 2,
   "metadata": {
    "collapsed": false
   },
   "outputs": [
    {
     "data": {
      "image/png": "[encoded data removed]",
      "text/plain": [
       "<matplotlib.figure.Figure at 0x11b547358>"
      ]
     },
     "metadata": {},
     "output_type": "display_data"
    }
   ],
   "source": [
    "# 視覺化像素（4）\n",
    "# 看 10 張\n",
    "# cmap 改用 \"gray\"\n",
    "\n",
    "from sklearn import datasets\n",
    "import matplotlib.pyplot as plt\n",
    "\n",
    "digits = datasets.load_digits()\n",
    "for i in range(10):\n",
    "    plt.subplot(2, 5, i + 1)\n",
    "    plt.imshow(digits.images[i], cmap = \"gray\")\n",
    "plt.show()"
   ]
  },
  {
   "cell_type": "markdown",
   "metadata": {
    "slideshow": {
     "slide_type": "slide"
    }
   },
   "source": [
    "## 延伸閱讀\n",
    "\n",
    "- [Matplotlib Gallery](http://matplotlib.org/gallery.html)\n",
    "- [Seaborn: statistical data visualization](https://seaborn.pydata.org/)\n",
    "- [Bokeh](http://bokeh.pydata.org/en/latest/)"
   ]
  }
 ],
 "metadata": {
  "celltoolbar": "Slideshow",
  "kernelspec": {
   "display_name": "Python 3",
   "language": "python",
   "name": "python3"
  },
  "language_info": {
   "codemirror_mode": {
    "name": "ipython",
    "version": 3
   },
   "file_extension": ".py",
   "mimetype": "text/x-python",
   "name": "python",
   "nbconvert_exporter": "python",
   "pygments_lexer": "ipython3",
   "version": "3.6.0"
  }
 },
 "nbformat": 4,
 "nbformat_minor": 1
}
