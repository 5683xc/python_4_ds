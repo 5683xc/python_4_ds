{
 "cells": [
  {
   "cell_type": "markdown",
   "metadata": {
    "slideshow": {
     "slide_type": "slide"
    }
   },
   "source": [
    "# 成為初級資料分析師 | Python 與資料科學應用\n",
    "\n",
    "> 起步走\n",
    "\n",
    "## 郭耀仁"
   ]
  },
  {
   "cell_type": "markdown",
   "metadata": {
    "slideshow": {
     "slide_type": "subslide"
    }
   },
   "source": [
    "> Now is better than never.\n",
    ">\n",
    "> Tim Peters, Zen of Python"
   ]
  },
  {
   "cell_type": "markdown",
   "metadata": {
    "slideshow": {
     "slide_type": "subslide"
    }
   },
   "source": [
    "## 大綱\n",
    "\n",
    "- 安裝\n",
    "- 建立環境"
   ]
  },
  {
   "cell_type": "markdown",
   "metadata": {
    "slideshow": {
     "slide_type": "slide"
    }
   },
   "source": [
    "## 安裝"
   ]
  },
  {
   "cell_type": "markdown",
   "metadata": {
    "slideshow": {
     "slide_type": "subslide"
    }
   },
   "source": [
    "## 根據使用者狀態決定\n",
    "\n",
    "- Friendly Users\n",
    "    - 在瀏覽器使用 Google Colaboratory\n",
    "    - 在本機端使用 Anaconda\n",
    "- **Powerful Users**\n",
    "    - 在本機端使用 Miniconda\n",
    "- Geek\n",
    "    - 在本機端使用 Python Interpreter + Text Editor / IDE"
   ]
  },
  {
   "cell_type": "markdown",
   "metadata": {
    "slideshow": {
     "slide_type": "subslide"
    }
   },
   "source": [
    "## 這門課受眾是厲害的使用者\n",
    "\n",
    "- 在瀏覽器使用 Google Colaboratory\n",
    "- 在本機端使用 Miniconda"
   ]
  },
  {
   "cell_type": "markdown",
   "metadata": {
    "slideshow": {
     "slide_type": "subslide"
    }
   },
   "source": [
    "## 在瀏覽器使用 Google Colaboratory\n",
    "\n",
    "1. 登入 Google 帳號，開啟雲端硬碟\n",
    "2. 點選「新增」\n",
    "3. 點選「連結更多應用程式」\n",
    "4. 搜尋「Colaboratory」\n",
    "5. 點選「連結」\n",
    "6. 新增 Google Colaboratory\n",
    "7. 完成"
   ]
  },
  {
   "cell_type": "markdown",
   "metadata": {
    "slideshow": {
     "slide_type": "subslide"
    }
   },
   "source": [
    "## 在本機端使用 Miniconda\n",
    "\n",
    "- 先開啟「命令提示字元」輸入 `python --version` 檢查電腦是否已經有安裝 Python\n",
    "- 開啟「應用程式」檢查電腦中有哪些 Python 版本"
   ]
  },
  {
   "cell_type": "markdown",
   "metadata": {
    "slideshow": {
     "slide_type": "subslide"
    }
   },
   "source": [
    "## 安裝 Miniconda\n",
    "\n",
    "- 前往 [Miniconda](https://docs.conda.io/en/latest/miniconda.html) 官方文件\n",
    "- 下載 Python 3.X 版本"
   ]
  },
  {
   "cell_type": "markdown",
   "metadata": {
    "slideshow": {
     "slide_type": "subslide"
    }
   },
   "source": [
    "## 安裝 Anaconda 的優點\n",
    "\n",
    "- 適合初學者的懶人包\n",
    "    - Python 直譯器\n",
    "    - Jupyter Notebook\n",
    "    - Spyder / RStudio\n",
    "    - 套件與環境管理工具 conda\n",
    "    - 預先安裝好的資料科學套件"
   ]
  },
  {
   "cell_type": "markdown",
   "metadata": {
    "slideshow": {
     "slide_type": "subslide"
    }
   },
   "source": [
    "## 安裝 Anaconda 的缺點\n",
    "\n",
    "- 安裝時間長\n",
    "- 硬碟空間要求大\n",
    "- 預先安裝好的許多套件可能從來不會被使用到"
   ]
  },
  {
   "cell_type": "markdown",
   "metadata": {
    "slideshow": {
     "slide_type": "subslide"
    }
   },
   "source": [
    "## Miniconda：適合中高階使用者的懶人包\n",
    "\n",
    "- Python 直譯器\n",
    "- 套件與環境管理工具 conda"
   ]
  },
  {
   "cell_type": "markdown",
   "metadata": {
    "slideshow": {
     "slide_type": "subslide"
    }
   },
   "source": [
    "## 開始安裝 Miniconda\n",
    "\n",
    "1. 前往 [Miniconda](https://docs.conda.io/en/latest/miniconda.html) 下載頁面，依照作業系統點選對應的 Python 3.X 安裝檔\n",
    "2. 依照提示點選下一步\n",
    "3. 選擇安裝路徑\n",
    "4. 依照提示點選我同意\n",
    "5. **勾選將 Anaconda 加入路徑變數後點選安裝**\n",
    "6. 等待安裝完成"
   ]
  },
  {
   "cell_type": "markdown",
   "metadata": {
    "slideshow": {
     "slide_type": "subslide"
    }
   },
   "source": [
    "## 勾選將 Anaconda 加入路徑變數\n",
    "\n",
    "![Imgur](https://i.imgur.com/L2iHFuQ.png)"
   ]
  },
  {
   "cell_type": "markdown",
   "metadata": {
    "slideshow": {
     "slide_type": "slide"
    }
   },
   "source": [
    "## 建立環境"
   ]
  },
  {
   "cell_type": "markdown",
   "metadata": {
    "slideshow": {
     "slide_type": "subslide"
    }
   },
   "source": [
    "## 完整建立步驟\n",
    "\n",
    "1. 安裝 jupyter\n",
    "2. 檢視可用環境\n",
    "3. 創建環境\n",
    "4. 啟動環境\n",
    "5. 安裝套件（`matplotlib` 用 `conda` 安裝）\n",
    "6. 建立新的 Jupyter Notebook Kernel（在已經啟動環境的情況下）\n"
   ]
  },
  {
   "cell_type": "markdown",
   "metadata": {
    "slideshow": {
     "slide_type": "subslide"
    }
   },
   "source": [
    "## 安裝 jupyter\n",
    "\n",
    "```shell\n",
    "# run in command line\n",
    "pip install jupyter\n",
    "```"
   ]
  },
  {
   "cell_type": "markdown",
   "metadata": {
    "slideshow": {
     "slide_type": "subslide"
    }
   },
   "source": [
    "## 檢視可用環境\n",
    "\n",
    "```shell\n",
    "# run in command line\n",
    "conda env list\n",
    "```"
   ]
  },
  {
   "cell_type": "markdown",
   "metadata": {
    "slideshow": {
     "slide_type": "subslide"
    }
   },
   "source": [
    "## 創建環境\n",
    "\n",
    "```shell\n",
    "# run in command line\n",
    "conda create --name pyds python=3\n",
    "```"
   ]
  },
  {
   "cell_type": "markdown",
   "metadata": {
    "slideshow": {
     "slide_type": "subslide"
    }
   },
   "source": [
    "## 啟動環境\n",
    "\n",
    "```shell\n",
    "# run in command line\n",
    "conda activate pyds\n",
    "# conda deactivate # 回到原本的 (base)\n",
    "```"
   ]
  },
  {
   "cell_type": "markdown",
   "metadata": {
    "slideshow": {
     "slide_type": "subslide"
    }
   },
   "source": [
    "## 用 `conda` 安裝 `matplotlib`\n",
    "\n",
    "```shell\n",
    "# run in command line\n",
    "conda install matplotlib\n",
    "```"
   ]
  },
  {
   "cell_type": "markdown",
   "metadata": {
    "slideshow": {
     "slide_type": "subslide"
    }
   },
   "source": [
    "## 在專案資料夾中新增一個 requirements.txt 文字檔作為安裝套件清單\n",
    "\n",
    "```\n",
    "ipykernel\n",
    "numpy\n",
    "pandas\n",
    "seaborn\n",
    "```"
   ]
  },
  {
   "cell_type": "markdown",
   "metadata": {
    "slideshow": {
     "slide_type": "subslide"
    }
   },
   "source": [
    "## 安裝套件\n",
    "\n",
    "```shell\n",
    "# run in command line\n",
    "pip install -r requirements.txt\n",
    "```"
   ]
  },
  {
   "cell_type": "markdown",
   "metadata": {
    "slideshow": {
     "slide_type": "subslide"
    }
   },
   "source": [
    "## 建立新的 Jupyter Notebook Kernel\n",
    "\n",
    "```shell\n",
    "# run in command line\n",
    "python -m ipykernel install --user --name pyds --display-name \"Python Data Science\"\n",
    "```"
   ]
  },
  {
   "cell_type": "markdown",
   "metadata": {
    "slideshow": {
     "slide_type": "subslide"
    }
   },
   "source": [
    "## 檢視可用的 Jupyter Notebook Kernel\n",
    "\n",
    "```shell\n",
    "# run in command line\n",
    "jupyter kernelspec list\n",
    "```"
   ]
  },
  {
   "cell_type": "markdown",
   "metadata": {
    "slideshow": {
     "slide_type": "subslide"
    }
   },
   "source": [
    "## 開啟以 Python Data Science 為 kernel 的筆記本"
   ]
  },
  {
   "cell_type": "markdown",
   "metadata": {
    "slideshow": {
     "slide_type": "subslide"
    }
   },
   "source": [
    "## Hello World"
   ]
  },
  {
   "cell_type": "code",
   "execution_count": null,
   "metadata": {
    "slideshow": {
     "slide_type": "-"
    }
   },
   "outputs": [],
   "source": [
    "import numpy as np\n",
    "import pandas as pd\n",
    "import matplotlib\n",
    "import seaborn as sns\n",
    "\n",
    "print(np.__version__)\n",
    "print(pd.__version__)\n",
    "print(matplotlib.__version__)\n",
    "print(sns.__version__)"
   ]
  },
  {
   "cell_type": "markdown",
   "metadata": {
    "slideshow": {
     "slide_type": "subslide"
    }
   },
   "source": [
    "## 隨堂練習"
   ]
  },
  {
   "cell_type": "markdown",
   "metadata": {
    "slideshow": {
     "slide_type": "subslide"
    }
   },
   "source": [
    "## 將電腦教室預先安裝好的 Python 移除，重新建立開發環境"
   ]
  },
  {
   "cell_type": "markdown",
   "metadata": {
    "slideshow": {
     "slide_type": "subslide"
    }
   },
   "source": [
    "## 創建一個 Python 2 的環境"
   ]
  },
  {
   "cell_type": "code",
   "execution_count": null,
   "metadata": {
    "slideshow": {
     "slide_type": "subslide"
    }
   },
   "outputs": [],
   "source": [
    "import sys\n",
    "\n",
    "print(sys.version) # 2.X.X"
   ]
  }
 ],
 "metadata": {
  "celltoolbar": "Slideshow",
  "kernelspec": {
   "display_name": "Python 3",
   "language": "python",
   "name": "python3"
  },
  "language_info": {
   "codemirror_mode": {
    "name": "ipython",
    "version": 3
   },
   "file_extension": ".py",
   "mimetype": "text/x-python",
   "name": "python",
   "nbconvert_exporter": "python",
   "pygments_lexer": "ipython3",
   "version": "3.7.1"
  }
 },
 "nbformat": 4,
 "nbformat_minor": 1
}
