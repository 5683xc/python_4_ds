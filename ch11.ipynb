{
 "cells": [
  {
   "cell_type": "markdown",
   "metadata": {
    "slideshow": {
     "slide_type": "slide"
    }
   },
   "source": [
    "# Python 與機器學習\n",
    "\n",
    "## 郭耀仁"
   ]
  },
  {
   "cell_type": "markdown",
   "metadata": {
    "slideshow": {
     "slide_type": "slide"
    }
   },
   "source": [
    "## Scikit-Learn\n",
    "\n",
    "- 用來實作資料探勘與機器學習的 Python 套件\n",
    "- 建構於 NumPy，SciPy 與 Matplotlib 套件之上\n",
    "- 有[六大功能模組](http://scikit-learn.org/stable/index.html)：\n",
    "    - 預處理\n",
    "    - 降維\n",
    "    - 迴歸\n",
    "    - 分群\n",
    "    - 分類\n",
    "    - 模型評估"
   ]
  },
  {
   "cell_type": "markdown",
   "metadata": {
    "slideshow": {
     "slide_type": "subslide"
    }
   },
   "source": [
    "## Scikit-Learn（2）\n",
    "\n",
    "- [其他的 Scikits](https://scikits.appspot.com/scikits)\n",
    "- [Scikit-Learn 機器學習地圖](http://scikit-learn.org/stable/tutorial/machine_learning_map/)"
   ]
  },
  {
   "cell_type": "markdown",
   "metadata": {
    "slideshow": {
     "slide_type": "slide"
    }
   },
   "source": [
    "## Hello worlds\n",
    "\n",
    "- 玩具資料集的 Hello world\n",
    "- 機器學習的 Hello world"
   ]
  },
  {
   "cell_type": "markdown",
   "metadata": {
    "slideshow": {
     "slide_type": "slide"
    }
   },
   "source": [
    "## 玩具資料集的 Hello world\n",
    "\n",
    "- [iris 資料集](http://scikit-learn.org/stable/modules/generated/sklearn.datasets.load_iris.html#sklearn.datasets.load_iris)\n",
    "- [digits 資料集](http://scikit-learn.org/stable/modules/generated/sklearn.datasets.load_digits.html#sklearn.datasets.load_digits)\n",
    "- [MNIST 資料集](http://yann.lecun.com/exdb/mnist/)"
   ]
  },
  {
   "cell_type": "markdown",
   "metadata": {
    "slideshow": {
     "slide_type": "subslide"
    }
   },
   "source": [
    "## 玩具資料集的 Hello world（2）\n",
    "\n",
    "- iris 資料集\n",
    "\n",
    "```python\n",
    "from sklearn.datasets import load_iris\n",
    "\n",
    "iris = load_iris()\n",
    "print(iris.target)\n",
    "print(iris.data)\n",
    "print(iris.target_names)\n",
    "```"
   ]
  },
  {
   "cell_type": "code",
   "execution_count": 16,
   "metadata": {
    "collapsed": false,
    "slideshow": {
     "slide_type": "subslide"
    }
   },
   "outputs": [
    {
     "data": {
      "image/png": "[encoded data removed]",
      "text/plain": [
       "<matplotlib.figure.Figure at 0x128f35400>"
      ]
     },
     "metadata": {},
     "output_type": "display_data"
    }
   ],
   "source": [
    "# 玩具資料集的 Hello world（3）\n",
    "# digits 資料集\n",
    "\n",
    "from sklearn.datasets import load_digits\n",
    "import matplotlib.pyplot as plt\n",
    "\n",
    "digits = load_digits()\n",
    "for i in range(1, 11):\n",
    "    plt.subplot(2, 5, i)\n",
    "    plt.imshow(digits.images[i], cmap = \"gray\")\n",
    "plt.show()"
   ]
  },
  {
   "cell_type": "markdown",
   "metadata": {
    "slideshow": {
     "slide_type": "subslide"
    }
   },
   "source": [
    "## 玩具資料集的 Hello world（4）\n",
    "\n",
    "- MNIST 資料集\n",
    "- 安裝 keras（包含 tensorflow） 或 tensorflow\n",
    "\n",
    "```\n",
    "$ conda install -c conda-forge keras=2.0.2\n",
    "```\n",
    "\n",
    "```\n",
    "$ conda install -c conda-forge tensorflow\n",
    "```"
   ]
  },
  {
   "cell_type": "markdown",
   "metadata": {
    "slideshow": {
     "slide_type": "subslide"
    }
   },
   "source": [
    "## 玩具資料集的 Hello world（5）\n",
    "\n",
    "- MNIST 資料集\n",
    "- 用 keras 讀入：\n",
    "\n",
    "```python\n",
    "from keras.datasets import mnist\n",
    "import matplotlib.pyplot as plt\n",
    "\n",
    "(x_train, y_train), (x_test, y_test) = mnist.load_data() # /~/.keras/datasets/mnist.npz\n",
    "plt.imshow(x_train[0], cmap = 'gray')\n",
    "plt.show()\n",
    "print(x_train.shape)\n",
    "```\n",
    "\n",
    "Source: [Keras Documentation](https://keras.io/datasets/)"
   ]
  },
  {
   "cell_type": "markdown",
   "metadata": {
    "slideshow": {
     "slide_type": "subslide"
    }
   },
   "source": [
    "## 玩具資料集的 Hello world（6）\n",
    "\n",
    "- MNIST 資料集\n",
    "- 用 tensorflow 讀入：\n",
    "\n",
    "```python\n",
    "from tensorflow.examples.tutorials.mnist import input_data\n",
    "import matplotlib.pyplot as plt\n",
    "import numpy as np\n",
    "\n",
    "mnist = input_data.read_data_sets(\"MNIST_data/\", one_hot = True)\n",
    "x_train = mnist.train.images\n",
    "print(x_train.shape)\n",
    "x_train_reshaped = np.reshape(x_train, (55000, 28, 28))\n",
    "plt.imshow(x_train_reshaped[0], cmap = \"gray\")\n",
    "plt.show()\n",
    "```\n",
    "\n",
    "Source: [MNIST For ML Beginners](https://www.tensorflow.org/versions/r0.10/tutorials/mnist/beginners/)"
   ]
  },
  {
   "cell_type": "code",
   "execution_count": 14,
   "metadata": {
    "collapsed": false,
    "slideshow": {
     "slide_type": "subslide"
    }
   },
   "outputs": [
    {
     "data": {
      "image/png": "[encoded data removed]",
      "text/plain": [
       "<matplotlib.figure.Figure at 0x12908a9b0>"
      ]
     },
     "metadata": {},
     "output_type": "display_data"
    }
   ],
   "source": [
    "# 玩具資料集的 Hello world（7）\n",
    "# 看 10 張\n",
    "\n",
    "from keras.datasets import mnist\n",
    "import matplotlib.pyplot as plt\n",
    "\n",
    "(x_train, y_train), (x_test, y_test) = mnist.load_data() # /~/.keras/datasets/mnist.npz\n",
    "for i in range(1, 11):\n",
    "    plt.subplot(2, 5, i)\n",
    "    plt.imshow(x_train[i], cmap = 'gray')\n",
    "plt.show()"
   ]
  },
  {
   "cell_type": "markdown",
   "metadata": {
    "slideshow": {
     "slide_type": "slide"
    }
   },
   "source": [
    "## 機器學習的 Hello world\n",
    "\n",
    "- [感知器學習（Perceptron Learning）](https://www.youtube.com/watch?v=WlpF1Phkv28&list=PLXVfgk9fNX2I7tB6oIINGBmW50rrmFTqf&index=6)\n",
    "- 決策邊界圖（Decision Boundary Plot）\n",
    "\n",
    "![decison_boundary_plot](https://storage.googleapis.com/py_ml_images/svc_kernel_iris_plot.png)"
   ]
  },
  {
   "cell_type": "markdown",
   "metadata": {
    "slideshow": {
     "slide_type": "slide"
    }
   },
   "source": [
    "## 感知器學習\n",
    "\n",
    "![Perceptron Learning](https://storage.googleapis.com/py_ml_images/ppn.png)"
   ]
  },
  {
   "cell_type": "markdown",
   "metadata": {
    "slideshow": {
     "slide_type": "subslide"
    }
   },
   "source": [
    "## 感知器學習（2）\n",
    "\n",
    "$$z = w_1x_1 + ... + w_mx_m$$\n",
    "\n",
    "$$\n",
    "    \\hat{y} = \\phi(z) =\n",
    "    \\begin{cases}\n",
    "        1       & \\quad \\text{if } z\\geq\\theta\\\\\n",
    "    -1  & \\quad \\text{ohterwise.}\\\\\n",
    "    \\end{cases}\n",
    "$$"
   ]
  },
  {
   "cell_type": "markdown",
   "metadata": {
    "slideshow": {
     "slide_type": "subslide"
    }
   },
   "source": [
    "## 感知器學習（3）\n",
    "\n",
    "- 令 $w_0 = -\\theta$且$x_0 = 1$\n",
    "\n",
    "$$z = w_0x_0 + w_1x_1 + ... + w_mx_m = w^Tx$$\n",
    "\n",
    "\n",
    "$$\n",
    "    \\hat{y} = \\phi(z) =\n",
    "    \\begin{cases}\n",
    "        1       & \\quad \\text{if } z\\geq 0\\\\\n",
    "    -1  & \\quad \\text{ohterwise.}\\\\\n",
    "    \\end{cases}\n",
    "$$"
   ]
  },
  {
   "cell_type": "markdown",
   "metadata": {
    "slideshow": {
     "slide_type": "subslide"
    }
   },
   "source": [
    "### 感知器學習（4）\n",
    "\n",
    "- 初始一個很小趨近於零的值給權重 $w$\n",
    "- 利用真實答案 $y_i$ 與預測結果 $\\hat{y_i}$ 的誤差更新權重 $w$\n",
    "\n",
    "$$w_i:=w_i + \\Delta w_i$$\n",
    "\n",
    "$$\\Delta w_i = \\eta(y_i - \\hat{y_i})x_i$$"
   ]
  },
  {
   "cell_type": "markdown",
   "metadata": {
    "slideshow": {
     "slide_type": "subslide"
    }
   },
   "source": [
    "### 感知器學習（5）\n",
    "\n",
    "- 正確的預測感知器不會修正權重 $w$\n",
    "\n",
    "$$\\Delta w_i = \\eta (1 - 1)x_i = 0$$\n",
    "$$\\Delta w_i = \\eta (-1 - (-1))x_i = 0$$\n",
    "\n",
    "- 錯誤的預測會讓感知器修正權重 $w$ 藉此修正下一輪的預測結果\n",
    "\n",
    "$$\\Delta w_i = \\eta (1 - (-1))x_i = \\eta (2) x_i$$\n",
    "$$\\Delta w_i = \\eta (-1 - 1)x_i = \\eta (-2) x_i$$"
   ]
  },
  {
   "cell_type": "code",
   "execution_count": 87,
   "metadata": {
    "collapsed": true,
    "slideshow": {
     "slide_type": "subslide"
    }
   },
   "outputs": [],
   "source": [
    "# 感知器學習（6）\n",
    "# 建立一個 Perceptron 類別\n",
    "\n",
    "import numpy as np\n",
    "\n",
    "class Perceptron:\n",
    "    def __init__(self, eta, n_epoch):\n",
    "        self.eta = eta\n",
    "        self.n_epoch = n_epoch\n",
    "        \n",
    "    def fit(self, X, y):\n",
    "        self.weights = np.zeros(1 + X.shape[1]) # 1 給 w_0, X.shape[1] 給 w_1~w_n\n",
    "        self.errors = []\n",
    "        \n",
    "        for i in range(self.n_epoch):\n",
    "            error = 0\n",
    "            for x, target in zip(X, y):\n",
    "                delta_w = self.eta * (target - self.predict(x))\n",
    "                self.weights[1:] += delta_w * x\n",
    "                self.weights[0] += delta_w\n",
    "                error += (delta_w != 0) # delta_w 太小，改以 boolean 判斷\n",
    "            self.errors.append(error)\n",
    "        return self\n",
    "    \n",
    "    def net_input(self, X):\n",
    "        return np.dot(self.weights[1:], X.T) + self.weights[0] # (1, 2) dot (2, 100)\n",
    "    \n",
    "    def predict(self, X):\n",
    "        return np.where(self.net_input(X) >= 0, 1, -1) # Activation Function here"
   ]
  },
  {
   "cell_type": "markdown",
   "metadata": {
    "slideshow": {
     "slide_type": "subslide"
    }
   },
   "source": [
    "## 感知器學習（7）\n",
    "\n",
    "- 試用感知器分割 `iris` 資料集的 `setosa` 與 `versicolor`\n",
    "\n",
    "```python\n",
    "from sklearn.datasets import load_iris\n",
    "import matplotlib.pyplot as plt\n",
    "\n",
    "iris = load_iris()\n",
    "X = iris.data\n",
    "x1_setosa, x2_setosa = X[:50, 0], X[:50, 2]\n",
    "x1_versicolor, x2_versicolor = X[50:100, 0], X[50:100, 2]\n",
    "\n",
    "plt.scatter(x = x1_setosa, y = x2_setosa, marker = \"o\", color = \"red\", label = \"setosa\")\n",
    "plt.scatter(x = x1_versicolor, y = x2_versicolor, marker = \"x\", color = \"green\", label = \"versicolor\")\n",
    "plt.legend(loc = \"upper left\")\n",
    "plt.show()\n",
    "```"
   ]
  },
  {
   "cell_type": "code",
   "execution_count": 88,
   "metadata": {
    "collapsed": false,
    "slideshow": {
     "slide_type": "subslide"
    }
   },
   "outputs": [
    {
     "name": "stdout",
     "output_type": "stream",
     "text": [
      "[2, 2, 3, 2, 1, 0, 0, 0, 0, 0]\n"
     ]
    }
   ],
   "source": [
    "# 感知器學習（8）\n",
    "import numpy as np\n",
    "from sklearn.datasets import load_iris\n",
    "\n",
    "# Perceptron here\n",
    "# ...\n",
    "\n",
    "iris = load_iris()\n",
    "X = iris.data[:100, [0, 2]]\n",
    "y = iris.target[:100]\n",
    "y = np.where(y == 0, -1, 1)\n",
    "ppn = Perceptron(eta = 0.01, n_epoch = 10)\n",
    "ppn.fit(X, y)\n",
    "print(ppn.errors)"
   ]
  },
  {
   "cell_type": "markdown",
   "metadata": {
    "slideshow": {
     "slide_type": "slide"
    }
   },
   "source": [
    "## 決策邊界圖\n",
    "\n",
    "- 利用繪製等高線圖（填滿）的方法"
   ]
  },
  {
   "cell_type": "code",
   "execution_count": 100,
   "metadata": {
    "collapsed": true,
    "slideshow": {
     "slide_type": "subslide"
    }
   },
   "outputs": [],
   "source": [
    "# 決策邊界圖（2）\n",
    "from matplotlib.colors import ListedColormap\n",
    "\n",
    "def plot_decision_boundary(X, y, classifier, resolution=0.02):\n",
    "    markers = ('o', 'x')\n",
    "    colors = ('red', 'green')\n",
    "    cmap = ListedColormap(colors[:len(np.unique(y))])\n",
    "\n",
    "    x1_min, x1_max = X[:, 0].min() - 1, X[:, 0].max() + 1\n",
    "    x2_min, x2_max = X[:, 1].min() - 1, X[:, 1].max() + 1\n",
    "    xx1, xx2 = np.meshgrid(np.arange(x1_min, x1_max, resolution),\n",
    "                     np.arange(x2_min, x2_max, resolution))\n",
    "    Z = classifier.predict(np.array([xx1.ravel(), xx2.ravel()]).T)\n",
    "    Z = Z.reshape(xx1.shape)\n",
    "    plt.contourf(xx1, xx2, Z, alpha = 0.3, cmap = cmap)\n",
    "    plt.xlim(xx1.min(), xx1.max())\n",
    "    plt.ylim(xx2.min(), xx2.max())\n",
    "    for idx, cl in enumerate(np.unique(y)):\n",
    "        plt.scatter(x = X[y == cl, 0], y = X[y == cl, 1], c = cmap(idx), marker = markers[idx], label = cl)"
   ]
  },
  {
   "cell_type": "code",
   "execution_count": 101,
   "metadata": {
    "collapsed": false
   },
   "outputs": [
    {
     "data": {
      "image/png": "[encoded data removed]",
      "text/plain": [
       "<matplotlib.figure.Figure at 0x129af1518>"
      ]
     },
     "metadata": {},
     "output_type": "display_data"
    }
   ],
   "source": [
    "# 決策邊界圖（3）\n",
    "plot_decision_boundary(X, y, classifier = ppn)\n",
    "plt.legend(loc = \"upper left\")\n",
    "plt.show()"
   ]
  }
 ],
 "metadata": {
  "celltoolbar": "Slideshow",
  "kernelspec": {
   "display_name": "Python 3",
   "language": "python",
   "name": "python3"
  },
  "language_info": {
   "codemirror_mode": {
    "name": "ipython",
    "version": 3
   },
   "file_extension": ".py",
   "mimetype": "text/x-python",
   "name": "python",
   "nbconvert_exporter": "python",
   "pygments_lexer": "ipython3",
   "version": "3.6.0"
  }
 },
 "nbformat": 4,
 "nbformat_minor": 2
}
