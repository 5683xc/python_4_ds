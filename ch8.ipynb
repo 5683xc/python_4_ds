{
 "cells": [
  {
   "cell_type": "markdown",
   "metadata": {
    "slideshow": {
     "slide_type": "slide"
    }
   },
   "source": [
    "# 函數\n",
    "\n",
    "## 郭耀仁"
   ]
  },
  {
   "cell_type": "markdown",
   "metadata": {
    "slideshow": {
     "slide_type": "slide"
    }
   },
   "source": [
    "## 函數是什麼？\n",
    "\n",
    "- 我們把函數拆分成三個元件：\n",
    "    - 輸入（input）\n",
    "    - 參數（arguments, 常縮寫為 args）\n",
    "    - 輸出（output）\n",
    "\n",
    "![function_img](https://storage.googleapis.com/py_ds_basic/function_img.png)"
   ]
  },
  {
   "cell_type": "markdown",
   "metadata": {
    "slideshow": {
     "slide_type": "subslide"
    }
   },
   "source": [
    "## 內建函數"
   ]
  },
  {
   "cell_type": "code",
   "execution_count": 1,
   "metadata": {
    "collapsed": false
   },
   "outputs": [
    {
     "name": "stdout",
     "output_type": "stream",
     "text": [
      "42.125\n",
      "1.6\n",
      "6\n",
      "[42.125, 21, 10, 5, 3, 1.6]\n"
     ]
    }
   ],
   "source": [
    "distances = [1.6, 3, 5, 10, 21, 42.195]\n",
    "\n",
    "# 應用函數\n",
    "print(max(distances)) # 最長的距離\n",
    "print(min(distances)) # 最短的距離\n",
    "print(len(distances)) # 總共有幾個距離\n",
    "print(sorted(distances, reverse = True)) # 遞減排序"
   ]
  },
  {
   "cell_type": "markdown",
   "metadata": {
    "slideshow": {
     "slide_type": "slide"
    }
   },
   "source": [
    "## 自訂函數\n",
    "\n",
    "- 自訂函數的結構\n",
    "\n",
    "```python\n",
    "def function_name(輸入1, 輸入2, 參數1, 參數2, ...):\n",
    "    '''\n",
    "    Docstrings\n",
    "    '''\n",
    "    # 做些什麼事\n",
    "    return 輸出\n",
    "```"
   ]
  },
  {
   "cell_type": "markdown",
   "metadata": {
    "slideshow": {
     "slide_type": "subslide"
    }
   },
   "source": [
    "## 自訂函數（2）\n",
    "\n",
    "- $f(x) = x^2$"
   ]
  },
  {
   "cell_type": "code",
   "execution_count": 2,
   "metadata": {
    "collapsed": false
   },
   "outputs": [
    {
     "name": "stdout",
     "output_type": "stream",
     "text": [
      "Help on function squared in module __main__:\n",
      "\n",
      "squared(x)\n",
      "    將輸入的數字平方之後回傳\n",
      "\n",
      "9\n"
     ]
    }
   ],
   "source": [
    "def squared(x):\n",
    "    '''\n",
    "    將輸入的數字平方之後回傳\n",
    "    '''\n",
    "    y = x**2\n",
    "    return y\n",
    "\n",
    "help(squared)\n",
    "print(squared(3))"
   ]
  },
  {
   "cell_type": "markdown",
   "metadata": {
    "slideshow": {
     "slide_type": "subslide"
    }
   },
   "source": [
    "## 自訂函數（3）\n",
    "\n",
    "- 練習：自訂 Sign 函數\n",
    "\n",
    "![sign_function](https://storage.googleapis.com/py_ds_basic/Signum_function.png)\n",
    "\n",
    "$$\n",
    "sgn(x) =\n",
    "  \\begin{cases}\n",
    "    -1 & \\quad \\text{if } x < 0\\\\\n",
    "    0  & \\quad \\text{if } x = 0\\\\\n",
    "    1  & \\quad \\text{if } x > 0\\\\\n",
    "  \\end{cases}\n",
    "$$"
   ]
  },
  {
   "cell_type": "markdown",
   "metadata": {
    "slideshow": {
     "slide_type": "subslide"
    }
   },
   "source": [
    "## 自訂函數（4）\n",
    "\n",
    "- 計算圓形的面積或周長"
   ]
  },
  {
   "cell_type": "code",
   "execution_count": 3,
   "metadata": {
    "collapsed": false
   },
   "outputs": [
    {
     "name": "stdout",
     "output_type": "stream",
     "text": [
      "Help on function circle_calculate in module __main__:\n",
      "\n",
      "circle_calculate(radius, is_area)\n",
      "    依據輸入的半徑與 is_area 參數，計算圓形的面積或周長\n",
      "\n",
      "28.274333882308138\n",
      "18.84955592153876\n"
     ]
    }
   ],
   "source": [
    "import math # 要使用 pi 得引入套件 math\n",
    "\n",
    "# 定義自訂函數\n",
    "def circle_calculate(radius, is_area):\n",
    "    '''\n",
    "    依據輸入的半徑與 is_area 參數，計算圓形的面積或周長\n",
    "    '''\n",
    "    circle_area = math.pi * radius**2\n",
    "    circle_circum = 2 * math.pi * radius\n",
    "    if is_area == True:\n",
    "        return circle_area\n",
    "    else:\n",
    "        return circle_circum\n",
    "\n",
    "# 呼叫自訂函數\n",
    "help(circle_calculate) # 查詢自訂函數\n",
    "my_radius = 3\n",
    "print(circle_calculate(my_radius, is_area = True)) # 指定參數回傳面積\n",
    "print(circle_calculate(my_radius, is_area = False)) # 指定參數回傳周長"
   ]
  },
  {
   "cell_type": "markdown",
   "metadata": {
    "slideshow": {
     "slide_type": "subslide"
    }
   },
   "source": [
    "## 自訂函數（5）\n",
    "\n",
    "- 練習：給 `is_area` 一個預設值 `True`，預設計算圓形的面積"
   ]
  },
  {
   "cell_type": "markdown",
   "metadata": {
    "slideshow": {
     "slide_type": "subslide"
    }
   },
   "source": [
    "## 自訂函數（6）\n",
    "\n",
    "- 在 `return` 後面將多個值用逗號 `,` 隔開就會回傳一個 tuple"
   ]
  },
  {
   "cell_type": "code",
   "execution_count": 4,
   "metadata": {
    "collapsed": false
   },
   "outputs": [
    {
     "name": "stdout",
     "output_type": "stream",
     "text": [
      "(28.274333882308138, 18.84955592153876)\n"
     ]
    }
   ],
   "source": [
    "import math # 要使用 pi 得引入套件 math\n",
    "\n",
    "# 定義自訂函數\n",
    "def circle_calculate(radius):\n",
    "    '''\n",
    "    依據輸入的半徑同時計算並回傳圓形的面積與周長\n",
    "    '''\n",
    "    circle_area = math.pi * radius**2\n",
    "    circle_circum = 2 * math.pi * radius\n",
    "    return circle_area, circle_circum\n",
    "    \n",
    "# 呼叫自訂函數\n",
    "my_radius = 3\n",
    "print(circle_calculate(my_radius))"
   ]
  },
  {
   "cell_type": "markdown",
   "metadata": {
    "slideshow": {
     "slide_type": "subslide"
    }
   },
   "source": [
    "## 自訂函數（7）\n",
    "\n",
    "- 小技巧：Multiple assignment（多重指派）\n",
    "\n",
    "```python\n",
    "a = 8\n",
    "b = 7\n",
    "print(a, b)\n",
    "a, b = b, a\n",
    "print(a, b)\n",
    "```"
   ]
  },
  {
   "cell_type": "markdown",
   "metadata": {
    "slideshow": {
     "slide_type": "subslide"
    }
   },
   "source": [
    "## 自訂函數（8）\n",
    "\n",
    "- 交換排序法（遞增）"
   ]
  },
  {
   "cell_type": "code",
   "execution_count": 5,
   "metadata": {
    "collapsed": false
   },
   "outputs": [
    {
     "name": "stdout",
     "output_type": "stream",
     "text": [
      "[63, 1, 22, 93, 47, 38, 95, 25, 96, 23]\n",
      "[1, 22, 23, 25, 38, 47, 63, 93, 95, 96]\n"
     ]
    }
   ],
   "source": [
    "import random # 呼叫函數時使用隨機整數\n",
    "\n",
    "# 定義自訂函數\n",
    "def exchange_sort(x):\n",
    "    '''\n",
    "    依據輸入的 list 遞增排序 list 中的數字後回傳。\n",
    "    '''\n",
    "    # 遞增排序\n",
    "    for i in range(0, len(x) - 1):\n",
    "        for j in range(i + 1, len(x)):\n",
    "            # 如果前一個數字比後一個數字大則交換位置\n",
    "            if x[i] > x[j]:\n",
    "                x[i], x[j] = x[j], x[i]\n",
    "    \n",
    "    return x\n",
    "\n",
    "# 呼叫自訂函數\n",
    "my_list = random.sample(range(0, 100), 10) # 產生一組隨機數\n",
    "print(my_list) # 看看未排序前\n",
    "print(exchange_sort(my_list))"
   ]
  },
  {
   "cell_type": "markdown",
   "metadata": {
    "slideshow": {
     "slide_type": "subslide"
    }
   },
   "source": [
    "## 自訂函數（8）\n",
    "\n",
    "- 練習：在交換排序法中增加一個參數：`reverse`，預設 `reverse = False` 遞增排序"
   ]
  },
  {
   "cell_type": "markdown",
   "metadata": {
    "slideshow": {
     "slide_type": "slide"
    }
   },
   "source": [
    "## 巢狀函數\n",
    "\n",
    "- 在函數裡面嵌入函數\n",
    "- 舉例來說一個計算平均數的函數裡面應該要包含兩個函數：\n",
    "    - 一個是計算總和的函數 `my_sum()`\n",
    "    - 一個是計算個數的函數 `my_length()`"
   ]
  },
  {
   "cell_type": "code",
   "execution_count": 6,
   "metadata": {
    "collapsed": false
   },
   "outputs": [
    {
     "name": "stdout",
     "output_type": "stream",
     "text": [
      "5.5\n"
     ]
    }
   ],
   "source": [
    "# 定義自訂函數\n",
    "def my_mean(input_list):\n",
    "    '計算平均數' # docstrings\n",
    "    def my_sum(input_list):\n",
    "        '計算總和'\n",
    "        temp_sum = 0\n",
    "        for i in input_list:\n",
    "            temp_sum += i\n",
    "        return temp_sum\n",
    "    def my_length(input_list):\n",
    "        '計算個數'\n",
    "        temp_length = 0\n",
    "        for i in input_list:\n",
    "            temp_length += 1\n",
    "        return temp_length\n",
    "    return my_sum(input_list) / my_length(input_list)\n",
    "\n",
    "# 呼叫自訂函數\n",
    "print(my_mean(range(1, 11)))"
   ]
  },
  {
   "cell_type": "markdown",
   "metadata": {
    "slideshow": {
     "slide_type": "slide"
    }
   },
   "source": [
    "## 錯誤處理\n",
    "\n",
    "- Python 使用 `try - except` 的語法結構進行錯誤處理"
   ]
  },
  {
   "cell_type": "code",
   "execution_count": 7,
   "metadata": {
    "collapsed": false
   },
   "outputs": [
    {
     "name": "stdout",
     "output_type": "stream",
     "text": [
      "請輸入數值。\n"
     ]
    }
   ],
   "source": [
    "import math # 要使用 pi 得引入套件 math\n",
    "\n",
    "# 定義自訂函數\n",
    "def circle_calculate(radius):\n",
    "    '依據輸入的半徑同時計算並回傳圓形的面積或周長' # 單行的 docstring\n",
    "    try:\n",
    "        circle_area = math.pi * radius**2\n",
    "        circle_circum = 2 * math.pi * radius\n",
    "        return circle_area, circle_circum\n",
    "    except:\n",
    "        return \"請輸入數值。\"\n",
    "\n",
    "# 呼叫自訂函數\n",
    "my_radius = \"3\"\n",
    "print(circle_calculate(my_radius))"
   ]
  },
  {
   "cell_type": "markdown",
   "metadata": {
    "slideshow": {
     "slide_type": "subslide"
    }
   },
   "source": [
    "## 錯誤處理（2）\n",
    "\n",
    "- 在 `except` 語法後面連接錯誤的種類"
   ]
  },
  {
   "cell_type": "code",
   "execution_count": 8,
   "metadata": {
    "collapsed": false
   },
   "outputs": [
    {
     "name": "stdout",
     "output_type": "stream",
     "text": [
      "分母不可以為零！\n"
     ]
    }
   ],
   "source": [
    "def divide(numerator, denominator):\n",
    "    try:\n",
    "        ans = numerator / denominator\n",
    "        return ans\n",
    "    except ZeroDivisionError:\n",
    "        return \"分母不可以為零！\"\n",
    "    except:\n",
    "        return \"其他的錯誤\"\n",
    "\n",
    "print(divide(5, 0))"
   ]
  },
  {
   "cell_type": "markdown",
   "metadata": {
    "slideshow": {
     "slide_type": "subslide"
    }
   },
   "source": [
    "## 錯誤處理（3）\n",
    "\n",
    "- 練習：幫 `divide()` 函數多加一個 `except` 處理輸入文字的錯誤"
   ]
  },
  {
   "cell_type": "markdown",
   "metadata": {
    "slideshow": {
     "slide_type": "slide"
    }
   },
   "source": [
    "## 匿名函數\n",
    "\n",
    "- 又稱為 `lambda` 函數\n",
    "- 不需要 `def`、`return` 的敘述"
   ]
  },
  {
   "cell_type": "code",
   "execution_count": 9,
   "metadata": {
    "collapsed": false
   },
   "outputs": [
    {
     "name": "stdout",
     "output_type": "stream",
     "text": [
      "9\n"
     ]
    }
   ],
   "source": [
    "my_squared = lambda x : x ** 2\n",
    "print(my_squared(3))"
   ]
  },
  {
   "cell_type": "markdown",
   "metadata": {
    "slideshow": {
     "slide_type": "subslide"
    }
   },
   "source": [
    "## 匿名函數（2）\n",
    "\n",
    "- 常與內建的兩個函數一起使用：\n",
    "    - `filter()`\n",
    "    - `map()`"
   ]
  },
  {
   "cell_type": "markdown",
   "metadata": {
    "slideshow": {
     "slide_type": "subslide"
    }
   },
   "source": [
    "## 匿名函數（3）\n",
    "\n",
    "- 搭配 `filter()` 將 1~10 中的奇數選出："
   ]
  },
  {
   "cell_type": "code",
   "execution_count": 10,
   "metadata": {
    "collapsed": false
   },
   "outputs": [
    {
     "name": "stdout",
     "output_type": "stream",
     "text": [
      "[1, 3, 5, 7, 9]\n"
     ]
    }
   ],
   "source": [
    "my_list = range(1, 11)\n",
    "print(list(filter(lambda x : x % 2 == 1, my_list)))"
   ]
  },
  {
   "cell_type": "markdown",
   "metadata": {
    "slideshow": {
     "slide_type": "subslide"
    }
   },
   "source": [
    "## 匿名函數（4）\n",
    "\n",
    "- 搭配 `map()` 將 1~10 每個數字都平方："
   ]
  },
  {
   "cell_type": "code",
   "execution_count": 11,
   "metadata": {
    "collapsed": false
   },
   "outputs": [
    {
     "name": "stdout",
     "output_type": "stream",
     "text": [
      "[1, 4, 9, 16, 25, 36, 49, 64, 81, 100]\n"
     ]
    }
   ],
   "source": [
    "my_list = range(1, 11)\n",
    "print(list(map(lambda x : x**2, my_list)))"
   ]
  },
  {
   "cell_type": "markdown",
   "metadata": {
    "slideshow": {
     "slide_type": "slide"
    }
   },
   "source": [
    "## 彈性參數\n",
    "\n",
    "- `*args` 允許我們在函數中直接輸入容器中的資料\n",
    "- 不需要先將輸入資料儲存在容器中（例如 list）"
   ]
  },
  {
   "cell_type": "code",
   "execution_count": 12,
   "metadata": {
    "collapsed": false
   },
   "outputs": [
    {
     "name": "stdout",
     "output_type": "stream",
     "text": [
      "Jennifer Aniston\n",
      "Courteney Cox\n",
      "Lisa Kudrow\n",
      "Matt LeBlanc\n",
      "Matthew Perry\n",
      "David Schwimmer\n"
     ]
    }
   ],
   "source": [
    "# 非彈性參數的作法\n",
    "def output_stars(stars):\n",
    "    '將輸入的 list 元素一一輸出'\n",
    "    for star in stars:\n",
    "        print(star)\n",
    "\n",
    "stars_list = [\"Jennifer Aniston\", \"Courteney Cox\", \"Lisa Kudrow\", \n",
    "\"Matt LeBlanc\", \"Matthew Perry\", \"David Schwimmer\"]\n",
    "output_stars(stars_list)"
   ]
  },
  {
   "cell_type": "code",
   "execution_count": 13,
   "metadata": {
    "collapsed": false,
    "slideshow": {
     "slide_type": "subslide"
    }
   },
   "outputs": [
    {
     "name": "stdout",
     "output_type": "stream",
     "text": [
      "Jennifer Aniston\n",
      "Courteney Cox\n",
      "Lisa Kudrow\n",
      "Matt LeBlanc\n",
      "Matthew Perry\n",
      "David Schwimmer\n"
     ]
    }
   ],
   "source": [
    "# 彈性參數的作法\n",
    "def output_stars(*args):\n",
    "    '將輸入的演員一一輸出'\n",
    "    for star in args:\n",
    "        print(star)\n",
    "\n",
    "output_stars(\"Jennifer Aniston\", \"Courteney Cox\", \"Lisa Kudrow\",\n",
    "             \"Matt LeBlanc\", \"Matthew Perry\", \"David Schwimmer\")"
   ]
  },
  {
   "cell_type": "markdown",
   "metadata": {
    "slideshow": {
     "slide_type": "subslide"
    }
   },
   "source": [
    "## 彈性參數（2）\n",
    "\n",
    "- `**kwargs` 允許我們在函數中直接輸入容器中的資料\n",
    "- 不需要先將輸入資料儲存在容器中（例如 dict）"
   ]
  },
  {
   "cell_type": "code",
   "execution_count": 14,
   "metadata": {
    "collapsed": false
   },
   "outputs": [
    {
     "name": "stdout",
     "output_type": "stream",
     "text": [
      "genre: SitCom\n",
      "seasons: 10\n",
      "episodes: 236\n",
      "stars: ['Jennifer Aniston', 'Courteney Cox', 'Lisa Kudrow', 'Matt LeBlanc', 'Matthew Perry', 'David Schwimmer']\n"
     ]
    }
   ],
   "source": [
    "# 非彈性參數的作法\n",
    "def output_info(infos):\n",
    "    '將輸入的 dict 元素一一輸出'\n",
    "    for (key, value) in infos.items():\n",
    "        print(\"%s: %s\" % (key, value))\n",
    "\n",
    "series_info = {\n",
    "    \"genre\": \"SitCom\",\n",
    "    \"seasons\": 10,\n",
    "    \"episodes\": 236,\n",
    "    \"stars\": [\"Jennifer Aniston\", \"Courteney Cox\", \"Lisa Kudrow\",\n",
    "             \"Matt LeBlanc\", \"Matthew Perry\", \"David Schwimmer\"]\n",
    "}\n",
    "\n",
    "output_info(series_info)"
   ]
  },
  {
   "cell_type": "code",
   "execution_count": 15,
   "metadata": {
    "collapsed": false,
    "slideshow": {
     "slide_type": "subslide"
    }
   },
   "outputs": [
    {
     "name": "stdout",
     "output_type": "stream",
     "text": [
      "genre: Sitcom\n",
      "seasons: 10\n",
      "episodes: 236\n",
      "stars: ['Jennifer Aniston', 'Courteney Cox', 'Lisa Kudrow', 'Matt LeBlanc', 'Matthew Perry', 'David Schwimmer']\n"
     ]
    }
   ],
   "source": [
    "def output_info(**kwargs):\n",
    "    '將影集資訊一一輸出'\n",
    "    for info in kwargs:\n",
    "        print(\"%s: %s\" % (info, kwargs[info]))\n",
    "\n",
    "output_info(genre = 'Sitcom', seasons = 10, episodes = 236, \n",
    "            stars = [\"Jennifer Aniston\", \"Courteney Cox\", \"Lisa Kudrow\",\n",
    "             \"Matt LeBlanc\", \"Matthew Perry\", \"David Schwimmer\"])"
   ]
  },
  {
   "cell_type": "markdown",
   "metadata": {
    "slideshow": {
     "slide_type": "slide"
    }
   },
   "source": [
    "## 期中作業\n",
    "\n",
    "- 自訂函數 1：寫一個判斷輸入的正整數是否為質數的函數 `is_prime()`\n",
    "- 自訂函數 2：寫一個 Fibonacci 數列的產生函數，有三個輸入：第一個數字、第二個數字與數列長度 `fib_gen()` \n",
    "- 自訂函數 3.1：寫一個公正的骰子 `dice()` 函數（使用 `random.choice()`）\n",
    "- 自訂函數 3.2：延續 3.1 寫一個 `six_for_three_times()` 函數計算擲幾次公正的骰子才會有三個六，並且把每次擲的記錄也回傳（使用 list 的 `count()` 方法）"
   ]
  }
 ],
 "metadata": {
  "celltoolbar": "Slideshow",
  "kernelspec": {
   "display_name": "Python 3",
   "language": "python",
   "name": "python3"
  },
  "language_info": {
   "codemirror_mode": {
    "name": "ipython",
    "version": 3
   },
   "file_extension": ".py",
   "mimetype": "text/x-python",
   "name": "python",
   "nbconvert_exporter": "python",
   "pygments_lexer": "ipython3",
   "version": "3.6.0"
  }
 },
 "nbformat": 4,
 "nbformat_minor": 1
}
