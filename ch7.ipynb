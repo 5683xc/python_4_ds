{
 "cells": [
  {
   "cell_type": "markdown",
   "metadata": {
    "slideshow": {
     "slide_type": "slide"
    }
   },
   "source": [
    "# 流程控制\n",
    "\n",
    "## 郭耀仁"
   ]
  },
  {
   "cell_type": "markdown",
   "metadata": {
    "slideshow": {
     "slide_type": "slide"
    }
   },
   "source": [
    "## 流程控制結構\n",
    "\n",
    "```python\n",
    "if 條件一判斷為 True:\n",
    "    # 做些什麼事\n",
    "elif 條件二判斷為 True:\n",
    "    # 做些什麼事\n",
    "else:\n",
    "    # 在條件一與條件二都判斷為 False 的時候做些什麼事\n",
    "```"
   ]
  },
  {
   "cell_type": "markdown",
   "metadata": {
    "slideshow": {
     "slide_type": "subslide"
    }
   },
   "source": [
    "## if-else\n",
    "\n",
    "- Python 沒有像是 `switch` 或者 `case` 的分支結構\n",
    "- 透過 `if-else` 的結構創造程式的分支\n",
    "- 整數除以 2 的餘數只會有兩種答案\n",
    "\n",
    "```python\n",
    "my_seq = list(range(1, 11))\n",
    "for iterator in my_seq:\n",
    "    if (iterator % 2 == 0):\n",
    "        print(iterator, \"是偶數\")\n",
    "    else:\n",
    "        print(iterator, \"是奇數\")\n",
    "```"
   ]
  },
  {
   "cell_type": "markdown",
   "metadata": {
    "slideshow": {
     "slide_type": "subslide"
    }
   },
   "source": [
    "## if-else（2）\n",
    "\n",
    "- 練習：晴天印\"去戶外跑步\"，否則印\"去健身房\"。\n",
    "\n",
    "```python\n",
    "weather = [\"晴天\", \"陰天\", \"雨天\"]\n",
    "```"
   ]
  },
  {
   "cell_type": "markdown",
   "metadata": {
    "slideshow": {
     "slide_type": "subslide"
    }
   },
   "source": [
    "## if-elif-else\n",
    "\n",
    "- 整數除以 3 的餘數會有三種答案\n",
    "\n",
    "```python\n",
    "my_seq = list(range(1,11))\n",
    "for iterator in my_seq:\n",
    "    if (iterator % 3 == 0):\n",
    "        print(iterator, \"可以被 3 整除\")\n",
    "    elif (iterator % 3 ==1):\n",
    "        print(iterator, \"除以 3 餘數是 1\")\n",
    "    else:\n",
    "        print(iterator, \"除以 3 餘數是 2\")\n",
    "```"
   ]
  },
  {
   "cell_type": "markdown",
   "metadata": {
    "slideshow": {
     "slide_type": "subslide"
    }
   },
   "source": [
    "## if-elif-else（2）\n",
    "\n",
    "- 練習：晴天或多雲印\"去戶外跑步\"，毛毛雨印\"去健身房\"，否則印\"當沙發馬鈴薯\"\n",
    "\n",
    "```python\n",
    "weather = [\"晴天\", \"多雲\", \"毛毛雨\", \"狂風\", \"暴雨\", \"下雪\", \"打雷閃電\"]\n",
    "```"
   ]
  },
  {
   "cell_type": "markdown",
   "metadata": {
    "slideshow": {
     "slide_type": "slide"
    }
   },
   "source": [
    "## 讓迴圈更有彈性\n",
    "\n",
    "- `break` 描述\n",
    "\n",
    "```python\n",
    "weekdays = [\"Sunday\", \"Monday\", \"Tuesday\", \"Wednesday\", \"Thursday\", \"Friday\", \"Saturday\"]\n",
    "for weekday in weekdays:\n",
    "    if weekday == \"Thursday\":\n",
    "        break\n",
    "    else:\n",
    "        print(weekday)\n",
    "```"
   ]
  },
  {
   "cell_type": "markdown",
   "metadata": {
    "slideshow": {
     "slide_type": "subslide"
    }
   },
   "source": [
    "## 讓迴圈更有彈性（2）\n",
    "\n",
    "- `continue` 描述\n",
    "\n",
    "```python\n",
    "weekdays = [\"Sunday\", \"Monday\", \"Tuesday\", \"Wednesday\", \"Thursday\", \"Friday\", \"Saturday\"]\n",
    "for weekday in weekdays:\n",
    "    if weekday == \"Thursday\":\n",
    "        continue\n",
    "    else:\n",
    "        print(weekday)\n",
    "```"
   ]
  },
  {
   "cell_type": "markdown",
   "metadata": {
    "slideshow": {
     "slide_type": "subslide"
    }
   },
   "source": [
    "## 讓迴圈更有彈性（3）\n",
    "\n",
    "- 練習：印出週間工作日\n",
    "\n",
    "```python\n",
    "weekdays = [\"Sunday\", \"Monday\", \"Tuesday\", \"Wednesday\", \"Thursday\", \"Friday\", \"Saturday\"]\n",
    "```"
   ]
  },
  {
   "cell_type": "markdown",
   "metadata": {
    "slideshow": {
     "slide_type": "subslide"
    }
   },
   "source": [
    "## 讓迴圈更有彈性（4）\n",
    "\n",
    "- 練習：找出可以將 87 整除的因數（正數）"
   ]
  }
 ],
 "metadata": {
  "celltoolbar": "Slideshow",
  "kernelspec": {
   "display_name": "Python 3",
   "language": "python",
   "name": "python3"
  },
  "language_info": {
   "codemirror_mode": {
    "name": "ipython",
    "version": 3
   },
   "file_extension": ".py",
   "mimetype": "text/x-python",
   "name": "python",
   "nbconvert_exporter": "python",
   "pygments_lexer": "ipython3",
   "version": "3.6.0"
  }
 },
 "nbformat": 4,
 "nbformat_minor": 1
}
